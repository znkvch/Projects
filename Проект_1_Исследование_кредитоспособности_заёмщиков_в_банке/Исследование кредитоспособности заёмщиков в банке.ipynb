{
 "cells": [
  {
   "cell_type": "markdown",
   "id": "603f231a-2fb9-43bd-8ac0-2c64924718df",
   "metadata": {},
   "source": [
    "<div class=\"alert alert-info\"; style=\"border-left: 7px solid SteelBlue\">\n",
    "<h5>🎓 <font color=\"SteelBlue\">Комментарий от студента (синий)</font></h5>    \n",
    "\n",
    "Напиши здесь свои мысли и идеи по поводу комментария ревьюера.\n",
    "\n",
    "</div>"
   ]
  },
  {
   "cell_type": "markdown",
   "id": "4c810944",
   "metadata": {
    "deletable": false,
    "editable": false,
    "id": "c81daeeb",
    "tags": []
   },
   "source": [
    "# Исследование кредитоспособности заёмщиков в банке\n"
   ]
  },
  {
   "cell_type": "raw",
   "id": "51c53d73-ed97-4be3-9853-5f09c7d6cc85",
   "metadata": {
    "deletable": false,
    "editable": false,
    "id": "827c20bf"
   },
   "source": [
    "Во второй части проекта вы выполните шаги 3 и 4. Их вручную проверит ревьюер.\n",
    "Чтобы вам не пришлось писать код заново для шагов 1 и 2, мы добавили авторские решения в ячейки с кодом. \n",
    "\n"
   ]
  },
  {
   "cell_type": "markdown",
   "id": "fda2b002",
   "metadata": {
    "deletable": false,
    "editable": false,
    "id": "744d7639"
   },
   "source": [
    "## Откройте таблицу и изучите общую информацию о данных"
   ]
  },
  {
   "cell_type": "markdown",
   "id": "c60d9e33",
   "metadata": {
    "deletable": false,
    "editable": false,
    "id": "e7a14c31"
   },
   "source": [
    "**Задание 1. Импортируйте библиотеку pandas. Считайте данные из csv-файла в датафрейм и сохраните в переменную `data`. Путь к файлу:**\n",
    "\n",
    "`/datasets/data.csv`"
   ]
  },
  {
   "cell_type": "code",
   "execution_count": 1,
   "id": "eaae8be7",
   "metadata": {
    "deletable": false,
    "id": "7bcf75c9"
   },
   "outputs": [],
   "source": [
    "import pandas as pd\n",
    "\n",
    "try:\n",
    "    data = pd.read_csv('/datasets/data.csv')\n",
    "except:\n",
    "    data = pd.read_csv('https://code.s3.yandex.net/datasets/data.csv')"
   ]
  },
  {
   "cell_type": "markdown",
   "id": "9930919f",
   "metadata": {
    "deletable": false,
    "editable": false,
    "id": "b8038fe3"
   },
   "source": [
    "**Задание 2. Выведите первые 20 строчек датафрейма `data` на экран.**"
   ]
  },
  {
   "cell_type": "code",
   "execution_count": 2,
   "id": "698ca792",
   "metadata": {
    "deletable": false,
    "id": "2a7cab99",
    "outputId": "1a8f3ef2-d323-4ec2-ddf7-89670b5944c4"
   },
   "outputs": [
    {
     "data": {
      "text/html": [
       "<div>\n",
       "<style scoped>\n",
       "    .dataframe tbody tr th:only-of-type {\n",
       "        vertical-align: middle;\n",
       "    }\n",
       "\n",
       "    .dataframe tbody tr th {\n",
       "        vertical-align: top;\n",
       "    }\n",
       "\n",
       "    .dataframe thead th {\n",
       "        text-align: right;\n",
       "    }\n",
       "</style>\n",
       "<table border=\"1\" class=\"dataframe\">\n",
       "  <thead>\n",
       "    <tr style=\"text-align: right;\">\n",
       "      <th></th>\n",
       "      <th>children</th>\n",
       "      <th>days_employed</th>\n",
       "      <th>dob_years</th>\n",
       "      <th>education</th>\n",
       "      <th>education_id</th>\n",
       "      <th>family_status</th>\n",
       "      <th>family_status_id</th>\n",
       "      <th>gender</th>\n",
       "      <th>income_type</th>\n",
       "      <th>debt</th>\n",
       "      <th>total_income</th>\n",
       "      <th>purpose</th>\n",
       "    </tr>\n",
       "  </thead>\n",
       "  <tbody>\n",
       "    <tr>\n",
       "      <th>0</th>\n",
       "      <td>1</td>\n",
       "      <td>-8437.673028</td>\n",
       "      <td>42</td>\n",
       "      <td>высшее</td>\n",
       "      <td>0</td>\n",
       "      <td>женат / замужем</td>\n",
       "      <td>0</td>\n",
       "      <td>F</td>\n",
       "      <td>сотрудник</td>\n",
       "      <td>0</td>\n",
       "      <td>253875.639453</td>\n",
       "      <td>покупка жилья</td>\n",
       "    </tr>\n",
       "    <tr>\n",
       "      <th>1</th>\n",
       "      <td>1</td>\n",
       "      <td>-4024.803754</td>\n",
       "      <td>36</td>\n",
       "      <td>среднее</td>\n",
       "      <td>1</td>\n",
       "      <td>женат / замужем</td>\n",
       "      <td>0</td>\n",
       "      <td>F</td>\n",
       "      <td>сотрудник</td>\n",
       "      <td>0</td>\n",
       "      <td>112080.014102</td>\n",
       "      <td>приобретение автомобиля</td>\n",
       "    </tr>\n",
       "    <tr>\n",
       "      <th>2</th>\n",
       "      <td>0</td>\n",
       "      <td>-5623.422610</td>\n",
       "      <td>33</td>\n",
       "      <td>Среднее</td>\n",
       "      <td>1</td>\n",
       "      <td>женат / замужем</td>\n",
       "      <td>0</td>\n",
       "      <td>M</td>\n",
       "      <td>сотрудник</td>\n",
       "      <td>0</td>\n",
       "      <td>145885.952297</td>\n",
       "      <td>покупка жилья</td>\n",
       "    </tr>\n",
       "    <tr>\n",
       "      <th>3</th>\n",
       "      <td>3</td>\n",
       "      <td>-4124.747207</td>\n",
       "      <td>32</td>\n",
       "      <td>среднее</td>\n",
       "      <td>1</td>\n",
       "      <td>женат / замужем</td>\n",
       "      <td>0</td>\n",
       "      <td>M</td>\n",
       "      <td>сотрудник</td>\n",
       "      <td>0</td>\n",
       "      <td>267628.550329</td>\n",
       "      <td>дополнительное образование</td>\n",
       "    </tr>\n",
       "    <tr>\n",
       "      <th>4</th>\n",
       "      <td>0</td>\n",
       "      <td>340266.072047</td>\n",
       "      <td>53</td>\n",
       "      <td>среднее</td>\n",
       "      <td>1</td>\n",
       "      <td>гражданский брак</td>\n",
       "      <td>1</td>\n",
       "      <td>F</td>\n",
       "      <td>пенсионер</td>\n",
       "      <td>0</td>\n",
       "      <td>158616.077870</td>\n",
       "      <td>сыграть свадьбу</td>\n",
       "    </tr>\n",
       "    <tr>\n",
       "      <th>5</th>\n",
       "      <td>0</td>\n",
       "      <td>-926.185831</td>\n",
       "      <td>27</td>\n",
       "      <td>высшее</td>\n",
       "      <td>0</td>\n",
       "      <td>гражданский брак</td>\n",
       "      <td>1</td>\n",
       "      <td>M</td>\n",
       "      <td>компаньон</td>\n",
       "      <td>0</td>\n",
       "      <td>255763.565419</td>\n",
       "      <td>покупка жилья</td>\n",
       "    </tr>\n",
       "    <tr>\n",
       "      <th>6</th>\n",
       "      <td>0</td>\n",
       "      <td>-2879.202052</td>\n",
       "      <td>43</td>\n",
       "      <td>высшее</td>\n",
       "      <td>0</td>\n",
       "      <td>женат / замужем</td>\n",
       "      <td>0</td>\n",
       "      <td>F</td>\n",
       "      <td>компаньон</td>\n",
       "      <td>0</td>\n",
       "      <td>240525.971920</td>\n",
       "      <td>операции с жильем</td>\n",
       "    </tr>\n",
       "    <tr>\n",
       "      <th>7</th>\n",
       "      <td>0</td>\n",
       "      <td>-152.779569</td>\n",
       "      <td>50</td>\n",
       "      <td>СРЕДНЕЕ</td>\n",
       "      <td>1</td>\n",
       "      <td>женат / замужем</td>\n",
       "      <td>0</td>\n",
       "      <td>M</td>\n",
       "      <td>сотрудник</td>\n",
       "      <td>0</td>\n",
       "      <td>135823.934197</td>\n",
       "      <td>образование</td>\n",
       "    </tr>\n",
       "    <tr>\n",
       "      <th>8</th>\n",
       "      <td>2</td>\n",
       "      <td>-6929.865299</td>\n",
       "      <td>35</td>\n",
       "      <td>ВЫСШЕЕ</td>\n",
       "      <td>0</td>\n",
       "      <td>гражданский брак</td>\n",
       "      <td>1</td>\n",
       "      <td>F</td>\n",
       "      <td>сотрудник</td>\n",
       "      <td>0</td>\n",
       "      <td>95856.832424</td>\n",
       "      <td>на проведение свадьбы</td>\n",
       "    </tr>\n",
       "    <tr>\n",
       "      <th>9</th>\n",
       "      <td>0</td>\n",
       "      <td>-2188.756445</td>\n",
       "      <td>41</td>\n",
       "      <td>среднее</td>\n",
       "      <td>1</td>\n",
       "      <td>женат / замужем</td>\n",
       "      <td>0</td>\n",
       "      <td>M</td>\n",
       "      <td>сотрудник</td>\n",
       "      <td>0</td>\n",
       "      <td>144425.938277</td>\n",
       "      <td>покупка жилья для семьи</td>\n",
       "    </tr>\n",
       "    <tr>\n",
       "      <th>10</th>\n",
       "      <td>2</td>\n",
       "      <td>-4171.483647</td>\n",
       "      <td>36</td>\n",
       "      <td>высшее</td>\n",
       "      <td>0</td>\n",
       "      <td>женат / замужем</td>\n",
       "      <td>0</td>\n",
       "      <td>M</td>\n",
       "      <td>компаньон</td>\n",
       "      <td>0</td>\n",
       "      <td>113943.491460</td>\n",
       "      <td>покупка недвижимости</td>\n",
       "    </tr>\n",
       "    <tr>\n",
       "      <th>11</th>\n",
       "      <td>0</td>\n",
       "      <td>-792.701887</td>\n",
       "      <td>40</td>\n",
       "      <td>среднее</td>\n",
       "      <td>1</td>\n",
       "      <td>женат / замужем</td>\n",
       "      <td>0</td>\n",
       "      <td>F</td>\n",
       "      <td>сотрудник</td>\n",
       "      <td>0</td>\n",
       "      <td>77069.234271</td>\n",
       "      <td>покупка коммерческой недвижимости</td>\n",
       "    </tr>\n",
       "    <tr>\n",
       "      <th>12</th>\n",
       "      <td>0</td>\n",
       "      <td>NaN</td>\n",
       "      <td>65</td>\n",
       "      <td>среднее</td>\n",
       "      <td>1</td>\n",
       "      <td>гражданский брак</td>\n",
       "      <td>1</td>\n",
       "      <td>M</td>\n",
       "      <td>пенсионер</td>\n",
       "      <td>0</td>\n",
       "      <td>NaN</td>\n",
       "      <td>сыграть свадьбу</td>\n",
       "    </tr>\n",
       "    <tr>\n",
       "      <th>13</th>\n",
       "      <td>0</td>\n",
       "      <td>-1846.641941</td>\n",
       "      <td>54</td>\n",
       "      <td>неоконченное высшее</td>\n",
       "      <td>2</td>\n",
       "      <td>женат / замужем</td>\n",
       "      <td>0</td>\n",
       "      <td>F</td>\n",
       "      <td>сотрудник</td>\n",
       "      <td>0</td>\n",
       "      <td>130458.228857</td>\n",
       "      <td>приобретение автомобиля</td>\n",
       "    </tr>\n",
       "    <tr>\n",
       "      <th>14</th>\n",
       "      <td>0</td>\n",
       "      <td>-1844.956182</td>\n",
       "      <td>56</td>\n",
       "      <td>высшее</td>\n",
       "      <td>0</td>\n",
       "      <td>гражданский брак</td>\n",
       "      <td>1</td>\n",
       "      <td>F</td>\n",
       "      <td>компаньон</td>\n",
       "      <td>1</td>\n",
       "      <td>165127.911772</td>\n",
       "      <td>покупка жилой недвижимости</td>\n",
       "    </tr>\n",
       "    <tr>\n",
       "      <th>15</th>\n",
       "      <td>1</td>\n",
       "      <td>-972.364419</td>\n",
       "      <td>26</td>\n",
       "      <td>среднее</td>\n",
       "      <td>1</td>\n",
       "      <td>женат / замужем</td>\n",
       "      <td>0</td>\n",
       "      <td>F</td>\n",
       "      <td>сотрудник</td>\n",
       "      <td>0</td>\n",
       "      <td>116820.904450</td>\n",
       "      <td>строительство собственной недвижимости</td>\n",
       "    </tr>\n",
       "    <tr>\n",
       "      <th>16</th>\n",
       "      <td>0</td>\n",
       "      <td>-1719.934226</td>\n",
       "      <td>35</td>\n",
       "      <td>среднее</td>\n",
       "      <td>1</td>\n",
       "      <td>женат / замужем</td>\n",
       "      <td>0</td>\n",
       "      <td>F</td>\n",
       "      <td>сотрудник</td>\n",
       "      <td>0</td>\n",
       "      <td>289202.704229</td>\n",
       "      <td>недвижимость</td>\n",
       "    </tr>\n",
       "    <tr>\n",
       "      <th>17</th>\n",
       "      <td>0</td>\n",
       "      <td>-2369.999720</td>\n",
       "      <td>33</td>\n",
       "      <td>высшее</td>\n",
       "      <td>0</td>\n",
       "      <td>гражданский брак</td>\n",
       "      <td>1</td>\n",
       "      <td>M</td>\n",
       "      <td>сотрудник</td>\n",
       "      <td>0</td>\n",
       "      <td>90410.586745</td>\n",
       "      <td>строительство недвижимости</td>\n",
       "    </tr>\n",
       "    <tr>\n",
       "      <th>18</th>\n",
       "      <td>0</td>\n",
       "      <td>400281.136913</td>\n",
       "      <td>53</td>\n",
       "      <td>среднее</td>\n",
       "      <td>1</td>\n",
       "      <td>вдовец / вдова</td>\n",
       "      <td>2</td>\n",
       "      <td>F</td>\n",
       "      <td>пенсионер</td>\n",
       "      <td>0</td>\n",
       "      <td>56823.777243</td>\n",
       "      <td>на покупку подержанного автомобиля</td>\n",
       "    </tr>\n",
       "    <tr>\n",
       "      <th>19</th>\n",
       "      <td>0</td>\n",
       "      <td>-10038.818549</td>\n",
       "      <td>48</td>\n",
       "      <td>СРЕДНЕЕ</td>\n",
       "      <td>1</td>\n",
       "      <td>в разводе</td>\n",
       "      <td>3</td>\n",
       "      <td>F</td>\n",
       "      <td>сотрудник</td>\n",
       "      <td>0</td>\n",
       "      <td>242831.107982</td>\n",
       "      <td>на покупку своего автомобиля</td>\n",
       "    </tr>\n",
       "  </tbody>\n",
       "</table>\n",
       "</div>"
      ],
      "text/plain": [
       "    children  days_employed  dob_years            education  education_id  \\\n",
       "0          1   -8437.673028         42               высшее             0   \n",
       "1          1   -4024.803754         36              среднее             1   \n",
       "2          0   -5623.422610         33              Среднее             1   \n",
       "3          3   -4124.747207         32              среднее             1   \n",
       "4          0  340266.072047         53              среднее             1   \n",
       "5          0    -926.185831         27               высшее             0   \n",
       "6          0   -2879.202052         43               высшее             0   \n",
       "7          0    -152.779569         50              СРЕДНЕЕ             1   \n",
       "8          2   -6929.865299         35               ВЫСШЕЕ             0   \n",
       "9          0   -2188.756445         41              среднее             1   \n",
       "10         2   -4171.483647         36               высшее             0   \n",
       "11         0    -792.701887         40              среднее             1   \n",
       "12         0            NaN         65              среднее             1   \n",
       "13         0   -1846.641941         54  неоконченное высшее             2   \n",
       "14         0   -1844.956182         56               высшее             0   \n",
       "15         1    -972.364419         26              среднее             1   \n",
       "16         0   -1719.934226         35              среднее             1   \n",
       "17         0   -2369.999720         33               высшее             0   \n",
       "18         0  400281.136913         53              среднее             1   \n",
       "19         0  -10038.818549         48              СРЕДНЕЕ             1   \n",
       "\n",
       "       family_status  family_status_id gender income_type  debt  \\\n",
       "0    женат / замужем                 0      F   сотрудник     0   \n",
       "1    женат / замужем                 0      F   сотрудник     0   \n",
       "2    женат / замужем                 0      M   сотрудник     0   \n",
       "3    женат / замужем                 0      M   сотрудник     0   \n",
       "4   гражданский брак                 1      F   пенсионер     0   \n",
       "5   гражданский брак                 1      M   компаньон     0   \n",
       "6    женат / замужем                 0      F   компаньон     0   \n",
       "7    женат / замужем                 0      M   сотрудник     0   \n",
       "8   гражданский брак                 1      F   сотрудник     0   \n",
       "9    женат / замужем                 0      M   сотрудник     0   \n",
       "10   женат / замужем                 0      M   компаньон     0   \n",
       "11   женат / замужем                 0      F   сотрудник     0   \n",
       "12  гражданский брак                 1      M   пенсионер     0   \n",
       "13   женат / замужем                 0      F   сотрудник     0   \n",
       "14  гражданский брак                 1      F   компаньон     1   \n",
       "15   женат / замужем                 0      F   сотрудник     0   \n",
       "16   женат / замужем                 0      F   сотрудник     0   \n",
       "17  гражданский брак                 1      M   сотрудник     0   \n",
       "18    вдовец / вдова                 2      F   пенсионер     0   \n",
       "19         в разводе                 3      F   сотрудник     0   \n",
       "\n",
       "     total_income                                 purpose  \n",
       "0   253875.639453                           покупка жилья  \n",
       "1   112080.014102                 приобретение автомобиля  \n",
       "2   145885.952297                           покупка жилья  \n",
       "3   267628.550329              дополнительное образование  \n",
       "4   158616.077870                         сыграть свадьбу  \n",
       "5   255763.565419                           покупка жилья  \n",
       "6   240525.971920                       операции с жильем  \n",
       "7   135823.934197                             образование  \n",
       "8    95856.832424                   на проведение свадьбы  \n",
       "9   144425.938277                 покупка жилья для семьи  \n",
       "10  113943.491460                    покупка недвижимости  \n",
       "11   77069.234271       покупка коммерческой недвижимости  \n",
       "12            NaN                         сыграть свадьбу  \n",
       "13  130458.228857                 приобретение автомобиля  \n",
       "14  165127.911772              покупка жилой недвижимости  \n",
       "15  116820.904450  строительство собственной недвижимости  \n",
       "16  289202.704229                            недвижимость  \n",
       "17   90410.586745              строительство недвижимости  \n",
       "18   56823.777243      на покупку подержанного автомобиля  \n",
       "19  242831.107982            на покупку своего автомобиля  "
      ]
     },
     "execution_count": 2,
     "metadata": {},
     "output_type": "execute_result"
    }
   ],
   "source": [
    "data.head(20)"
   ]
  },
  {
   "cell_type": "markdown",
   "id": "29579b57",
   "metadata": {
    "deletable": false,
    "editable": false,
    "id": "1c12e233"
   },
   "source": [
    "**Задание 3. Выведите основную информацию о датафрейме с помощью метода `info()`.**"
   ]
  },
  {
   "cell_type": "code",
   "execution_count": 3,
   "id": "10626941",
   "metadata": {
    "deletable": false,
    "id": "2b757bca",
    "outputId": "15376089-8dad-46c9-b520-c05248d43158"
   },
   "outputs": [
    {
     "name": "stdout",
     "output_type": "stream",
     "text": [
      "<class 'pandas.core.frame.DataFrame'>\n",
      "RangeIndex: 21525 entries, 0 to 21524\n",
      "Data columns (total 12 columns):\n",
      " #   Column            Non-Null Count  Dtype  \n",
      "---  ------            --------------  -----  \n",
      " 0   children          21525 non-null  int64  \n",
      " 1   days_employed     19351 non-null  float64\n",
      " 2   dob_years         21525 non-null  int64  \n",
      " 3   education         21525 non-null  object \n",
      " 4   education_id      21525 non-null  int64  \n",
      " 5   family_status     21525 non-null  object \n",
      " 6   family_status_id  21525 non-null  int64  \n",
      " 7   gender            21525 non-null  object \n",
      " 8   income_type       21525 non-null  object \n",
      " 9   debt              21525 non-null  int64  \n",
      " 10  total_income      19351 non-null  float64\n",
      " 11  purpose           21525 non-null  object \n",
      "dtypes: float64(2), int64(5), object(5)\n",
      "memory usage: 2.0+ MB\n"
     ]
    }
   ],
   "source": [
    "data.info()"
   ]
  },
  {
   "cell_type": "markdown",
   "id": "b581c17f",
   "metadata": {
    "deletable": false,
    "editable": false,
    "id": "333ec665"
   },
   "source": [
    "## Предобработка данных"
   ]
  },
  {
   "cell_type": "markdown",
   "id": "29cc915b",
   "metadata": {
    "deletable": false,
    "editable": false,
    "id": "02d92d53"
   },
   "source": [
    "### Удаление пропусков"
   ]
  },
  {
   "cell_type": "markdown",
   "id": "e0d31a37",
   "metadata": {
    "deletable": false,
    "editable": false,
    "id": "cd84967c"
   },
   "source": [
    "**Задание 4. Выведите количество пропущенных значений для каждого столбца. Используйте комбинацию двух методов.**"
   ]
  },
  {
   "cell_type": "code",
   "execution_count": 4,
   "id": "34c9c0e4",
   "metadata": {
    "deletable": false,
    "id": "7f9b2309",
    "outputId": "81f4d817-781c-465c-ed15-91ce4446810d"
   },
   "outputs": [
    {
     "data": {
      "text/plain": [
       "children               0\n",
       "days_employed       2174\n",
       "dob_years              0\n",
       "education              0\n",
       "education_id           0\n",
       "family_status          0\n",
       "family_status_id       0\n",
       "gender                 0\n",
       "income_type            0\n",
       "debt                   0\n",
       "total_income        2174\n",
       "purpose                0\n",
       "dtype: int64"
      ]
     },
     "execution_count": 4,
     "metadata": {},
     "output_type": "execute_result"
    }
   ],
   "source": [
    "data.isna().sum()"
   ]
  },
  {
   "cell_type": "markdown",
   "id": "4d7af860",
   "metadata": {
    "deletable": false,
    "editable": false,
    "id": "db86e27b"
   },
   "source": [
    "**Задание 5. В двух столбцах есть пропущенные значения. Один из них — `days_employed`. Пропуски в этом столбце вы обработаете на следующем этапе. Другой столбец с пропущенными значениями — `total_income` — хранит данные о доходах. На сумму дохода сильнее всего влияет тип занятости, поэтому заполнить пропуски в этом столбце нужно медианным значением по каждому типу из столбца `income_type`. Например, у человека с типом занятости `сотрудник` пропуск в столбце `total_income` должен быть заполнен медианным доходом среди всех записей с тем же типом.**"
   ]
  },
  {
   "cell_type": "code",
   "execution_count": 5,
   "id": "751aa75e",
   "metadata": {
    "deletable": false,
    "id": "42006a93"
   },
   "outputs": [],
   "source": [
    "for t in data['income_type'].unique():\n",
    "    data.loc[(data['income_type'] == t) & (data['total_income'].isna()), 'total_income'] = \\\n",
    "    data.loc[(data['income_type'] == t), 'total_income'].median()"
   ]
  },
  {
   "cell_type": "markdown",
   "id": "f4ef929a",
   "metadata": {
    "deletable": false,
    "editable": false,
    "id": "89da5ece"
   },
   "source": [
    "### Обработка аномальных значений"
   ]
  },
  {
   "cell_type": "markdown",
   "id": "2de47471",
   "metadata": {
    "deletable": false,
    "editable": false,
    "id": "57964554"
   },
   "source": [
    "**Задание 6. В данных могут встречаться артефакты (аномалии) — значения, которые не отражают действительность и появились по какой-то ошибке. таким артефактом будет отрицательное количество дней трудового стажа в столбце `days_employed`. Для реальных данных это нормально. Обработайте значения в этом столбце: замените все отрицательные значения положительными с помощью метода `abs()`.**"
   ]
  },
  {
   "cell_type": "code",
   "execution_count": 6,
   "id": "f00047a2",
   "metadata": {
    "deletable": false,
    "id": "f6f055bf"
   },
   "outputs": [],
   "source": [
    "data['days_employed'] = data['days_employed'].abs()"
   ]
  },
  {
   "cell_type": "markdown",
   "id": "93600da0",
   "metadata": {
    "deletable": false,
    "editable": false,
    "id": "6107dd2f"
   },
   "source": [
    "**Задание 7. Для каждого типа занятости выведите медианное значение трудового стажа `days_employed` в днях.**"
   ]
  },
  {
   "cell_type": "code",
   "execution_count": 7,
   "id": "82208083",
   "metadata": {
    "deletable": false,
    "id": "85a5faf6",
    "outputId": "801ef80e-522b-4668-f34e-565af7432bcf"
   },
   "outputs": [
    {
     "data": {
      "text/plain": [
       "income_type\n",
       "безработный        366413.652744\n",
       "в декрете            3296.759962\n",
       "госслужащий          2689.368353\n",
       "компаньон            1547.382223\n",
       "пенсионер          365213.306266\n",
       "предприниматель       520.848083\n",
       "сотрудник            1574.202821\n",
       "студент               578.751554\n",
       "Name: days_employed, dtype: float64"
      ]
     },
     "execution_count": 7,
     "metadata": {},
     "output_type": "execute_result"
    }
   ],
   "source": [
    "data.groupby('income_type')['days_employed'].agg('median')"
   ]
  },
  {
   "cell_type": "markdown",
   "id": "706f74fa",
   "metadata": {
    "deletable": false,
    "editable": false,
    "id": "38d1a030"
   },
   "source": [
    "У двух типов (безработные и пенсионеры) получатся аномально большие значения. Исправить такие значения сложно, поэтому оставьте их как есть. Тем более этот столбец не понадобится вам для исследования."
   ]
  },
  {
   "cell_type": "markdown",
   "id": "52f59656",
   "metadata": {
    "deletable": false,
    "editable": false,
    "id": "d8a9f147"
   },
   "source": [
    "**Задание 8. Выведите перечень уникальных значений столбца `children`.**"
   ]
  },
  {
   "cell_type": "code",
   "execution_count": 8,
   "id": "976b9905",
   "metadata": {
    "deletable": false,
    "id": "ef5056eb",
    "outputId": "6975b15c-7f95-4697-d16d-a0c79b657b03"
   },
   "outputs": [
    {
     "data": {
      "text/plain": [
       "array([ 1,  0,  3,  2, -1,  4, 20,  5], dtype=int64)"
      ]
     },
     "execution_count": 8,
     "metadata": {},
     "output_type": "execute_result"
    }
   ],
   "source": [
    "data['children'].unique()"
   ]
  },
  {
   "cell_type": "markdown",
   "id": "d6bea2a5",
   "metadata": {
    "deletable": false,
    "editable": false,
    "id": "40b9ebf2"
   },
   "source": [
    "**Задание 9. В столбце `children` есть два аномальных значения. Удалите строки, в которых встречаются такие аномальные значения из датафрейма `data`.**"
   ]
  },
  {
   "cell_type": "code",
   "execution_count": 9,
   "id": "a496dc70",
   "metadata": {
    "deletable": false,
    "id": "3ff9801d"
   },
   "outputs": [],
   "source": [
    "data = data[(data['children'] != -1) & (data['children'] != 20)]"
   ]
  },
  {
   "cell_type": "markdown",
   "id": "04db0ccf",
   "metadata": {
    "deletable": false,
    "editable": false,
    "id": "bbc4d0ce"
   },
   "source": [
    "**Задание 10. Ещё раз выведите перечень уникальных значений столбца `children`, чтобы убедиться, что артефакты удалены.**"
   ]
  },
  {
   "cell_type": "code",
   "execution_count": 10,
   "id": "9cb835c2",
   "metadata": {
    "deletable": false,
    "id": "ad4fa8b7",
    "outputId": "b2097101-d49d-44d9-901b-32a65c9463d1"
   },
   "outputs": [
    {
     "data": {
      "text/plain": [
       "array([1, 0, 3, 2, 4, 5], dtype=int64)"
      ]
     },
     "execution_count": 10,
     "metadata": {},
     "output_type": "execute_result"
    }
   ],
   "source": [
    "data['children'].unique()"
   ]
  },
  {
   "cell_type": "markdown",
   "id": "fcfdcf68",
   "metadata": {
    "deletable": false,
    "editable": false,
    "id": "75440b63"
   },
   "source": [
    "### Удаление пропусков (продолжение)"
   ]
  },
  {
   "cell_type": "markdown",
   "id": "984b6058",
   "metadata": {
    "deletable": false,
    "editable": false,
    "id": "f4ea573f"
   },
   "source": [
    "**Задание 11. Заполните пропуски в столбце `days_employed` медианными значениями по каждого типа занятости `income_type`.**"
   ]
  },
  {
   "cell_type": "code",
   "execution_count": 11,
   "id": "295c5457",
   "metadata": {
    "deletable": false,
    "id": "af6b1a7e"
   },
   "outputs": [],
   "source": [
    "for t in data['income_type'].unique():\n",
    "    data.loc[(data['income_type'] == t) & (data['days_employed'].isna()), 'days_employed'] = \\\n",
    "    data.loc[(data['income_type'] == t), 'days_employed'].median()"
   ]
  },
  {
   "cell_type": "markdown",
   "id": "f19d3297",
   "metadata": {
    "deletable": false,
    "editable": false,
    "id": "2753f40d"
   },
   "source": [
    "**Задание 12. Убедитесь, что все пропуски заполнены. Проверьте себя и ещё раз выведите количество пропущенных значений для каждого столбца с помощью двух методов.**"
   ]
  },
  {
   "cell_type": "code",
   "execution_count": 12,
   "id": "e1b2fa28",
   "metadata": {
    "deletable": false,
    "id": "55f78bc2",
    "outputId": "8da1e4e1-358e-4e87-98c9-f261bce0a7b2"
   },
   "outputs": [
    {
     "data": {
      "text/plain": [
       "children            0\n",
       "days_employed       0\n",
       "dob_years           0\n",
       "education           0\n",
       "education_id        0\n",
       "family_status       0\n",
       "family_status_id    0\n",
       "gender              0\n",
       "income_type         0\n",
       "debt                0\n",
       "total_income        0\n",
       "purpose             0\n",
       "dtype: int64"
      ]
     },
     "execution_count": 12,
     "metadata": {},
     "output_type": "execute_result"
    }
   ],
   "source": [
    "data.isna().sum()"
   ]
  },
  {
   "cell_type": "markdown",
   "id": "0f57d7af",
   "metadata": {
    "deletable": false,
    "editable": false,
    "id": "ddc81e43"
   },
   "source": [
    "### Изменение типов данных"
   ]
  },
  {
   "cell_type": "markdown",
   "id": "ba35ec24",
   "metadata": {
    "deletable": false,
    "editable": false,
    "id": "42d19d24"
   },
   "source": [
    "**Задание 13. Замените вещественный тип данных в столбце `total_income` на целочисленный с помощью метода `astype()`.**"
   ]
  },
  {
   "cell_type": "code",
   "execution_count": 13,
   "id": "e782c62e",
   "metadata": {
    "deletable": false,
    "id": "920b65ad"
   },
   "outputs": [],
   "source": [
    "data['total_income'] = data['total_income'].astype(int)"
   ]
  },
  {
   "cell_type": "markdown",
   "id": "dbd8e389",
   "metadata": {
    "deletable": false,
    "editable": false,
    "id": "80c420ba"
   },
   "source": [
    "### Обработка дубликатов"
   ]
  },
  {
   "cell_type": "markdown",
   "id": "40dfe6e4",
   "metadata": {
    "deletable": false,
    "editable": false
   },
   "source": [
    "**Задание 14. Обработайте неявные дубликаты в столбце `education`. В этом столбце есть одни и те же значения, но записанные по-разному: с использованием заглавных и строчных букв. Приведите их к нижнему регистру. Проверьте остальные столбцы.**"
   ]
  },
  {
   "cell_type": "code",
   "execution_count": 14,
   "id": "f00196e3",
   "metadata": {
    "deletable": false
   },
   "outputs": [],
   "source": [
    "data['education'] = data['education'].str.lower()"
   ]
  },
  {
   "cell_type": "markdown",
   "id": "9a592cc0",
   "metadata": {
    "deletable": false,
    "editable": false,
    "id": "dc587695"
   },
   "source": [
    "**Задание 15. Выведите на экран количество строк-дубликатов в данных. Если такие строки присутствуют, удалите их.**"
   ]
  },
  {
   "cell_type": "code",
   "execution_count": 15,
   "id": "54d56d21",
   "metadata": {
    "deletable": false,
    "id": "3ee445e4",
    "outputId": "9684deba-1934-42d1-99e1-cda61740f822"
   },
   "outputs": [
    {
     "data": {
      "text/plain": [
       "71"
      ]
     },
     "execution_count": 15,
     "metadata": {},
     "output_type": "execute_result"
    }
   ],
   "source": [
    "data.duplicated().sum()"
   ]
  },
  {
   "cell_type": "code",
   "execution_count": 16,
   "id": "3562c3ac",
   "metadata": {
    "deletable": false,
    "id": "8575fe05"
   },
   "outputs": [],
   "source": [
    "data = data.drop_duplicates()"
   ]
  },
  {
   "cell_type": "markdown",
   "id": "13c4c237",
   "metadata": {
    "deletable": false,
    "editable": false,
    "id": "9904cf55"
   },
   "source": [
    "### Категоризация данных"
   ]
  },
  {
   "cell_type": "markdown",
   "id": "a8dc45c2",
   "metadata": {
    "deletable": false,
    "editable": false,
    "id": "72fcc8a2"
   },
   "source": [
    "**Задание 16. На основании диапазонов, указанных ниже, создайте в датафрейме `data` столбец `total_income_category` с категориями:**\n",
    "\n",
    "- 0–30000 — `'E'`;\n",
    "- 30001–50000 — `'D'`;\n",
    "- 50001–200000 — `'C'`;\n",
    "- 200001–1000000 — `'B'`;\n",
    "- 1000001 и выше — `'A'`.\n",
    "\n",
    "\n",
    "**Например, кредитополучателю с доходом 25000 нужно назначить категорию `'E'`, а клиенту, получающему 235000, — `'B'`. Используйте собственную функцию с именем `categorize_income()` и метод `apply()`.**"
   ]
  },
  {
   "cell_type": "code",
   "execution_count": 17,
   "id": "f7b1ddb9",
   "metadata": {
    "deletable": false,
    "id": "e1771346"
   },
   "outputs": [],
   "source": [
    "def categorize_income(income):\n",
    "    try:\n",
    "        if 0 <= income <= 30000:\n",
    "            return 'E'\n",
    "        elif 30001 <= income <= 50000:\n",
    "            return 'D'\n",
    "        elif 50001 <= income <= 200000:\n",
    "            return 'C'\n",
    "        elif 200001 <= income <= 1000000:\n",
    "            return 'B'\n",
    "        elif income >= 1000001:\n",
    "            return 'A'\n",
    "    except:\n",
    "        pass"
   ]
  },
  {
   "cell_type": "code",
   "execution_count": 18,
   "id": "25b8f871",
   "metadata": {
    "deletable": false,
    "id": "d5f3586d"
   },
   "outputs": [],
   "source": [
    "data['total_income_category'] = data['total_income'].apply(categorize_income)"
   ]
  },
  {
   "cell_type": "markdown",
   "id": "6de82b68",
   "metadata": {
    "deletable": false,
    "editable": false,
    "id": "dde49b5c"
   },
   "source": [
    "**Задание 17. Выведите на экран перечень уникальных целей взятия кредита из столбца `purpose`.**"
   ]
  },
  {
   "cell_type": "code",
   "execution_count": 19,
   "id": "f179643e",
   "metadata": {
    "deletable": false,
    "id": "f67ce9b3",
    "outputId": "673c12d9-7d7e-4ae0-9812-c622c89dd244"
   },
   "outputs": [
    {
     "data": {
      "text/plain": [
       "array(['покупка жилья', 'приобретение автомобиля',\n",
       "       'дополнительное образование', 'сыграть свадьбу',\n",
       "       'операции с жильем', 'образование', 'на проведение свадьбы',\n",
       "       'покупка жилья для семьи', 'покупка недвижимости',\n",
       "       'покупка коммерческой недвижимости', 'покупка жилой недвижимости',\n",
       "       'строительство собственной недвижимости', 'недвижимость',\n",
       "       'строительство недвижимости', 'на покупку подержанного автомобиля',\n",
       "       'на покупку своего автомобиля',\n",
       "       'операции с коммерческой недвижимостью',\n",
       "       'строительство жилой недвижимости', 'жилье',\n",
       "       'операции со своей недвижимостью', 'автомобили',\n",
       "       'заняться образованием', 'сделка с подержанным автомобилем',\n",
       "       'получение образования', 'автомобиль', 'свадьба',\n",
       "       'получение дополнительного образования', 'покупка своего жилья',\n",
       "       'операции с недвижимостью', 'получение высшего образования',\n",
       "       'свой автомобиль', 'сделка с автомобилем',\n",
       "       'профильное образование', 'высшее образование',\n",
       "       'покупка жилья для сдачи', 'на покупку автомобиля', 'ремонт жилью',\n",
       "       'заняться высшим образованием'], dtype=object)"
      ]
     },
     "execution_count": 19,
     "metadata": {},
     "output_type": "execute_result"
    }
   ],
   "source": [
    "data['purpose'].unique()"
   ]
  },
  {
   "cell_type": "markdown",
   "id": "a6fd7f56",
   "metadata": {
    "deletable": false,
    "editable": false,
    "id": "85d0aef0"
   },
   "source": [
    "**Задание 18. Создайте функцию, которая на основании данных из столбца `purpose` сформирует новый столбец `purpose_category`, в который войдут следующие категории:**\n",
    "\n",
    "- `'операции с автомобилем'`,\n",
    "- `'операции с недвижимостью'`,\n",
    "- `'проведение свадьбы'`,\n",
    "- `'получение образования'`.\n",
    "\n",
    "**Например, если в столбце `purpose` находится подстрока `'на покупку автомобиля'`, то в столбце `purpose_category` должна появиться строка `'операции с автомобилем'`.**\n",
    "\n",
    "**Используйте собственную функцию с именем `categorize_purpose()` и метод `apply()`. Изучите данные в столбце `purpose` и определите, какие подстроки помогут вам правильно определить категорию.**"
   ]
  },
  {
   "cell_type": "code",
   "execution_count": 20,
   "id": "1089bb95",
   "metadata": {
    "deletable": false,
    "id": "e149fab4"
   },
   "outputs": [],
   "source": [
    "def categorize_purpose(row):\n",
    "    try:\n",
    "        if 'автом' in row:\n",
    "            return 'операции с автомобилем'\n",
    "        elif 'жил' in row or 'недвиж' in row:\n",
    "            return 'операции с недвижимостью'\n",
    "        elif 'свад' in row:\n",
    "            return 'проведение свадьбы'\n",
    "        elif 'образов' in row:\n",
    "            return 'получение образования'\n",
    "    except:\n",
    "        return 'нет категории'"
   ]
  },
  {
   "cell_type": "code",
   "execution_count": 21,
   "id": "faa3c523",
   "metadata": {
    "deletable": false,
    "id": "bf36e69b"
   },
   "outputs": [],
   "source": [
    "data['purpose_category'] = data['purpose'].apply(categorize_purpose)"
   ]
  },
  {
   "cell_type": "markdown",
   "id": "433361c2",
   "metadata": {
    "deletable": false,
    "editable": false,
    "id": "09b242bf"
   },
   "source": [
    "### Шаг 3. Исследуйте данные и ответьте на вопросы"
   ]
  },
  {
   "cell_type": "markdown",
   "id": "a052a543",
   "metadata": {
    "deletable": false,
    "editable": false,
    "id": "c5d66278"
   },
   "source": [
    "#### 3.1 Есть ли зависимость между количеством детей и возвратом кредита в срок?"
   ]
  },
  {
   "cell_type": "code",
   "execution_count": 22,
   "id": "219cbe5b",
   "metadata": {},
   "outputs": [
    {
     "data": {
      "text/html": [
       "<div>\n",
       "<style scoped>\n",
       "    .dataframe tbody tr th:only-of-type {\n",
       "        vertical-align: middle;\n",
       "    }\n",
       "\n",
       "    .dataframe tbody tr th {\n",
       "        vertical-align: top;\n",
       "    }\n",
       "\n",
       "    .dataframe thead th {\n",
       "        text-align: right;\n",
       "    }\n",
       "</style>\n",
       "<table border=\"1\" class=\"dataframe\">\n",
       "  <thead>\n",
       "    <tr style=\"text-align: right;\">\n",
       "      <th></th>\n",
       "      <th>count</th>\n",
       "      <th>sum</th>\n",
       "      <th>mean</th>\n",
       "    </tr>\n",
       "    <tr>\n",
       "      <th>children</th>\n",
       "      <th></th>\n",
       "      <th></th>\n",
       "      <th></th>\n",
       "    </tr>\n",
       "  </thead>\n",
       "  <tbody>\n",
       "    <tr>\n",
       "      <th>0</th>\n",
       "      <td>14091</td>\n",
       "      <td>1063</td>\n",
       "      <td>0.075438</td>\n",
       "    </tr>\n",
       "    <tr>\n",
       "      <th>1</th>\n",
       "      <td>4808</td>\n",
       "      <td>444</td>\n",
       "      <td>0.092346</td>\n",
       "    </tr>\n",
       "    <tr>\n",
       "      <th>2</th>\n",
       "      <td>2052</td>\n",
       "      <td>194</td>\n",
       "      <td>0.094542</td>\n",
       "    </tr>\n",
       "    <tr>\n",
       "      <th>3</th>\n",
       "      <td>330</td>\n",
       "      <td>27</td>\n",
       "      <td>0.081818</td>\n",
       "    </tr>\n",
       "    <tr>\n",
       "      <th>4</th>\n",
       "      <td>41</td>\n",
       "      <td>4</td>\n",
       "      <td>0.097561</td>\n",
       "    </tr>\n",
       "    <tr>\n",
       "      <th>5</th>\n",
       "      <td>9</td>\n",
       "      <td>0</td>\n",
       "      <td>0.000000</td>\n",
       "    </tr>\n",
       "  </tbody>\n",
       "</table>\n",
       "</div>"
      ],
      "text/plain": [
       "          count   sum      mean\n",
       "children                       \n",
       "0         14091  1063  0.075438\n",
       "1          4808   444  0.092346\n",
       "2          2052   194  0.094542\n",
       "3           330    27  0.081818\n",
       "4            41     4  0.097561\n",
       "5             9     0  0.000000"
      ]
     },
     "metadata": {},
     "output_type": "display_data"
    }
   ],
   "source": [
    "display(data.groupby('children')['debt'].agg(['count', 'sum', 'mean']))"
   ]
  },
  {
   "cell_type": "code",
   "execution_count": 23,
   "id": "80fd018e-c798-4018-877b-52bae2e4350a",
   "metadata": {},
   "outputs": [
    {
     "data": {
      "text/html": [
       "<div>\n",
       "<style scoped>\n",
       "    .dataframe tbody tr th:only-of-type {\n",
       "        vertical-align: middle;\n",
       "    }\n",
       "\n",
       "    .dataframe tbody tr th {\n",
       "        vertical-align: top;\n",
       "    }\n",
       "\n",
       "    .dataframe thead th {\n",
       "        text-align: right;\n",
       "    }\n",
       "</style>\n",
       "<table border=\"1\" class=\"dataframe\">\n",
       "  <thead>\n",
       "    <tr style=\"text-align: right;\">\n",
       "      <th></th>\n",
       "      <th>children_cat_id</th>\n",
       "      <th>children_cat_name</th>\n",
       "    </tr>\n",
       "  </thead>\n",
       "  <tbody>\n",
       "    <tr>\n",
       "      <th>0</th>\n",
       "      <td>0</td>\n",
       "      <td>Нет детей</td>\n",
       "    </tr>\n",
       "    <tr>\n",
       "      <th>1</th>\n",
       "      <td>1</td>\n",
       "      <td>Один ребенок</td>\n",
       "    </tr>\n",
       "    <tr>\n",
       "      <th>2</th>\n",
       "      <td>2</td>\n",
       "      <td>Двое детей</td>\n",
       "    </tr>\n",
       "    <tr>\n",
       "      <th>3</th>\n",
       "      <td>3</td>\n",
       "      <td>Трое детей</td>\n",
       "    </tr>\n",
       "    <tr>\n",
       "      <th>4</th>\n",
       "      <td>4</td>\n",
       "      <td>Четверо детей</td>\n",
       "    </tr>\n",
       "    <tr>\n",
       "      <th>5</th>\n",
       "      <td>5</td>\n",
       "      <td>Пятеро детей</td>\n",
       "    </tr>\n",
       "  </tbody>\n",
       "</table>\n",
       "</div>"
      ],
      "text/plain": [
       "   children_cat_id children_cat_name\n",
       "0                0         Нет детей\n",
       "1                1      Один ребенок\n",
       "2                2        Двое детей\n",
       "3                3        Трое детей\n",
       "4                4     Четверо детей\n",
       "5                5      Пятеро детей"
      ]
     },
     "execution_count": 23,
     "metadata": {},
     "output_type": "execute_result"
    }
   ],
   "source": [
    "children_data = {'children_cat_id': [0, 1, 2, 3, 4, 5],\n",
    "                 'children_cat_name': ['Нет детей', 'Один ребенок', 'Двое детей', \n",
    "                                       'Трое детей', 'Четверо детей', 'Пятеро детей']}\n",
    "children_columns = ['children_cat_id', 'children_cat_name']\n",
    "children_dict = pd.DataFrame(data = children_data, columns = children_columns)\n",
    "children_dict"
   ]
  },
  {
   "cell_type": "code",
   "execution_count": 24,
   "id": "fee68e39-1d46-4d94-a5c2-a7b451eeedcb",
   "metadata": {},
   "outputs": [],
   "source": [
    "def set_children_cat_id(children):\n",
    "        \n",
    "    if children == 0:\n",
    "        return 0\n",
    "    elif children == 1:\n",
    "        return 1\n",
    "    elif children == 2:\n",
    "        return 2\n",
    "    elif children == 3:\n",
    "        return 3\n",
    "    elif children == 4:\n",
    "        return 4\n",
    "    else:\n",
    "        return 5\n",
    "\n",
    "data['children_cat_id'] = data['children'].apply(set_children_cat_id)"
   ]
  },
  {
   "cell_type": "code",
   "execution_count": 25,
   "id": "f9acd6f8",
   "metadata": {
    "deletable": false,
    "id": "2cacfc4a"
   },
   "outputs": [
    {
     "data": {
      "text/html": [
       "<div>\n",
       "<style scoped>\n",
       "    .dataframe tbody tr th:only-of-type {\n",
       "        vertical-align: middle;\n",
       "    }\n",
       "\n",
       "    .dataframe tbody tr th {\n",
       "        vertical-align: top;\n",
       "    }\n",
       "\n",
       "    .dataframe thead th {\n",
       "        text-align: right;\n",
       "    }\n",
       "</style>\n",
       "<table border=\"1\" class=\"dataframe\">\n",
       "  <thead>\n",
       "    <tr style=\"text-align: right;\">\n",
       "      <th></th>\n",
       "      <th>in total</th>\n",
       "      <th>debtors</th>\n",
       "      <th>rate</th>\n",
       "    </tr>\n",
       "    <tr>\n",
       "      <th>children_cat_name</th>\n",
       "      <th></th>\n",
       "      <th></th>\n",
       "      <th></th>\n",
       "    </tr>\n",
       "  </thead>\n",
       "  <tbody>\n",
       "    <tr>\n",
       "      <th>Нет детей</th>\n",
       "      <td>13028.0</td>\n",
       "      <td>1063.0</td>\n",
       "      <td>7.543822</td>\n",
       "    </tr>\n",
       "    <tr>\n",
       "      <th>Трое детей</th>\n",
       "      <td>303.0</td>\n",
       "      <td>27.0</td>\n",
       "      <td>8.181818</td>\n",
       "    </tr>\n",
       "    <tr>\n",
       "      <th>Один ребенок</th>\n",
       "      <td>4364.0</td>\n",
       "      <td>444.0</td>\n",
       "      <td>9.234609</td>\n",
       "    </tr>\n",
       "    <tr>\n",
       "      <th>Двое детей</th>\n",
       "      <td>1858.0</td>\n",
       "      <td>194.0</td>\n",
       "      <td>9.454191</td>\n",
       "    </tr>\n",
       "    <tr>\n",
       "      <th>Четверо детей</th>\n",
       "      <td>37.0</td>\n",
       "      <td>4.0</td>\n",
       "      <td>9.756098</td>\n",
       "    </tr>\n",
       "    <tr>\n",
       "      <th>Пятеро детей</th>\n",
       "      <td>9.0</td>\n",
       "      <td>NaN</td>\n",
       "      <td>NaN</td>\n",
       "    </tr>\n",
       "  </tbody>\n",
       "</table>\n",
       "</div>"
      ],
      "text/plain": [
       "                   in total  debtors      rate\n",
       "children_cat_name                             \n",
       "Нет детей           13028.0   1063.0  7.543822\n",
       "Трое детей            303.0     27.0  8.181818\n",
       "Один ребенок         4364.0    444.0  9.234609\n",
       "Двое детей           1858.0    194.0  9.454191\n",
       "Четверо детей          37.0      4.0  9.756098\n",
       "Пятеро детей            9.0      NaN       NaN"
      ]
     },
     "execution_count": 25,
     "metadata": {},
     "output_type": "execute_result"
    }
   ],
   "source": [
    "children_debt = data.merge(children_dict, on='children_cat_id', how='left')[['children_cat_id', \n",
    "                                                                             'children_cat_name', \n",
    "                                                                             'debt']]\n",
    " \n",
    "children_debt_pivot = children_debt.pivot_table(index = 'children_cat_name', columns = 'debt', \n",
    "                                                values = 'children_cat_id', aggfunc = 'count')\n",
    "\n",
    "children_debt_pivot.columns = ['in total', 'debtors']\n",
    "children_debt_pivot['rate'] = (children_debt_pivot['debtors'] / (children_debt_pivot['in total'] + children_debt_pivot['debtors']))*100\n",
    "children_debt_pivot.sort_values(by='rate')"
   ]
  },
  {
   "cell_type": "markdown",
   "id": "39673aec",
   "metadata": {
    "deletable": false,
    "id": "3a6b99ec"
   },
   "source": [
    "**Вывод:** Отсутствие детей положительно влияет на возврат кредита в срок.\n"
   ]
  },
  {
   "cell_type": "markdown",
   "id": "38732000",
   "metadata": {
    "deletable": false,
    "editable": false,
    "id": "97be82ca"
   },
   "source": [
    "#### 3.2 Есть ли зависимость между семейным положением и возвратом кредита в срок?"
   ]
  },
  {
   "cell_type": "code",
   "execution_count": 26,
   "id": "3893abbb-f280-4f36-8840-29920c258e05",
   "metadata": {
    "tags": []
   },
   "outputs": [
    {
     "data": {
      "text/html": [
       "<div>\n",
       "<style scoped>\n",
       "    .dataframe tbody tr th:only-of-type {\n",
       "        vertical-align: middle;\n",
       "    }\n",
       "\n",
       "    .dataframe tbody tr th {\n",
       "        vertical-align: top;\n",
       "    }\n",
       "\n",
       "    .dataframe thead th {\n",
       "        text-align: right;\n",
       "    }\n",
       "</style>\n",
       "<table border=\"1\" class=\"dataframe\">\n",
       "  <thead>\n",
       "    <tr style=\"text-align: right;\">\n",
       "      <th></th>\n",
       "      <th>family_status</th>\n",
       "      <th>family_status_id</th>\n",
       "    </tr>\n",
       "  </thead>\n",
       "  <tbody>\n",
       "    <tr>\n",
       "      <th>0</th>\n",
       "      <td>женат / замужем</td>\n",
       "      <td>0</td>\n",
       "    </tr>\n",
       "    <tr>\n",
       "      <th>1</th>\n",
       "      <td>гражданский брак</td>\n",
       "      <td>1</td>\n",
       "    </tr>\n",
       "    <tr>\n",
       "      <th>2</th>\n",
       "      <td>вдовец / вдова</td>\n",
       "      <td>2</td>\n",
       "    </tr>\n",
       "    <tr>\n",
       "      <th>3</th>\n",
       "      <td>в разводе</td>\n",
       "      <td>3</td>\n",
       "    </tr>\n",
       "    <tr>\n",
       "      <th>4</th>\n",
       "      <td>Не женат / не замужем</td>\n",
       "      <td>4</td>\n",
       "    </tr>\n",
       "  </tbody>\n",
       "</table>\n",
       "</div>"
      ],
      "text/plain": [
       "           family_status  family_status_id\n",
       "0        женат / замужем                 0\n",
       "1       гражданский брак                 1\n",
       "2         вдовец / вдова                 2\n",
       "3              в разводе                 3\n",
       "4  Не женат / не замужем                 4"
      ]
     },
     "execution_count": 26,
     "metadata": {},
     "output_type": "execute_result"
    }
   ],
   "source": [
    "family_status_dict = data[['family_status', 'family_status_id']].drop_duplicates().reset_index(drop=True)\n",
    "family_status_dict"
   ]
  },
  {
   "cell_type": "code",
   "execution_count": 27,
   "id": "aaf6df9c-7995-4425-973a-7544bb6139d6",
   "metadata": {},
   "outputs": [],
   "source": [
    "data = data.drop(['family_status'], axis = 1)"
   ]
  },
  {
   "cell_type": "code",
   "execution_count": 28,
   "id": "b6c276b6-7a23-47fe-acd9-276e68099520",
   "metadata": {
    "deletable": false,
    "id": "dc3f7ee8"
   },
   "outputs": [
    {
     "data": {
      "text/html": [
       "<div>\n",
       "<style scoped>\n",
       "    .dataframe tbody tr th:only-of-type {\n",
       "        vertical-align: middle;\n",
       "    }\n",
       "\n",
       "    .dataframe tbody tr th {\n",
       "        vertical-align: top;\n",
       "    }\n",
       "\n",
       "    .dataframe thead th {\n",
       "        text-align: right;\n",
       "    }\n",
       "</style>\n",
       "<table border=\"1\" class=\"dataframe\">\n",
       "  <thead>\n",
       "    <tr style=\"text-align: right;\">\n",
       "      <th></th>\n",
       "      <th>in total</th>\n",
       "      <th>debtors</th>\n",
       "      <th>rate</th>\n",
       "    </tr>\n",
       "    <tr>\n",
       "      <th>family_status</th>\n",
       "      <th></th>\n",
       "      <th></th>\n",
       "      <th></th>\n",
       "    </tr>\n",
       "  </thead>\n",
       "  <tbody>\n",
       "    <tr>\n",
       "      <th>вдовец / вдова</th>\n",
       "      <td>888</td>\n",
       "      <td>63</td>\n",
       "      <td>6.624606</td>\n",
       "    </tr>\n",
       "    <tr>\n",
       "      <th>в разводе</th>\n",
       "      <td>1105</td>\n",
       "      <td>84</td>\n",
       "      <td>7.064760</td>\n",
       "    </tr>\n",
       "    <tr>\n",
       "      <th>женат / замужем</th>\n",
       "      <td>11334</td>\n",
       "      <td>927</td>\n",
       "      <td>7.560558</td>\n",
       "    </tr>\n",
       "    <tr>\n",
       "      <th>гражданский брак</th>\n",
       "      <td>3749</td>\n",
       "      <td>385</td>\n",
       "      <td>9.313014</td>\n",
       "    </tr>\n",
       "    <tr>\n",
       "      <th>Не женат / не замужем</th>\n",
       "      <td>2523</td>\n",
       "      <td>273</td>\n",
       "      <td>9.763948</td>\n",
       "    </tr>\n",
       "  </tbody>\n",
       "</table>\n",
       "</div>"
      ],
      "text/plain": [
       "                       in total  debtors      rate\n",
       "family_status                                     \n",
       "вдовец / вдова              888       63  6.624606\n",
       "в разводе                  1105       84  7.064760\n",
       "женат / замужем           11334      927  7.560558\n",
       "гражданский брак           3749      385  9.313014\n",
       "Не женат / не замужем      2523      273  9.763948"
      ]
     },
     "execution_count": 28,
     "metadata": {},
     "output_type": "execute_result"
    }
   ],
   "source": [
    "family_status_debt = data.merge(family_status_dict, on='family_status_id', how='left')[['family_status_id', \n",
    "                                                                             'family_status', \n",
    "                                                                             'debt']]\n",
    " \n",
    "family_status_pivot = family_status_debt.pivot_table(index = 'family_status', columns = 'debt', \n",
    "                                                values = 'family_status_id', aggfunc = 'count')\n",
    "\n",
    "family_status_pivot.columns = ['in total', 'debtors']\n",
    "family_status_pivot['rate'] = (family_status_pivot['debtors'] / (family_status_pivot['in total'] + family_status_pivot['debtors']))*100\n",
    "family_status_pivot.sort_values(by='rate')"
   ]
  },
  {
   "cell_type": "markdown",
   "id": "e66d5e84",
   "metadata": {
    "deletable": false,
    "id": "1cef7837"
   },
   "source": [
    "**Вывод:** Официально оформленные отношения, положительно влиют на возврат кредита в срок."
   ]
  },
  {
   "cell_type": "markdown",
   "id": "fff8e0e7",
   "metadata": {
    "deletable": false,
    "editable": false,
    "id": "1e8b2fca"
   },
   "source": [
    "#### 3.3 Есть ли зависимость между уровнем дохода и возвратом кредита в срок?"
   ]
  },
  {
   "cell_type": "code",
   "execution_count": 29,
   "id": "d1496d8a-2823-45ac-9f76-d8909650cba9",
   "metadata": {},
   "outputs": [
    {
     "data": {
      "text/html": [
       "<div>\n",
       "<style scoped>\n",
       "    .dataframe tbody tr th:only-of-type {\n",
       "        vertical-align: middle;\n",
       "    }\n",
       "\n",
       "    .dataframe tbody tr th {\n",
       "        vertical-align: top;\n",
       "    }\n",
       "\n",
       "    .dataframe thead th {\n",
       "        text-align: right;\n",
       "    }\n",
       "</style>\n",
       "<table border=\"1\" class=\"dataframe\">\n",
       "  <thead>\n",
       "    <tr style=\"text-align: right;\">\n",
       "      <th></th>\n",
       "      <th>total_income_cat_name</th>\n",
       "      <th>total_income_cat_id</th>\n",
       "    </tr>\n",
       "  </thead>\n",
       "  <tbody>\n",
       "    <tr>\n",
       "      <th>0</th>\n",
       "      <td>3427</td>\n",
       "      <td>0</td>\n",
       "    </tr>\n",
       "    <tr>\n",
       "      <th>1</th>\n",
       "      <td>3555</td>\n",
       "      <td>1</td>\n",
       "    </tr>\n",
       "    <tr>\n",
       "      <th>2</th>\n",
       "      <td>3555</td>\n",
       "      <td>2</td>\n",
       "    </tr>\n",
       "    <tr>\n",
       "      <th>3</th>\n",
       "      <td>3556</td>\n",
       "      <td>3</td>\n",
       "    </tr>\n",
       "    <tr>\n",
       "      <th>4</th>\n",
       "      <td>3566</td>\n",
       "      <td>4</td>\n",
       "    </tr>\n",
       "    <tr>\n",
       "      <th>5</th>\n",
       "      <td>3672</td>\n",
       "      <td>5</td>\n",
       "    </tr>\n",
       "  </tbody>\n",
       "</table>\n",
       "</div>"
      ],
      "text/plain": [
       "   total_income_cat_name  total_income_cat_id\n",
       "0                   3427                    0\n",
       "1                   3555                    1\n",
       "2                   3555                    2\n",
       "3                   3556                    3\n",
       "4                   3566                    4\n",
       "5                   3672                    5"
      ]
     },
     "execution_count": 29,
     "metadata": {},
     "output_type": "execute_result"
    }
   ],
   "source": [
    "data['total_income_cat_name'] = pd.qcut(data['total_income'], q=6, precision=0)\n",
    "total_income_dict = data['total_income_cat_name'].value_counts().reset_index()\n",
    "total_income_dict = total_income_dict.drop('total_income_cat_name', axis=1)\n",
    "total_income_dict.columns = ['total_income_cat_name']\n",
    "total_income_dict = total_income_dict.sort_values('total_income_cat_name').reset_index(drop = True)\n",
    "total_income_dict['total_income_cat_id'] = total_income_dict.index\n",
    "total_income_dict"
   ]
  },
  {
   "cell_type": "code",
   "execution_count": 30,
   "id": "7ccf425f-df76-487c-aa03-8775922bee83",
   "metadata": {},
   "outputs": [],
   "source": [
    "data = data.merge(total_income_dict, on='total_income_cat_name', how='left')\n",
    "customer_solvency = data.drop('total_income_cat_name', axis=1)"
   ]
  },
  {
   "cell_type": "code",
   "execution_count": 31,
   "id": "f864ccb8-a344-4fa1-ba34-a0cc67b9942b",
   "metadata": {},
   "outputs": [
    {
     "data": {
      "text/html": [
       "<div>\n",
       "<style scoped>\n",
       "    .dataframe tbody tr th:only-of-type {\n",
       "        vertical-align: middle;\n",
       "    }\n",
       "\n",
       "    .dataframe tbody tr th {\n",
       "        vertical-align: top;\n",
       "    }\n",
       "\n",
       "    .dataframe thead th {\n",
       "        text-align: right;\n",
       "    }\n",
       "</style>\n",
       "<table border=\"1\" class=\"dataframe\">\n",
       "  <thead>\n",
       "    <tr style=\"text-align: right;\">\n",
       "      <th></th>\n",
       "      <th>in total</th>\n",
       "      <th>debtors</th>\n",
       "      <th>rate</th>\n",
       "    </tr>\n",
       "    <tr>\n",
       "      <th>total_income_cat_name</th>\n",
       "      <th></th>\n",
       "      <th></th>\n",
       "      <th></th>\n",
       "    </tr>\n",
       "  </thead>\n",
       "  <tbody>\n",
       "    <tr>\n",
       "      <th>(228893.0, 2265604.0]</th>\n",
       "      <td>3306</td>\n",
       "      <td>249</td>\n",
       "      <td>7.004219</td>\n",
       "    </tr>\n",
       "    <tr>\n",
       "      <th>(20666.0, 92092.0]</th>\n",
       "      <td>3271</td>\n",
       "      <td>285</td>\n",
       "      <td>8.014623</td>\n",
       "    </tr>\n",
       "    <tr>\n",
       "      <th>(172357.0, 228893.0]</th>\n",
       "      <td>3151</td>\n",
       "      <td>276</td>\n",
       "      <td>8.053691</td>\n",
       "    </tr>\n",
       "    <tr>\n",
       "      <th>(92092.0, 119218.0]</th>\n",
       "      <td>3260</td>\n",
       "      <td>295</td>\n",
       "      <td>8.298172</td>\n",
       "    </tr>\n",
       "    <tr>\n",
       "      <th>(142594.0, 172357.0]</th>\n",
       "      <td>3266</td>\n",
       "      <td>300</td>\n",
       "      <td>8.412787</td>\n",
       "    </tr>\n",
       "    <tr>\n",
       "      <th>(119218.0, 142594.0]</th>\n",
       "      <td>3345</td>\n",
       "      <td>327</td>\n",
       "      <td>8.905229</td>\n",
       "    </tr>\n",
       "  </tbody>\n",
       "</table>\n",
       "</div>"
      ],
      "text/plain": [
       "                       in total  debtors      rate\n",
       "total_income_cat_name                             \n",
       "(228893.0, 2265604.0]      3306      249  7.004219\n",
       "(20666.0, 92092.0]         3271      285  8.014623\n",
       "(172357.0, 228893.0]       3151      276  8.053691\n",
       "(92092.0, 119218.0]        3260      295  8.298172\n",
       "(142594.0, 172357.0]       3266      300  8.412787\n",
       "(119218.0, 142594.0]       3345      327  8.905229"
      ]
     },
     "execution_count": 31,
     "metadata": {},
     "output_type": "execute_result"
    }
   ],
   "source": [
    "total_income_debt = data.merge(total_income_dict, \n",
    "                                on='total_income_cat_name', how='left')[['total_income_cat_name',\n",
    "                                                                   'total_income',\n",
    "                                                                   'debt']]\n",
    " \n",
    "total_income_pivot = data.pivot_table(index = 'total_income_cat_name', columns = 'debt', \n",
    "                                                values = 'total_income', aggfunc = 'count')\n",
    "\n",
    "total_income_pivot.columns = ['in total', 'debtors']\n",
    "total_income_pivot['rate'] = (total_income_pivot['debtors'] / (total_income_pivot['in total'] + total_income_pivot['debtors']))*100\n",
    "total_income_pivot.sort_values(by='rate')"
   ]
  },
  {
   "cell_type": "markdown",
   "id": "6f51850c-cc1e-45ab-97b1-586c088bd46d",
   "metadata": {
    "id": "e8593def"
   },
   "source": [
    "**Вывод:** В целом данные не сильно отличаются с изменением уровня доходов (в пределах 2%)."
   ]
  },
  {
   "cell_type": "code",
   "execution_count": 32,
   "id": "ddd51fc2",
   "metadata": {
    "deletable": false,
    "id": "cd7e3720"
   },
   "outputs": [
    {
     "data": {
      "text/html": [
       "<div>\n",
       "<style scoped>\n",
       "    .dataframe tbody tr th:only-of-type {\n",
       "        vertical-align: middle;\n",
       "    }\n",
       "\n",
       "    .dataframe tbody tr th {\n",
       "        vertical-align: top;\n",
       "    }\n",
       "\n",
       "    .dataframe thead th {\n",
       "        text-align: right;\n",
       "    }\n",
       "</style>\n",
       "<table border=\"1\" class=\"dataframe\">\n",
       "  <thead>\n",
       "    <tr style=\"text-align: right;\">\n",
       "      <th></th>\n",
       "      <th>in total</th>\n",
       "      <th>debtors</th>\n",
       "      <th>rate</th>\n",
       "    </tr>\n",
       "    <tr>\n",
       "      <th>total_income_category</th>\n",
       "      <th></th>\n",
       "      <th></th>\n",
       "      <th></th>\n",
       "    </tr>\n",
       "  </thead>\n",
       "  <tbody>\n",
       "    <tr>\n",
       "      <th>D</th>\n",
       "      <td>328</td>\n",
       "      <td>21</td>\n",
       "      <td>6.017192</td>\n",
       "    </tr>\n",
       "    <tr>\n",
       "      <th>B</th>\n",
       "      <td>4660</td>\n",
       "      <td>354</td>\n",
       "      <td>7.060231</td>\n",
       "    </tr>\n",
       "    <tr>\n",
       "      <th>A</th>\n",
       "      <td>23</td>\n",
       "      <td>2</td>\n",
       "      <td>8.000000</td>\n",
       "    </tr>\n",
       "    <tr>\n",
       "      <th>C</th>\n",
       "      <td>14568</td>\n",
       "      <td>1353</td>\n",
       "      <td>8.498210</td>\n",
       "    </tr>\n",
       "    <tr>\n",
       "      <th>E</th>\n",
       "      <td>20</td>\n",
       "      <td>2</td>\n",
       "      <td>9.090909</td>\n",
       "    </tr>\n",
       "  </tbody>\n",
       "</table>\n",
       "</div>"
      ],
      "text/plain": [
       "                       in total  debtors      rate\n",
       "total_income_category                             \n",
       "D                           328       21  6.017192\n",
       "B                          4660      354  7.060231\n",
       "A                            23        2  8.000000\n",
       "C                         14568     1353  8.498210\n",
       "E                            20        2  9.090909"
      ]
     },
     "execution_count": 32,
     "metadata": {},
     "output_type": "execute_result"
    }
   ],
   "source": [
    "total_income_pivot = data.pivot_table(index = 'total_income_category', columns = 'debt', \n",
    "                                                values = 'total_income', aggfunc = 'count')\n",
    "\n",
    "total_income_pivot.columns = ['in total', 'debtors']\n",
    "total_income_pivot['rate'] = (total_income_pivot['debtors'] / (total_income_pivot['in total'] + total_income_pivot['debtors']))*100\n",
    "total_income_pivot.sort_values(by='rate')"
   ]
  },
  {
   "cell_type": "markdown",
   "id": "e4117fe5",
   "metadata": {
    "deletable": false,
    "id": "e8593def"
   },
   "source": [
    "**Вывод:** Люди с доходом 30-50к, вернут кредит быстрее всего.\n",
    "- 0–30000 — `'E'`;\n",
    "- 30001–50000 — `'D'`;\n",
    "- 50001–200000 — `'C'`;\n",
    "- 200001–1000000 — `'B'`;\n",
    "- 1000001 и выше — `'A'`."
   ]
  },
  {
   "cell_type": "markdown",
   "id": "44998b12",
   "metadata": {
    "deletable": false,
    "editable": false,
    "id": "99ecbd1f"
   },
   "source": [
    "#### 3.4 Как разные цели кредита влияют на его возврат в срок?"
   ]
  },
  {
   "cell_type": "code",
   "execution_count": 33,
   "id": "4eacbf5a-f53b-4164-aabe-f0b2fb714265",
   "metadata": {},
   "outputs": [
    {
     "data": {
      "text/html": [
       "<div>\n",
       "<style scoped>\n",
       "    .dataframe tbody tr th:only-of-type {\n",
       "        vertical-align: middle;\n",
       "    }\n",
       "\n",
       "    .dataframe tbody tr th {\n",
       "        vertical-align: top;\n",
       "    }\n",
       "\n",
       "    .dataframe thead th {\n",
       "        text-align: right;\n",
       "    }\n",
       "</style>\n",
       "<table border=\"1\" class=\"dataframe\">\n",
       "  <thead>\n",
       "    <tr style=\"text-align: right;\">\n",
       "      <th></th>\n",
       "      <th>debt</th>\n",
       "      <th>purpose_category</th>\n",
       "    </tr>\n",
       "  </thead>\n",
       "  <tbody>\n",
       "    <tr>\n",
       "      <th>0</th>\n",
       "      <td>0</td>\n",
       "      <td>операции с недвижимостью</td>\n",
       "    </tr>\n",
       "    <tr>\n",
       "      <th>1</th>\n",
       "      <td>0</td>\n",
       "      <td>операции с автомобилем</td>\n",
       "    </tr>\n",
       "    <tr>\n",
       "      <th>2</th>\n",
       "      <td>0</td>\n",
       "      <td>получение образования</td>\n",
       "    </tr>\n",
       "    <tr>\n",
       "      <th>3</th>\n",
       "      <td>0</td>\n",
       "      <td>проведение свадьбы</td>\n",
       "    </tr>\n",
       "    <tr>\n",
       "      <th>4</th>\n",
       "      <td>1</td>\n",
       "      <td>операции с недвижимостью</td>\n",
       "    </tr>\n",
       "    <tr>\n",
       "      <th>5</th>\n",
       "      <td>1</td>\n",
       "      <td>проведение свадьбы</td>\n",
       "    </tr>\n",
       "    <tr>\n",
       "      <th>6</th>\n",
       "      <td>1</td>\n",
       "      <td>получение образования</td>\n",
       "    </tr>\n",
       "    <tr>\n",
       "      <th>7</th>\n",
       "      <td>1</td>\n",
       "      <td>операции с автомобилем</td>\n",
       "    </tr>\n",
       "  </tbody>\n",
       "</table>\n",
       "</div>"
      ],
      "text/plain": [
       "   debt          purpose_category\n",
       "0     0  операции с недвижимостью\n",
       "1     0    операции с автомобилем\n",
       "2     0     получение образования\n",
       "3     0        проведение свадьбы\n",
       "4     1  операции с недвижимостью\n",
       "5     1        проведение свадьбы\n",
       "6     1     получение образования\n",
       "7     1    операции с автомобилем"
      ]
     },
     "execution_count": 33,
     "metadata": {},
     "output_type": "execute_result"
    }
   ],
   "source": [
    "purpose_dict = data[['debt','purpose_category']].drop_duplicates().reset_index(drop=True)\n",
    "purpose_dict"
   ]
  },
  {
   "cell_type": "code",
   "execution_count": 34,
   "id": "5f35f74d",
   "metadata": {
    "deletable": false,
    "id": "2b687290"
   },
   "outputs": [
    {
     "data": {
      "text/html": [
       "<div>\n",
       "<style scoped>\n",
       "    .dataframe tbody tr th:only-of-type {\n",
       "        vertical-align: middle;\n",
       "    }\n",
       "\n",
       "    .dataframe tbody tr th {\n",
       "        vertical-align: top;\n",
       "    }\n",
       "\n",
       "    .dataframe thead th {\n",
       "        text-align: right;\n",
       "    }\n",
       "</style>\n",
       "<table border=\"1\" class=\"dataframe\">\n",
       "  <thead>\n",
       "    <tr style=\"text-align: right;\">\n",
       "      <th></th>\n",
       "      <th>in total</th>\n",
       "      <th>debtors</th>\n",
       "      <th>rate</th>\n",
       "    </tr>\n",
       "    <tr>\n",
       "      <th>purpose_category</th>\n",
       "      <th></th>\n",
       "      <th></th>\n",
       "      <th></th>\n",
       "    </tr>\n",
       "  </thead>\n",
       "  <tbody>\n",
       "    <tr>\n",
       "      <th>операции с недвижимостью</th>\n",
       "      <td>9971</td>\n",
       "      <td>780</td>\n",
       "      <td>7.255139</td>\n",
       "    </tr>\n",
       "    <tr>\n",
       "      <th>проведение свадьбы</th>\n",
       "      <td>2130</td>\n",
       "      <td>183</td>\n",
       "      <td>7.911803</td>\n",
       "    </tr>\n",
       "    <tr>\n",
       "      <th>получение образования</th>\n",
       "      <td>3619</td>\n",
       "      <td>369</td>\n",
       "      <td>9.252758</td>\n",
       "    </tr>\n",
       "    <tr>\n",
       "      <th>операции с автомобилем</th>\n",
       "      <td>3879</td>\n",
       "      <td>400</td>\n",
       "      <td>9.347978</td>\n",
       "    </tr>\n",
       "  </tbody>\n",
       "</table>\n",
       "</div>"
      ],
      "text/plain": [
       "                          in total  debtors      rate\n",
       "purpose_category                                     \n",
       "операции с недвижимостью      9971      780  7.255139\n",
       "проведение свадьбы            2130      183  7.911803\n",
       "получение образования         3619      369  9.252758\n",
       "операции с автомобилем        3879      400  9.347978"
      ]
     },
     "execution_count": 34,
     "metadata": {},
     "output_type": "execute_result"
    }
   ],
   "source": [
    "purpose_pivot = data.pivot_table(index = 'purpose_category', columns = 'debt', \n",
    "                                                values = 'purpose', aggfunc = 'count')\n",
    "\n",
    "purpose_pivot.columns = ['in total', 'debtors']\n",
    "purpose_pivot['rate'] = (purpose_pivot['debtors'] / (purpose_pivot['in total'] + purpose_pivot['debtors']))*100\n",
    "purpose_pivot.sort_values(by='rate')"
   ]
  },
  {
   "cell_type": "markdown",
   "id": "f170aa6e",
   "metadata": {
    "deletable": false,
    "id": "b4bb2ce6"
   },
   "source": [
    "**Вывод:** Выдавать кредиты для операций с недвижимостью и проведение свадеб для банка безопастнее. "
   ]
  },
  {
   "cell_type": "markdown",
   "id": "79460e46",
   "metadata": {
    "deletable": false,
    "editable": false,
    "id": "09c3ac4c"
   },
   "source": [
    "#### 3.5 Приведите возможные причины появления пропусков в исходных данных."
   ]
  },
  {
   "cell_type": "markdown",
   "id": "d0ea16e7",
   "metadata": {
    "deletable": false,
    "id": "9da2ceda"
   },
   "source": [
    "*Ответ:* Скорее всего работники банка недостаточно тщательно проверяют заполненные анкеты, т.к. часть людей хотят скрыть доходы и стаж. Плюс возможны сбои при загрузке и выгрузке данных."
   ]
  },
  {
   "cell_type": "markdown",
   "id": "f2ca53d7",
   "metadata": {
    "deletable": false,
    "editable": false,
    "id": "7b0487d6"
   },
   "source": [
    "#### 3.6 Объясните, почему заполнить пропуски медианным значением — лучшее решение для количественных переменных."
   ]
  },
  {
   "cell_type": "markdown",
   "id": "c703824b",
   "metadata": {
    "deletable": false,
    "id": "7ecf2b8e"
   },
   "source": [
    "*Ответ:* Т.к. среднее значение не корректно отображает картину особенно в данных с небольшим количеством переменных и большим диапазоном."
   ]
  },
  {
   "cell_type": "markdown",
   "id": "cb4021ef",
   "metadata": {
    "deletable": false,
    "editable": false,
    "id": "6db5255a"
   },
   "source": [
    "### Шаг 4: общий вывод."
   ]
  },
  {
   "cell_type": "markdown",
   "id": "62c9616f",
   "metadata": {
    "deletable": false,
    "id": "bad65432"
   },
   "source": [
    "1) В Работе были проанализированы данные о статистике платежеспособности клиентов.\n",
    "Были обнаружены пропущенные данные в одинаковых записях столбцов. Возможные причины - сбой системы при загрузке/выгрузке данных из базы.\n",
    "Также были обнаружены отрицательные и очень высокие значения. Причинами могли стать ошибки при заполнени данных, а также сбои при работе с базой данных. Точные причины некорректных данных на назвать сложно. Необходимо дальнейшее исследование ошибок с сотрудниками банка.\n",
    "Данные в столбце total_income были заменены медианнными значениями групп с соответствующим уровнем образования клиентов.\n",
    "\n",
    "2) После преобразования строковых данных была обнаружена 71 дублированная строка. Поскольку в данных нет уникальных идентификаторов клиентов, невозможно сделать точно сказать, дублированы ли данные одних и тех же клиентов или информация по разным клиентам совпала случайным образом.\n",
    "Дублированные записи были удалены в учебных целях.\n",
    "\n",
    "3) Среди целей на получение кредита было выделено 4 основные группы: свадьба, автомобиль, образование, недвижимость.\n",
    "\n",
    "4) Были проанализированы задолженности клиентов по кредитам в зависимости от количества детей в семье, семейного положения, уровня месячного дохода и цели кредита.\n",
    "Данные выведены в сводные таблицы. Дополнительно рассчитаны доли клиентов с задолженностями для каждой категории.\n",
    "В некоторых категориях выборки оказались сравнительно малы, что не позволяет делать однозначные выводы о результатах исследований. Возможные пути решения проблемы - наращивать базу данных.\n",
    "По всем категориям доли клиентов с задолженностями не превышала 10%, а различия значений между отдельными группами разделения не превышали 3.5%.\n",
    "\n",
    "5) По результатам анализа можно сформировать портретнаиболее благонадёжного кредитора.\n"
   ]
  }
 ],
 "metadata": {
  "ExecuteTimeLog": [
   {
    "duration": 751,
    "start_time": "2023-07-20T06:26:23.010Z"
   },
   {
    "duration": 22,
    "start_time": "2023-07-20T06:26:23.762Z"
   },
   {
    "duration": 16,
    "start_time": "2023-07-20T06:26:23.785Z"
   },
   {
    "duration": 14,
    "start_time": "2023-07-20T06:26:23.803Z"
   },
   {
    "duration": 32,
    "start_time": "2023-07-20T06:26:23.819Z"
   },
   {
    "duration": 3,
    "start_time": "2023-07-20T06:26:23.853Z"
   },
   {
    "duration": 26,
    "start_time": "2023-07-20T06:26:23.857Z"
   },
   {
    "duration": 13,
    "start_time": "2023-07-20T06:26:23.884Z"
   },
   {
    "duration": 9,
    "start_time": "2023-07-20T06:26:23.900Z"
   },
   {
    "duration": 5,
    "start_time": "2023-07-20T06:26:23.911Z"
   },
   {
    "duration": 34,
    "start_time": "2023-07-20T06:26:23.917Z"
   },
   {
    "duration": 8,
    "start_time": "2023-07-20T06:26:23.953Z"
   },
   {
    "duration": 7,
    "start_time": "2023-07-20T06:26:23.962Z"
   },
   {
    "duration": 12,
    "start_time": "2023-07-20T06:26:23.971Z"
   },
   {
    "duration": 18,
    "start_time": "2023-07-20T06:26:23.985Z"
   },
   {
    "duration": 32,
    "start_time": "2023-07-20T06:26:24.004Z"
   },
   {
    "duration": 3,
    "start_time": "2023-07-20T06:26:24.037Z"
   },
   {
    "duration": 15,
    "start_time": "2023-07-20T06:26:24.041Z"
   },
   {
    "duration": 5,
    "start_time": "2023-07-20T06:26:24.057Z"
   },
   {
    "duration": 5,
    "start_time": "2023-07-20T06:26:24.064Z"
   },
   {
    "duration": 16,
    "start_time": "2023-07-20T06:26:24.070Z"
   },
   {
    "duration": 3,
    "start_time": "2023-07-20T06:26:24.087Z"
   },
   {
    "duration": 6,
    "start_time": "2023-07-20T06:26:24.091Z"
   },
   {
    "duration": 6,
    "start_time": "2023-07-20T06:26:24.098Z"
   },
   {
    "duration": 6,
    "start_time": "2023-07-20T06:26:24.105Z"
   },
   {
    "duration": 3,
    "start_time": "2023-07-20T06:26:31.796Z"
   },
   {
    "duration": 13,
    "start_time": "2023-07-20T07:49:03.849Z"
   },
   {
    "duration": 71,
    "start_time": "2023-07-20T07:59:00.523Z"
   },
   {
    "duration": 7,
    "start_time": "2023-07-20T07:59:20.177Z"
   },
   {
    "duration": 7,
    "start_time": "2023-07-20T07:59:29.058Z"
   },
   {
    "duration": 12,
    "start_time": "2023-07-20T08:00:13.714Z"
   },
   {
    "duration": 193,
    "start_time": "2023-07-20T08:02:55.760Z"
   },
   {
    "duration": 603,
    "start_time": "2023-07-20T08:03:24.046Z"
   },
   {
    "duration": 231,
    "start_time": "2023-07-20T08:03:34.685Z"
   },
   {
    "duration": 289,
    "start_time": "2023-07-20T08:03:47.014Z"
   },
   {
    "duration": 133,
    "start_time": "2023-07-20T08:04:02.974Z"
   },
   {
    "duration": 108,
    "start_time": "2023-07-20T08:04:07.239Z"
   },
   {
    "duration": 12,
    "start_time": "2023-07-20T08:04:11.903Z"
   },
   {
    "duration": 639,
    "start_time": "2023-07-20T08:05:40.952Z"
   },
   {
    "duration": 10,
    "start_time": "2023-07-20T08:06:01.472Z"
   },
   {
    "duration": 273,
    "start_time": "2023-07-20T08:06:09.568Z"
   },
   {
    "duration": 16,
    "start_time": "2023-07-20T08:06:30.664Z"
   },
   {
    "duration": 16,
    "start_time": "2023-07-20T08:13:19.588Z"
   },
   {
    "duration": 13,
    "start_time": "2023-07-20T08:13:56.086Z"
   },
   {
    "duration": 15,
    "start_time": "2023-07-20T08:18:24.778Z"
   },
   {
    "duration": 513,
    "start_time": "2023-07-20T08:19:02.963Z"
   },
   {
    "duration": 17,
    "start_time": "2023-07-20T08:19:06.756Z"
   },
   {
    "duration": 20,
    "start_time": "2023-07-20T08:19:12.955Z"
   },
   {
    "duration": 15,
    "start_time": "2023-07-20T08:19:16.123Z"
   },
   {
    "duration": 13,
    "start_time": "2023-07-20T08:20:19.252Z"
   },
   {
    "duration": 15,
    "start_time": "2023-07-20T08:20:27.660Z"
   },
   {
    "duration": 14,
    "start_time": "2023-07-20T08:20:47.892Z"
   },
   {
    "duration": 13,
    "start_time": "2023-07-20T08:20:55.628Z"
   },
   {
    "duration": 13,
    "start_time": "2023-07-20T08:21:02.901Z"
   },
   {
    "duration": 13,
    "start_time": "2023-07-20T08:22:39.461Z"
   },
   {
    "duration": 15,
    "start_time": "2023-07-20T08:22:53.887Z"
   },
   {
    "duration": 17,
    "start_time": "2023-07-20T08:23:01.174Z"
   },
   {
    "duration": 24,
    "start_time": "2023-07-20T08:25:18.139Z"
   },
   {
    "duration": 15,
    "start_time": "2023-07-20T08:27:17.034Z"
   },
   {
    "duration": 19,
    "start_time": "2023-07-20T08:36:12.786Z"
   },
   {
    "duration": 14,
    "start_time": "2023-07-20T08:36:17.018Z"
   },
   {
    "duration": 13,
    "start_time": "2023-07-20T08:36:20.626Z"
   },
   {
    "duration": 4266,
    "start_time": "2023-07-20T08:40:10.557Z"
   },
   {
    "duration": 14,
    "start_time": "2023-07-20T08:40:21.877Z"
   },
   {
    "duration": 4807,
    "start_time": "2023-07-20T08:43:20.736Z"
   },
   {
    "duration": 16,
    "start_time": "2023-07-20T08:44:11.544Z"
   },
   {
    "duration": 25,
    "start_time": "2023-07-20T08:44:40.112Z"
   },
   {
    "duration": 15,
    "start_time": "2023-07-20T08:46:57.795Z"
   },
   {
    "duration": 100,
    "start_time": "2023-07-20T08:47:06.515Z"
   },
   {
    "duration": 17,
    "start_time": "2023-07-20T08:47:12.555Z"
   },
   {
    "duration": 17,
    "start_time": "2023-07-20T08:48:30.909Z"
   },
   {
    "duration": 15,
    "start_time": "2023-07-20T08:48:35.374Z"
   },
   {
    "duration": 18,
    "start_time": "2023-07-20T08:49:01.716Z"
   },
   {
    "duration": 15,
    "start_time": "2023-07-20T08:49:49.206Z"
   },
   {
    "duration": 51,
    "start_time": "2023-07-20T08:50:10.582Z"
   },
   {
    "duration": 13,
    "start_time": "2023-07-20T09:04:52.795Z"
   },
   {
    "duration": 24,
    "start_time": "2023-07-20T09:05:24.298Z"
   },
   {
    "duration": 24,
    "start_time": "2023-07-20T09:05:34.114Z"
   },
   {
    "duration": 20,
    "start_time": "2023-07-20T09:05:44.275Z"
   },
   {
    "duration": 14,
    "start_time": "2023-07-20T09:05:57.203Z"
   },
   {
    "duration": 14,
    "start_time": "2023-07-20T09:06:11.492Z"
   },
   {
    "duration": 14,
    "start_time": "2023-07-20T09:08:30.342Z"
   },
   {
    "duration": 126,
    "start_time": "2023-07-20T09:08:55.309Z"
   },
   {
    "duration": 18,
    "start_time": "2023-07-20T09:09:03.589Z"
   },
   {
    "duration": 17,
    "start_time": "2023-07-20T09:09:19.550Z"
   },
   {
    "duration": 9,
    "start_time": "2023-07-20T09:10:07.765Z"
   },
   {
    "duration": 8,
    "start_time": "2023-07-20T09:10:20.111Z"
   },
   {
    "duration": 15,
    "start_time": "2023-07-20T09:10:31.575Z"
   },
   {
    "duration": 12,
    "start_time": "2023-07-20T09:14:18.411Z"
   },
   {
    "duration": 13,
    "start_time": "2023-07-20T09:20:24.461Z"
   },
   {
    "duration": 461,
    "start_time": "2023-07-20T12:23:35.904Z"
   },
   {
    "duration": 22,
    "start_time": "2023-07-20T12:23:36.367Z"
   },
   {
    "duration": 15,
    "start_time": "2023-07-20T12:23:36.391Z"
   },
   {
    "duration": 22,
    "start_time": "2023-07-20T12:23:36.409Z"
   },
   {
    "duration": 51,
    "start_time": "2023-07-20T12:23:36.433Z"
   },
   {
    "duration": 4,
    "start_time": "2023-07-20T12:23:36.485Z"
   },
   {
    "duration": 19,
    "start_time": "2023-07-20T12:23:36.490Z"
   },
   {
    "duration": 13,
    "start_time": "2023-07-20T12:23:36.510Z"
   },
   {
    "duration": 14,
    "start_time": "2023-07-20T12:23:36.524Z"
   },
   {
    "duration": 9,
    "start_time": "2023-07-20T12:23:36.540Z"
   },
   {
    "duration": 53,
    "start_time": "2023-07-20T12:23:36.550Z"
   },
   {
    "duration": 10,
    "start_time": "2023-07-20T12:23:36.604Z"
   },
   {
    "duration": 11,
    "start_time": "2023-07-20T12:23:36.616Z"
   },
   {
    "duration": 18,
    "start_time": "2023-07-20T12:23:36.629Z"
   },
   {
    "duration": 39,
    "start_time": "2023-07-20T12:23:36.650Z"
   },
   {
    "duration": 25,
    "start_time": "2023-07-20T12:23:36.691Z"
   },
   {
    "duration": 5,
    "start_time": "2023-07-20T12:23:36.718Z"
   },
   {
    "duration": 36,
    "start_time": "2023-07-20T12:23:36.725Z"
   },
   {
    "duration": 22,
    "start_time": "2023-07-20T12:23:36.763Z"
   },
   {
    "duration": 4,
    "start_time": "2023-07-20T12:23:36.787Z"
   },
   {
    "duration": 18,
    "start_time": "2023-07-20T12:23:36.793Z"
   },
   {
    "duration": 22,
    "start_time": "2023-07-20T12:23:36.813Z"
   },
   {
    "duration": 24,
    "start_time": "2023-07-20T12:23:36.837Z"
   },
   {
    "duration": 17,
    "start_time": "2023-07-20T12:23:36.863Z"
   },
   {
    "duration": 20,
    "start_time": "2023-07-20T12:23:36.882Z"
   },
   {
    "duration": 579,
    "start_time": "2023-07-20T18:40:40.664Z"
   },
   {
    "duration": 25,
    "start_time": "2023-07-20T18:40:41.245Z"
   },
   {
    "duration": 39,
    "start_time": "2023-07-20T18:40:41.272Z"
   },
   {
    "duration": 22,
    "start_time": "2023-07-20T18:40:41.314Z"
   },
   {
    "duration": 51,
    "start_time": "2023-07-20T18:40:41.339Z"
   },
   {
    "duration": 5,
    "start_time": "2023-07-20T18:40:41.392Z"
   },
   {
    "duration": 26,
    "start_time": "2023-07-20T18:40:41.399Z"
   },
   {
    "duration": 18,
    "start_time": "2023-07-20T18:40:41.427Z"
   },
   {
    "duration": 15,
    "start_time": "2023-07-20T18:40:41.447Z"
   },
   {
    "duration": 6,
    "start_time": "2023-07-20T18:40:41.464Z"
   },
   {
    "duration": 36,
    "start_time": "2023-07-20T18:40:41.471Z"
   },
   {
    "duration": 10,
    "start_time": "2023-07-20T18:40:41.509Z"
   },
   {
    "duration": 25,
    "start_time": "2023-07-20T18:40:41.521Z"
   },
   {
    "duration": 24,
    "start_time": "2023-07-20T18:40:41.549Z"
   },
   {
    "duration": 37,
    "start_time": "2023-07-20T18:40:41.576Z"
   },
   {
    "duration": 25,
    "start_time": "2023-07-20T18:40:41.615Z"
   },
   {
    "duration": 5,
    "start_time": "2023-07-20T18:40:41.642Z"
   },
   {
    "duration": 28,
    "start_time": "2023-07-20T18:40:41.649Z"
   },
   {
    "duration": 32,
    "start_time": "2023-07-20T18:40:41.679Z"
   },
   {
    "duration": 24,
    "start_time": "2023-07-20T18:40:41.714Z"
   },
   {
    "duration": 16,
    "start_time": "2023-07-20T18:40:41.740Z"
   },
   {
    "duration": 13,
    "start_time": "2023-07-20T18:40:41.758Z"
   },
   {
    "duration": 22,
    "start_time": "2023-07-20T18:40:41.774Z"
   },
   {
    "duration": 49,
    "start_time": "2023-07-20T18:40:41.797Z"
   },
   {
    "duration": 19,
    "start_time": "2023-07-20T18:40:41.866Z"
   },
   {
    "duration": 6,
    "start_time": "2023-07-20T18:40:41.887Z"
   },
   {
    "duration": 49,
    "start_time": "2023-07-20T18:40:41.895Z"
   },
   {
    "duration": 20,
    "start_time": "2023-07-20T18:40:41.966Z"
   },
   {
    "duration": 24,
    "start_time": "2023-07-20T18:40:41.988Z"
   },
   {
    "duration": 71,
    "start_time": "2023-07-20T18:40:42.013Z"
   },
   {
    "duration": 29,
    "start_time": "2023-07-20T18:40:42.086Z"
   },
   {
    "duration": 16,
    "start_time": "2023-07-20T18:40:42.117Z"
   },
   {
    "duration": 47,
    "start_time": "2023-07-20T18:40:42.134Z"
   },
   {
    "duration": 472,
    "start_time": "2023-07-20T22:52:37.076Z"
   },
   {
    "duration": 23,
    "start_time": "2023-07-20T22:52:37.554Z"
   },
   {
    "duration": 29,
    "start_time": "2023-07-20T22:52:37.578Z"
   },
   {
    "duration": 57,
    "start_time": "2023-07-20T22:52:37.609Z"
   },
   {
    "duration": 49,
    "start_time": "2023-07-20T22:52:37.668Z"
   },
   {
    "duration": 21,
    "start_time": "2023-07-20T22:52:37.719Z"
   },
   {
    "duration": 51,
    "start_time": "2023-07-20T22:52:37.746Z"
   },
   {
    "duration": 29,
    "start_time": "2023-07-20T22:52:37.798Z"
   },
   {
    "duration": 58,
    "start_time": "2023-07-20T22:52:37.829Z"
   },
   {
    "duration": 21,
    "start_time": "2023-07-20T22:52:37.889Z"
   },
   {
    "duration": 97,
    "start_time": "2023-07-20T22:52:37.912Z"
   },
   {
    "duration": 11,
    "start_time": "2023-07-20T22:52:38.011Z"
   },
   {
    "duration": 46,
    "start_time": "2023-07-20T22:52:38.024Z"
   },
   {
    "duration": 25,
    "start_time": "2023-07-20T22:52:38.073Z"
   },
   {
    "duration": 43,
    "start_time": "2023-07-20T22:52:38.099Z"
   },
   {
    "duration": 43,
    "start_time": "2023-07-20T22:52:38.143Z"
   },
   {
    "duration": 4,
    "start_time": "2023-07-20T22:52:38.188Z"
   },
   {
    "duration": 69,
    "start_time": "2023-07-20T22:52:38.194Z"
   },
   {
    "duration": 29,
    "start_time": "2023-07-20T22:52:38.265Z"
   },
   {
    "duration": 46,
    "start_time": "2023-07-20T22:52:38.296Z"
   },
   {
    "duration": 52,
    "start_time": "2023-07-20T22:52:38.346Z"
   },
   {
    "duration": 69,
    "start_time": "2023-07-20T22:52:38.400Z"
   },
   {
    "duration": 8,
    "start_time": "2023-07-20T22:52:38.471Z"
   },
   {
    "duration": 39,
    "start_time": "2023-07-20T22:52:38.480Z"
   },
   {
    "duration": 75,
    "start_time": "2023-07-20T22:52:38.526Z"
   },
   {
    "duration": 11,
    "start_time": "2023-07-20T22:52:38.602Z"
   },
   {
    "duration": 39,
    "start_time": "2023-07-20T22:52:38.615Z"
   },
   {
    "duration": 54,
    "start_time": "2023-07-20T22:52:38.656Z"
   },
   {
    "duration": 23,
    "start_time": "2023-07-20T22:52:38.711Z"
   },
   {
    "duration": 58,
    "start_time": "2023-07-20T22:52:38.736Z"
   },
   {
    "duration": 65,
    "start_time": "2023-07-20T22:52:38.796Z"
   },
   {
    "duration": 32,
    "start_time": "2023-07-20T22:52:38.863Z"
   },
   {
    "duration": 49,
    "start_time": "2023-07-20T22:52:38.898Z"
   },
   {
    "duration": 22,
    "start_time": "2023-07-20T22:52:38.957Z"
   },
   {
    "duration": 693,
    "start_time": "2023-07-21T07:19:57.045Z"
   },
   {
    "duration": 21,
    "start_time": "2023-07-21T07:19:57.740Z"
   },
   {
    "duration": 21,
    "start_time": "2023-07-21T07:19:57.763Z"
   },
   {
    "duration": 12,
    "start_time": "2023-07-21T07:19:57.785Z"
   },
   {
    "duration": 44,
    "start_time": "2023-07-21T07:19:57.798Z"
   },
   {
    "duration": 7,
    "start_time": "2023-07-21T07:19:57.843Z"
   },
   {
    "duration": 22,
    "start_time": "2023-07-21T07:19:57.851Z"
   },
   {
    "duration": 29,
    "start_time": "2023-07-21T07:19:57.874Z"
   },
   {
    "duration": 19,
    "start_time": "2023-07-21T07:19:57.904Z"
   },
   {
    "duration": 15,
    "start_time": "2023-07-21T07:19:57.928Z"
   },
   {
    "duration": 42,
    "start_time": "2023-07-21T07:19:57.945Z"
   },
   {
    "duration": 18,
    "start_time": "2023-07-21T07:19:57.989Z"
   },
   {
    "duration": 28,
    "start_time": "2023-07-21T07:19:58.009Z"
   },
   {
    "duration": 20,
    "start_time": "2023-07-21T07:19:58.038Z"
   },
   {
    "duration": 19,
    "start_time": "2023-07-21T07:19:58.060Z"
   },
   {
    "duration": 24,
    "start_time": "2023-07-21T07:19:58.080Z"
   },
   {
    "duration": 8,
    "start_time": "2023-07-21T07:19:58.105Z"
   },
   {
    "duration": 22,
    "start_time": "2023-07-21T07:19:58.115Z"
   },
   {
    "duration": 13,
    "start_time": "2023-07-21T07:19:58.139Z"
   },
   {
    "duration": 13,
    "start_time": "2023-07-21T07:19:58.153Z"
   },
   {
    "duration": 14,
    "start_time": "2023-07-21T07:19:58.168Z"
   },
   {
    "duration": 41,
    "start_time": "2023-07-21T07:19:58.183Z"
   },
   {
    "duration": 8,
    "start_time": "2023-07-21T07:19:58.226Z"
   },
   {
    "duration": 21,
    "start_time": "2023-07-21T07:19:58.235Z"
   },
   {
    "duration": 52,
    "start_time": "2023-07-21T07:19:58.257Z"
   },
   {
    "duration": 11,
    "start_time": "2023-07-21T07:19:58.311Z"
   },
   {
    "duration": 7,
    "start_time": "2023-07-21T07:19:58.323Z"
   },
   {
    "duration": 40,
    "start_time": "2023-07-21T07:19:58.333Z"
   },
   {
    "duration": 30,
    "start_time": "2023-07-21T07:19:58.375Z"
   },
   {
    "duration": 17,
    "start_time": "2023-07-21T07:19:58.407Z"
   },
   {
    "duration": 36,
    "start_time": "2023-07-21T07:19:58.425Z"
   },
   {
    "duration": 25,
    "start_time": "2023-07-21T07:19:58.462Z"
   },
   {
    "duration": 20,
    "start_time": "2023-07-21T07:19:58.488Z"
   },
   {
    "duration": 32,
    "start_time": "2023-07-21T07:19:58.509Z"
   }
  ],
  "colab": {
   "name": "dpp_template_part2.ipynb",
   "provenance": []
  },
  "kernelspec": {
   "display_name": "Python 3 (ipykernel)",
   "language": "python",
   "name": "python3"
  },
  "language_info": {
   "codemirror_mode": {
    "name": "ipython",
    "version": 3
   },
   "file_extension": ".py",
   "mimetype": "text/x-python",
   "name": "python",
   "nbconvert_exporter": "python",
   "pygments_lexer": "ipython3",
   "version": "3.9.5"
  },
  "toc": {
   "base_numbering": 1,
   "nav_menu": {},
   "number_sections": true,
   "sideBar": true,
   "skip_h1_title": true,
   "title_cell": "Table of Contents",
   "title_sidebar": "Contents",
   "toc_cell": false,
   "toc_position": {
    "height": "calc(100% - 180px)",
    "left": "10px",
    "top": "150px",
    "width": "236.562px"
   },
   "toc_section_display": true,
   "toc_window_display": true
  }
 },
 "nbformat": 4,
 "nbformat_minor": 5
}

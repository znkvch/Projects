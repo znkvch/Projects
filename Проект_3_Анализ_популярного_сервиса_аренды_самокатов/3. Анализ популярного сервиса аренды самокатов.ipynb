{
 "cells": [
  {
   "cell_type": "markdown",
   "id": "fef8e135",
   "metadata": {},
   "source": [
    "# Проект: анализ популярного сервиса аренды самокатов GoFast."
   ]
  },
  {
   "cell_type": "markdown",
   "id": "2d9ac250",
   "metadata": {},
   "source": [
    "Вы аналитик популярного сервиса аренды самокатов GoFast. Вам передали данные о некоторых пользователях из нескольких городов, а также об их поездках. Проанализируйте данные и проверьте некоторые гипотезы, которые могут помочь бизнесу вырасти.\n",
    "Чтобы совершать поездки по городу, пользователи сервиса GoFast пользуются мобильным приложением. \n",
    "- Сервисом можно пользоваться:\n",
    "-- без подписки\n",
    "абонентская плата отсутствует;\n",
    "стоимость одной минуты поездки — \n",
    "8 рублей;\n",
    "стоимость старта (начала поездки) — \n",
    "50 рублей;\n",
    "-- с подпиской Ultra\n",
    "абонентская плата — \n",
    "199 рублей в месяц;\n",
    "стоимость одной минуты поездки — \n",
    "6 рублей;\n",
    "стоимость старта — бесплатно."
   ]
  },
  {
   "cell_type": "markdown",
   "id": "547fbadf",
   "metadata": {},
   "source": [
    "**План выполнения работы:**\n",
    "- 1. Загрузка данных\n",
    "- 2. Предобработка данных\n",
    "    - 2.1 Приведите столбец date к типу даты pandas.\n",
    "    - 2.2 Создайте новый столбец с номером месяца на основе столбца date.\n",
    "    - 2.3 Проверьте наличие пропущенных значений и дубликатов в датафреймах. Обработайте их, если такие значения присутствуют.\n",
    "- 3. Исследовательский анализ данных. Опишите и визуализируйте общую информацию о пользователях и поездках:\n",
    "    - 3.1 частота встречаемости городов;\n",
    "    - 3.2 соотношение пользователей с подпиской и без подписки;\n",
    "    - 3.3 возраст пользователей;\n",
    "    - 3.4 расстояние, которое пользователь преодолел за одну поездку;\n",
    "    - 3.5 продолжительность поездок.\n",
    "- 4. Объединение данных\n",
    "    - 4.1 Объедините данные о пользователях, поездках и подписках в один датафрейм. Для этого воспользуйтесь методом merge().\n",
    "    - 4.2 Создайте ещё два датафрейма из датафрейма, созданного на этапе 4.1:\n",
    "        - c данными о пользователях без подписки;\n",
    "        - с данными о пользователях с подпиской.\n",
    "    - 4.3 Визуализируйте информацию о расстоянии и времени поездок для пользователей обеих категорий.\n",
    "- 5. Подсчёт выручки\n",
    "    - 5.1 Создайте датафрейм с агрегированными данными о поездках на основе датафрейма с объединёнными данными из шага 4: найдите суммарное расстояние, количество поездок и суммарное время для каждого пользователя за каждый месяц.\n",
    "    - 5.2 В этот же датафрейм добавьте столбец с помесячной выручкой, которую принёс каждый пользователь. Для этого обратитесь к информации об условиях оплаты для подписчиков и тех, у кого нет подписки. Продолжительность каждой поездки в каждой строке исходного датафрейма для подсчёта стоимости округляется до следующего целого числа: например, значения 25.3, 25.5 и 26.0 должны быть преобразованы к 26.\n",
    "- 6. Проверка гипотез. Продакт-менеджеры сервиса хотят увеличить количество пользователей с подпиской. Для этого они будут проводить различные акции, но сначала нужно выяснить несколько важных моментов.\n",
    "    - 6.1 Важно понять, тратят ли пользователи с подпиской больше времени на поездки? Если да, то пользователи с подпиской могут быть «выгоднее» для компании. Проверьте гипотезу. Используйте исходные данные о продолжительности каждой сессии — отдельно для подписчиков и тех, у кого нет подписки.\n",
    "    - 6.2 Расстояние одной поездки в 3130 метров — оптимальное с точки зрения износа самоката. Можно ли сказать, что расстояние, которое проезжают пользователи с подпиской за одну поездку, не превышает 3130 метров? Проверьте гипотезу и сделайте выводы.\n",
    "    - 6.3. Проверьте гипотезу о том, будет ли помесячная выручка от пользователей с подпиской по месяцам выше, чем выручка от пользователей без подписки. Сделайте вывод.\n",
    "    - 6.4. Представьте такую ситуацию: техническая команда сервиса обновила сервера, с которыми взаимодействует мобильное приложение. Она надеется, что из-за этого количество обращений в техподдержку значимо снизилось. Некоторый файл содержит для каждого пользователя данные о количестве обращений до обновления и после него. Какой тест вам понадобился бы для проверки этой гипотезы?"
   ]
  },
  {
   "cell_type": "code",
   "execution_count": 1,
   "id": "e8eab727",
   "metadata": {},
   "outputs": [],
   "source": [
    "import pandas as pd\n",
    "import numpy as np\n",
    "from scipy import stats as st\n",
    "import matplotlib.pyplot as plt"
   ]
  },
  {
   "cell_type": "markdown",
   "id": "e16757d5",
   "metadata": {},
   "source": [
    "## Шаг 1. Загрузка данных"
   ]
  },
  {
   "cell_type": "code",
   "execution_count": 2,
   "id": "af3d11b9",
   "metadata": {},
   "outputs": [
    {
     "name": "stdout",
     "output_type": "stream",
     "text": [
      "<class 'pandas.core.frame.DataFrame'>\n",
      "RangeIndex: 1565 entries, 0 to 1564\n",
      "Data columns (total 5 columns):\n",
      " #   Column             Non-Null Count  Dtype \n",
      "---  ------             --------------  ----- \n",
      " 0   user_id            1565 non-null   int64 \n",
      " 1   name               1565 non-null   object\n",
      " 2   age                1565 non-null   int64 \n",
      " 3   city               1565 non-null   object\n",
      " 4   subscription_type  1565 non-null   object\n",
      "dtypes: int64(2), object(3)\n",
      "memory usage: 61.3+ KB\n"
     ]
    },
    {
     "data": {
      "text/html": [
       "<div>\n",
       "<style scoped>\n",
       "    .dataframe tbody tr th:only-of-type {\n",
       "        vertical-align: middle;\n",
       "    }\n",
       "\n",
       "    .dataframe tbody tr th {\n",
       "        vertical-align: top;\n",
       "    }\n",
       "\n",
       "    .dataframe thead th {\n",
       "        text-align: right;\n",
       "    }\n",
       "</style>\n",
       "<table border=\"1\" class=\"dataframe\">\n",
       "  <thead>\n",
       "    <tr style=\"text-align: right;\">\n",
       "      <th></th>\n",
       "      <th>user_id</th>\n",
       "      <th>name</th>\n",
       "      <th>age</th>\n",
       "      <th>city</th>\n",
       "      <th>subscription_type</th>\n",
       "    </tr>\n",
       "  </thead>\n",
       "  <tbody>\n",
       "    <tr>\n",
       "      <th>0</th>\n",
       "      <td>1</td>\n",
       "      <td>Кира</td>\n",
       "      <td>22</td>\n",
       "      <td>Тюмень</td>\n",
       "      <td>ultra</td>\n",
       "    </tr>\n",
       "    <tr>\n",
       "      <th>1</th>\n",
       "      <td>2</td>\n",
       "      <td>Станислав</td>\n",
       "      <td>31</td>\n",
       "      <td>Омск</td>\n",
       "      <td>ultra</td>\n",
       "    </tr>\n",
       "    <tr>\n",
       "      <th>2</th>\n",
       "      <td>3</td>\n",
       "      <td>Алексей</td>\n",
       "      <td>20</td>\n",
       "      <td>Москва</td>\n",
       "      <td>ultra</td>\n",
       "    </tr>\n",
       "    <tr>\n",
       "      <th>3</th>\n",
       "      <td>4</td>\n",
       "      <td>Константин</td>\n",
       "      <td>26</td>\n",
       "      <td>Ростов-на-Дону</td>\n",
       "      <td>ultra</td>\n",
       "    </tr>\n",
       "    <tr>\n",
       "      <th>4</th>\n",
       "      <td>5</td>\n",
       "      <td>Адель</td>\n",
       "      <td>28</td>\n",
       "      <td>Омск</td>\n",
       "      <td>ultra</td>\n",
       "    </tr>\n",
       "  </tbody>\n",
       "</table>\n",
       "</div>"
      ],
      "text/plain": [
       "   user_id        name  age            city subscription_type\n",
       "0        1        Кира   22          Тюмень             ultra\n",
       "1        2   Станислав   31            Омск             ultra\n",
       "2        3     Алексей   20          Москва             ultra\n",
       "3        4  Константин   26  Ростов-на-Дону             ultra\n",
       "4        5       Адель   28            Омск             ultra"
      ]
     },
     "execution_count": 2,
     "metadata": {},
     "output_type": "execute_result"
    }
   ],
   "source": [
    "try:\n",
    "    users = pd.read_csv('/datasets/users_go.csv')\n",
    "except:\n",
    "    users = pd.read_csv('c:/Users/User/Downloads/users_go.csv')\n",
    "users.info()\n",
    "users.head()"
   ]
  },
  {
   "cell_type": "code",
   "execution_count": 3,
   "id": "fe3963e6",
   "metadata": {
    "tags": []
   },
   "outputs": [
    {
     "name": "stdout",
     "output_type": "stream",
     "text": [
      "<class 'pandas.core.frame.DataFrame'>\n",
      "RangeIndex: 18068 entries, 0 to 18067\n",
      "Data columns (total 4 columns):\n",
      " #   Column    Non-Null Count  Dtype  \n",
      "---  ------    --------------  -----  \n",
      " 0   user_id   18068 non-null  int64  \n",
      " 1   distance  18068 non-null  float64\n",
      " 2   duration  18068 non-null  float64\n",
      " 3   date      18068 non-null  object \n",
      "dtypes: float64(2), int64(1), object(1)\n",
      "memory usage: 564.8+ KB\n"
     ]
    },
    {
     "data": {
      "text/html": [
       "<div>\n",
       "<style scoped>\n",
       "    .dataframe tbody tr th:only-of-type {\n",
       "        vertical-align: middle;\n",
       "    }\n",
       "\n",
       "    .dataframe tbody tr th {\n",
       "        vertical-align: top;\n",
       "    }\n",
       "\n",
       "    .dataframe thead th {\n",
       "        text-align: right;\n",
       "    }\n",
       "</style>\n",
       "<table border=\"1\" class=\"dataframe\">\n",
       "  <thead>\n",
       "    <tr style=\"text-align: right;\">\n",
       "      <th></th>\n",
       "      <th>user_id</th>\n",
       "      <th>distance</th>\n",
       "      <th>duration</th>\n",
       "      <th>date</th>\n",
       "    </tr>\n",
       "  </thead>\n",
       "  <tbody>\n",
       "    <tr>\n",
       "      <th>0</th>\n",
       "      <td>1</td>\n",
       "      <td>4409.919140</td>\n",
       "      <td>25.599769</td>\n",
       "      <td>2021-01-01</td>\n",
       "    </tr>\n",
       "    <tr>\n",
       "      <th>1</th>\n",
       "      <td>1</td>\n",
       "      <td>2617.592153</td>\n",
       "      <td>15.816871</td>\n",
       "      <td>2021-01-18</td>\n",
       "    </tr>\n",
       "    <tr>\n",
       "      <th>2</th>\n",
       "      <td>1</td>\n",
       "      <td>754.159807</td>\n",
       "      <td>6.232113</td>\n",
       "      <td>2021-04-20</td>\n",
       "    </tr>\n",
       "    <tr>\n",
       "      <th>3</th>\n",
       "      <td>1</td>\n",
       "      <td>2694.783254</td>\n",
       "      <td>18.511000</td>\n",
       "      <td>2021-08-11</td>\n",
       "    </tr>\n",
       "    <tr>\n",
       "      <th>4</th>\n",
       "      <td>1</td>\n",
       "      <td>4028.687306</td>\n",
       "      <td>26.265803</td>\n",
       "      <td>2021-08-28</td>\n",
       "    </tr>\n",
       "  </tbody>\n",
       "</table>\n",
       "</div>"
      ],
      "text/plain": [
       "   user_id     distance   duration        date\n",
       "0        1  4409.919140  25.599769  2021-01-01\n",
       "1        1  2617.592153  15.816871  2021-01-18\n",
       "2        1   754.159807   6.232113  2021-04-20\n",
       "3        1  2694.783254  18.511000  2021-08-11\n",
       "4        1  4028.687306  26.265803  2021-08-28"
      ]
     },
     "execution_count": 3,
     "metadata": {},
     "output_type": "execute_result"
    }
   ],
   "source": [
    "try:\n",
    "    rides = pd.read_csv('/datasets/rides_go.csv')\n",
    "except:\n",
    "    rides = pd.read_csv('c:/Users/User/Downloads/rides_go.csv')\n",
    "rides.info()\n",
    "rides.head()"
   ]
  },
  {
   "cell_type": "code",
   "execution_count": 4,
   "id": "5217651d",
   "metadata": {},
   "outputs": [
    {
     "name": "stdout",
     "output_type": "stream",
     "text": [
      "<class 'pandas.core.frame.DataFrame'>\n",
      "RangeIndex: 2 entries, 0 to 1\n",
      "Data columns (total 4 columns):\n",
      " #   Column             Non-Null Count  Dtype \n",
      "---  ------             --------------  ----- \n",
      " 0   subscription_type  2 non-null      object\n",
      " 1   minute_price       2 non-null      int64 \n",
      " 2   start_ride_price   2 non-null      int64 \n",
      " 3   subscription_fee   2 non-null      int64 \n",
      "dtypes: int64(3), object(1)\n",
      "memory usage: 192.0+ bytes\n"
     ]
    },
    {
     "data": {
      "text/html": [
       "<div>\n",
       "<style scoped>\n",
       "    .dataframe tbody tr th:only-of-type {\n",
       "        vertical-align: middle;\n",
       "    }\n",
       "\n",
       "    .dataframe tbody tr th {\n",
       "        vertical-align: top;\n",
       "    }\n",
       "\n",
       "    .dataframe thead th {\n",
       "        text-align: right;\n",
       "    }\n",
       "</style>\n",
       "<table border=\"1\" class=\"dataframe\">\n",
       "  <thead>\n",
       "    <tr style=\"text-align: right;\">\n",
       "      <th></th>\n",
       "      <th>subscription_type</th>\n",
       "      <th>minute_price</th>\n",
       "      <th>start_ride_price</th>\n",
       "      <th>subscription_fee</th>\n",
       "    </tr>\n",
       "  </thead>\n",
       "  <tbody>\n",
       "    <tr>\n",
       "      <th>0</th>\n",
       "      <td>free</td>\n",
       "      <td>8</td>\n",
       "      <td>50</td>\n",
       "      <td>0</td>\n",
       "    </tr>\n",
       "    <tr>\n",
       "      <th>1</th>\n",
       "      <td>ultra</td>\n",
       "      <td>6</td>\n",
       "      <td>0</td>\n",
       "      <td>199</td>\n",
       "    </tr>\n",
       "  </tbody>\n",
       "</table>\n",
       "</div>"
      ],
      "text/plain": [
       "  subscription_type  minute_price  start_ride_price  subscription_fee\n",
       "0              free             8                50                 0\n",
       "1             ultra             6                 0               199"
      ]
     },
     "execution_count": 4,
     "metadata": {},
     "output_type": "execute_result"
    }
   ],
   "source": [
    "try:\n",
    "    subscriptions = pd.read_csv('/datasets/subscriptions_go.csv')\n",
    "except:\n",
    "    subscriptions = pd.read_csv('c:/Users/User/Downloads/subscriptions_go.csv')\n",
    "subscriptions.info()\n",
    "subscriptions.head()"
   ]
  },
  {
   "cell_type": "markdown",
   "id": "b8427eb0",
   "metadata": {},
   "source": [
    "### Вывод: \n",
    "- Данные успешно загружены из файлов. Данные соответствуют описанию.\n",
    "- В данных отсутствуют пропуски, наименование столбцов корректно."
   ]
  },
  {
   "cell_type": "markdown",
   "id": "c5a84fe8",
   "metadata": {},
   "source": [
    "## Шаг 2. Предобработка данных"
   ]
  },
  {
   "cell_type": "markdown",
   "id": "ec055797",
   "metadata": {},
   "source": [
    "#### 2.1 Приведем столбец date к типу даты pandas."
   ]
  },
  {
   "cell_type": "code",
   "execution_count": 5,
   "id": "8e870d72",
   "metadata": {},
   "outputs": [
    {
     "data": {
      "text/plain": [
       "0   2021-01-01\n",
       "1   2021-01-18\n",
       "2   2021-04-20\n",
       "3   2021-08-11\n",
       "4   2021-08-28\n",
       "Name: date, dtype: datetime64[ns]"
      ]
     },
     "execution_count": 5,
     "metadata": {},
     "output_type": "execute_result"
    }
   ],
   "source": [
    "rides['date'] = pd.to_datetime(rides['date'], format = '%Y-%m-%d')\n",
    "rides['date'].head()"
   ]
  },
  {
   "cell_type": "markdown",
   "id": "c70c9ed0",
   "metadata": {},
   "source": [
    "#### 2.2 Создадим новый столбец с номером месяца на основе столбца date."
   ]
  },
  {
   "cell_type": "code",
   "execution_count": 6,
   "id": "b992f28e",
   "metadata": {},
   "outputs": [
    {
     "data": {
      "text/plain": [
       "0    1\n",
       "1    1\n",
       "2    4\n",
       "3    8\n",
       "4    8\n",
       "Name: month, dtype: int32"
      ]
     },
     "execution_count": 6,
     "metadata": {},
     "output_type": "execute_result"
    }
   ],
   "source": [
    "rides['month'] = rides['date'].dt.month\n",
    "rides['month'].head()"
   ]
  },
  {
   "cell_type": "code",
   "execution_count": 7,
   "id": "2dd0108f",
   "metadata": {},
   "outputs": [
    {
     "name": "stdout",
     "output_type": "stream",
     "text": [
      "2021-01-01 00:00:00\n",
      "2021-12-30 00:00:00\n"
     ]
    }
   ],
   "source": [
    "print(rides['date'].min())\n",
    "print(rides['date'].max())"
   ]
  },
  {
   "cell_type": "markdown",
   "id": "0ef037c1",
   "metadata": {},
   "source": [
    "#### 2.3 Проверьрим наличие пропущенных значений и дубликатов в датафреймах. Обработайте их, если такие значения присутствуют."
   ]
  },
  {
   "cell_type": "code",
   "execution_count": 8,
   "id": "56e5dbad",
   "metadata": {},
   "outputs": [
    {
     "data": {
      "text/plain": [
       "subscription_type    0\n",
       "minute_price         0\n",
       "start_ride_price     0\n",
       "subscription_fee     0\n",
       "dtype: int64"
      ]
     },
     "execution_count": 8,
     "metadata": {},
     "output_type": "execute_result"
    }
   ],
   "source": [
    "#users.isna().sum()\n",
    "#rides.isna().sum()\n",
    "subscriptions.isna().sum()"
   ]
  },
  {
   "cell_type": "code",
   "execution_count": 9,
   "id": "e8b557cf",
   "metadata": {
    "tags": []
   },
   "outputs": [
    {
     "name": "stdout",
     "output_type": "stream",
     "text": [
      "31\n",
      "0\n",
      "0\n"
     ]
    }
   ],
   "source": [
    "print(users.duplicated().sum())\n",
    "print(rides.duplicated().sum())\n",
    "print(subscriptions.duplicated().sum())"
   ]
  },
  {
   "cell_type": "code",
   "execution_count": 10,
   "id": "1f6d0b84",
   "metadata": {},
   "outputs": [],
   "source": [
    "users = users.drop_duplicates()"
   ]
  },
  {
   "cell_type": "code",
   "execution_count": 11,
   "id": "32ee308a",
   "metadata": {},
   "outputs": [],
   "source": [
    "users = users.reset_index(drop=True)"
   ]
  },
  {
   "cell_type": "code",
   "execution_count": 12,
   "id": "bc3bc822",
   "metadata": {},
   "outputs": [
    {
     "name": "stdout",
     "output_type": "stream",
     "text": [
      "<class 'pandas.core.frame.DataFrame'>\n",
      "RangeIndex: 1534 entries, 0 to 1533\n",
      "Data columns (total 5 columns):\n",
      " #   Column             Non-Null Count  Dtype \n",
      "---  ------             --------------  ----- \n",
      " 0   user_id            1534 non-null   int64 \n",
      " 1   name               1534 non-null   object\n",
      " 2   age                1534 non-null   int64 \n",
      " 3   city               1534 non-null   object\n",
      " 4   subscription_type  1534 non-null   object\n",
      "dtypes: int64(2), object(3)\n",
      "memory usage: 60.0+ KB\n"
     ]
    }
   ],
   "source": [
    "users.info()"
   ]
  },
  {
   "cell_type": "markdown",
   "id": "5a6be5f5",
   "metadata": {},
   "source": [
    "### Вывод\n",
    "- Приведен столбец date к типу даты pandas(datetime64).\n",
    "- Создан новый столбец с номером месяца на основе столбца date.\n",
    "- Проверено наличие пропущенных значений и дубликатов в датафреймах. Найденые дубликаты удалены, пропусков не обнаружено."
   ]
  },
  {
   "cell_type": "markdown",
   "id": "8e6fd50d",
   "metadata": {},
   "source": [
    "## Шаг 3. Исследовательский анализ данных"
   ]
  },
  {
   "cell_type": "markdown",
   "id": "ec964a49",
   "metadata": {},
   "source": [
    "### Опишем и визуализируем общую информацию о пользователях и поездках"
   ]
  },
  {
   "cell_type": "markdown",
   "id": "e839f985",
   "metadata": {},
   "source": [
    "#### 3.1 частота встречаемости городов"
   ]
  },
  {
   "cell_type": "code",
   "execution_count": 13,
   "id": "63aca391",
   "metadata": {},
   "outputs": [
    {
     "data": {
      "text/plain": [
       "city\n",
       "Пятигорск         219\n",
       "Екатеринбург      204\n",
       "Ростов-на-Дону    198\n",
       "Краснодар         193\n",
       "Сочи              189\n",
       "Омск              183\n",
       "Тюмень            180\n",
       "Москва            168\n",
       "Name: count, dtype: int64"
      ]
     },
     "execution_count": 13,
     "metadata": {},
     "output_type": "execute_result"
    }
   ],
   "source": [
    "users['city'].value_counts()"
   ]
  },
  {
   "cell_type": "code",
   "execution_count": 14,
   "id": "c426db5c",
   "metadata": {},
   "outputs": [
    {
     "data": {
      "image/png": "[encoded data removed]",
      "text/plain": [
       "<Figure size 1500x300 with 1 Axes>"
      ]
     },
     "metadata": {},
     "output_type": "display_data"
    }
   ],
   "source": [
    "users.city.hist(bins = 15, figsize = (15,3));\n",
    "plt.title(\"Частота встречаемости городов\", fontsize=14)\n",
    "plt.xlabel(\"Города\", fontsize=14)\n",
    "plt.ylabel(\"Количество пользователей\", fontsize=12);"
   ]
  },
  {
   "cell_type": "markdown",
   "id": "2b7a7a30",
   "metadata": {},
   "source": [
    "#### 3.2 соотношение пользователей с подпиской и без подписки"
   ]
  },
  {
   "cell_type": "code",
   "execution_count": 15,
   "id": "4b00c179",
   "metadata": {},
   "outputs": [
    {
     "data": {
      "text/plain": [
       "subscription_type\n",
       "free     835\n",
       "ultra    699\n",
       "Name: count, dtype: int64"
      ]
     },
     "execution_count": 15,
     "metadata": {},
     "output_type": "execute_result"
    }
   ],
   "source": [
    "users['subscription_type'].value_counts()"
   ]
  },
  {
   "cell_type": "code",
   "execution_count": 16,
   "id": "aa0de5f3",
   "metadata": {},
   "outputs": [
    {
     "data": {
      "image/png": "[encoded data removed]",
      "text/plain": [
       "<Figure size 600x600 with 1 Axes>"
      ]
     },
     "metadata": {},
     "output_type": "display_data"
    }
   ],
   "source": [
    "y = np.array(users['subscription_type'].value_counts())\n",
    "mylabels = [\"free\", \"ultra\"]\n",
    "plt.figure(figsize=(6, 6))\n",
    "plt.pie(y, labels = mylabels, autopct='%.2f')\n",
    "plt.title('Соотношение пользователей с подпиской и без подписки (%)')\n",
    "plt.show()"
   ]
  },
  {
   "cell_type": "markdown",
   "id": "522167fc",
   "metadata": {},
   "source": [
    "#### 3.3 возраст пользователей"
   ]
  },
  {
   "cell_type": "code",
   "execution_count": 17,
   "id": "dd11c0ac",
   "metadata": {},
   "outputs": [
    {
     "data": {
      "text/plain": [
       "age\n",
       "25    145\n",
       "24    132\n",
       "26    131\n",
       "23    129\n",
       "22    119\n",
       "27    119\n",
       "28    112\n",
       "21     93\n",
       "20     71\n",
       "30     68\n",
       "29     68\n",
       "31     48\n",
       "19     47\n",
       "18     46\n",
       "32     41\n",
       "33     39\n",
       "17     26\n",
       "16     19\n",
       "34     19\n",
       "35     15\n",
       "15     13\n",
       "14      9\n",
       "13      8\n",
       "36      6\n",
       "12      4\n",
       "38      3\n",
       "37      2\n",
       "39      1\n",
       "43      1\n",
       "Name: count, dtype: int64"
      ]
     },
     "execution_count": 17,
     "metadata": {},
     "output_type": "execute_result"
    }
   ],
   "source": [
    "users['age'].value_counts()"
   ]
  },
  {
   "cell_type": "code",
   "execution_count": 18,
   "id": "4ad88e5f",
   "metadata": {},
   "outputs": [
    {
     "data": {
      "text/plain": [
       "count    1534.000000\n",
       "mean       24.903520\n",
       "std         4.572367\n",
       "min        12.000000\n",
       "25%        22.000000\n",
       "50%        25.000000\n",
       "75%        28.000000\n",
       "max        43.000000\n",
       "Name: age, dtype: float64"
      ]
     },
     "execution_count": 18,
     "metadata": {},
     "output_type": "execute_result"
    }
   ],
   "source": [
    "users['age'].describe()"
   ]
  },
  {
   "cell_type": "code",
   "execution_count": 19,
   "id": "814748b4",
   "metadata": {},
   "outputs": [
    {
     "data": {
      "image/png": "[encoded data removed]",
      "text/plain": [
       "<Figure size 1500x300 with 1 Axes>"
      ]
     },
     "metadata": {},
     "output_type": "display_data"
    }
   ],
   "source": [
    "users.age.hist(bins = 30, figsize = (15,3));\n",
    "plt.title(\"Возраст пользователей\", fontsize=14)\n",
    "plt.xlabel(\"Возраст\", fontsize=14)\n",
    "plt.ylabel(\"Количество пользователей\", fontsize=12);"
   ]
  },
  {
   "cell_type": "markdown",
   "id": "3a4431c5",
   "metadata": {},
   "source": [
    "#### 3.4 расстояние, которое пользователь преодолел за одну поездку"
   ]
  },
  {
   "cell_type": "code",
   "execution_count": 20,
   "id": "cd23bcd3",
   "metadata": {},
   "outputs": [
    {
     "data": {
      "text/plain": [
       "count    18068.000000\n",
       "mean      3070.659976\n",
       "std       1116.831209\n",
       "min          0.855683\n",
       "25%       2543.226360\n",
       "50%       3133.609994\n",
       "75%       3776.222735\n",
       "max       7211.007745\n",
       "Name: distance, dtype: float64"
      ]
     },
     "execution_count": 20,
     "metadata": {},
     "output_type": "execute_result"
    }
   ],
   "source": [
    "rides['distance'].describe()"
   ]
  },
  {
   "cell_type": "code",
   "execution_count": 21,
   "id": "0984dc74",
   "metadata": {},
   "outputs": [
    {
     "data": {
      "image/png": "[encoded data removed]",
      "text/plain": [
       "<Figure size 1500x300 with 1 Axes>"
      ]
     },
     "metadata": {},
     "output_type": "display_data"
    }
   ],
   "source": [
    "rides.distance.hist(bins = 100, figsize = (15,3));\n",
    "plt.title(\"Расстояние, которое пользователь преодолел за одну поездку\", fontsize=14)\n",
    "plt.xlabel(\"Расстояние\", fontsize=14)\n",
    "plt.ylabel(\"Количество пользователей\", fontsize=12);"
   ]
  },
  {
   "cell_type": "markdown",
   "id": "5c62316d",
   "metadata": {},
   "source": [
    "#### 3.5 продолжительность поездок"
   ]
  },
  {
   "cell_type": "code",
   "execution_count": 22,
   "id": "069def4f",
   "metadata": {},
   "outputs": [
    {
     "data": {
      "text/plain": [
       "count    18068.000000\n",
       "mean        17.805011\n",
       "std          6.091051\n",
       "min          0.500000\n",
       "25%         13.597563\n",
       "50%         17.678395\n",
       "75%         21.724800\n",
       "max         40.823963\n",
       "Name: duration, dtype: float64"
      ]
     },
     "execution_count": 22,
     "metadata": {},
     "output_type": "execute_result"
    }
   ],
   "source": [
    "rides['duration'].describe()"
   ]
  },
  {
   "cell_type": "code",
   "execution_count": 23,
   "id": "3d40dd33",
   "metadata": {},
   "outputs": [],
   "source": [
    "rides = rides.loc[(rides['duration'].isna()) | ((rides['duration'] >= 1))]"
   ]
  },
  {
   "cell_type": "code",
   "execution_count": 24,
   "id": "c16a8c7b",
   "metadata": {
    "tags": []
   },
   "outputs": [
    {
     "data": {
      "image/png": "[encoded data removed]",
      "text/plain": [
       "<Figure size 1500x300 with 1 Axes>"
      ]
     },
     "metadata": {},
     "output_type": "display_data"
    }
   ],
   "source": [
    "rides.duration.hist(bins = 100, figsize = (15,3));\n",
    "plt.title(\"Продолжительность поездок\", fontsize=14)\n",
    "plt.xlabel(\"Продолжительность\", fontsize=14)\n",
    "plt.ylabel(\"Количество пользователей\", fontsize=12);"
   ]
  },
  {
   "cell_type": "markdown",
   "id": "5b950fac",
   "metadata": {},
   "source": [
    "- Удалим поездки короче 1 минуты, т.к. этих значений много и они будут влиять на общее время поездки. Они возможно появились из-за пробных поездок."
   ]
  },
  {
   "cell_type": "markdown",
   "id": "e384c0ff",
   "metadata": {},
   "source": [
    "### Вывод\n",
    "- Из городов чаще всего встречается Пятигорск, а реже всего Москва.\n",
    "- Соотношение пользователей с подпиской и без подписки отличается примерно на 16%.\n",
    "- Средний возраст пользователей 25 лет в диапазоне от 12 лет до 43 лет.\n",
    "- Среднее расстояние, которое пользователи преодолевают за одну поездку примерно 3100 м в диапазоне от 1 м до 7211 м.\n",
    "- Средняя продолжительность поездок в районе 18 минут в диапазоне от 0.5 минут до 40 минут."
   ]
  },
  {
   "cell_type": "markdown",
   "id": "347d0309",
   "metadata": {},
   "source": [
    "## Шаг 4. Объединение данных"
   ]
  },
  {
   "cell_type": "markdown",
   "id": "0e2dc35c",
   "metadata": {},
   "source": [
    "#### 4.1 Объединим данные о пользователях, поездках и подписках в один датафрейм. "
   ]
  },
  {
   "cell_type": "code",
   "execution_count": 25,
   "id": "bd139815",
   "metadata": {
    "tags": []
   },
   "outputs": [
    {
     "data": {
      "text/html": [
       "<div>\n",
       "<style scoped>\n",
       "    .dataframe tbody tr th:only-of-type {\n",
       "        vertical-align: middle;\n",
       "    }\n",
       "\n",
       "    .dataframe tbody tr th {\n",
       "        vertical-align: top;\n",
       "    }\n",
       "\n",
       "    .dataframe thead th {\n",
       "        text-align: right;\n",
       "    }\n",
       "</style>\n",
       "<table border=\"1\" class=\"dataframe\">\n",
       "  <thead>\n",
       "    <tr style=\"text-align: right;\">\n",
       "      <th></th>\n",
       "      <th>user_id</th>\n",
       "      <th>name</th>\n",
       "      <th>age</th>\n",
       "      <th>city</th>\n",
       "      <th>subscription_type</th>\n",
       "      <th>distance</th>\n",
       "      <th>duration</th>\n",
       "      <th>date</th>\n",
       "      <th>month</th>\n",
       "      <th>minute_price</th>\n",
       "      <th>start_ride_price</th>\n",
       "      <th>subscription_fee</th>\n",
       "    </tr>\n",
       "  </thead>\n",
       "  <tbody>\n",
       "    <tr>\n",
       "      <th>0</th>\n",
       "      <td>1</td>\n",
       "      <td>Кира</td>\n",
       "      <td>22</td>\n",
       "      <td>Тюмень</td>\n",
       "      <td>ultra</td>\n",
       "      <td>4409.919140</td>\n",
       "      <td>25.599769</td>\n",
       "      <td>2021-01-01</td>\n",
       "      <td>1</td>\n",
       "      <td>6</td>\n",
       "      <td>0</td>\n",
       "      <td>199</td>\n",
       "    </tr>\n",
       "    <tr>\n",
       "      <th>1</th>\n",
       "      <td>1</td>\n",
       "      <td>Кира</td>\n",
       "      <td>22</td>\n",
       "      <td>Тюмень</td>\n",
       "      <td>ultra</td>\n",
       "      <td>2617.592153</td>\n",
       "      <td>15.816871</td>\n",
       "      <td>2021-01-18</td>\n",
       "      <td>1</td>\n",
       "      <td>6</td>\n",
       "      <td>0</td>\n",
       "      <td>199</td>\n",
       "    </tr>\n",
       "    <tr>\n",
       "      <th>2</th>\n",
       "      <td>1</td>\n",
       "      <td>Кира</td>\n",
       "      <td>22</td>\n",
       "      <td>Тюмень</td>\n",
       "      <td>ultra</td>\n",
       "      <td>754.159807</td>\n",
       "      <td>6.232113</td>\n",
       "      <td>2021-04-20</td>\n",
       "      <td>4</td>\n",
       "      <td>6</td>\n",
       "      <td>0</td>\n",
       "      <td>199</td>\n",
       "    </tr>\n",
       "    <tr>\n",
       "      <th>3</th>\n",
       "      <td>1</td>\n",
       "      <td>Кира</td>\n",
       "      <td>22</td>\n",
       "      <td>Тюмень</td>\n",
       "      <td>ultra</td>\n",
       "      <td>2694.783254</td>\n",
       "      <td>18.511000</td>\n",
       "      <td>2021-08-11</td>\n",
       "      <td>8</td>\n",
       "      <td>6</td>\n",
       "      <td>0</td>\n",
       "      <td>199</td>\n",
       "    </tr>\n",
       "    <tr>\n",
       "      <th>4</th>\n",
       "      <td>1</td>\n",
       "      <td>Кира</td>\n",
       "      <td>22</td>\n",
       "      <td>Тюмень</td>\n",
       "      <td>ultra</td>\n",
       "      <td>4028.687306</td>\n",
       "      <td>26.265803</td>\n",
       "      <td>2021-08-28</td>\n",
       "      <td>8</td>\n",
       "      <td>6</td>\n",
       "      <td>0</td>\n",
       "      <td>199</td>\n",
       "    </tr>\n",
       "  </tbody>\n",
       "</table>\n",
       "</div>"
      ],
      "text/plain": [
       "   user_id  name  age    city subscription_type     distance   duration  \\\n",
       "0        1  Кира   22  Тюмень             ultra  4409.919140  25.599769   \n",
       "1        1  Кира   22  Тюмень             ultra  2617.592153  15.816871   \n",
       "2        1  Кира   22  Тюмень             ultra   754.159807   6.232113   \n",
       "3        1  Кира   22  Тюмень             ultra  2694.783254  18.511000   \n",
       "4        1  Кира   22  Тюмень             ultra  4028.687306  26.265803   \n",
       "\n",
       "        date  month  minute_price  start_ride_price  subscription_fee  \n",
       "0 2021-01-01      1             6                 0               199  \n",
       "1 2021-01-18      1             6                 0               199  \n",
       "2 2021-04-20      4             6                 0               199  \n",
       "3 2021-08-11      8             6                 0               199  \n",
       "4 2021-08-28      8             6                 0               199  "
      ]
     },
     "execution_count": 25,
     "metadata": {},
     "output_type": "execute_result"
    }
   ],
   "source": [
    "data = users\\\n",
    "    .merge(rides, on='user_id', how='left')\\\n",
    "    .merge(subscriptions, on='subscription_type', how='left')\\\n",
    "\n",
    "data.head()    "
   ]
  },
  {
   "cell_type": "code",
   "execution_count": 26,
   "id": "6b25ac5e",
   "metadata": {},
   "outputs": [
    {
     "name": "stdout",
     "output_type": "stream",
     "text": [
      "<class 'pandas.core.frame.DataFrame'>\n",
      "RangeIndex: 17973 entries, 0 to 17972\n",
      "Data columns (total 12 columns):\n",
      " #   Column             Non-Null Count  Dtype         \n",
      "---  ------             --------------  -----         \n",
      " 0   user_id            17973 non-null  int64         \n",
      " 1   name               17973 non-null  object        \n",
      " 2   age                17973 non-null  int64         \n",
      " 3   city               17973 non-null  object        \n",
      " 4   subscription_type  17973 non-null  object        \n",
      " 5   distance           17973 non-null  float64       \n",
      " 6   duration           17973 non-null  float64       \n",
      " 7   date               17973 non-null  datetime64[ns]\n",
      " 8   month              17973 non-null  int32         \n",
      " 9   minute_price       17973 non-null  int64         \n",
      " 10  start_ride_price   17973 non-null  int64         \n",
      " 11  subscription_fee   17973 non-null  int64         \n",
      "dtypes: datetime64[ns](1), float64(2), int32(1), int64(5), object(3)\n",
      "memory usage: 1.6+ MB\n"
     ]
    }
   ],
   "source": [
    "data.info()"
   ]
  },
  {
   "cell_type": "markdown",
   "id": "3e9116ca",
   "metadata": {},
   "source": [
    "- Объеденив датафреймы, видим что количество всех строк одинаково и нет пропусков."
   ]
  },
  {
   "cell_type": "markdown",
   "id": "e5711943",
   "metadata": {},
   "source": [
    "#### 4.2 Создадим ещё два датафрейма из датафрейма, созданного на этапе 4.1:"
   ]
  },
  {
   "cell_type": "markdown",
   "id": "cd7560d7",
   "metadata": {},
   "source": [
    "- c данными о пользователях без подписки"
   ]
  },
  {
   "cell_type": "code",
   "execution_count": 27,
   "id": "35cc1a21",
   "metadata": {},
   "outputs": [
    {
     "data": {
      "text/html": [
       "<div>\n",
       "<style scoped>\n",
       "    .dataframe tbody tr th:only-of-type {\n",
       "        vertical-align: middle;\n",
       "    }\n",
       "\n",
       "    .dataframe tbody tr th {\n",
       "        vertical-align: top;\n",
       "    }\n",
       "\n",
       "    .dataframe thead th {\n",
       "        text-align: right;\n",
       "    }\n",
       "</style>\n",
       "<table border=\"1\" class=\"dataframe\">\n",
       "  <thead>\n",
       "    <tr style=\"text-align: right;\">\n",
       "      <th></th>\n",
       "      <th>index</th>\n",
       "      <th>user_id</th>\n",
       "      <th>name</th>\n",
       "      <th>age</th>\n",
       "      <th>city</th>\n",
       "      <th>subscription_type</th>\n",
       "      <th>distance</th>\n",
       "      <th>duration</th>\n",
       "      <th>date</th>\n",
       "      <th>month</th>\n",
       "      <th>minute_price</th>\n",
       "      <th>start_ride_price</th>\n",
       "      <th>subscription_fee</th>\n",
       "    </tr>\n",
       "  </thead>\n",
       "  <tbody>\n",
       "    <tr>\n",
       "      <th>0</th>\n",
       "      <td>0</td>\n",
       "      <td>1</td>\n",
       "      <td>Кира</td>\n",
       "      <td>22</td>\n",
       "      <td>Тюмень</td>\n",
       "      <td>ultra</td>\n",
       "      <td>4409.919140</td>\n",
       "      <td>25.599769</td>\n",
       "      <td>2021-01-01</td>\n",
       "      <td>1</td>\n",
       "      <td>6</td>\n",
       "      <td>0</td>\n",
       "      <td>199</td>\n",
       "    </tr>\n",
       "    <tr>\n",
       "      <th>1</th>\n",
       "      <td>1</td>\n",
       "      <td>1</td>\n",
       "      <td>Кира</td>\n",
       "      <td>22</td>\n",
       "      <td>Тюмень</td>\n",
       "      <td>ultra</td>\n",
       "      <td>2617.592153</td>\n",
       "      <td>15.816871</td>\n",
       "      <td>2021-01-18</td>\n",
       "      <td>1</td>\n",
       "      <td>6</td>\n",
       "      <td>0</td>\n",
       "      <td>199</td>\n",
       "    </tr>\n",
       "    <tr>\n",
       "      <th>2</th>\n",
       "      <td>2</td>\n",
       "      <td>1</td>\n",
       "      <td>Кира</td>\n",
       "      <td>22</td>\n",
       "      <td>Тюмень</td>\n",
       "      <td>ultra</td>\n",
       "      <td>754.159807</td>\n",
       "      <td>6.232113</td>\n",
       "      <td>2021-04-20</td>\n",
       "      <td>4</td>\n",
       "      <td>6</td>\n",
       "      <td>0</td>\n",
       "      <td>199</td>\n",
       "    </tr>\n",
       "    <tr>\n",
       "      <th>3</th>\n",
       "      <td>3</td>\n",
       "      <td>1</td>\n",
       "      <td>Кира</td>\n",
       "      <td>22</td>\n",
       "      <td>Тюмень</td>\n",
       "      <td>ultra</td>\n",
       "      <td>2694.783254</td>\n",
       "      <td>18.511000</td>\n",
       "      <td>2021-08-11</td>\n",
       "      <td>8</td>\n",
       "      <td>6</td>\n",
       "      <td>0</td>\n",
       "      <td>199</td>\n",
       "    </tr>\n",
       "    <tr>\n",
       "      <th>4</th>\n",
       "      <td>4</td>\n",
       "      <td>1</td>\n",
       "      <td>Кира</td>\n",
       "      <td>22</td>\n",
       "      <td>Тюмень</td>\n",
       "      <td>ultra</td>\n",
       "      <td>4028.687306</td>\n",
       "      <td>26.265803</td>\n",
       "      <td>2021-08-28</td>\n",
       "      <td>8</td>\n",
       "      <td>6</td>\n",
       "      <td>0</td>\n",
       "      <td>199</td>\n",
       "    </tr>\n",
       "  </tbody>\n",
       "</table>\n",
       "</div>"
      ],
      "text/plain": [
       "   index  user_id  name  age    city subscription_type     distance  \\\n",
       "0      0        1  Кира   22  Тюмень             ultra  4409.919140   \n",
       "1      1        1  Кира   22  Тюмень             ultra  2617.592153   \n",
       "2      2        1  Кира   22  Тюмень             ultra   754.159807   \n",
       "3      3        1  Кира   22  Тюмень             ultra  2694.783254   \n",
       "4      4        1  Кира   22  Тюмень             ultra  4028.687306   \n",
       "\n",
       "    duration       date  month  minute_price  start_ride_price  \\\n",
       "0  25.599769 2021-01-01      1             6                 0   \n",
       "1  15.816871 2021-01-18      1             6                 0   \n",
       "2   6.232113 2021-04-20      4             6                 0   \n",
       "3  18.511000 2021-08-11      8             6                 0   \n",
       "4  26.265803 2021-08-28      8             6                 0   \n",
       "\n",
       "   subscription_fee  \n",
       "0               199  \n",
       "1               199  \n",
       "2               199  \n",
       "3               199  \n",
       "4               199  "
      ]
     },
     "execution_count": 27,
     "metadata": {},
     "output_type": "execute_result"
    }
   ],
   "source": [
    "data_ultra = data[data['subscription_type'] == 'ultra'].reset_index()\n",
    "data_ultra.head()"
   ]
  },
  {
   "cell_type": "markdown",
   "id": "1e9f02bc",
   "metadata": {
    "tags": []
   },
   "source": [
    "- с данными о пользователях с подпиской."
   ]
  },
  {
   "cell_type": "code",
   "execution_count": 28,
   "id": "b8cedf4a",
   "metadata": {},
   "outputs": [
    {
     "data": {
      "text/html": [
       "<div>\n",
       "<style scoped>\n",
       "    .dataframe tbody tr th:only-of-type {\n",
       "        vertical-align: middle;\n",
       "    }\n",
       "\n",
       "    .dataframe tbody tr th {\n",
       "        vertical-align: top;\n",
       "    }\n",
       "\n",
       "    .dataframe thead th {\n",
       "        text-align: right;\n",
       "    }\n",
       "</style>\n",
       "<table border=\"1\" class=\"dataframe\">\n",
       "  <thead>\n",
       "    <tr style=\"text-align: right;\">\n",
       "      <th></th>\n",
       "      <th>index</th>\n",
       "      <th>user_id</th>\n",
       "      <th>name</th>\n",
       "      <th>age</th>\n",
       "      <th>city</th>\n",
       "      <th>subscription_type</th>\n",
       "      <th>distance</th>\n",
       "      <th>duration</th>\n",
       "      <th>date</th>\n",
       "      <th>month</th>\n",
       "      <th>minute_price</th>\n",
       "      <th>start_ride_price</th>\n",
       "      <th>subscription_fee</th>\n",
       "    </tr>\n",
       "  </thead>\n",
       "  <tbody>\n",
       "    <tr>\n",
       "      <th>0</th>\n",
       "      <td>6500</td>\n",
       "      <td>700</td>\n",
       "      <td>Айдар</td>\n",
       "      <td>22</td>\n",
       "      <td>Омск</td>\n",
       "      <td>free</td>\n",
       "      <td>2515.690719</td>\n",
       "      <td>14.944286</td>\n",
       "      <td>2021-01-02</td>\n",
       "      <td>1</td>\n",
       "      <td>8</td>\n",
       "      <td>50</td>\n",
       "      <td>0</td>\n",
       "    </tr>\n",
       "    <tr>\n",
       "      <th>1</th>\n",
       "      <td>6501</td>\n",
       "      <td>700</td>\n",
       "      <td>Айдар</td>\n",
       "      <td>22</td>\n",
       "      <td>Омск</td>\n",
       "      <td>free</td>\n",
       "      <td>846.932642</td>\n",
       "      <td>16.234663</td>\n",
       "      <td>2021-02-01</td>\n",
       "      <td>2</td>\n",
       "      <td>8</td>\n",
       "      <td>50</td>\n",
       "      <td>0</td>\n",
       "    </tr>\n",
       "    <tr>\n",
       "      <th>2</th>\n",
       "      <td>6502</td>\n",
       "      <td>700</td>\n",
       "      <td>Айдар</td>\n",
       "      <td>22</td>\n",
       "      <td>Омск</td>\n",
       "      <td>free</td>\n",
       "      <td>4004.434142</td>\n",
       "      <td>20.016628</td>\n",
       "      <td>2021-02-04</td>\n",
       "      <td>2</td>\n",
       "      <td>8</td>\n",
       "      <td>50</td>\n",
       "      <td>0</td>\n",
       "    </tr>\n",
       "    <tr>\n",
       "      <th>3</th>\n",
       "      <td>6503</td>\n",
       "      <td>700</td>\n",
       "      <td>Айдар</td>\n",
       "      <td>22</td>\n",
       "      <td>Омск</td>\n",
       "      <td>free</td>\n",
       "      <td>1205.911290</td>\n",
       "      <td>9.782872</td>\n",
       "      <td>2021-02-10</td>\n",
       "      <td>2</td>\n",
       "      <td>8</td>\n",
       "      <td>50</td>\n",
       "      <td>0</td>\n",
       "    </tr>\n",
       "    <tr>\n",
       "      <th>4</th>\n",
       "      <td>6504</td>\n",
       "      <td>700</td>\n",
       "      <td>Айдар</td>\n",
       "      <td>22</td>\n",
       "      <td>Омск</td>\n",
       "      <td>free</td>\n",
       "      <td>3047.379435</td>\n",
       "      <td>17.427673</td>\n",
       "      <td>2021-02-14</td>\n",
       "      <td>2</td>\n",
       "      <td>8</td>\n",
       "      <td>50</td>\n",
       "      <td>0</td>\n",
       "    </tr>\n",
       "  </tbody>\n",
       "</table>\n",
       "</div>"
      ],
      "text/plain": [
       "   index  user_id   name  age  city subscription_type     distance   duration  \\\n",
       "0   6500      700  Айдар   22  Омск              free  2515.690719  14.944286   \n",
       "1   6501      700  Айдар   22  Омск              free   846.932642  16.234663   \n",
       "2   6502      700  Айдар   22  Омск              free  4004.434142  20.016628   \n",
       "3   6503      700  Айдар   22  Омск              free  1205.911290   9.782872   \n",
       "4   6504      700  Айдар   22  Омск              free  3047.379435  17.427673   \n",
       "\n",
       "        date  month  minute_price  start_ride_price  subscription_fee  \n",
       "0 2021-01-02      1             8                50                 0  \n",
       "1 2021-02-01      2             8                50                 0  \n",
       "2 2021-02-04      2             8                50                 0  \n",
       "3 2021-02-10      2             8                50                 0  \n",
       "4 2021-02-14      2             8                50                 0  "
      ]
     },
     "execution_count": 28,
     "metadata": {},
     "output_type": "execute_result"
    }
   ],
   "source": [
    "data_free = data[data['subscription_type'] == 'free'].reset_index()\n",
    "data_free.head()"
   ]
  },
  {
   "cell_type": "markdown",
   "id": "c3d0ffb8",
   "metadata": {},
   "source": [
    "#### 4.3 Визуализируем информацию о расстоянии и времени поездок для пользователей обеих категорий."
   ]
  },
  {
   "cell_type": "markdown",
   "id": "2b502c13",
   "metadata": {},
   "source": [
    "- Информация о времени поездки"
   ]
  },
  {
   "cell_type": "code",
   "execution_count": 29,
   "id": "7bc2e9d6",
   "metadata": {},
   "outputs": [
    {
     "name": "stdout",
     "output_type": "stream",
     "text": [
      "count    11473.000000\n",
      "mean        17.530771\n",
      "std          6.162609\n",
      "min          2.035632\n",
      "25%         13.085688\n",
      "50%         17.383807\n",
      "75%         21.638038\n",
      "max         34.948498\n",
      "Name: duration, dtype: float64\n",
      "count    6500.000000\n",
      "mean       18.541985\n",
      "std         5.572048\n",
      "min         3.760353\n",
      "25%        14.524654\n",
      "50%        18.178153\n",
      "75%        21.884129\n",
      "max        40.823963\n",
      "Name: duration, dtype: float64\n"
     ]
    },
    {
     "data": {
      "image/png": "[encoded data removed]",
      "text/plain": [
       "<Figure size 1500x300 with 1 Axes>"
      ]
     },
     "metadata": {},
     "output_type": "display_data"
    }
   ],
   "source": [
    "data_free.duration.hist(bins = 100, figsize = (15,3));\n",
    "data_ultra.duration.hist(bins = 100, figsize = (15,3));\n",
    "plt.title(\"Продолжительность поездок\", fontsize=14)\n",
    "plt.xlabel(\"Продолжительность\", fontsize=14)\n",
    "plt.ylabel(\"Количество пользователей\", fontsize=12);\n",
    "print(data_free['duration'].describe())\n",
    "print(data_ultra['duration'].describe())"
   ]
  },
  {
   "cell_type": "markdown",
   "id": "566a559c",
   "metadata": {},
   "source": [
    "- Информация о расстоянии"
   ]
  },
  {
   "cell_type": "code",
   "execution_count": 30,
   "id": "aad4e496",
   "metadata": {},
   "outputs": [
    {
     "name": "stdout",
     "output_type": "stream",
     "text": [
      "count    11473.000000\n",
      "mean      3028.374239\n",
      "std       1235.541051\n",
      "min          0.855683\n",
      "25%       2360.878149\n",
      "50%       3102.083025\n",
      "75%       3883.979311\n",
      "max       7066.003772\n",
      "Name: distance, dtype: float64\n",
      "count    6500.000000\n",
      "mean     3115.445388\n",
      "std       836.895330\n",
      "min       244.210438\n",
      "25%      2785.444017\n",
      "50%      3148.637229\n",
      "75%      3560.574425\n",
      "max      5699.769662\n",
      "Name: distance, dtype: float64\n"
     ]
    },
    {
     "data": {
      "image/png": "[encoded data removed]",
      "text/plain": [
       "<Figure size 1500x300 with 1 Axes>"
      ]
     },
     "metadata": {},
     "output_type": "display_data"
    }
   ],
   "source": [
    "data_free.distance.hist(bins = 100, figsize = (15,3));\n",
    "data_ultra.distance.hist(bins = 100, figsize = (15,3));\n",
    "plt.xlabel(\"Расстояние\", fontsize=14)\n",
    "plt.ylabel(\"Количество пользователей\", fontsize=12);\n",
    "print(data_free['distance'].describe())\n",
    "print(data_ultra['distance'].describe())\n"
   ]
  },
  {
   "cell_type": "markdown",
   "id": "123569a3",
   "metadata": {},
   "source": [
    "### Вывод\n",
    "- Объединили данные о пользователях, поездках и подписках в один датафрейм\n",
    "- Создали ещё два датафрейма с данными о пользователях без подписки и с данными о пользователях с подпиской.\n",
    "- Создали графики о расстоянии и времени поездок для пользователей обеих категорий.\n",
    "- Пользователи обеих категорий распределены по временипоезки одинаково.\n",
    "- Пользователи категории ultra более выраженно проезжают расстояние в районе 3000 метров, а у пользователей категории free расстояниие варьируется от 2000 до 4500 метров."
   ]
  },
  {
   "cell_type": "markdown",
   "id": "076a7297",
   "metadata": {},
   "source": [
    "## Шаг 5. Подсчёт выручки"
   ]
  },
  {
   "cell_type": "markdown",
   "id": "9403038a",
   "metadata": {},
   "source": [
    "#### 5.1 Создадим датафрейм с агрегированными данными о поездках на основе датафрейма с объединёнными данными из шага 4: найдем суммарное расстояние, количество поездок и суммарное время для каждого пользователя за каждый месяц."
   ]
  },
  {
   "cell_type": "code",
   "execution_count": 31,
   "id": "b6bd42f1",
   "metadata": {},
   "outputs": [
    {
     "data": {
      "text/html": [
       "<div>\n",
       "<style scoped>\n",
       "    .dataframe tbody tr th:only-of-type {\n",
       "        vertical-align: middle;\n",
       "    }\n",
       "\n",
       "    .dataframe tbody tr th {\n",
       "        vertical-align: top;\n",
       "    }\n",
       "\n",
       "    .dataframe thead th {\n",
       "        text-align: right;\n",
       "    }\n",
       "</style>\n",
       "<table border=\"1\" class=\"dataframe\">\n",
       "  <thead>\n",
       "    <tr style=\"text-align: right;\">\n",
       "      <th></th>\n",
       "      <th>user_id</th>\n",
       "      <th>name</th>\n",
       "      <th>age</th>\n",
       "      <th>city</th>\n",
       "      <th>subscription_type</th>\n",
       "      <th>distance</th>\n",
       "      <th>duration</th>\n",
       "      <th>date</th>\n",
       "      <th>month</th>\n",
       "      <th>minute_price</th>\n",
       "      <th>start_ride_price</th>\n",
       "      <th>subscription_fee</th>\n",
       "    </tr>\n",
       "  </thead>\n",
       "  <tbody>\n",
       "    <tr>\n",
       "      <th>0</th>\n",
       "      <td>1</td>\n",
       "      <td>Кира</td>\n",
       "      <td>22</td>\n",
       "      <td>Тюмень</td>\n",
       "      <td>ultra</td>\n",
       "      <td>4409.919140</td>\n",
       "      <td>26.0</td>\n",
       "      <td>2021-01-01</td>\n",
       "      <td>1</td>\n",
       "      <td>6</td>\n",
       "      <td>0</td>\n",
       "      <td>199</td>\n",
       "    </tr>\n",
       "    <tr>\n",
       "      <th>1</th>\n",
       "      <td>1</td>\n",
       "      <td>Кира</td>\n",
       "      <td>22</td>\n",
       "      <td>Тюмень</td>\n",
       "      <td>ultra</td>\n",
       "      <td>2617.592153</td>\n",
       "      <td>16.0</td>\n",
       "      <td>2021-01-18</td>\n",
       "      <td>1</td>\n",
       "      <td>6</td>\n",
       "      <td>0</td>\n",
       "      <td>199</td>\n",
       "    </tr>\n",
       "    <tr>\n",
       "      <th>2</th>\n",
       "      <td>1</td>\n",
       "      <td>Кира</td>\n",
       "      <td>22</td>\n",
       "      <td>Тюмень</td>\n",
       "      <td>ultra</td>\n",
       "      <td>754.159807</td>\n",
       "      <td>7.0</td>\n",
       "      <td>2021-04-20</td>\n",
       "      <td>4</td>\n",
       "      <td>6</td>\n",
       "      <td>0</td>\n",
       "      <td>199</td>\n",
       "    </tr>\n",
       "    <tr>\n",
       "      <th>3</th>\n",
       "      <td>1</td>\n",
       "      <td>Кира</td>\n",
       "      <td>22</td>\n",
       "      <td>Тюмень</td>\n",
       "      <td>ultra</td>\n",
       "      <td>2694.783254</td>\n",
       "      <td>19.0</td>\n",
       "      <td>2021-08-11</td>\n",
       "      <td>8</td>\n",
       "      <td>6</td>\n",
       "      <td>0</td>\n",
       "      <td>199</td>\n",
       "    </tr>\n",
       "    <tr>\n",
       "      <th>4</th>\n",
       "      <td>1</td>\n",
       "      <td>Кира</td>\n",
       "      <td>22</td>\n",
       "      <td>Тюмень</td>\n",
       "      <td>ultra</td>\n",
       "      <td>4028.687306</td>\n",
       "      <td>27.0</td>\n",
       "      <td>2021-08-28</td>\n",
       "      <td>8</td>\n",
       "      <td>6</td>\n",
       "      <td>0</td>\n",
       "      <td>199</td>\n",
       "    </tr>\n",
       "  </tbody>\n",
       "</table>\n",
       "</div>"
      ],
      "text/plain": [
       "   user_id  name  age    city subscription_type     distance  duration  \\\n",
       "0        1  Кира   22  Тюмень             ultra  4409.919140      26.0   \n",
       "1        1  Кира   22  Тюмень             ultra  2617.592153      16.0   \n",
       "2        1  Кира   22  Тюмень             ultra   754.159807       7.0   \n",
       "3        1  Кира   22  Тюмень             ultra  2694.783254      19.0   \n",
       "4        1  Кира   22  Тюмень             ultra  4028.687306      27.0   \n",
       "\n",
       "        date  month  minute_price  start_ride_price  subscription_fee  \n",
       "0 2021-01-01      1             6                 0               199  \n",
       "1 2021-01-18      1             6                 0               199  \n",
       "2 2021-04-20      4             6                 0               199  \n",
       "3 2021-08-11      8             6                 0               199  \n",
       "4 2021-08-28      8             6                 0               199  "
      ]
     },
     "execution_count": 31,
     "metadata": {},
     "output_type": "execute_result"
    }
   ],
   "source": [
    "data['duration'] = np.ceil(data['duration']) \n",
    "data.head()"
   ]
  },
  {
   "cell_type": "code",
   "execution_count": 32,
   "id": "6b531e78",
   "metadata": {
    "tags": []
   },
   "outputs": [
    {
     "data": {
      "text/html": [
       "<div>\n",
       "<style scoped>\n",
       "    .dataframe tbody tr th:only-of-type {\n",
       "        vertical-align: middle;\n",
       "    }\n",
       "\n",
       "    .dataframe tbody tr th {\n",
       "        vertical-align: top;\n",
       "    }\n",
       "\n",
       "    .dataframe thead th {\n",
       "        text-align: right;\n",
       "    }\n",
       "</style>\n",
       "<table border=\"1\" class=\"dataframe\">\n",
       "  <thead>\n",
       "    <tr style=\"text-align: right;\">\n",
       "      <th></th>\n",
       "      <th></th>\n",
       "      <th>metres</th>\n",
       "      <th>trips</th>\n",
       "      <th>minutes</th>\n",
       "      <th>subscription</th>\n",
       "    </tr>\n",
       "    <tr>\n",
       "      <th>user_id</th>\n",
       "      <th>month</th>\n",
       "      <th></th>\n",
       "      <th></th>\n",
       "      <th></th>\n",
       "      <th></th>\n",
       "    </tr>\n",
       "  </thead>\n",
       "  <tbody>\n",
       "    <tr>\n",
       "      <th rowspan=\"5\" valign=\"top\">1</th>\n",
       "      <th>1</th>\n",
       "      <td>7027.511294</td>\n",
       "      <td>2</td>\n",
       "      <td>42.0</td>\n",
       "      <td>ultra</td>\n",
       "    </tr>\n",
       "    <tr>\n",
       "      <th>4</th>\n",
       "      <td>754.159807</td>\n",
       "      <td>1</td>\n",
       "      <td>7.0</td>\n",
       "      <td>ultra</td>\n",
       "    </tr>\n",
       "    <tr>\n",
       "      <th>8</th>\n",
       "      <td>6723.470560</td>\n",
       "      <td>2</td>\n",
       "      <td>46.0</td>\n",
       "      <td>ultra</td>\n",
       "    </tr>\n",
       "    <tr>\n",
       "      <th>10</th>\n",
       "      <td>5809.911100</td>\n",
       "      <td>2</td>\n",
       "      <td>32.0</td>\n",
       "      <td>ultra</td>\n",
       "    </tr>\n",
       "    <tr>\n",
       "      <th>11</th>\n",
       "      <td>7003.499363</td>\n",
       "      <td>3</td>\n",
       "      <td>56.0</td>\n",
       "      <td>ultra</td>\n",
       "    </tr>\n",
       "  </tbody>\n",
       "</table>\n",
       "</div>"
      ],
      "text/plain": [
       "                    metres  trips  minutes subscription\n",
       "user_id month                                          \n",
       "1       1      7027.511294      2     42.0        ultra\n",
       "        4       754.159807      1      7.0        ultra\n",
       "        8      6723.470560      2     46.0        ultra\n",
       "        10     5809.911100      2     32.0        ultra\n",
       "        11     7003.499363      3     56.0        ultra"
      ]
     },
     "execution_count": 32,
     "metadata": {},
     "output_type": "execute_result"
    }
   ],
   "source": [
    "data_group = data.groupby(['user_id','month'])\\\n",
    "                 .agg(metres=('distance', 'sum'), \n",
    "                     trips=('month', 'count'), \n",
    "                     minutes=('duration', 'sum'), \n",
    "                     subscription=('subscription_type','min'))\n",
    "\n",
    "data_group.head()"
   ]
  },
  {
   "cell_type": "markdown",
   "id": "b0293284",
   "metadata": {},
   "source": [
    "#### 5.2 В этот же датафрейм добавим столбец с помесячной выручкой, которую принёс каждый пользователь. Для этого обратитимся к информации об условиях оплаты для подписчиков и тех, у кого нет подписки. Продолжительность каждой поездки в каждой строке исходного датафрейма для подсчёта стоимости округляется до следующего целого числа: например, значения 25.3, 25.5 и 26.0 преобразуем к 26."
   ]
  },
  {
   "cell_type": "code",
   "execution_count": 33,
   "id": "4cfd23de",
   "metadata": {
    "tags": []
   },
   "outputs": [],
   "source": [
    "def revenue_month(row):\n",
    "    \n",
    "    if row['subscription'] == 'ultra':\n",
    "        return (row['minutes'] * 6 + 199)\n",
    "    elif row['subscription'] == 'free':\n",
    "        return (row['minutes'] * 8 + row['trips'] * 50)\n",
    "    "
   ]
  },
  {
   "cell_type": "code",
   "execution_count": 34,
   "id": "13a0c2de",
   "metadata": {},
   "outputs": [
    {
     "data": {
      "text/html": [
       "<div>\n",
       "<style scoped>\n",
       "    .dataframe tbody tr th:only-of-type {\n",
       "        vertical-align: middle;\n",
       "    }\n",
       "\n",
       "    .dataframe tbody tr th {\n",
       "        vertical-align: top;\n",
       "    }\n",
       "\n",
       "    .dataframe thead th {\n",
       "        text-align: right;\n",
       "    }\n",
       "</style>\n",
       "<table border=\"1\" class=\"dataframe\">\n",
       "  <thead>\n",
       "    <tr style=\"text-align: right;\">\n",
       "      <th></th>\n",
       "      <th></th>\n",
       "      <th>metres</th>\n",
       "      <th>trips</th>\n",
       "      <th>minutes</th>\n",
       "      <th>subscription</th>\n",
       "      <th>minute_price</th>\n",
       "      <th>start_ride_price</th>\n",
       "      <th>subscription_fee</th>\n",
       "    </tr>\n",
       "    <tr>\n",
       "      <th>user_id</th>\n",
       "      <th>month</th>\n",
       "      <th></th>\n",
       "      <th></th>\n",
       "      <th></th>\n",
       "      <th></th>\n",
       "      <th></th>\n",
       "      <th></th>\n",
       "      <th></th>\n",
       "    </tr>\n",
       "  </thead>\n",
       "  <tbody>\n",
       "    <tr>\n",
       "      <th rowspan=\"5\" valign=\"top\">1</th>\n",
       "      <th>1</th>\n",
       "      <td>7027.511294</td>\n",
       "      <td>2</td>\n",
       "      <td>42.0</td>\n",
       "      <td>ultra</td>\n",
       "      <td>6</td>\n",
       "      <td>0</td>\n",
       "      <td>199</td>\n",
       "    </tr>\n",
       "    <tr>\n",
       "      <th>4</th>\n",
       "      <td>754.159807</td>\n",
       "      <td>1</td>\n",
       "      <td>7.0</td>\n",
       "      <td>ultra</td>\n",
       "      <td>6</td>\n",
       "      <td>0</td>\n",
       "      <td>199</td>\n",
       "    </tr>\n",
       "    <tr>\n",
       "      <th>8</th>\n",
       "      <td>6723.470560</td>\n",
       "      <td>2</td>\n",
       "      <td>46.0</td>\n",
       "      <td>ultra</td>\n",
       "      <td>6</td>\n",
       "      <td>0</td>\n",
       "      <td>199</td>\n",
       "    </tr>\n",
       "    <tr>\n",
       "      <th>10</th>\n",
       "      <td>5809.911100</td>\n",
       "      <td>2</td>\n",
       "      <td>32.0</td>\n",
       "      <td>ultra</td>\n",
       "      <td>6</td>\n",
       "      <td>0</td>\n",
       "      <td>199</td>\n",
       "    </tr>\n",
       "    <tr>\n",
       "      <th>11</th>\n",
       "      <td>7003.499363</td>\n",
       "      <td>3</td>\n",
       "      <td>56.0</td>\n",
       "      <td>ultra</td>\n",
       "      <td>6</td>\n",
       "      <td>0</td>\n",
       "      <td>199</td>\n",
       "    </tr>\n",
       "    <tr>\n",
       "      <th>...</th>\n",
       "      <th>...</th>\n",
       "      <td>...</td>\n",
       "      <td>...</td>\n",
       "      <td>...</td>\n",
       "      <td>...</td>\n",
       "      <td>...</td>\n",
       "      <td>...</td>\n",
       "      <td>...</td>\n",
       "    </tr>\n",
       "    <tr>\n",
       "      <th rowspan=\"5\" valign=\"top\">1534</th>\n",
       "      <th>6</th>\n",
       "      <td>3409.468534</td>\n",
       "      <td>2</td>\n",
       "      <td>26.0</td>\n",
       "      <td>free</td>\n",
       "      <td>8</td>\n",
       "      <td>50</td>\n",
       "      <td>0</td>\n",
       "    </tr>\n",
       "    <tr>\n",
       "      <th>8</th>\n",
       "      <td>7622.453034</td>\n",
       "      <td>2</td>\n",
       "      <td>48.0</td>\n",
       "      <td>free</td>\n",
       "      <td>8</td>\n",
       "      <td>50</td>\n",
       "      <td>0</td>\n",
       "    </tr>\n",
       "    <tr>\n",
       "      <th>9</th>\n",
       "      <td>4928.173852</td>\n",
       "      <td>1</td>\n",
       "      <td>23.0</td>\n",
       "      <td>free</td>\n",
       "      <td>8</td>\n",
       "      <td>50</td>\n",
       "      <td>0</td>\n",
       "    </tr>\n",
       "    <tr>\n",
       "      <th>11</th>\n",
       "      <td>13350.015305</td>\n",
       "      <td>4</td>\n",
       "      <td>78.0</td>\n",
       "      <td>free</td>\n",
       "      <td>8</td>\n",
       "      <td>50</td>\n",
       "      <td>0</td>\n",
       "    </tr>\n",
       "    <tr>\n",
       "      <th>12</th>\n",
       "      <td>2371.711192</td>\n",
       "      <td>1</td>\n",
       "      <td>16.0</td>\n",
       "      <td>free</td>\n",
       "      <td>8</td>\n",
       "      <td>50</td>\n",
       "      <td>0</td>\n",
       "    </tr>\n",
       "  </tbody>\n",
       "</table>\n",
       "<p>11300 rows × 7 columns</p>\n",
       "</div>"
      ],
      "text/plain": [
       "                     metres  trips  minutes subscription  minute_price  \\\n",
       "user_id month                                                            \n",
       "1       1       7027.511294      2     42.0        ultra             6   \n",
       "        4        754.159807      1      7.0        ultra             6   \n",
       "        8       6723.470560      2     46.0        ultra             6   \n",
       "        10      5809.911100      2     32.0        ultra             6   \n",
       "        11      7003.499363      3     56.0        ultra             6   \n",
       "...                     ...    ...      ...          ...           ...   \n",
       "1534    6       3409.468534      2     26.0         free             8   \n",
       "        8       7622.453034      2     48.0         free             8   \n",
       "        9       4928.173852      1     23.0         free             8   \n",
       "        11     13350.015305      4     78.0         free             8   \n",
       "        12      2371.711192      1     16.0         free             8   \n",
       "\n",
       "               start_ride_price  subscription_fee  \n",
       "user_id month                                      \n",
       "1       1                     0               199  \n",
       "        4                     0               199  \n",
       "        8                     0               199  \n",
       "        10                    0               199  \n",
       "        11                    0               199  \n",
       "...                         ...               ...  \n",
       "1534    6                    50                 0  \n",
       "        8                    50                 0  \n",
       "        9                    50                 0  \n",
       "        11                   50                 0  \n",
       "        12                   50                 0  \n",
       "\n",
       "[11300 rows x 7 columns]"
      ]
     },
     "execution_count": 34,
     "metadata": {},
     "output_type": "execute_result"
    }
   ],
   "source": [
    "data.groupby(['user_id','month'])\\\n",
    "                 .agg(metres=('distance', 'sum'), \n",
    "                     trips=('month', 'count'), \n",
    "                     minutes=('duration', 'sum'), \n",
    "                     subscription=('subscription_type','min'),\n",
    "                     minute_price=('minute_price', 'first'),\n",
    "                     start_ride_price=('start_ride_price', 'first'),\n",
    "                     subscription_fee=('subscription_fee', 'first'))"
   ]
  },
  {
   "cell_type": "code",
   "execution_count": 35,
   "id": "07234efd",
   "metadata": {
    "tags": []
   },
   "outputs": [
    {
     "data": {
      "text/html": [
       "<div>\n",
       "<style scoped>\n",
       "    .dataframe tbody tr th:only-of-type {\n",
       "        vertical-align: middle;\n",
       "    }\n",
       "\n",
       "    .dataframe tbody tr th {\n",
       "        vertical-align: top;\n",
       "    }\n",
       "\n",
       "    .dataframe thead th {\n",
       "        text-align: right;\n",
       "    }\n",
       "</style>\n",
       "<table border=\"1\" class=\"dataframe\">\n",
       "  <thead>\n",
       "    <tr style=\"text-align: right;\">\n",
       "      <th></th>\n",
       "      <th></th>\n",
       "      <th>metres</th>\n",
       "      <th>trips</th>\n",
       "      <th>minutes</th>\n",
       "      <th>subscription</th>\n",
       "      <th>revenue</th>\n",
       "    </tr>\n",
       "    <tr>\n",
       "      <th>user_id</th>\n",
       "      <th>month</th>\n",
       "      <th></th>\n",
       "      <th></th>\n",
       "      <th></th>\n",
       "      <th></th>\n",
       "      <th></th>\n",
       "    </tr>\n",
       "  </thead>\n",
       "  <tbody>\n",
       "    <tr>\n",
       "      <th rowspan=\"5\" valign=\"top\">1</th>\n",
       "      <th>1</th>\n",
       "      <td>7027.511294</td>\n",
       "      <td>2</td>\n",
       "      <td>42.0</td>\n",
       "      <td>ultra</td>\n",
       "      <td>451.0</td>\n",
       "    </tr>\n",
       "    <tr>\n",
       "      <th>4</th>\n",
       "      <td>754.159807</td>\n",
       "      <td>1</td>\n",
       "      <td>7.0</td>\n",
       "      <td>ultra</td>\n",
       "      <td>241.0</td>\n",
       "    </tr>\n",
       "    <tr>\n",
       "      <th>8</th>\n",
       "      <td>6723.470560</td>\n",
       "      <td>2</td>\n",
       "      <td>46.0</td>\n",
       "      <td>ultra</td>\n",
       "      <td>475.0</td>\n",
       "    </tr>\n",
       "    <tr>\n",
       "      <th>10</th>\n",
       "      <td>5809.911100</td>\n",
       "      <td>2</td>\n",
       "      <td>32.0</td>\n",
       "      <td>ultra</td>\n",
       "      <td>391.0</td>\n",
       "    </tr>\n",
       "    <tr>\n",
       "      <th>11</th>\n",
       "      <td>7003.499363</td>\n",
       "      <td>3</td>\n",
       "      <td>56.0</td>\n",
       "      <td>ultra</td>\n",
       "      <td>535.0</td>\n",
       "    </tr>\n",
       "    <tr>\n",
       "      <th>...</th>\n",
       "      <th>...</th>\n",
       "      <td>...</td>\n",
       "      <td>...</td>\n",
       "      <td>...</td>\n",
       "      <td>...</td>\n",
       "      <td>...</td>\n",
       "    </tr>\n",
       "    <tr>\n",
       "      <th rowspan=\"5\" valign=\"top\">1534</th>\n",
       "      <th>4</th>\n",
       "      <td>3434.290912</td>\n",
       "      <td>1</td>\n",
       "      <td>15.0</td>\n",
       "      <td>free</td>\n",
       "      <td>170.0</td>\n",
       "    </tr>\n",
       "    <tr>\n",
       "      <th>6</th>\n",
       "      <td>3409.468534</td>\n",
       "      <td>2</td>\n",
       "      <td>26.0</td>\n",
       "      <td>free</td>\n",
       "      <td>308.0</td>\n",
       "    </tr>\n",
       "    <tr>\n",
       "      <th>8</th>\n",
       "      <td>7622.453034</td>\n",
       "      <td>2</td>\n",
       "      <td>48.0</td>\n",
       "      <td>free</td>\n",
       "      <td>484.0</td>\n",
       "    </tr>\n",
       "    <tr>\n",
       "      <th>9</th>\n",
       "      <td>4928.173852</td>\n",
       "      <td>1</td>\n",
       "      <td>23.0</td>\n",
       "      <td>free</td>\n",
       "      <td>234.0</td>\n",
       "    </tr>\n",
       "    <tr>\n",
       "      <th>11</th>\n",
       "      <td>13350.015305</td>\n",
       "      <td>4</td>\n",
       "      <td>78.0</td>\n",
       "      <td>free</td>\n",
       "      <td>824.0</td>\n",
       "    </tr>\n",
       "  </tbody>\n",
       "</table>\n",
       "<p>11299 rows × 5 columns</p>\n",
       "</div>"
      ],
      "text/plain": [
       "                     metres  trips  minutes subscription  revenue\n",
       "user_id month                                                    \n",
       "1       1       7027.511294      2     42.0        ultra    451.0\n",
       "        4        754.159807      1      7.0        ultra    241.0\n",
       "        8       6723.470560      2     46.0        ultra    475.0\n",
       "        10      5809.911100      2     32.0        ultra    391.0\n",
       "        11      7003.499363      3     56.0        ultra    535.0\n",
       "...                     ...    ...      ...          ...      ...\n",
       "1534    4       3434.290912      1     15.0         free    170.0\n",
       "        6       3409.468534      2     26.0         free    308.0\n",
       "        8       7622.453034      2     48.0         free    484.0\n",
       "        9       4928.173852      1     23.0         free    234.0\n",
       "        11     13350.015305      4     78.0         free    824.0\n",
       "\n",
       "[11299 rows x 5 columns]"
      ]
     },
     "execution_count": 35,
     "metadata": {},
     "output_type": "execute_result"
    }
   ],
   "source": [
    "data_group['revenue'] = data_group.apply(revenue_month, axis=1)\n",
    "data_group.head(-1)"
   ]
  },
  {
   "cell_type": "markdown",
   "id": "533ea74f",
   "metadata": {},
   "source": [
    "### Вывод\n",
    "- Создали датафрейм с агрегированными данными о поездках по месяцам."
   ]
  },
  {
   "cell_type": "markdown",
   "id": "d0dff8b1",
   "metadata": {},
   "source": [
    "#### Шаг 6. Проверка гипотез"
   ]
  },
  {
   "cell_type": "markdown",
   "id": "efde5912",
   "metadata": {},
   "source": [
    "#### 6.1 Важно понять, тратят ли пользователи с подпиской больше времени на поездки? Если да, то пользователи с подпиской могут быть «выгоднее» для компании. Проверим гипотезу. Используем исходные данные о продолжительности каждой сессии — отдельно для подписчиков и тех, у кого нет подписки."
   ]
  },
  {
   "cell_type": "markdown",
   "id": "3b48b51a",
   "metadata": {},
   "source": [
    "Н0: среднее время поездки тарифов «ultra» и «free» равны. \n",
    "Н1: среднее время поездки тарифа «ultra» больше чем тарифа «free».\n",
    "\n",
    "Критический уровень статистической значимости присвоим значением 0.05."
   ]
  },
  {
   "cell_type": "code",
   "execution_count": 36,
   "id": "f76c94f8",
   "metadata": {},
   "outputs": [
    {
     "name": "stdout",
     "output_type": "stream",
     "text": [
      "Среднее время поездки тарифа ultra:  18.54198516280583\n",
      "Среднее время поездки тарифа free:  17.530771268800226\n",
      "p-значение: 4.7044680744539e-28\n",
      "Подтверждаем альтернативную гипотезу\n"
     ]
    }
   ],
   "source": [
    "time_ultra = data_ultra['duration']\n",
    "\n",
    "time_free = data_free['duration']\n",
    "\n",
    "print('Среднее время поездки тарифа ultra: ', time_ultra.mean())\n",
    "print('Среднее время поездки тарифа free: ', time_free.mean())\n",
    "\n",
    "alpha = 0.05\n",
    "results_time = st.ttest_ind(time_ultra, time_free, alternative='greater') \n",
    "\n",
    "print('p-значение:', results_time.pvalue)\n",
    "\n",
    "if(results_time.pvalue > alpha):\n",
    "    print('Подтверждаем нулевую гипотезу')\n",
    "else:\n",
    "    print('Подтверждаем альтернативную гипотезу')"
   ]
  },
  {
   "cell_type": "markdown",
   "id": "9b7436a8",
   "metadata": {},
   "source": [
    "- Можем сказать, что среднее время поездки по двум тарифам различается. Т.к. гипотеза-то наша двухсторонняя: мы не знаем, в какую сторону среднее время поездки отличается. Однако посчитав среднее время поездки для обоих тарифов, с уверенностью можем сказать: среднее время поездки из тарифа free ниже."
   ]
  },
  {
   "cell_type": "markdown",
   "id": "714e9d59",
   "metadata": {},
   "source": [
    "#### 6.2 Расстояние одной поездки в 3130 метров — оптимальное с точки зрения износа самоката. Можно ли сказать, что расстояние, которое проезжают пользователи с подпиской за одну поездку, не превышает 3130 метров? Проверим гипотезу."
   ]
  },
  {
   "cell_type": "markdown",
   "id": "571e4e60",
   "metadata": {},
   "source": [
    "Н0: среднее растояние поездки тарифа ultra равно 3130.\n",
    "Н1: среднее растояние поездки тарифа ultra больше 3130.\n",
    "\n",
    "Критический уровень статистической значимости присвоим значением 0.05."
   ]
  },
  {
   "cell_type": "code",
   "execution_count": 37,
   "id": "3fdc9061",
   "metadata": {},
   "outputs": [
    {
     "name": "stdout",
     "output_type": "stream",
     "text": [
      "Среднее растояние поездки тарифа ultra:  3115.4453880370247\n",
      "p-значение: 0.9195368847849785\n",
      "Не отвергаем нулевую гипотезу\n"
     ]
    }
   ],
   "source": [
    "metres_mean = data_ultra['distance']\n",
    "\n",
    "\n",
    "print('Среднее растояние поездки тарифа ultra: ', metres_mean.mean())\n",
    "\n",
    "distance = 3130\n",
    "\n",
    "alpha = 0.05\n",
    "\n",
    "results_distance = st.ttest_1samp(metres_mean, distance, alternative='greater')\n",
    "\n",
    "print('p-значение:', results_distance.pvalue)\n",
    "\n",
    "if (results_distance.pvalue < alpha):\n",
    "    print('Отвергаем нулевую гипотезу')\n",
    "else:\n",
    "    print('Не отвергаем нулевую гипотезу') "
   ]
  },
  {
   "cell_type": "markdown",
   "id": "c2f34500",
   "metadata": {},
   "source": [
    "- Можем сказать, что среднее расстояние поездки на тарифе ultra меньше 3130 метров, что оптимально с точки зрения износа самоката."
   ]
  },
  {
   "cell_type": "markdown",
   "id": "2f23a21c",
   "metadata": {},
   "source": [
    "#### 6.3. Проверим гипотезу о том, будет ли помесячная выручка от пользователей с подпиской по месяцам выше, чем выручка от пользователей без подписки."
   ]
  },
  {
   "cell_type": "markdown",
   "id": "cc0ade1d",
   "metadata": {},
   "source": [
    "Н0: средняя выручка тарифа «ultra» равна средней выручке тарифа «free». \n",
    "Н1: средняя выручка тарифа «ultra» больше чем тарифа «free».\n",
    "\n",
    "Критический уровень статистической значимости присвоим значением 0.05."
   ]
  },
  {
   "cell_type": "code",
   "execution_count": 38,
   "id": "92a44767",
   "metadata": {
    "tags": []
   },
   "outputs": [
    {
     "name": "stdout",
     "output_type": "stream",
     "text": [
      "Средняя выручка тарифа ultra:  362.7921906022502\n",
      "Средняя выручка тарифа free:  329.3326437121324\n",
      "p-значение: 2.0314113674863288e-30\n",
      "Отвергаем нулевую гипотезу\n"
     ]
    }
   ],
   "source": [
    "revenue_ultra = (data_group['revenue']\n",
    "                .loc[data_group['subscription'] == 'ultra']  \n",
    "                )\n",
    "\n",
    "revenue_free = (data_group['revenue']\n",
    "                .loc[data_group['subscription'] == 'free']  \n",
    "               )\n",
    "\n",
    "print('Средняя выручка тарифа ultra: ', revenue_ultra.mean())\n",
    "print('Средняя выручка тарифа free: ', revenue_free.mean())\n",
    "\n",
    "alpha = 0.05\n",
    "results_revenue = st.ttest_ind(revenue_ultra, revenue_free, alternative='greater') \n",
    "\n",
    "print('p-значение:', results_revenue.pvalue)\n",
    "\n",
    "if(results_revenue.pvalue > alpha):\n",
    "    print('Подтверждаем нулевую гипотезу')\n",
    "else:\n",
    "    print('Отвергаем нулевую гипотезу')"
   ]
  },
  {
   "cell_type": "markdown",
   "id": "cf46307d",
   "metadata": {},
   "source": [
    "- Можем сказать, что средняя выручка по двум тарифам различается. Т.к. гипотеза-то наша двухсторонняя: мы не знаем, в какую сторону среднее время поездки отличается. Однако посчитав среднюю выручку для обоих тарифов, с уверенностью можем сказать: средняя выручка из тарифа ultra выше."
   ]
  },
  {
   "cell_type": "markdown",
   "id": "5a0046a2",
   "metadata": {},
   "source": [
    "#### 6.4. Представим такую ситуацию: техническая команда сервиса обновила сервера, с которыми взаимодействует мобильное приложение. Она надеется, что из-за этого количество обращений в техподдержку значимо снизилось. Некоторый файл содержит для каждого пользователя данные о количестве обращений до обновления и после него. Какой тест вам понадобился бы для проверки этой гипотезы?"
   ]
  },
  {
   "cell_type": "markdown",
   "id": "13d504d7",
   "metadata": {},
   "source": [
    "Для решения указанной задачи необходимо использовать гипотезу о равенстве средних для зависимых (парных) выборок.\n",
    "Гипотезы будут сформулированы так:\n",
    "H0: средние значения количества обращений в техподдержку до изменений (μ1) равны средним значениям количества обращений в техподдержку после изменений (μ2);\n",
    "H1: средние значения количества обращений в техподдержку до изменений (μ1) не равны средним значениям количества обращений в техподдержку после изменений (μ2);\n",
    "Метод, который нужно использовать при сравнении: scipy.stats.ttest_rel()"
   ]
  },
  {
   "cell_type": "markdown",
   "id": "2a5fa209",
   "metadata": {},
   "source": [
    "#### Общий вывод\n",
    "1) Данные по выборке клиентов популярного сервиса аренды самокатов GoFast загружены, проанализированы и обработаны. Пропусков не обнаружено.\n",
    "2) Описана и визуализирована общую информацию о пользователях и поездках. Результаты предтавлены в сводных таблицах и графиках.Из низ видим, что: больше всего пользователей в Пятигорске 219, Екатеринбурге 204 и Ростове-на-Дону 198, пользователей с подпиской меньше чем без неё, средний возраст пользователей 25 лет, расстояние которое проезжают пользовотели в среднем около 3100 метров и у пользователей на это уходит около 18 минут.\n",
    "3) Три датафрейма были обьеденены в один и созданы два новые c данными о пользователях без подписки и с данными о пользователях с подпиской для дальнейших исследований. Были визуализированны данные о расстоянии и времени поездок для пользователей обеих категорий.\n",
    "4) Была рассчитана для каждого пользователя помесячно: суммарное расстояние, количество поездок и суммарное время поездок. А так же помесячная выручка, которую принёс каждый пользователь. \n",
    "5) Проверено несколько гипотез на основании которых можно сделать вывод что:\n",
    "- Среднее время поездки тарифа ultra болье чем среднее время поездки тарифа free.\n",
    "- Среднее расстояние поездки на тарифе ultra меньше оптимального с точки зрения износа самоката.\n",
    "- Средняя выручка тарифа ultra больше средней выручки тарифа free на 10%.\n",
    "\n",
    "- Делаем вывыд, что тариф ultra выглядит более оптимальным для продвижения."
   ]
  }
 ],
 "metadata": {
  "ExecuteTimeLog": [
   {
    "duration": 726,
    "start_time": "2023-08-04T15:49:36.150Z"
   },
   {
    "duration": 93,
    "start_time": "2023-08-04T15:49:36.878Z"
   },
   {
    "duration": 81,
    "start_time": "2023-08-04T15:49:36.972Z"
   },
   {
    "duration": 64,
    "start_time": "2023-08-04T15:49:37.054Z"
   },
   {
    "duration": 9,
    "start_time": "2023-08-04T15:49:37.120Z"
   },
   {
    "duration": 8,
    "start_time": "2023-08-04T15:49:37.130Z"
   },
   {
    "duration": 10,
    "start_time": "2023-08-04T15:49:37.139Z"
   },
   {
    "duration": 7,
    "start_time": "2023-08-04T15:49:37.150Z"
   },
   {
    "duration": 4,
    "start_time": "2023-08-04T15:49:37.158Z"
   },
   {
    "duration": 3,
    "start_time": "2023-08-04T15:49:37.164Z"
   },
   {
    "duration": 12,
    "start_time": "2023-08-04T15:49:37.168Z"
   },
   {
    "duration": 5,
    "start_time": "2023-08-04T15:49:37.181Z"
   },
   {
    "duration": 371,
    "start_time": "2023-08-04T15:49:37.187Z"
   },
   {
    "duration": 5,
    "start_time": "2023-08-04T15:49:37.560Z"
   },
   {
    "duration": 77,
    "start_time": "2023-08-04T15:49:37.566Z"
   },
   {
    "duration": 5,
    "start_time": "2023-08-04T15:49:37.645Z"
   },
   {
    "duration": 9,
    "start_time": "2023-08-04T15:49:37.651Z"
   },
   {
    "duration": 140,
    "start_time": "2023-08-04T15:49:37.662Z"
   },
   {
    "duration": 8,
    "start_time": "2023-08-04T15:49:37.804Z"
   },
   {
    "duration": 209,
    "start_time": "2023-08-04T15:49:37.814Z"
   },
   {
    "duration": 6,
    "start_time": "2023-08-04T15:49:38.026Z"
   },
   {
    "duration": 218,
    "start_time": "2023-08-04T15:49:38.034Z"
   },
   {
    "duration": 21,
    "start_time": "2023-08-04T15:49:38.253Z"
   },
   {
    "duration": 13,
    "start_time": "2023-08-04T15:49:38.276Z"
   },
   {
    "duration": 21,
    "start_time": "2023-08-04T15:49:38.291Z"
   },
   {
    "duration": 221,
    "start_time": "2023-08-04T15:49:38.314Z"
   },
   {
    "duration": 210,
    "start_time": "2023-08-04T15:49:38.536Z"
   },
   {
    "duration": 775,
    "start_time": "2023-08-04T15:49:38.748Z"
   },
   {
    "duration": 79,
    "start_time": "2023-08-04T15:49:39.525Z"
   },
   {
    "duration": 39,
    "start_time": "2023-08-04T15:49:39.606Z"
   },
   {
    "duration": 174,
    "start_time": "2023-08-04T15:49:39.647Z"
   },
   {
    "duration": 10,
    "start_time": "2023-08-04T15:49:39.823Z"
   },
   {
    "duration": 10,
    "start_time": "2023-08-04T15:49:39.834Z"
   },
   {
    "duration": 10,
    "start_time": "2023-08-04T15:49:39.846Z"
   },
   {
    "duration": 17,
    "start_time": "2023-08-04T15:53:42.031Z"
   },
   {
    "duration": 5,
    "start_time": "2023-08-04T15:56:30.090Z"
   },
   {
    "duration": 5,
    "start_time": "2023-08-04T15:58:20.797Z"
   },
   {
    "duration": 784,
    "start_time": "2023-08-04T16:04:39.446Z"
   },
   {
    "duration": 45,
    "start_time": "2023-08-04T16:04:40.232Z"
   },
   {
    "duration": 42,
    "start_time": "2023-08-04T16:04:40.278Z"
   },
   {
    "duration": 25,
    "start_time": "2023-08-04T16:04:40.322Z"
   },
   {
    "duration": 7,
    "start_time": "2023-08-04T16:04:40.349Z"
   },
   {
    "duration": 5,
    "start_time": "2023-08-04T16:04:40.358Z"
   },
   {
    "duration": 6,
    "start_time": "2023-08-04T16:04:40.364Z"
   },
   {
    "duration": 8,
    "start_time": "2023-08-04T16:04:40.371Z"
   },
   {
    "duration": 19,
    "start_time": "2023-08-04T16:04:40.380Z"
   },
   {
    "duration": 3,
    "start_time": "2023-08-04T16:04:40.402Z"
   },
   {
    "duration": 24,
    "start_time": "2023-08-04T16:04:40.407Z"
   },
   {
    "duration": 11,
    "start_time": "2023-08-04T16:04:40.433Z"
   },
   {
    "duration": 383,
    "start_time": "2023-08-04T16:04:40.445Z"
   },
   {
    "duration": 5,
    "start_time": "2023-08-04T16:04:40.829Z"
   },
   {
    "duration": 75,
    "start_time": "2023-08-04T16:04:40.836Z"
   },
   {
    "duration": 6,
    "start_time": "2023-08-04T16:04:40.912Z"
   },
   {
    "duration": 14,
    "start_time": "2023-08-04T16:04:40.920Z"
   },
   {
    "duration": 140,
    "start_time": "2023-08-04T16:04:40.935Z"
   },
   {
    "duration": 6,
    "start_time": "2023-08-04T16:04:41.077Z"
   },
   {
    "duration": 217,
    "start_time": "2023-08-04T16:04:41.085Z"
   },
   {
    "duration": 9,
    "start_time": "2023-08-04T16:04:41.303Z"
   },
   {
    "duration": 214,
    "start_time": "2023-08-04T16:04:41.313Z"
   },
   {
    "duration": 26,
    "start_time": "2023-08-04T16:04:41.529Z"
   },
   {
    "duration": 18,
    "start_time": "2023-08-04T16:04:41.556Z"
   },
   {
    "duration": 27,
    "start_time": "2023-08-04T16:04:41.575Z"
   },
   {
    "duration": 229,
    "start_time": "2023-08-04T16:04:41.603Z"
   },
   {
    "duration": 199,
    "start_time": "2023-08-04T16:04:41.833Z"
   },
   {
    "duration": 778,
    "start_time": "2023-08-04T16:04:42.035Z"
   },
   {
    "duration": 70,
    "start_time": "2023-08-04T16:04:42.814Z"
   },
   {
    "duration": 26,
    "start_time": "2023-08-04T16:04:42.885Z"
   },
   {
    "duration": 160,
    "start_time": "2023-08-04T16:04:42.913Z"
   },
   {
    "duration": 10,
    "start_time": "2023-08-04T16:04:43.074Z"
   },
   {
    "duration": 17,
    "start_time": "2023-08-04T16:04:43.086Z"
   },
   {
    "duration": 12,
    "start_time": "2023-08-04T16:04:43.105Z"
   },
   {
    "duration": 1012,
    "start_time": "2023-08-06T17:45:44.402Z"
   },
   {
    "duration": 83,
    "start_time": "2023-08-06T17:45:45.416Z"
   },
   {
    "duration": 40,
    "start_time": "2023-08-06T17:45:45.500Z"
   },
   {
    "duration": 25,
    "start_time": "2023-08-06T17:45:45.542Z"
   },
   {
    "duration": 10,
    "start_time": "2023-08-06T17:45:45.568Z"
   },
   {
    "duration": 23,
    "start_time": "2023-08-06T17:45:45.579Z"
   },
   {
    "duration": 6,
    "start_time": "2023-08-06T17:45:45.604Z"
   },
   {
    "duration": 8,
    "start_time": "2023-08-06T17:45:45.611Z"
   },
   {
    "duration": 14,
    "start_time": "2023-08-06T17:45:45.620Z"
   },
   {
    "duration": 6,
    "start_time": "2023-08-06T17:45:45.636Z"
   },
   {
    "duration": 17,
    "start_time": "2023-08-06T17:45:45.643Z"
   },
   {
    "duration": 13,
    "start_time": "2023-08-06T17:45:45.662Z"
   },
   {
    "duration": 19,
    "start_time": "2023-08-06T17:45:45.676Z"
   },
   {
    "duration": 184,
    "start_time": "2023-08-06T17:45:45.696Z"
   },
   {
    "duration": 7,
    "start_time": "2023-08-06T17:45:45.881Z"
   },
   {
    "duration": 78,
    "start_time": "2023-08-06T17:45:45.889Z"
   },
   {
    "duration": 5,
    "start_time": "2023-08-06T17:45:45.969Z"
   },
   {
    "duration": 24,
    "start_time": "2023-08-06T17:45:45.976Z"
   },
   {
    "duration": 196,
    "start_time": "2023-08-06T17:45:46.002Z"
   },
   {
    "duration": 9,
    "start_time": "2023-08-06T17:45:46.199Z"
   },
   {
    "duration": 289,
    "start_time": "2023-08-06T17:45:46.209Z"
   },
   {
    "duration": 9,
    "start_time": "2023-08-06T17:45:46.500Z"
   },
   {
    "duration": 7,
    "start_time": "2023-08-06T17:45:46.511Z"
   },
   {
    "duration": 7,
    "start_time": "2023-08-06T17:45:46.519Z"
   },
   {
    "duration": 270,
    "start_time": "2023-08-06T17:45:46.527Z"
   },
   {
    "duration": 25,
    "start_time": "2023-08-06T17:45:46.798Z"
   },
   {
    "duration": 14,
    "start_time": "2023-08-06T17:45:46.825Z"
   },
   {
    "duration": 16,
    "start_time": "2023-08-06T17:45:46.862Z"
   },
   {
    "duration": 14,
    "start_time": "2023-08-06T17:45:46.880Z"
   },
   {
    "duration": 388,
    "start_time": "2023-08-06T17:45:46.896Z"
   },
   {
    "duration": 474,
    "start_time": "2023-08-06T17:45:47.286Z"
   },
   {
    "duration": 14,
    "start_time": "2023-08-06T17:45:47.762Z"
   },
   {
    "duration": 788,
    "start_time": "2023-08-06T17:45:47.777Z"
   },
   {
    "duration": 4,
    "start_time": "2023-08-06T17:45:48.566Z"
   },
   {
    "duration": 159,
    "start_time": "2023-08-06T17:45:48.571Z"
   },
   {
    "duration": 7,
    "start_time": "2023-08-06T17:45:48.732Z"
   },
   {
    "duration": 20,
    "start_time": "2023-08-06T17:45:48.741Z"
   },
   {
    "duration": 10,
    "start_time": "2023-08-06T17:45:48.762Z"
   },
   {
    "duration": 21,
    "start_time": "2023-08-06T17:57:01.943Z"
   },
   {
    "duration": 831,
    "start_time": "2023-08-06T17:58:11.192Z"
   },
   {
    "duration": 885,
    "start_time": "2023-08-06T17:58:33.760Z"
   },
   {
    "duration": 1080,
    "start_time": "2023-08-06T18:09:27.066Z"
   },
   {
    "duration": 140,
    "start_time": "2023-08-06T18:09:28.151Z"
   },
   {
    "duration": 40,
    "start_time": "2023-08-06T18:09:28.293Z"
   },
   {
    "duration": 26,
    "start_time": "2023-08-06T18:09:28.335Z"
   },
   {
    "duration": 9,
    "start_time": "2023-08-06T18:09:28.362Z"
   },
   {
    "duration": 25,
    "start_time": "2023-08-06T18:09:28.373Z"
   },
   {
    "duration": 23,
    "start_time": "2023-08-06T18:09:28.400Z"
   },
   {
    "duration": 29,
    "start_time": "2023-08-06T18:09:28.424Z"
   },
   {
    "duration": 44,
    "start_time": "2023-08-06T18:09:28.454Z"
   },
   {
    "duration": 5,
    "start_time": "2023-08-06T18:09:28.502Z"
   },
   {
    "duration": 5,
    "start_time": "2023-08-06T18:09:28.509Z"
   },
   {
    "duration": 13,
    "start_time": "2023-08-06T18:09:28.515Z"
   },
   {
    "duration": 12,
    "start_time": "2023-08-06T18:09:28.529Z"
   },
   {
    "duration": 212,
    "start_time": "2023-08-06T18:09:28.543Z"
   },
   {
    "duration": 6,
    "start_time": "2023-08-06T18:09:28.760Z"
   },
   {
    "duration": 72,
    "start_time": "2023-08-06T18:09:28.767Z"
   },
   {
    "duration": 19,
    "start_time": "2023-08-06T18:09:28.841Z"
   },
   {
    "duration": 11,
    "start_time": "2023-08-06T18:09:28.862Z"
   },
   {
    "duration": 193,
    "start_time": "2023-08-06T18:09:28.877Z"
   },
   {
    "duration": 9,
    "start_time": "2023-08-06T18:09:29.072Z"
   },
   {
    "duration": 306,
    "start_time": "2023-08-06T18:09:29.083Z"
   },
   {
    "duration": 12,
    "start_time": "2023-08-06T18:09:29.391Z"
   },
   {
    "duration": 35,
    "start_time": "2023-08-06T18:09:29.405Z"
   },
   {
    "duration": 31,
    "start_time": "2023-08-06T18:09:29.441Z"
   },
   {
    "duration": 258,
    "start_time": "2023-08-06T18:09:29.474Z"
   },
   {
    "duration": 43,
    "start_time": "2023-08-06T18:09:29.733Z"
   },
   {
    "duration": 13,
    "start_time": "2023-08-06T18:09:29.777Z"
   },
   {
    "duration": 17,
    "start_time": "2023-08-06T18:09:29.793Z"
   },
   {
    "duration": 18,
    "start_time": "2023-08-06T18:09:29.812Z"
   },
   {
    "duration": 443,
    "start_time": "2023-08-06T18:09:29.832Z"
   },
   {
    "duration": 516,
    "start_time": "2023-08-06T18:09:30.277Z"
   },
   {
    "duration": 14,
    "start_time": "2023-08-06T18:09:30.794Z"
   },
   {
    "duration": 1095,
    "start_time": "2023-08-06T18:09:30.810Z"
   },
   {
    "duration": 3,
    "start_time": "2023-08-06T18:09:31.907Z"
   },
   {
    "duration": 893,
    "start_time": "2023-08-06T18:09:31.913Z"
   },
   {
    "duration": 156,
    "start_time": "2023-08-06T18:09:32.808Z"
   },
   {
    "duration": 7,
    "start_time": "2023-08-06T18:09:32.965Z"
   },
   {
    "duration": 21,
    "start_time": "2023-08-06T18:09:32.973Z"
   },
   {
    "duration": 10,
    "start_time": "2023-08-06T18:09:32.996Z"
   },
   {
    "duration": 1636,
    "start_time": "2023-08-07T11:32:25.309Z"
   },
   {
    "duration": 168,
    "start_time": "2023-08-07T11:32:26.947Z"
   },
   {
    "duration": 85,
    "start_time": "2023-08-07T11:32:27.116Z"
   },
   {
    "duration": 67,
    "start_time": "2023-08-07T11:32:27.204Z"
   },
   {
    "duration": 11,
    "start_time": "2023-08-07T11:32:27.273Z"
   },
   {
    "duration": 17,
    "start_time": "2023-08-07T11:32:27.286Z"
   },
   {
    "duration": 4,
    "start_time": "2023-08-07T11:32:27.305Z"
   },
   {
    "duration": 19,
    "start_time": "2023-08-07T11:32:27.311Z"
   },
   {
    "duration": 24,
    "start_time": "2023-08-07T11:32:27.332Z"
   },
   {
    "duration": 8,
    "start_time": "2023-08-07T11:32:27.359Z"
   },
   {
    "duration": 21,
    "start_time": "2023-08-07T11:32:27.369Z"
   },
   {
    "duration": 20,
    "start_time": "2023-08-07T11:32:27.392Z"
   },
   {
    "duration": 13,
    "start_time": "2023-08-07T11:32:27.413Z"
   },
   {
    "duration": 179,
    "start_time": "2023-08-07T11:32:27.428Z"
   },
   {
    "duration": 6,
    "start_time": "2023-08-07T11:32:27.609Z"
   },
   {
    "duration": 84,
    "start_time": "2023-08-07T11:32:27.616Z"
   },
   {
    "duration": 6,
    "start_time": "2023-08-07T11:32:27.701Z"
   },
   {
    "duration": 14,
    "start_time": "2023-08-07T11:32:27.708Z"
   },
   {
    "duration": 193,
    "start_time": "2023-08-07T11:32:27.724Z"
   },
   {
    "duration": 10,
    "start_time": "2023-08-07T11:32:27.918Z"
   },
   {
    "duration": 289,
    "start_time": "2023-08-07T11:32:27.930Z"
   },
   {
    "duration": 9,
    "start_time": "2023-08-07T11:32:28.220Z"
   },
   {
    "duration": 17,
    "start_time": "2023-08-07T11:32:28.230Z"
   },
   {
    "duration": 286,
    "start_time": "2023-08-07T11:32:28.249Z"
   },
   {
    "duration": 32,
    "start_time": "2023-08-07T11:32:28.536Z"
   },
   {
    "duration": 15,
    "start_time": "2023-08-07T11:32:28.569Z"
   },
   {
    "duration": 27,
    "start_time": "2023-08-07T11:32:28.586Z"
   },
   {
    "duration": 27,
    "start_time": "2023-08-07T11:32:28.616Z"
   },
   {
    "duration": 436,
    "start_time": "2023-08-07T11:32:28.645Z"
   },
   {
    "duration": 504,
    "start_time": "2023-08-07T11:32:29.083Z"
   },
   {
    "duration": 13,
    "start_time": "2023-08-07T11:32:29.588Z"
   },
   {
    "duration": 843,
    "start_time": "2023-08-07T11:32:29.603Z"
   },
   {
    "duration": 4,
    "start_time": "2023-08-07T11:32:30.454Z"
   },
   {
    "duration": 995,
    "start_time": "2023-08-07T11:32:30.459Z"
   },
   {
    "duration": 173,
    "start_time": "2023-08-07T11:32:31.457Z"
   },
   {
    "duration": 8,
    "start_time": "2023-08-07T11:32:31.632Z"
   },
   {
    "duration": 38,
    "start_time": "2023-08-07T11:32:31.654Z"
   },
   {
    "duration": 50,
    "start_time": "2023-08-07T11:32:31.694Z"
   },
   {
    "duration": 90,
    "start_time": "2023-08-07T11:33:24.263Z"
   },
   {
    "duration": 1049,
    "start_time": "2023-08-07T11:44:16.482Z"
   },
   {
    "duration": 100,
    "start_time": "2023-08-07T11:44:17.533Z"
   },
   {
    "duration": 42,
    "start_time": "2023-08-07T11:44:17.635Z"
   },
   {
    "duration": 28,
    "start_time": "2023-08-07T11:44:17.680Z"
   },
   {
    "duration": 10,
    "start_time": "2023-08-07T11:44:17.711Z"
   },
   {
    "duration": 25,
    "start_time": "2023-08-07T11:44:17.722Z"
   },
   {
    "duration": 27,
    "start_time": "2023-08-07T11:44:17.748Z"
   },
   {
    "duration": 29,
    "start_time": "2023-08-07T11:44:17.777Z"
   },
   {
    "duration": 29,
    "start_time": "2023-08-07T11:44:17.808Z"
   },
   {
    "duration": 52,
    "start_time": "2023-08-07T11:44:17.838Z"
   },
   {
    "duration": 24,
    "start_time": "2023-08-07T11:44:17.892Z"
   },
   {
    "duration": 30,
    "start_time": "2023-08-07T11:44:17.918Z"
   },
   {
    "duration": 12,
    "start_time": "2023-08-07T11:44:17.949Z"
   },
   {
    "duration": 185,
    "start_time": "2023-08-07T11:44:17.964Z"
   },
   {
    "duration": 6,
    "start_time": "2023-08-07T11:44:18.151Z"
   },
   {
    "duration": 97,
    "start_time": "2023-08-07T11:44:18.159Z"
   },
   {
    "duration": 5,
    "start_time": "2023-08-07T11:44:18.258Z"
   },
   {
    "duration": 14,
    "start_time": "2023-08-07T11:44:18.265Z"
   },
   {
    "duration": 337,
    "start_time": "2023-08-07T11:44:18.280Z"
   },
   {
    "duration": 8,
    "start_time": "2023-08-07T11:44:18.619Z"
   },
   {
    "duration": 304,
    "start_time": "2023-08-07T11:44:18.628Z"
   },
   {
    "duration": 20,
    "start_time": "2023-08-07T11:44:18.934Z"
   },
   {
    "duration": 6,
    "start_time": "2023-08-07T11:44:18.956Z"
   },
   {
    "duration": 298,
    "start_time": "2023-08-07T11:44:18.963Z"
   },
   {
    "duration": 27,
    "start_time": "2023-08-07T11:44:19.263Z"
   },
   {
    "duration": 13,
    "start_time": "2023-08-07T11:44:19.292Z"
   },
   {
    "duration": 21,
    "start_time": "2023-08-07T11:44:19.306Z"
   },
   {
    "duration": 36,
    "start_time": "2023-08-07T11:44:19.329Z"
   },
   {
    "duration": 620,
    "start_time": "2023-08-07T11:44:19.367Z"
   },
   {
    "duration": 516,
    "start_time": "2023-08-07T11:44:19.988Z"
   },
   {
    "duration": 14,
    "start_time": "2023-08-07T11:44:20.506Z"
   },
   {
    "duration": 1337,
    "start_time": "2023-08-07T11:44:20.522Z"
   },
   {
    "duration": 3,
    "start_time": "2023-08-07T11:44:21.861Z"
   },
   {
    "duration": 919,
    "start_time": "2023-08-07T11:44:21.866Z"
   },
   {
    "duration": 163,
    "start_time": "2023-08-07T11:44:22.787Z"
   },
   {
    "duration": 8,
    "start_time": "2023-08-07T11:44:22.954Z"
   },
   {
    "duration": 8,
    "start_time": "2023-08-07T11:44:22.964Z"
   },
   {
    "duration": 14,
    "start_time": "2023-08-07T11:44:22.973Z"
   },
   {
    "duration": 1262,
    "start_time": "2023-08-07T12:58:12.378Z"
   },
   {
    "duration": 112,
    "start_time": "2023-08-07T12:58:13.642Z"
   },
   {
    "duration": 58,
    "start_time": "2023-08-07T12:58:13.756Z"
   },
   {
    "duration": 29,
    "start_time": "2023-08-07T12:58:13.817Z"
   },
   {
    "duration": 34,
    "start_time": "2023-08-07T12:58:13.849Z"
   },
   {
    "duration": 29,
    "start_time": "2023-08-07T12:58:13.885Z"
   },
   {
    "duration": 42,
    "start_time": "2023-08-07T12:58:13.917Z"
   },
   {
    "duration": 32,
    "start_time": "2023-08-07T12:58:13.961Z"
   },
   {
    "duration": 24,
    "start_time": "2023-08-07T12:58:13.995Z"
   },
   {
    "duration": 25,
    "start_time": "2023-08-07T12:58:14.021Z"
   },
   {
    "duration": 35,
    "start_time": "2023-08-07T12:58:14.047Z"
   },
   {
    "duration": 38,
    "start_time": "2023-08-07T12:58:14.084Z"
   },
   {
    "duration": 33,
    "start_time": "2023-08-07T12:58:14.124Z"
   },
   {
    "duration": 222,
    "start_time": "2023-08-07T12:58:14.160Z"
   },
   {
    "duration": 7,
    "start_time": "2023-08-07T12:58:14.383Z"
   },
   {
    "duration": 115,
    "start_time": "2023-08-07T12:58:14.392Z"
   },
   {
    "duration": 7,
    "start_time": "2023-08-07T12:58:14.508Z"
   },
   {
    "duration": 33,
    "start_time": "2023-08-07T12:58:14.517Z"
   },
   {
    "duration": 206,
    "start_time": "2023-08-07T12:58:14.552Z"
   },
   {
    "duration": 9,
    "start_time": "2023-08-07T12:58:14.760Z"
   },
   {
    "duration": 315,
    "start_time": "2023-08-07T12:58:14.771Z"
   },
   {
    "duration": 9,
    "start_time": "2023-08-07T12:58:15.088Z"
   },
   {
    "duration": 38,
    "start_time": "2023-08-07T12:58:15.098Z"
   },
   {
    "duration": 296,
    "start_time": "2023-08-07T12:58:15.138Z"
   },
   {
    "duration": 38,
    "start_time": "2023-08-07T12:58:15.435Z"
   },
   {
    "duration": 15,
    "start_time": "2023-08-07T12:58:15.474Z"
   },
   {
    "duration": 21,
    "start_time": "2023-08-07T12:58:15.491Z"
   },
   {
    "duration": 49,
    "start_time": "2023-08-07T12:58:15.515Z"
   },
   {
    "duration": 476,
    "start_time": "2023-08-07T12:58:15.566Z"
   },
   {
    "duration": 516,
    "start_time": "2023-08-07T12:58:16.043Z"
   },
   {
    "duration": 14,
    "start_time": "2023-08-07T12:58:16.561Z"
   },
   {
    "duration": 943,
    "start_time": "2023-08-07T12:58:16.576Z"
   },
   {
    "duration": 3,
    "start_time": "2023-08-07T12:58:17.521Z"
   },
   {
    "duration": 976,
    "start_time": "2023-08-07T12:58:17.526Z"
   },
   {
    "duration": 172,
    "start_time": "2023-08-07T12:58:18.504Z"
   },
   {
    "duration": 8,
    "start_time": "2023-08-07T12:58:18.678Z"
   },
   {
    "duration": 25,
    "start_time": "2023-08-07T12:58:18.688Z"
   },
   {
    "duration": 29,
    "start_time": "2023-08-07T12:58:18.715Z"
   }
  ],
  "kernelspec": {
   "display_name": "Python 3 (ipykernel)",
   "language": "python",
   "name": "python3"
  },
  "language_info": {
   "codemirror_mode": {
    "name": "ipython",
    "version": 3
   },
   "file_extension": ".py",
   "mimetype": "text/x-python",
   "name": "python",
   "nbconvert_exporter": "python",
   "pygments_lexer": "ipython3",
   "version": "3.9.5"
  },
  "toc": {
   "base_numbering": 1,
   "nav_menu": {},
   "number_sections": true,
   "sideBar": true,
   "skip_h1_title": true,
   "title_cell": "Table of Contents",
   "title_sidebar": "Contents",
   "toc_cell": false,
   "toc_position": {},
   "toc_section_display": true,
   "toc_window_display": false
  }
 },
 "nbformat": 4,
 "nbformat_minor": 5
}

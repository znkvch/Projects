{
 "cells": [
  {
   "cell_type": "markdown",
   "metadata": {},
   "source": [
    "#  Прогнозирование количества заказов такси на следующий час"
   ]
  },
  {
   "cell_type": "markdown",
   "metadata": {},
   "source": [
    "Компания «Чётенькое такси» собрала исторические данные о заказах такси в аэропортах. Чтобы привлекать больше водителей в период пиковой нагрузки, нужно спрогнозировать количество заказов такси на следующий час. Постройте модель для такого предсказания.\n",
    "\n",
    "Значение метрики *RMSE* на тестовой выборке должно быть не больше 48."
   ]
  },
  {
   "cell_type": "markdown",
   "metadata": {},
   "source": [
    "## Подготовка"
   ]
  },
  {
   "cell_type": "code",
   "execution_count": 1,
   "metadata": {},
   "outputs": [],
   "source": [
    "import time\n",
    "import warnings\n",
    "import numpy as np\n",
    "import pandas as pd\n",
    "import matplotlib.pyplot as plt\n",
    "import seaborn as sns\n",
    "import lightgbm as lgb\n",
    "\n",
    "from sklearn.model_selection import GridSearchCV\n",
    "from catboost import CatBoostRegressor\n",
    "from xgboost import XGBRegressor\n",
    "from statsmodels.tsa.seasonal import seasonal_decompose\n",
    "from sklearn.model_selection import train_test_split\n",
    "from sklearn.linear_model import LinearRegression\n",
    "from sklearn.tree import DecisionTreeRegressor\n",
    "from sklearn.ensemble import RandomForestRegressor\n",
    "from sklearn.metrics import mean_squared_error\n",
    "from sklearn.model_selection import TimeSeriesSplit\n",
    "\n",
    "warnings.simplefilter(action='ignore', category=FutureWarning)"
   ]
  },
  {
   "cell_type": "markdown",
   "metadata": {},
   "source": [
    "Загрузим и посмотрим на данные"
   ]
  },
  {
   "cell_type": "code",
   "execution_count": 2,
   "metadata": {},
   "outputs": [
    {
     "ename": "FileNotFoundError",
     "evalue": "[Errno 2] No such file or directory: '/datasets/taxi.csv'",
     "output_type": "error",
     "traceback": [
      "\u001b[1;31m---------------------------------------------------------------------------\u001b[0m",
      "\u001b[1;31mFileNotFoundError\u001b[0m                         Traceback (most recent call last)",
      "Cell \u001b[1;32mIn[2], line 1\u001b[0m\n\u001b[1;32m----> 1\u001b[0m df \u001b[38;5;241m=\u001b[39m \u001b[43mpd\u001b[49m\u001b[38;5;241;43m.\u001b[39;49m\u001b[43mread_csv\u001b[49m\u001b[43m(\u001b[49m\u001b[38;5;124;43m'\u001b[39;49m\u001b[38;5;124;43m/datasets/taxi.csv\u001b[39;49m\u001b[38;5;124;43m'\u001b[39;49m\u001b[43m,\u001b[49m\u001b[43mindex_col\u001b[49m\u001b[38;5;241;43m=\u001b[39;49m\u001b[43m[\u001b[49m\u001b[38;5;241;43m0\u001b[39;49m\u001b[43m]\u001b[49m\u001b[43m,\u001b[49m\u001b[43m \u001b[49m\u001b[43mparse_dates\u001b[49m\u001b[38;5;241;43m=\u001b[39;49m\u001b[43m[\u001b[49m\u001b[38;5;241;43m0\u001b[39;49m\u001b[43m]\u001b[49m\u001b[43m)\u001b[49m\n",
      "File \u001b[1;32mc:\\users\\user\\appdata\\local\\programs\\python\\python39\\lib\\site-packages\\pandas\\io\\parsers\\readers.py:948\u001b[0m, in \u001b[0;36mread_csv\u001b[1;34m(filepath_or_buffer, sep, delimiter, header, names, index_col, usecols, dtype, engine, converters, true_values, false_values, skipinitialspace, skiprows, skipfooter, nrows, na_values, keep_default_na, na_filter, verbose, skip_blank_lines, parse_dates, infer_datetime_format, keep_date_col, date_parser, date_format, dayfirst, cache_dates, iterator, chunksize, compression, thousands, decimal, lineterminator, quotechar, quoting, doublequote, escapechar, comment, encoding, encoding_errors, dialect, on_bad_lines, delim_whitespace, low_memory, memory_map, float_precision, storage_options, dtype_backend)\u001b[0m\n\u001b[0;32m    935\u001b[0m kwds_defaults \u001b[38;5;241m=\u001b[39m _refine_defaults_read(\n\u001b[0;32m    936\u001b[0m     dialect,\n\u001b[0;32m    937\u001b[0m     delimiter,\n\u001b[1;32m   (...)\u001b[0m\n\u001b[0;32m    944\u001b[0m     dtype_backend\u001b[38;5;241m=\u001b[39mdtype_backend,\n\u001b[0;32m    945\u001b[0m )\n\u001b[0;32m    946\u001b[0m kwds\u001b[38;5;241m.\u001b[39mupdate(kwds_defaults)\n\u001b[1;32m--> 948\u001b[0m \u001b[38;5;28;01mreturn\u001b[39;00m \u001b[43m_read\u001b[49m\u001b[43m(\u001b[49m\u001b[43mfilepath_or_buffer\u001b[49m\u001b[43m,\u001b[49m\u001b[43m \u001b[49m\u001b[43mkwds\u001b[49m\u001b[43m)\u001b[49m\n",
      "File \u001b[1;32mc:\\users\\user\\appdata\\local\\programs\\python\\python39\\lib\\site-packages\\pandas\\io\\parsers\\readers.py:611\u001b[0m, in \u001b[0;36m_read\u001b[1;34m(filepath_or_buffer, kwds)\u001b[0m\n\u001b[0;32m    608\u001b[0m _validate_names(kwds\u001b[38;5;241m.\u001b[39mget(\u001b[38;5;124m\"\u001b[39m\u001b[38;5;124mnames\u001b[39m\u001b[38;5;124m\"\u001b[39m, \u001b[38;5;28;01mNone\u001b[39;00m))\n\u001b[0;32m    610\u001b[0m \u001b[38;5;66;03m# Create the parser.\u001b[39;00m\n\u001b[1;32m--> 611\u001b[0m parser \u001b[38;5;241m=\u001b[39m TextFileReader(filepath_or_buffer, \u001b[38;5;241m*\u001b[39m\u001b[38;5;241m*\u001b[39mkwds)\n\u001b[0;32m    613\u001b[0m \u001b[38;5;28;01mif\u001b[39;00m chunksize \u001b[38;5;129;01mor\u001b[39;00m iterator:\n\u001b[0;32m    614\u001b[0m     \u001b[38;5;28;01mreturn\u001b[39;00m parser\n",
      "File \u001b[1;32mc:\\users\\user\\appdata\\local\\programs\\python\\python39\\lib\\site-packages\\pandas\\io\\parsers\\readers.py:1448\u001b[0m, in \u001b[0;36mTextFileReader.__init__\u001b[1;34m(self, f, engine, **kwds)\u001b[0m\n\u001b[0;32m   1445\u001b[0m     \u001b[38;5;28mself\u001b[39m\u001b[38;5;241m.\u001b[39moptions[\u001b[38;5;124m\"\u001b[39m\u001b[38;5;124mhas_index_names\u001b[39m\u001b[38;5;124m\"\u001b[39m] \u001b[38;5;241m=\u001b[39m kwds[\u001b[38;5;124m\"\u001b[39m\u001b[38;5;124mhas_index_names\u001b[39m\u001b[38;5;124m\"\u001b[39m]\n\u001b[0;32m   1447\u001b[0m \u001b[38;5;28mself\u001b[39m\u001b[38;5;241m.\u001b[39mhandles: IOHandles \u001b[38;5;241m|\u001b[39m \u001b[38;5;28;01mNone\u001b[39;00m \u001b[38;5;241m=\u001b[39m \u001b[38;5;28;01mNone\u001b[39;00m\n\u001b[1;32m-> 1448\u001b[0m \u001b[38;5;28mself\u001b[39m\u001b[38;5;241m.\u001b[39m_engine \u001b[38;5;241m=\u001b[39m \u001b[38;5;28;43mself\u001b[39;49m\u001b[38;5;241;43m.\u001b[39;49m\u001b[43m_make_engine\u001b[49m\u001b[43m(\u001b[49m\u001b[43mf\u001b[49m\u001b[43m,\u001b[49m\u001b[43m \u001b[49m\u001b[38;5;28;43mself\u001b[39;49m\u001b[38;5;241;43m.\u001b[39;49m\u001b[43mengine\u001b[49m\u001b[43m)\u001b[49m\n",
      "File \u001b[1;32mc:\\users\\user\\appdata\\local\\programs\\python\\python39\\lib\\site-packages\\pandas\\io\\parsers\\readers.py:1705\u001b[0m, in \u001b[0;36mTextFileReader._make_engine\u001b[1;34m(self, f, engine)\u001b[0m\n\u001b[0;32m   1703\u001b[0m     \u001b[38;5;28;01mif\u001b[39;00m \u001b[38;5;124m\"\u001b[39m\u001b[38;5;124mb\u001b[39m\u001b[38;5;124m\"\u001b[39m \u001b[38;5;129;01mnot\u001b[39;00m \u001b[38;5;129;01min\u001b[39;00m mode:\n\u001b[0;32m   1704\u001b[0m         mode \u001b[38;5;241m+\u001b[39m\u001b[38;5;241m=\u001b[39m \u001b[38;5;124m\"\u001b[39m\u001b[38;5;124mb\u001b[39m\u001b[38;5;124m\"\u001b[39m\n\u001b[1;32m-> 1705\u001b[0m \u001b[38;5;28mself\u001b[39m\u001b[38;5;241m.\u001b[39mhandles \u001b[38;5;241m=\u001b[39m \u001b[43mget_handle\u001b[49m\u001b[43m(\u001b[49m\n\u001b[0;32m   1706\u001b[0m \u001b[43m    \u001b[49m\u001b[43mf\u001b[49m\u001b[43m,\u001b[49m\n\u001b[0;32m   1707\u001b[0m \u001b[43m    \u001b[49m\u001b[43mmode\u001b[49m\u001b[43m,\u001b[49m\n\u001b[0;32m   1708\u001b[0m \u001b[43m    \u001b[49m\u001b[43mencoding\u001b[49m\u001b[38;5;241;43m=\u001b[39;49m\u001b[38;5;28;43mself\u001b[39;49m\u001b[38;5;241;43m.\u001b[39;49m\u001b[43moptions\u001b[49m\u001b[38;5;241;43m.\u001b[39;49m\u001b[43mget\u001b[49m\u001b[43m(\u001b[49m\u001b[38;5;124;43m\"\u001b[39;49m\u001b[38;5;124;43mencoding\u001b[39;49m\u001b[38;5;124;43m\"\u001b[39;49m\u001b[43m,\u001b[49m\u001b[43m \u001b[49m\u001b[38;5;28;43;01mNone\u001b[39;49;00m\u001b[43m)\u001b[49m\u001b[43m,\u001b[49m\n\u001b[0;32m   1709\u001b[0m \u001b[43m    \u001b[49m\u001b[43mcompression\u001b[49m\u001b[38;5;241;43m=\u001b[39;49m\u001b[38;5;28;43mself\u001b[39;49m\u001b[38;5;241;43m.\u001b[39;49m\u001b[43moptions\u001b[49m\u001b[38;5;241;43m.\u001b[39;49m\u001b[43mget\u001b[49m\u001b[43m(\u001b[49m\u001b[38;5;124;43m\"\u001b[39;49m\u001b[38;5;124;43mcompression\u001b[39;49m\u001b[38;5;124;43m\"\u001b[39;49m\u001b[43m,\u001b[49m\u001b[43m \u001b[49m\u001b[38;5;28;43;01mNone\u001b[39;49;00m\u001b[43m)\u001b[49m\u001b[43m,\u001b[49m\n\u001b[0;32m   1710\u001b[0m \u001b[43m    \u001b[49m\u001b[43mmemory_map\u001b[49m\u001b[38;5;241;43m=\u001b[39;49m\u001b[38;5;28;43mself\u001b[39;49m\u001b[38;5;241;43m.\u001b[39;49m\u001b[43moptions\u001b[49m\u001b[38;5;241;43m.\u001b[39;49m\u001b[43mget\u001b[49m\u001b[43m(\u001b[49m\u001b[38;5;124;43m\"\u001b[39;49m\u001b[38;5;124;43mmemory_map\u001b[39;49m\u001b[38;5;124;43m\"\u001b[39;49m\u001b[43m,\u001b[49m\u001b[43m \u001b[49m\u001b[38;5;28;43;01mFalse\u001b[39;49;00m\u001b[43m)\u001b[49m\u001b[43m,\u001b[49m\n\u001b[0;32m   1711\u001b[0m \u001b[43m    \u001b[49m\u001b[43mis_text\u001b[49m\u001b[38;5;241;43m=\u001b[39;49m\u001b[43mis_text\u001b[49m\u001b[43m,\u001b[49m\n\u001b[0;32m   1712\u001b[0m \u001b[43m    \u001b[49m\u001b[43merrors\u001b[49m\u001b[38;5;241;43m=\u001b[39;49m\u001b[38;5;28;43mself\u001b[39;49m\u001b[38;5;241;43m.\u001b[39;49m\u001b[43moptions\u001b[49m\u001b[38;5;241;43m.\u001b[39;49m\u001b[43mget\u001b[49m\u001b[43m(\u001b[49m\u001b[38;5;124;43m\"\u001b[39;49m\u001b[38;5;124;43mencoding_errors\u001b[39;49m\u001b[38;5;124;43m\"\u001b[39;49m\u001b[43m,\u001b[49m\u001b[43m \u001b[49m\u001b[38;5;124;43m\"\u001b[39;49m\u001b[38;5;124;43mstrict\u001b[39;49m\u001b[38;5;124;43m\"\u001b[39;49m\u001b[43m)\u001b[49m\u001b[43m,\u001b[49m\n\u001b[0;32m   1713\u001b[0m \u001b[43m    \u001b[49m\u001b[43mstorage_options\u001b[49m\u001b[38;5;241;43m=\u001b[39;49m\u001b[38;5;28;43mself\u001b[39;49m\u001b[38;5;241;43m.\u001b[39;49m\u001b[43moptions\u001b[49m\u001b[38;5;241;43m.\u001b[39;49m\u001b[43mget\u001b[49m\u001b[43m(\u001b[49m\u001b[38;5;124;43m\"\u001b[39;49m\u001b[38;5;124;43mstorage_options\u001b[39;49m\u001b[38;5;124;43m\"\u001b[39;49m\u001b[43m,\u001b[49m\u001b[43m \u001b[49m\u001b[38;5;28;43;01mNone\u001b[39;49;00m\u001b[43m)\u001b[49m\u001b[43m,\u001b[49m\n\u001b[0;32m   1714\u001b[0m \u001b[43m\u001b[49m\u001b[43m)\u001b[49m\n\u001b[0;32m   1715\u001b[0m \u001b[38;5;28;01massert\u001b[39;00m \u001b[38;5;28mself\u001b[39m\u001b[38;5;241m.\u001b[39mhandles \u001b[38;5;129;01mis\u001b[39;00m \u001b[38;5;129;01mnot\u001b[39;00m \u001b[38;5;28;01mNone\u001b[39;00m\n\u001b[0;32m   1716\u001b[0m f \u001b[38;5;241m=\u001b[39m \u001b[38;5;28mself\u001b[39m\u001b[38;5;241m.\u001b[39mhandles\u001b[38;5;241m.\u001b[39mhandle\n",
      "File \u001b[1;32mc:\\users\\user\\appdata\\local\\programs\\python\\python39\\lib\\site-packages\\pandas\\io\\common.py:863\u001b[0m, in \u001b[0;36mget_handle\u001b[1;34m(path_or_buf, mode, encoding, compression, memory_map, is_text, errors, storage_options)\u001b[0m\n\u001b[0;32m    858\u001b[0m \u001b[38;5;28;01melif\u001b[39;00m \u001b[38;5;28misinstance\u001b[39m(handle, \u001b[38;5;28mstr\u001b[39m):\n\u001b[0;32m    859\u001b[0m     \u001b[38;5;66;03m# Check whether the filename is to be opened in binary mode.\u001b[39;00m\n\u001b[0;32m    860\u001b[0m     \u001b[38;5;66;03m# Binary mode does not support 'encoding' and 'newline'.\u001b[39;00m\n\u001b[0;32m    861\u001b[0m     \u001b[38;5;28;01mif\u001b[39;00m ioargs\u001b[38;5;241m.\u001b[39mencoding \u001b[38;5;129;01mand\u001b[39;00m \u001b[38;5;124m\"\u001b[39m\u001b[38;5;124mb\u001b[39m\u001b[38;5;124m\"\u001b[39m \u001b[38;5;129;01mnot\u001b[39;00m \u001b[38;5;129;01min\u001b[39;00m ioargs\u001b[38;5;241m.\u001b[39mmode:\n\u001b[0;32m    862\u001b[0m         \u001b[38;5;66;03m# Encoding\u001b[39;00m\n\u001b[1;32m--> 863\u001b[0m         handle \u001b[38;5;241m=\u001b[39m \u001b[38;5;28;43mopen\u001b[39;49m\u001b[43m(\u001b[49m\n\u001b[0;32m    864\u001b[0m \u001b[43m            \u001b[49m\u001b[43mhandle\u001b[49m\u001b[43m,\u001b[49m\n\u001b[0;32m    865\u001b[0m \u001b[43m            \u001b[49m\u001b[43mioargs\u001b[49m\u001b[38;5;241;43m.\u001b[39;49m\u001b[43mmode\u001b[49m\u001b[43m,\u001b[49m\n\u001b[0;32m    866\u001b[0m \u001b[43m            \u001b[49m\u001b[43mencoding\u001b[49m\u001b[38;5;241;43m=\u001b[39;49m\u001b[43mioargs\u001b[49m\u001b[38;5;241;43m.\u001b[39;49m\u001b[43mencoding\u001b[49m\u001b[43m,\u001b[49m\n\u001b[0;32m    867\u001b[0m \u001b[43m            \u001b[49m\u001b[43merrors\u001b[49m\u001b[38;5;241;43m=\u001b[39;49m\u001b[43merrors\u001b[49m\u001b[43m,\u001b[49m\n\u001b[0;32m    868\u001b[0m \u001b[43m            \u001b[49m\u001b[43mnewline\u001b[49m\u001b[38;5;241;43m=\u001b[39;49m\u001b[38;5;124;43m\"\u001b[39;49m\u001b[38;5;124;43m\"\u001b[39;49m\u001b[43m,\u001b[49m\n\u001b[0;32m    869\u001b[0m \u001b[43m        \u001b[49m\u001b[43m)\u001b[49m\n\u001b[0;32m    870\u001b[0m     \u001b[38;5;28;01melse\u001b[39;00m:\n\u001b[0;32m    871\u001b[0m         \u001b[38;5;66;03m# Binary mode\u001b[39;00m\n\u001b[0;32m    872\u001b[0m         handle \u001b[38;5;241m=\u001b[39m \u001b[38;5;28mopen\u001b[39m(handle, ioargs\u001b[38;5;241m.\u001b[39mmode)\n",
      "\u001b[1;31mFileNotFoundError\u001b[0m: [Errno 2] No such file or directory: '/datasets/taxi.csv'"
     ]
    }
   ],
   "source": [
    "df = pd.read_csv('/datasets/taxi.csv',index_col=[0], parse_dates=[0])\n",
    "\n",
    "\n",
    "try:\n",
    "    df = pd.read_csv('/datasets/taxi.csv',index_col=[0], parse_dates=[0])     \n",
    "except:\n",
    "    df = pd.read_csv('c:/Users/User/Downloads/autos.csv')"
   ]
  },
  {
   "cell_type": "code",
   "execution_count": null,
   "metadata": {},
   "outputs": [],
   "source": [
    "df.tail()"
   ]
  },
  {
   "cell_type": "code",
   "execution_count": null,
   "metadata": {},
   "outputs": [],
   "source": [
    "df.info()"
   ]
  },
  {
   "cell_type": "markdown",
   "metadata": {},
   "source": [
    " Проведем ресемплирование по одному часу"
   ]
  },
  {
   "cell_type": "code",
   "execution_count": null,
   "metadata": {},
   "outputs": [],
   "source": [
    "df = df.resample('1H').sum()"
   ]
  },
  {
   "cell_type": "markdown",
   "metadata": {},
   "source": [
    "Проверяем на наличие пропущенных значений"
   ]
  },
  {
   "cell_type": "code",
   "execution_count": null,
   "metadata": {},
   "outputs": [],
   "source": [
    "df.isnull().sum()"
   ]
  },
  {
   "cell_type": "markdown",
   "metadata": {},
   "source": [
    "Проверим на дубликаты"
   ]
  },
  {
   "cell_type": "code",
   "execution_count": null,
   "metadata": {},
   "outputs": [],
   "source": [
    "df.duplicated().sum()"
   ]
  },
  {
   "cell_type": "code",
   "execution_count": null,
   "metadata": {},
   "outputs": [],
   "source": [
    "df.describe()"
   ]
  },
  {
   "cell_type": "markdown",
   "metadata": {},
   "source": [
    "Построим график рассеяния для почасовых данных"
   ]
  },
  {
   "cell_type": "code",
   "execution_count": null,
   "metadata": {},
   "outputs": [],
   "source": [
    "fig, ax = plt.subplots(figsize=(10, 10))\n",
    "ax.scatter(df.index.values, df['num_orders'])\n",
    "ax.set(xlabel=\"Дата и время\",\n",
    "       ylabel=\"Количество заказов\",\n",
    "       title=\"Почасовое количество заказов такси за 2018г.\")\n",
    "\n",
    "plt.show()"
   ]
  },
  {
   "cell_type": "markdown",
   "metadata": {},
   "source": [
    "#### Вывод: \n",
    "У нас есть количество заказов за полгода 2018 года с марта по сентябрь на каждый час. Набор данных всего содержит 26 496 строк и 1 столбец с количеством заказов такси. Результаты:\n",
    "- В данных нет пропущенных (NaN) значений\n",
    "- В данных есть 4165 дубликатов, однако эти дубликаты могут являться следствием большого количества заказов такси примерно в одно время.\n",
    "- График рассеяния показал что вне зависимости от времени большинство заказов приходится на промежуток от 0 до 100 заказов, однако ближе к сентябрю 2018 (2019-09), минимальное кол-во заказов увеличилось, а также видны необычные выбросы в данных."
   ]
  },
  {
   "cell_type": "markdown",
   "metadata": {},
   "source": [
    "## Анализ"
   ]
  },
  {
   "cell_type": "markdown",
   "metadata": {},
   "source": [
    "Задача прогнозирования временного ряда состоит в построении модели, которая по историческим данным предскажет будущие значения временного ряда. Чтобы построить модель прогнозирования временных рядов, необходимо сначала преобразовать любой нестационарный ряд в стационарный. Стационарный временной ряд — это ряд, в котором среднее значение и стандартное отклонение не меняются со временем (не имеют тренда)."
   ]
  },
  {
   "cell_type": "markdown",
   "metadata": {},
   "source": [
    "Построим гистрограмму для количества заказов в зависимости от времени:"
   ]
  },
  {
   "cell_type": "code",
   "execution_count": null,
   "metadata": {},
   "outputs": [],
   "source": [
    "df.plot(kind='hist', bins=50,figsize=(8,5),title='Гистограмма количества почасовых заказов такси за 2018г.', grid=True);"
   ]
  },
  {
   "cell_type": "markdown",
   "metadata": {},
   "source": [
    "Распределение приняло форму распледеления Гаусса (нормальное распределение) со сдвигом вправо."
   ]
  },
  {
   "cell_type": "markdown",
   "metadata": {},
   "source": [
    "Увеличим шаг и посмотрим на данные по месяцам:"
   ]
  },
  {
   "cell_type": "code",
   "execution_count": null,
   "metadata": {},
   "outputs": [],
   "source": [
    "ax = df.plot(figsize=(15, 6))\n",
    "ax.set_xlabel(\"Месяцы\")\n",
    "ax.set_ylabel(\"Количество заказов\")\n",
    "plt.title('Количество заказов такси по месяцам');"
   ]
  },
  {
   "cell_type": "markdown",
   "metadata": {},
   "source": [
    "Чтобы уменьшить разность временного ряда, рассмотрим тренд, сезонность и остатки декомпозоции."
   ]
  },
  {
   "cell_type": "code",
   "execution_count": null,
   "metadata": {},
   "outputs": [],
   "source": [
    "decomposed = seasonal_decompose(df)"
   ]
  },
  {
   "cell_type": "markdown",
   "metadata": {},
   "source": [
    "Построим график тренда"
   ]
  },
  {
   "cell_type": "code",
   "execution_count": null,
   "metadata": {},
   "outputs": [],
   "source": [
    "decomposed.trend.plot(ax=plt.gca(),figsize=(10, 4))\n",
    "plt.title('Тренд')\n",
    "plt.tight_layout()"
   ]
  },
  {
   "cell_type": "markdown",
   "metadata": {},
   "source": [
    "Построим график сезонности"
   ]
  },
  {
   "cell_type": "code",
   "execution_count": null,
   "metadata": {},
   "outputs": [],
   "source": [
    "decomposed.seasonal.plot(ax=plt.gca(),figsize=(10, 4))\n",
    "plt.title('Сезонность')\n",
    "plt.tight_layout()"
   ]
  },
  {
   "cell_type": "markdown",
   "metadata": {},
   "source": [
    "Построим график остатков"
   ]
  },
  {
   "cell_type": "code",
   "execution_count": null,
   "metadata": {},
   "outputs": [],
   "source": [
    "decomposed.resid.plot(ax=plt.gca(),figsize=(10, 4))\n",
    "plt.title('Остатки')\n",
    "plt.tight_layout()"
   ]
  },
  {
   "cell_type": "markdown",
   "metadata": {},
   "source": [
    "Построим график с сезонной составляющей (переодически повторяющейся компонентой) за один день середины (15) августа 2018 г. (перед повышением тренда в сентябре)"
   ]
  },
  {
   "cell_type": "code",
   "execution_count": null,
   "metadata": {},
   "outputs": [],
   "source": [
    "decomposed.seasonal['2018-08-15'].plot(figsize=(15, 6))\n",
    "plt.title('Сезонность за 15 августа 2018г.');"
   ]
  },
  {
   "cell_type": "markdown",
   "metadata": {},
   "source": [
    "Для сравнения построим такой же график для другого дня, например в середине (15) марта 2018г."
   ]
  },
  {
   "cell_type": "code",
   "execution_count": null,
   "metadata": {},
   "outputs": [],
   "source": [
    "decomposed.seasonal['2018-03-15'].plot(figsize=(15, 6))\n",
    "plt.title('Сезонность за 15 марта 2018');"
   ]
  },
  {
   "cell_type": "markdown",
   "metadata": {},
   "source": [
    "Оба графика выглядят идентичными друг другу, то есть сезонность кажется независимой от времени."
   ]
  },
  {
   "cell_type": "markdown",
   "metadata": {},
   "source": [
    "Чтобы сделать данные стационарными, мы можем вычеслить разность временного ряда"
   ]
  },
  {
   "cell_type": "markdown",
   "metadata": {},
   "source": [
    "Из данных за январь-июнь 2018 нужно вычесть результат вызова метода shift()."
   ]
  },
  {
   "cell_type": "code",
   "execution_count": null,
   "metadata": {
    "scrolled": true
   },
   "outputs": [],
   "source": [
    "df_copy = df.copy()\n",
    "df = df - df_copy.shift()\n",
    "df.dropna(inplace=True)\n",
    "ax = df.plot(figsize=(15, 6));\n",
    "ax.set_xlabel(\"Месяцы\")\n",
    "ax.set_ylabel(\"Количество заказов\")"
   ]
  },
  {
   "cell_type": "markdown",
   "metadata": {},
   "source": [
    "#### Вывод: \n",
    " - Гистограмма принимает форму нормального распределения (распределения Гаусса) со сдвигом вправо, но среднее значение изменяется на графике \"Tренда\" по мере приближения графика к сентябрю 2018.\n",
    " - Привели временной ряд к стационарному виду."
   ]
  },
  {
   "cell_type": "markdown",
   "metadata": {},
   "source": [
    "## Обучение"
   ]
  },
  {
   "cell_type": "markdown",
   "metadata": {},
   "source": [
    "#### Подготова признаков"
   ]
  },
  {
   "cell_type": "markdown",
   "metadata": {},
   "source": [
    "Создание признаков для одношагового прогноза с горизонтом в один час"
   ]
  },
  {
   "cell_type": "code",
   "execution_count": null,
   "metadata": {},
   "outputs": [],
   "source": [
    "def make_features(data, max_lag, rolling_mean_size):\n",
    "    # Формирование календарных признаков\n",
    "    data['dayofweek'] = data.index.dayofweek\n",
    "    data['hour'] = data.index.hour\n",
    "    \n",
    "    # Формирование отстающих признаков\n",
    "    for lag in range(1, max_lag + 1):\n",
    "        data['lag_{}'.format(lag)] = data['num_orders'].shift(lag)\n",
    "        \n",
    "    # Добавление признака скользящего среднего\n",
    "    data['rolling_mean'] = data['num_orders'].shift().rolling(rolling_mean_size).mean()"
   ]
  },
  {
   "cell_type": "markdown",
   "metadata": {},
   "source": [
    "max_lag подбирается эксперементально. Вызовем функцию max_features() с max_lag = 4 и rolling_mean_size = 5."
   ]
  },
  {
   "cell_type": "code",
   "execution_count": null,
   "metadata": {},
   "outputs": [],
   "source": [
    "make_features(df, 4, 5)"
   ]
  },
  {
   "cell_type": "markdown",
   "metadata": {},
   "source": [
    "Разбиение данных на train, valid и test выборки. При работе с временными рядами перемешивать данные при разбиении на выборки нельзя"
   ]
  },
  {
   "cell_type": "code",
   "execution_count": null,
   "metadata": {},
   "outputs": [],
   "source": [
    "train_valid, test = train_test_split(df, shuffle=False, test_size=0.1)\n",
    "train_valid = train_valid.dropna()\n",
    "train, valid = train_test_split(train_valid, shuffle=False, test_size=0.1)"
   ]
  },
  {
   "cell_type": "code",
   "execution_count": null,
   "metadata": {},
   "outputs": [],
   "source": [
    "valid.index.max(), test.index.min()"
   ]
  },
  {
   "cell_type": "markdown",
   "metadata": {},
   "source": [
    "Создание признаков и целевых признаков данных"
   ]
  },
  {
   "cell_type": "code",
   "execution_count": null,
   "metadata": {},
   "outputs": [],
   "source": [
    "features_train = train.drop(['num_orders'], axis=1)\n",
    "target_train = train['num_orders']\n",
    "\n",
    "features_valid = valid.drop(['num_orders'], axis=1)\n",
    "target_valid = valid['num_orders']\n",
    "\n",
    "features_test = test.drop(['num_orders'], axis=1)\n",
    "target_test = test['num_orders']"
   ]
  },
  {
   "cell_type": "markdown",
   "metadata": {},
   "source": [
    "#### Подборка лучшей модели"
   ]
  },
  {
   "cell_type": "markdown",
   "metadata": {},
   "source": [
    "Нам необходимо эффективно подобрать наиболее эффективную модель, то есть проанализировать несколько модели и сравнить их RMSE моделей (оценка качества) и выбрать ту которая наиболее близка к нулю. Также отследим время обучения моделей. Мы обучим и проанализируем следующие модели:\n",
    "\n",
    "- Linear Regression (Линейная регрессия)\n",
    "- Random Forest (Случайный лес)\n",
    "- Catboost\n",
    "- LightGBM"
   ]
  },
  {
   "cell_type": "markdown",
   "metadata": {},
   "source": [
    "**Модель Линейная регрессия**"
   ]
  },
  {
   "cell_type": "code",
   "execution_count": null,
   "metadata": {},
   "outputs": [],
   "source": [
    "%%time\n",
    "lr = LinearRegression() # создание класса модели\n",
    "lr.fit(features_train, target_train) # обучение модели\n",
    "predicted_train = lr.predict(features_train) # предсказание значений для train\n",
    "predicted_valid = lr.predict(features_valid) # предсказание значений для valid\n",
    "\n",
    "# RMSE\n",
    "print(\"RMSE обучающей выборки:\", mean_squared_error(target_train, predicted_train) ** 0.5)\n",
    "print(\"RMSE валидационной выборки \", mean_squared_error(target_valid, predicted_valid) ** 0.5)"
   ]
  },
  {
   "cell_type": "code",
   "execution_count": null,
   "metadata": {},
   "outputs": [],
   "source": [
    "a = target_valid.tolist()\n",
    "b = predicted_valid.tolist()\n",
    "c = target_valid.index.tolist()\n",
    "plt.figure(figsize=(15, 10))\n",
    "plt.plot(c, a, label = \"target\")\n",
    "plt.plot(c, b, label = \"predicted\")\n",
    "plt.legend()\n",
    "plt.show()"
   ]
  },
  {
   "cell_type": "markdown",
   "metadata": {},
   "source": [
    "**Модель Случайный Лес**"
   ]
  },
  {
   "cell_type": "code",
   "execution_count": null,
   "metadata": {},
   "outputs": [],
   "source": [
    "%%time\n",
    "rm = RandomForestRegressor(n_estimators=100, max_depth=6, random_state=42) # create model class\n",
    "rm.fit(features_train, target_train) # обучение модели\n",
    "predicted_train = rm.predict(features_train) # предсказание значений для train\n",
    "predicted_valid = rm.predict(features_valid) # предсказание значений для valid\n",
    "\n",
    "# RMSE\n",
    "print(\"RMSE обучающей выборки:\", mean_squared_error(target_train, predicted_train) ** 0.5)\n",
    "print(\"RMSE валидационной выборки \", mean_squared_error(target_valid, predicted_valid) ** 0.5)"
   ]
  },
  {
   "cell_type": "code",
   "execution_count": null,
   "metadata": {},
   "outputs": [],
   "source": [
    "a = target_valid.tolist()\n",
    "b = predicted_valid.tolist()\n",
    "c = target_valid.index.tolist()\n",
    "plt.figure(figsize=(15, 10))\n",
    "plt.plot(c, a, label = \"target\")\n",
    "plt.plot(c, b, label = \"predicted\")\n",
    "plt.legend()\n",
    "plt.show()"
   ]
  },
  {
   "cell_type": "markdown",
   "metadata": {},
   "source": [
    "**Модель Catboost**"
   ]
  },
  {
   "cell_type": "code",
   "execution_count": null,
   "metadata": {},
   "outputs": [],
   "source": [
    "%%time\n",
    "cb = CatBoostRegressor(n_estimators=200,\n",
    "                       loss_function='RMSE',\n",
    "                       learning_rate=0.4,\n",
    "                       depth=3, \n",
    "                       task_type='CPU',\n",
    "                       random_state=42, \n",
    "                       verbose=False)\n",
    "cb.fit(features_train, target_train) # обучение модели\n",
    "predicted_train = cb.predict(features_train) # предсказание значений для train\n",
    "predicted_valid = cb.predict(features_valid) # предсказание значений для valid\n",
    "\n",
    "# RMSE\n",
    "print(\"RMSE обучающей выборки:\", mean_squared_error(target_train, predicted_train) ** 0.5)\n",
    "print(\"RMSE валидационной выборки \", mean_squared_error(target_valid, predicted_valid) ** 0.5)"
   ]
  },
  {
   "cell_type": "code",
   "execution_count": null,
   "metadata": {},
   "outputs": [],
   "source": [
    "a = target_valid.tolist()\n",
    "b = predicted_valid.tolist()\n",
    "c = target_valid.index.tolist()\n",
    "plt.figure(figsize=(15, 10))\n",
    "plt.plot(c, a, label = \"target\")\n",
    "plt.plot(c, b, label = \"predicted\")\n",
    "plt.legend()\n",
    "plt.show()"
   ]
  },
  {
   "cell_type": "markdown",
   "metadata": {},
   "source": [
    "**Модель LightGBM**"
   ]
  },
  {
   "cell_type": "code",
   "execution_count": null,
   "metadata": {
    "scrolled": true
   },
   "outputs": [],
   "source": [
    "%%time\n",
    "estimator = lgb.LGBMRegressor(num_leaves=10)\n",
    "\n",
    "param_grid = {\n",
    "    'learning_rate': [0.05, 0.1, 0.2],\n",
    "    'n_estimators': [5, 10]\n",
    "}\n",
    "tscv = TimeSeriesSplit(n_splits=3)\n",
    "gbm = GridSearchCV(estimator, param_grid, cv=tscv)\n",
    "gbm.fit(features_train, target_train)\n",
    "\n",
    "print('Наилучшие гиперпараметры найденные при помощи GridSearchCV:', gbm.best_params_)"
   ]
  },
  {
   "cell_type": "code",
   "execution_count": null,
   "metadata": {},
   "outputs": [],
   "source": [
    "%%time\n",
    "lgb = lgb.LGBMRegressor(n_estimators=10, \n",
    "                          learning_rate=0.2, \n",
    "                          num_leaves=10, \n",
    "                          max_depth=20, \n",
    "                          random_state=42) # создание класса модели\n",
    "lgb.fit(features_train, target_train) # обучение модели\n",
    "predicted_train = lgb.predict(features_train) # предсказание значений для train\n",
    "predicted_valid = lgb.predict(features_valid) # предсказание значений для valid\n",
    "\n",
    "# RMSE\n",
    "print(\"RMSE обучающей выборки:\", mean_squared_error(target_train, predicted_train) ** 0.5)\n",
    "print(\"RMSE валидационной выборки \", mean_squared_error(target_valid, predicted_valid) ** 0.5)"
   ]
  },
  {
   "cell_type": "code",
   "execution_count": null,
   "metadata": {},
   "outputs": [],
   "source": [
    "a = target_valid.tolist()\n",
    "b = predicted_valid.tolist()\n",
    "c = target_valid.index.tolist()\n",
    "plt.figure(figsize=(15, 10))\n",
    "plt.plot(c, a, label = \"target\")\n",
    "plt.plot(c, b, label = \"predicted\")\n",
    "plt.legend()\n",
    "plt.show()"
   ]
  },
  {
   "cell_type": "markdown",
   "metadata": {},
   "source": [
    "#### Вывод: \n",
    "- Всего было проанализировано 4 модели\n",
    "- Самой быстрой моделью является линейная регрессия, но RMSE этой модель гораздо хуже остальных моделей (44.19). Catboost имеет наилучшее значение RMSE (35.93) и скорость (990 ms). У LightGBM RMSE = 38.03.\n",
    "-  Для дальнейшего анализа выбираем Caboost."
   ]
  },
  {
   "cell_type": "markdown",
   "metadata": {},
   "source": [
    "## Тестирование"
   ]
  },
  {
   "cell_type": "markdown",
   "metadata": {},
   "source": [
    "Тестирование модели на тестовой выборке"
   ]
  },
  {
   "cell_type": "code",
   "execution_count": null,
   "metadata": {},
   "outputs": [],
   "source": [
    "%%time\n",
    "model = CatBoostRegressor(n_estimators=200,\n",
    "                       loss_function='RMSE',\n",
    "                       learning_rate=0.4,\n",
    "                       depth=3, \n",
    "                       task_type='CPU',\n",
    "                       random_state=42, \n",
    "                       verbose=False)\n",
    "model.fit(features_train, target_train) # обучение модели\n",
    "predicted_test = model.predict(features_test) # предсказание значение\n",
    "\n",
    "# RMSE тестовой выборки\n",
    "print(\"RMSE тестовой выборки:\", mean_squared_error(target_test, predicted_test) ** 0.5)"
   ]
  },
  {
   "cell_type": "code",
   "execution_count": null,
   "metadata": {},
   "outputs": [],
   "source": [
    "a = target_test.tolist()\n",
    "b = predicted_test.tolist()\n",
    "c = target_test.index.tolist()\n",
    "plt.figure(figsize=(15, 10))\n",
    "plt.plot(c, a, label = \"target\")\n",
    "plt.plot(c, b, label = \"predicted\")\n",
    "plt.legend()\n",
    "plt.show()"
   ]
  },
  {
   "cell_type": "markdown",
   "metadata": {},
   "source": [
    "#### Вывод: \n",
    "На тестовой выборке и на изначальном датасете модель показала резульат RMSE хуже, чем на валидационной: (46.91 против 35.93), но это является дапустимым значением качества для заказчика (требование >=48 RMSE)"
   ]
  },
  {
   "cell_type": "markdown",
   "metadata": {},
   "source": [
    "## Общий вывод\n",
    "- Мы подобрали и построили модель для прогнозирования количество заказов такси на следующий час, чтобы привлекать больше водителей в период пиковой нагрузки. \n",
    "- Сatbost - модель с наилучшим RMSE, равным 46.91 на тестовой выборке и 35.93 на валидационной. Время обучения в среднем равно 1 секунде."
   ]
  }
 ],
 "metadata": {
  "ExecuteTimeLog": [
   {
    "duration": 1957,
    "start_time": "2023-10-11T07:35:06.003Z"
   },
   {
    "duration": 152,
    "start_time": "2023-10-11T07:35:18.760Z"
   },
   {
    "duration": 11,
    "start_time": "2023-10-11T07:36:33.903Z"
   },
   {
    "duration": 12,
    "start_time": "2023-10-11T07:36:44.462Z"
   },
   {
    "duration": 11,
    "start_time": "2023-10-11T07:37:38.266Z"
   },
   {
    "duration": 7,
    "start_time": "2023-10-11T07:38:27.082Z"
   },
   {
    "duration": 6,
    "start_time": "2023-10-11T07:39:00.394Z"
   },
   {
    "duration": 14,
    "start_time": "2023-10-11T07:39:11.242Z"
   },
   {
    "duration": 133,
    "start_time": "2023-10-11T07:39:52.319Z"
   },
   {
    "duration": 366,
    "start_time": "2023-10-11T07:40:14.712Z"
   },
   {
    "duration": 207,
    "start_time": "2023-10-11T07:40:47.431Z"
   },
   {
    "duration": 232,
    "start_time": "2023-10-11T07:45:50.199Z"
   },
   {
    "duration": 309,
    "start_time": "2023-10-11T07:46:29.712Z"
   },
   {
    "duration": 9,
    "start_time": "2023-10-11T07:47:27.191Z"
   },
   {
    "duration": 384,
    "start_time": "2023-10-11T07:47:55.298Z"
   },
   {
    "duration": 393,
    "start_time": "2023-10-11T07:48:30.679Z"
   },
   {
    "duration": 494,
    "start_time": "2023-10-11T07:49:00.512Z"
   },
   {
    "duration": 186,
    "start_time": "2023-10-11T07:49:42.928Z"
   },
   {
    "duration": 189,
    "start_time": "2023-10-11T07:49:46.718Z"
   },
   {
    "duration": 192,
    "start_time": "2023-10-11T07:50:21.977Z"
   },
   {
    "duration": 5,
    "start_time": "2023-10-11T07:51:43.737Z"
   },
   {
    "duration": 6,
    "start_time": "2023-10-11T07:52:09.920Z"
   },
   {
    "duration": 326,
    "start_time": "2023-10-11T07:52:17.881Z"
   },
   {
    "duration": 7,
    "start_time": "2023-10-11T07:55:36.312Z"
   },
   {
    "duration": 11,
    "start_time": "2023-10-11T07:56:05.128Z"
   },
   {
    "duration": 9,
    "start_time": "2023-10-11T07:56:44.479Z"
   },
   {
    "duration": 7,
    "start_time": "2023-10-11T07:57:03.039Z"
   },
   {
    "duration": 16,
    "start_time": "2023-10-11T07:58:35.022Z"
   },
   {
    "duration": 333,
    "start_time": "2023-10-11T07:58:46.608Z"
   },
   {
    "duration": 483,
    "start_time": "2023-10-11T07:59:13.135Z"
   },
   {
    "duration": 278,
    "start_time": "2023-10-11T07:59:20.687Z"
   },
   {
    "duration": 941,
    "start_time": "2023-10-11T07:59:54.590Z"
   },
   {
    "duration": 289,
    "start_time": "2023-10-11T08:00:03.488Z"
   },
   {
    "duration": 98,
    "start_time": "2023-10-11T08:00:16.024Z"
   },
   {
    "duration": 143292,
    "start_time": "2023-10-11T08:00:26.767Z"
   },
   {
    "duration": 296,
    "start_time": "2023-10-11T08:02:50.061Z"
   },
   {
    "duration": 957,
    "start_time": "2023-10-11T08:14:35.950Z"
   },
   {
    "duration": 338,
    "start_time": "2023-10-11T08:14:46.837Z"
   },
   {
    "duration": 7,
    "start_time": "2023-10-11T08:15:26.045Z"
   },
   {
    "duration": 7,
    "start_time": "2023-10-11T08:15:50.499Z"
   },
   {
    "duration": 7,
    "start_time": "2023-10-11T08:16:16.366Z"
   },
   {
    "duration": 7,
    "start_time": "2023-10-11T08:32:47.835Z"
   },
   {
    "duration": 10,
    "start_time": "2023-10-11T08:33:14.280Z"
   },
   {
    "duration": 6,
    "start_time": "2023-10-11T08:33:40.341Z"
   },
   {
    "duration": 243,
    "start_time": "2023-10-11T08:33:54.396Z"
   },
   {
    "duration": 145,
    "start_time": "2023-10-11T08:34:27.609Z"
   },
   {
    "duration": 123,
    "start_time": "2023-10-11T08:35:32.218Z"
   },
   {
    "duration": 6,
    "start_time": "2023-10-11T08:36:20.569Z"
   },
   {
    "duration": 7,
    "start_time": "2023-10-11T08:36:32.280Z"
   },
   {
    "duration": 6,
    "start_time": "2023-10-11T08:36:32.877Z"
   },
   {
    "duration": 166,
    "start_time": "2023-10-11T08:36:33.455Z"
   },
   {
    "duration": 9,
    "start_time": "2023-10-11T08:42:03.057Z"
   },
   {
    "duration": 10,
    "start_time": "2023-10-11T08:42:03.665Z"
   },
   {
    "duration": 10,
    "start_time": "2023-10-11T08:42:04.200Z"
   },
   {
    "duration": 20,
    "start_time": "2023-10-11T08:42:05.585Z"
   },
   {
    "duration": 295,
    "start_time": "2023-10-11T08:42:07.770Z"
   },
   {
    "duration": 667,
    "start_time": "2023-10-11T08:42:09.859Z"
   },
   {
    "duration": 278,
    "start_time": "2023-10-11T08:42:12.009Z"
   },
   {
    "duration": 1067,
    "start_time": "2023-10-11T08:42:12.673Z"
   },
   {
    "duration": 286,
    "start_time": "2023-10-11T08:42:13.742Z"
   },
   {
    "duration": 124,
    "start_time": "2023-10-11T08:42:14.267Z"
   },
   {
    "duration": 290,
    "start_time": "2023-10-11T08:42:15.146Z"
   },
   {
    "duration": 818,
    "start_time": "2023-10-11T08:42:16.881Z"
   },
   {
    "duration": 354,
    "start_time": "2023-10-11T08:42:17.741Z"
   },
   {
    "duration": 12,
    "start_time": "2023-10-11T08:42:31.968Z"
   },
   {
    "duration": 8,
    "start_time": "2023-10-11T08:42:38.234Z"
   },
   {
    "duration": 7,
    "start_time": "2023-10-11T08:42:39.002Z"
   },
   {
    "duration": 114,
    "start_time": "2023-10-11T08:42:39.689Z"
   },
   {
    "duration": 1723,
    "start_time": "2023-10-11T08:43:11.779Z"
   },
   {
    "duration": 55,
    "start_time": "2023-10-11T08:43:13.504Z"
   },
   {
    "duration": 13,
    "start_time": "2023-10-11T08:43:13.561Z"
   },
   {
    "duration": 31,
    "start_time": "2023-10-11T08:43:13.576Z"
   },
   {
    "duration": 29,
    "start_time": "2023-10-11T08:43:13.609Z"
   },
   {
    "duration": 27,
    "start_time": "2023-10-11T08:43:13.641Z"
   },
   {
    "duration": 44,
    "start_time": "2023-10-11T08:43:13.670Z"
   },
   {
    "duration": 23,
    "start_time": "2023-10-11T08:43:13.717Z"
   },
   {
    "duration": 322,
    "start_time": "2023-10-11T08:43:13.742Z"
   },
   {
    "duration": 348,
    "start_time": "2023-10-11T08:43:14.067Z"
   },
   {
    "duration": 320,
    "start_time": "2023-10-11T08:43:14.417Z"
   },
   {
    "duration": 9,
    "start_time": "2023-10-11T08:43:14.739Z"
   },
   {
    "duration": 384,
    "start_time": "2023-10-11T08:43:14.750Z"
   },
   {
    "duration": 428,
    "start_time": "2023-10-11T08:43:15.136Z"
   },
   {
    "duration": 414,
    "start_time": "2023-10-11T08:43:15.566Z"
   },
   {
    "duration": 211,
    "start_time": "2023-10-11T08:43:15.982Z"
   },
   {
    "duration": 315,
    "start_time": "2023-10-11T08:43:16.195Z"
   },
   {
    "duration": 299,
    "start_time": "2023-10-11T08:43:16.512Z"
   },
   {
    "duration": 5,
    "start_time": "2023-10-11T08:43:16.814Z"
   },
   {
    "duration": 19,
    "start_time": "2023-10-11T08:43:16.821Z"
   },
   {
    "duration": 24,
    "start_time": "2023-10-11T08:43:16.842Z"
   },
   {
    "duration": 7,
    "start_time": "2023-10-11T08:43:16.868Z"
   },
   {
    "duration": 82,
    "start_time": "2023-10-11T08:43:16.877Z"
   },
   {
    "duration": 354,
    "start_time": "2023-10-11T08:43:16.962Z"
   },
   {
    "duration": 645,
    "start_time": "2023-10-11T08:43:17.319Z"
   },
   {
    "duration": 314,
    "start_time": "2023-10-11T08:43:17.966Z"
   },
   {
    "duration": 1044,
    "start_time": "2023-10-11T08:43:18.282Z"
   },
   {
    "duration": 269,
    "start_time": "2023-10-11T08:43:19.331Z"
   },
   {
    "duration": 200365,
    "start_time": "2023-10-11T08:43:19.602Z"
   },
   {
    "duration": 355,
    "start_time": "2023-10-11T08:46:39.970Z"
   },
   {
    "duration": 966,
    "start_time": "2023-10-11T08:46:40.327Z"
   },
   {
    "duration": 313,
    "start_time": "2023-10-11T08:46:41.295Z"
   },
   {
    "duration": 15,
    "start_time": "2023-10-11T08:46:41.611Z"
   },
   {
    "duration": 29,
    "start_time": "2023-10-11T08:46:41.629Z"
   },
   {
    "duration": 65,
    "start_time": "2023-10-11T08:46:41.661Z"
   },
   {
    "duration": 249,
    "start_time": "2023-10-11T08:46:41.729Z"
   },
   {
    "duration": 1824,
    "start_time": "2023-10-11T08:55:30.557Z"
   },
   {
    "duration": 56,
    "start_time": "2023-10-11T08:55:32.384Z"
   },
   {
    "duration": 12,
    "start_time": "2023-10-11T08:55:32.442Z"
   },
   {
    "duration": 59,
    "start_time": "2023-10-11T08:55:32.456Z"
   },
   {
    "duration": 32,
    "start_time": "2023-10-11T08:55:32.517Z"
   },
   {
    "duration": 131,
    "start_time": "2023-10-11T08:55:32.551Z"
   },
   {
    "duration": 196,
    "start_time": "2023-10-11T08:55:32.684Z"
   },
   {
    "duration": 211,
    "start_time": "2023-10-11T08:55:32.882Z"
   },
   {
    "duration": 331,
    "start_time": "2023-10-11T08:55:33.095Z"
   },
   {
    "duration": 342,
    "start_time": "2023-10-11T08:55:33.428Z"
   },
   {
    "duration": 317,
    "start_time": "2023-10-11T08:55:33.772Z"
   },
   {
    "duration": 10,
    "start_time": "2023-10-11T08:55:34.091Z"
   },
   {
    "duration": 369,
    "start_time": "2023-10-11T08:55:34.104Z"
   },
   {
    "duration": 405,
    "start_time": "2023-10-11T08:55:34.476Z"
   },
   {
    "duration": 374,
    "start_time": "2023-10-11T08:55:34.883Z"
   },
   {
    "duration": 201,
    "start_time": "2023-10-11T08:55:35.259Z"
   },
   {
    "duration": 330,
    "start_time": "2023-10-11T08:55:35.461Z"
   },
   {
    "duration": 287,
    "start_time": "2023-10-11T08:55:35.793Z"
   },
   {
    "duration": 5,
    "start_time": "2023-10-11T08:55:36.082Z"
   },
   {
    "duration": 45,
    "start_time": "2023-10-11T08:55:36.089Z"
   },
   {
    "duration": 42,
    "start_time": "2023-10-11T08:55:36.136Z"
   },
   {
    "duration": 21,
    "start_time": "2023-10-11T08:55:36.180Z"
   },
   {
    "duration": 162,
    "start_time": "2023-10-11T08:55:36.202Z"
   },
   {
    "duration": 380,
    "start_time": "2023-10-11T08:55:36.369Z"
   },
   {
    "duration": 671,
    "start_time": "2023-10-11T08:55:36.755Z"
   },
   {
    "duration": 276,
    "start_time": "2023-10-11T08:55:37.428Z"
   },
   {
    "duration": 996,
    "start_time": "2023-10-11T08:55:37.706Z"
   },
   {
    "duration": 316,
    "start_time": "2023-10-11T08:55:38.704Z"
   },
   {
    "duration": 229872,
    "start_time": "2023-10-11T08:55:39.022Z"
   },
   {
    "duration": 356,
    "start_time": "2023-10-11T08:59:28.956Z"
   },
   {
    "duration": 1040,
    "start_time": "2023-10-11T08:59:29.314Z"
   },
   {
    "duration": 328,
    "start_time": "2023-10-11T08:59:30.356Z"
   },
   {
    "duration": 2049,
    "start_time": "2023-10-11T09:02:03.501Z"
   },
   {
    "duration": 62,
    "start_time": "2023-10-11T09:02:05.552Z"
   },
   {
    "duration": 46,
    "start_time": "2023-10-11T09:02:05.616Z"
   },
   {
    "duration": 38,
    "start_time": "2023-10-11T09:02:05.666Z"
   },
   {
    "duration": 28,
    "start_time": "2023-10-11T09:02:05.707Z"
   },
   {
    "duration": 41,
    "start_time": "2023-10-11T09:02:05.737Z"
   },
   {
    "duration": 31,
    "start_time": "2023-10-11T09:02:05.781Z"
   },
   {
    "duration": 56,
    "start_time": "2023-10-11T09:02:05.815Z"
   },
   {
    "duration": 353,
    "start_time": "2023-10-11T09:02:05.875Z"
   },
   {
    "duration": 366,
    "start_time": "2023-10-11T09:02:06.232Z"
   },
   {
    "duration": 374,
    "start_time": "2023-10-11T09:02:06.600Z"
   },
   {
    "duration": 12,
    "start_time": "2023-10-11T09:02:06.976Z"
   },
   {
    "duration": 509,
    "start_time": "2023-10-11T09:02:06.990Z"
   },
   {
    "duration": 478,
    "start_time": "2023-10-11T09:02:07.502Z"
   },
   {
    "duration": 424,
    "start_time": "2023-10-11T09:02:07.990Z"
   },
   {
    "duration": 212,
    "start_time": "2023-10-11T09:02:08.416Z"
   },
   {
    "duration": 387,
    "start_time": "2023-10-11T09:02:08.630Z"
   },
   {
    "duration": 377,
    "start_time": "2023-10-11T09:02:09.019Z"
   },
   {
    "duration": 5,
    "start_time": "2023-10-11T09:02:09.398Z"
   },
   {
    "duration": 28,
    "start_time": "2023-10-11T09:02:09.405Z"
   },
   {
    "duration": 27,
    "start_time": "2023-10-11T09:02:09.435Z"
   },
   {
    "duration": 15,
    "start_time": "2023-10-11T09:02:09.470Z"
   },
   {
    "duration": 59,
    "start_time": "2023-10-11T09:02:09.487Z"
   },
   {
    "duration": 407,
    "start_time": "2023-10-11T09:02:09.569Z"
   },
   {
    "duration": 685,
    "start_time": "2023-10-11T09:02:09.979Z"
   },
   {
    "duration": 311,
    "start_time": "2023-10-11T09:02:10.672Z"
   },
   {
    "duration": 996,
    "start_time": "2023-10-11T09:02:10.986Z"
   },
   {
    "duration": 291,
    "start_time": "2023-10-11T09:02:11.985Z"
   },
   {
    "duration": 157192,
    "start_time": "2023-10-11T09:02:12.278Z"
   },
   {
    "duration": 319,
    "start_time": "2023-10-11T09:04:49.472Z"
   },
   {
    "duration": 812,
    "start_time": "2023-10-11T09:04:49.793Z"
   },
   {
    "duration": 293,
    "start_time": "2023-10-11T09:04:50.607Z"
   },
   {
    "duration": 6343,
    "start_time": "2023-10-11T09:37:27.249Z"
   },
   {
    "duration": 115,
    "start_time": "2023-10-11T09:37:33.594Z"
   },
   {
    "duration": 9,
    "start_time": "2023-10-11T09:37:33.710Z"
   },
   {
    "duration": 55,
    "start_time": "2023-10-11T09:37:33.721Z"
   },
   {
    "duration": 36,
    "start_time": "2023-10-11T09:37:33.777Z"
   },
   {
    "duration": 22,
    "start_time": "2023-10-11T09:37:33.815Z"
   },
   {
    "duration": 44,
    "start_time": "2023-10-11T09:37:33.838Z"
   },
   {
    "duration": 41,
    "start_time": "2023-10-11T09:37:33.883Z"
   },
   {
    "duration": 280,
    "start_time": "2023-10-11T09:37:33.925Z"
   },
   {
    "duration": 247,
    "start_time": "2023-10-11T09:37:34.208Z"
   },
   {
    "duration": 279,
    "start_time": "2023-10-11T09:37:34.456Z"
   },
   {
    "duration": 8,
    "start_time": "2023-10-11T09:37:34.736Z"
   },
   {
    "duration": 396,
    "start_time": "2023-10-11T09:37:34.745Z"
   },
   {
    "duration": 336,
    "start_time": "2023-10-11T09:37:35.143Z"
   },
   {
    "duration": 327,
    "start_time": "2023-10-11T09:37:35.480Z"
   },
   {
    "duration": 165,
    "start_time": "2023-10-11T09:37:35.808Z"
   },
   {
    "duration": 223,
    "start_time": "2023-10-11T09:37:35.975Z"
   },
   {
    "duration": 255,
    "start_time": "2023-10-11T09:37:36.199Z"
   },
   {
    "duration": 3,
    "start_time": "2023-10-11T09:37:36.455Z"
   },
   {
    "duration": 28,
    "start_time": "2023-10-11T09:37:36.460Z"
   },
   {
    "duration": 16,
    "start_time": "2023-10-11T09:37:36.489Z"
   },
   {
    "duration": 14,
    "start_time": "2023-10-11T09:37:36.506Z"
   },
   {
    "duration": 90,
    "start_time": "2023-10-11T10:51:26.584Z"
   },
   {
    "duration": 2940,
    "start_time": "2023-10-11T10:51:44.565Z"
   },
   {
    "duration": 253,
    "start_time": "2023-10-11T10:51:47.507Z"
   },
   {
    "duration": 18,
    "start_time": "2023-10-11T10:51:47.771Z"
   },
   {
    "duration": 35,
    "start_time": "2023-10-11T10:51:47.794Z"
   },
   {
    "duration": 31,
    "start_time": "2023-10-11T10:51:47.832Z"
   },
   {
    "duration": 27,
    "start_time": "2023-10-11T10:51:47.867Z"
   },
   {
    "duration": 52,
    "start_time": "2023-10-11T10:51:47.896Z"
   },
   {
    "duration": 78,
    "start_time": "2023-10-11T10:51:47.950Z"
   },
   {
    "duration": 495,
    "start_time": "2023-10-11T10:51:48.030Z"
   },
   {
    "duration": 508,
    "start_time": "2023-10-11T10:51:48.532Z"
   },
   {
    "duration": 526,
    "start_time": "2023-10-11T10:51:49.050Z"
   },
   {
    "duration": 30,
    "start_time": "2023-10-11T10:51:49.579Z"
   },
   {
    "duration": 535,
    "start_time": "2023-10-11T10:51:49.611Z"
   },
   {
    "duration": 559,
    "start_time": "2023-10-11T10:51:50.155Z"
   },
   {
    "duration": 451,
    "start_time": "2023-10-11T10:51:50.727Z"
   },
   {
    "duration": 277,
    "start_time": "2023-10-11T10:51:51.180Z"
   },
   {
    "duration": 418,
    "start_time": "2023-10-11T10:51:51.458Z"
   },
   {
    "duration": 489,
    "start_time": "2023-10-11T10:51:51.878Z"
   },
   {
    "duration": 9,
    "start_time": "2023-10-11T10:51:52.370Z"
   },
   {
    "duration": 62,
    "start_time": "2023-10-11T10:51:52.381Z"
   },
   {
    "duration": 30,
    "start_time": "2023-10-11T10:51:52.453Z"
   },
   {
    "duration": 46,
    "start_time": "2023-10-11T10:51:52.490Z"
   },
   {
    "duration": 55,
    "start_time": "2023-10-11T10:51:52.539Z"
   },
   {
    "duration": 101,
    "start_time": "2023-10-11T10:51:52.595Z"
   },
   {
    "duration": 473,
    "start_time": "2023-10-11T10:51:52.725Z"
   },
   {
    "duration": 888,
    "start_time": "2023-10-11T10:51:53.200Z"
   },
   {
    "duration": 428,
    "start_time": "2023-10-11T10:51:54.092Z"
   },
   {
    "duration": 1844,
    "start_time": "2023-10-11T10:51:54.523Z"
   },
   {
    "duration": 404,
    "start_time": "2023-10-11T10:51:56.377Z"
   },
   {
    "duration": 208,
    "start_time": "2023-10-11T10:51:56.786Z"
   },
   {
    "duration": 0,
    "start_time": "2023-10-11T10:51:57.002Z"
   },
   {
    "duration": 0,
    "start_time": "2023-10-11T10:51:57.005Z"
   },
   {
    "duration": 0,
    "start_time": "2023-10-11T10:51:57.014Z"
   },
   {
    "duration": 0,
    "start_time": "2023-10-11T10:51:57.021Z"
   },
   {
    "duration": 3237,
    "start_time": "2023-10-11T10:53:01.026Z"
   },
   {
    "duration": 120,
    "start_time": "2023-10-11T10:53:04.274Z"
   },
   {
    "duration": 28,
    "start_time": "2023-10-11T10:53:04.401Z"
   },
   {
    "duration": 46,
    "start_time": "2023-10-11T10:53:04.439Z"
   },
   {
    "duration": 99,
    "start_time": "2023-10-11T10:53:04.487Z"
   },
   {
    "duration": 45,
    "start_time": "2023-10-11T10:53:04.600Z"
   },
   {
    "duration": 44,
    "start_time": "2023-10-11T10:53:04.658Z"
   },
   {
    "duration": 59,
    "start_time": "2023-10-11T10:53:04.704Z"
   },
   {
    "duration": 673,
    "start_time": "2023-10-11T10:53:04.765Z"
   },
   {
    "duration": 512,
    "start_time": "2023-10-11T10:53:05.441Z"
   },
   {
    "duration": 504,
    "start_time": "2023-10-11T10:53:05.960Z"
   },
   {
    "duration": 26,
    "start_time": "2023-10-11T10:53:06.466Z"
   },
   {
    "duration": 896,
    "start_time": "2023-10-11T10:53:06.496Z"
   },
   {
    "duration": 715,
    "start_time": "2023-10-11T10:53:07.394Z"
   },
   {
    "duration": 606,
    "start_time": "2023-10-11T10:53:08.114Z"
   },
   {
    "duration": 394,
    "start_time": "2023-10-11T10:53:08.723Z"
   },
   {
    "duration": 431,
    "start_time": "2023-10-11T10:53:09.129Z"
   },
   {
    "duration": 511,
    "start_time": "2023-10-11T10:53:09.566Z"
   },
   {
    "duration": 7,
    "start_time": "2023-10-11T10:53:10.083Z"
   },
   {
    "duration": 76,
    "start_time": "2023-10-11T10:53:10.096Z"
   },
   {
    "duration": 74,
    "start_time": "2023-10-11T10:53:10.180Z"
   },
   {
    "duration": 37,
    "start_time": "2023-10-11T10:53:10.256Z"
   },
   {
    "duration": 141,
    "start_time": "2023-10-11T10:53:10.296Z"
   },
   {
    "duration": 57,
    "start_time": "2023-10-11T10:53:10.439Z"
   },
   {
    "duration": 665,
    "start_time": "2023-10-11T10:53:10.506Z"
   },
   {
    "duration": 1211,
    "start_time": "2023-10-11T10:53:11.174Z"
   },
   {
    "duration": 544,
    "start_time": "2023-10-11T10:53:12.393Z"
   },
   {
    "duration": 1950,
    "start_time": "2023-10-11T10:53:12.947Z"
   },
   {
    "duration": 490,
    "start_time": "2023-10-11T10:53:14.900Z"
   },
   {
    "duration": 258,
    "start_time": "2023-10-11T10:53:15.397Z"
   },
   {
    "duration": 0,
    "start_time": "2023-10-11T10:53:15.662Z"
   },
   {
    "duration": 0,
    "start_time": "2023-10-11T10:53:15.668Z"
   },
   {
    "duration": 0,
    "start_time": "2023-10-11T10:53:15.674Z"
   },
   {
    "duration": 0,
    "start_time": "2023-10-11T10:53:15.680Z"
   },
   {
    "duration": 733437,
    "start_time": "2023-10-11T10:53:35.350Z"
   },
   {
    "duration": 113126,
    "start_time": "2023-10-11T11:06:25.134Z"
   },
   {
    "duration": 357406,
    "start_time": "2023-10-11T11:09:23.832Z"
   },
   {
    "duration": 24056,
    "start_time": "2023-10-11T11:16:46.173Z"
   },
   {
    "duration": 160,
    "start_time": "2023-10-11T11:17:18.537Z"
   },
   {
    "duration": 249,
    "start_time": "2023-10-11T11:17:47.650Z"
   },
   {
    "duration": 2898,
    "start_time": "2023-10-11T11:18:13.871Z"
   },
   {
    "duration": 82,
    "start_time": "2023-10-11T11:18:16.774Z"
   },
   {
    "duration": 11,
    "start_time": "2023-10-11T11:18:16.867Z"
   },
   {
    "duration": 74,
    "start_time": "2023-10-11T11:18:16.880Z"
   },
   {
    "duration": 10,
    "start_time": "2023-10-11T11:18:16.965Z"
   },
   {
    "duration": 13,
    "start_time": "2023-10-11T11:18:16.977Z"
   },
   {
    "duration": 57,
    "start_time": "2023-10-11T11:18:16.991Z"
   },
   {
    "duration": 24,
    "start_time": "2023-10-11T11:18:17.050Z"
   },
   {
    "duration": 406,
    "start_time": "2023-10-11T11:18:17.076Z"
   },
   {
    "duration": 413,
    "start_time": "2023-10-11T11:18:17.487Z"
   },
   {
    "duration": 440,
    "start_time": "2023-10-11T11:18:17.913Z"
   },
   {
    "duration": 15,
    "start_time": "2023-10-11T11:18:18.354Z"
   },
   {
    "duration": 483,
    "start_time": "2023-10-11T11:18:18.373Z"
   },
   {
    "duration": 426,
    "start_time": "2023-10-11T11:18:18.858Z"
   },
   {
    "duration": 481,
    "start_time": "2023-10-11T11:18:19.285Z"
   },
   {
    "duration": 256,
    "start_time": "2023-10-11T11:18:19.769Z"
   },
   {
    "duration": 349,
    "start_time": "2023-10-11T11:18:20.027Z"
   },
   {
    "duration": 470,
    "start_time": "2023-10-11T11:18:20.378Z"
   },
   {
    "duration": 5,
    "start_time": "2023-10-11T11:18:20.850Z"
   },
   {
    "duration": 15,
    "start_time": "2023-10-11T11:18:20.857Z"
   },
   {
    "duration": 21,
    "start_time": "2023-10-11T11:18:20.874Z"
   },
   {
    "duration": 64,
    "start_time": "2023-10-11T11:18:20.897Z"
   },
   {
    "duration": 27,
    "start_time": "2023-10-11T11:18:20.963Z"
   },
   {
    "duration": 221,
    "start_time": "2023-10-11T11:18:20.992Z"
   },
   {
    "duration": 378,
    "start_time": "2023-10-11T11:18:21.214Z"
   },
   {
    "duration": 788,
    "start_time": "2023-10-11T11:18:21.594Z"
   },
   {
    "duration": 358,
    "start_time": "2023-10-11T11:18:22.384Z"
   },
   {
    "duration": 2010,
    "start_time": "2023-10-11T11:18:22.751Z"
   },
   {
    "duration": 390,
    "start_time": "2023-10-11T11:18:24.763Z"
   },
   {
    "duration": 30234,
    "start_time": "2023-10-11T11:18:25.156Z"
   },
   {
    "duration": 9377,
    "start_time": "2023-10-11T11:18:55.392Z"
   },
   {
    "duration": 205,
    "start_time": "2023-10-11T11:19:04.771Z"
   },
   {
    "duration": 329,
    "start_time": "2023-10-11T11:19:04.979Z"
   },
   {
    "duration": 2112,
    "start_time": "2023-10-11T11:19:05.322Z"
   },
   {
    "duration": 356,
    "start_time": "2023-10-11T11:19:07.441Z"
   },
   {
    "duration": 188,
    "start_time": "2023-10-11T11:19:13.183Z"
   },
   {
    "duration": 2054,
    "start_time": "2023-10-11T11:19:19.638Z"
   },
   {
    "duration": 84,
    "start_time": "2023-10-11T11:19:21.694Z"
   },
   {
    "duration": 11,
    "start_time": "2023-10-11T11:19:21.780Z"
   },
   {
    "duration": 60,
    "start_time": "2023-10-11T11:19:21.792Z"
   },
   {
    "duration": 29,
    "start_time": "2023-10-11T11:19:21.855Z"
   },
   {
    "duration": 28,
    "start_time": "2023-10-11T11:19:21.887Z"
   },
   {
    "duration": 25,
    "start_time": "2023-10-11T11:19:21.917Z"
   },
   {
    "duration": 41,
    "start_time": "2023-10-11T11:19:21.944Z"
   },
   {
    "duration": 421,
    "start_time": "2023-10-11T11:19:21.986Z"
   },
   {
    "duration": 377,
    "start_time": "2023-10-11T11:19:22.418Z"
   },
   {
    "duration": 393,
    "start_time": "2023-10-11T11:19:22.801Z"
   },
   {
    "duration": 21,
    "start_time": "2023-10-11T11:19:23.196Z"
   },
   {
    "duration": 418,
    "start_time": "2023-10-11T11:19:23.222Z"
   },
   {
    "duration": 419,
    "start_time": "2023-10-11T11:19:23.644Z"
   },
   {
    "duration": 484,
    "start_time": "2023-10-11T11:19:24.065Z"
   },
   {
    "duration": 266,
    "start_time": "2023-10-11T11:19:24.551Z"
   },
   {
    "duration": 360,
    "start_time": "2023-10-11T11:19:24.819Z"
   },
   {
    "duration": 382,
    "start_time": "2023-10-11T11:19:25.182Z"
   },
   {
    "duration": 4,
    "start_time": "2023-10-11T11:19:25.566Z"
   },
   {
    "duration": 40,
    "start_time": "2023-10-11T11:19:25.572Z"
   },
   {
    "duration": 30,
    "start_time": "2023-10-11T11:19:25.614Z"
   },
   {
    "duration": 47,
    "start_time": "2023-10-11T11:19:25.650Z"
   },
   {
    "duration": 41,
    "start_time": "2023-10-11T11:19:25.699Z"
   },
   {
    "duration": 43,
    "start_time": "2023-10-11T11:19:25.742Z"
   },
   {
    "duration": 414,
    "start_time": "2023-10-11T11:19:25.806Z"
   },
   {
    "duration": 767,
    "start_time": "2023-10-11T11:19:26.222Z"
   },
   {
    "duration": 351,
    "start_time": "2023-10-11T11:19:26.991Z"
   },
   {
    "duration": 1693,
    "start_time": "2023-10-11T11:19:27.344Z"
   },
   {
    "duration": 327,
    "start_time": "2023-10-11T11:19:29.043Z"
   },
   {
    "duration": 130944,
    "start_time": "2023-10-11T11:19:29.372Z"
   },
   {
    "duration": 15836,
    "start_time": "2023-10-11T11:21:40.323Z"
   },
   {
    "duration": 310,
    "start_time": "2023-10-11T11:21:56.206Z"
   },
   {
    "duration": 343,
    "start_time": "2023-10-11T11:21:56.522Z"
   },
   {
    "duration": 1359,
    "start_time": "2023-10-11T11:21:56.867Z"
   },
   {
    "duration": 405,
    "start_time": "2023-10-11T11:21:58.234Z"
   },
   {
    "duration": 172,
    "start_time": "2023-10-11T11:24:59.142Z"
   },
   {
    "duration": 1873,
    "start_time": "2023-10-11T12:33:35.151Z"
   },
   {
    "duration": 52,
    "start_time": "2023-10-11T12:33:37.026Z"
   },
   {
    "duration": 11,
    "start_time": "2023-10-11T12:33:37.083Z"
   },
   {
    "duration": 44,
    "start_time": "2023-10-11T12:33:37.096Z"
   },
   {
    "duration": 10,
    "start_time": "2023-10-11T12:33:37.147Z"
   },
   {
    "duration": 8,
    "start_time": "2023-10-11T12:33:37.159Z"
   },
   {
    "duration": 22,
    "start_time": "2023-10-11T12:33:37.169Z"
   },
   {
    "duration": 36,
    "start_time": "2023-10-11T12:33:37.193Z"
   },
   {
    "duration": 389,
    "start_time": "2023-10-11T12:33:37.231Z"
   },
   {
    "duration": 409,
    "start_time": "2023-10-11T12:33:37.622Z"
   },
   {
    "duration": 390,
    "start_time": "2023-10-11T12:33:38.043Z"
   },
   {
    "duration": 15,
    "start_time": "2023-10-11T12:33:38.447Z"
   },
   {
    "duration": 477,
    "start_time": "2023-10-11T12:33:38.466Z"
   },
   {
    "duration": 444,
    "start_time": "2023-10-11T12:33:38.945Z"
   },
   {
    "duration": 432,
    "start_time": "2023-10-11T12:33:39.391Z"
   },
   {
    "duration": 238,
    "start_time": "2023-10-11T12:33:39.825Z"
   },
   {
    "duration": 368,
    "start_time": "2023-10-11T12:33:40.065Z"
   },
   {
    "duration": 349,
    "start_time": "2023-10-11T12:33:40.441Z"
   },
   {
    "duration": 6,
    "start_time": "2023-10-11T12:33:40.793Z"
   },
   {
    "duration": 18,
    "start_time": "2023-10-11T12:33:40.802Z"
   },
   {
    "duration": 11,
    "start_time": "2023-10-11T12:33:40.824Z"
   },
   {
    "duration": 19,
    "start_time": "2023-10-11T12:33:40.840Z"
   },
   {
    "duration": 9,
    "start_time": "2023-10-11T12:33:40.861Z"
   },
   {
    "duration": 47,
    "start_time": "2023-10-11T12:33:40.873Z"
   },
   {
    "duration": 487,
    "start_time": "2023-10-11T12:33:40.928Z"
   },
   {
    "duration": 750,
    "start_time": "2023-10-11T12:33:41.417Z"
   },
   {
    "duration": 325,
    "start_time": "2023-10-11T12:33:42.169Z"
   },
   {
    "duration": 1449,
    "start_time": "2023-10-11T12:33:42.496Z"
   },
   {
    "duration": 332,
    "start_time": "2023-10-11T12:33:43.949Z"
   },
   {
    "duration": 171857,
    "start_time": "2023-10-11T12:33:44.283Z"
   },
   {
    "duration": 12062,
    "start_time": "2023-10-11T12:36:36.146Z"
   },
   {
    "duration": 349,
    "start_time": "2023-10-11T12:36:48.220Z"
   },
   {
    "duration": 1304,
    "start_time": "2023-10-11T12:36:48.571Z"
   },
   {
    "duration": 360,
    "start_time": "2023-10-11T12:36:49.878Z"
   },
   {
    "duration": 2058,
    "start_time": "2023-10-12T05:47:41.465Z"
   },
   {
    "duration": 138,
    "start_time": "2023-10-12T05:47:43.526Z"
   },
   {
    "duration": 12,
    "start_time": "2023-10-12T05:47:43.666Z"
   },
   {
    "duration": 37,
    "start_time": "2023-10-12T05:47:43.680Z"
   },
   {
    "duration": 21,
    "start_time": "2023-10-12T05:47:43.720Z"
   },
   {
    "duration": 28,
    "start_time": "2023-10-12T05:47:43.748Z"
   },
   {
    "duration": 84,
    "start_time": "2023-10-12T05:47:43.778Z"
   },
   {
    "duration": 31,
    "start_time": "2023-10-12T05:47:43.863Z"
   },
   {
    "duration": 363,
    "start_time": "2023-10-12T05:47:43.908Z"
   },
   {
    "duration": 431,
    "start_time": "2023-10-12T05:47:44.273Z"
   },
   {
    "duration": 392,
    "start_time": "2023-10-12T05:47:44.707Z"
   },
   {
    "duration": 7,
    "start_time": "2023-10-12T05:47:45.102Z"
   },
   {
    "duration": 461,
    "start_time": "2023-10-12T05:47:45.111Z"
   },
   {
    "duration": 411,
    "start_time": "2023-10-12T05:47:45.575Z"
   },
   {
    "duration": 392,
    "start_time": "2023-10-12T05:47:45.987Z"
   },
   {
    "duration": 237,
    "start_time": "2023-10-12T05:47:46.382Z"
   },
   {
    "duration": 393,
    "start_time": "2023-10-12T05:47:46.622Z"
   },
   {
    "duration": 324,
    "start_time": "2023-10-12T05:47:47.017Z"
   },
   {
    "duration": 10,
    "start_time": "2023-10-12T05:47:47.343Z"
   },
   {
    "duration": 25,
    "start_time": "2023-10-12T05:47:47.355Z"
   },
   {
    "duration": 21,
    "start_time": "2023-10-12T05:47:47.382Z"
   },
   {
    "duration": 14,
    "start_time": "2023-10-12T05:47:47.405Z"
   },
   {
    "duration": 15,
    "start_time": "2023-10-12T05:47:47.421Z"
   },
   {
    "duration": 62,
    "start_time": "2023-10-12T05:47:47.438Z"
   },
   {
    "duration": 491,
    "start_time": "2023-10-12T05:47:47.503Z"
   },
   {
    "duration": 693,
    "start_time": "2023-10-12T05:47:47.996Z"
   },
   {
    "duration": 283,
    "start_time": "2023-10-12T05:47:48.691Z"
   },
   {
    "duration": 1092,
    "start_time": "2023-10-12T05:47:48.976Z"
   },
   {
    "duration": 270,
    "start_time": "2023-10-12T05:47:50.069Z"
   },
   {
    "duration": 233,
    "start_time": "2023-10-12T05:47:50.341Z"
   },
   {
    "duration": 10589,
    "start_time": "2023-10-12T05:47:50.577Z"
   },
   {
    "duration": 333,
    "start_time": "2023-10-12T05:48:01.168Z"
   },
   {
    "duration": 1470,
    "start_time": "2023-10-12T05:48:01.503Z"
   },
   {
    "duration": 304,
    "start_time": "2023-10-12T05:48:02.975Z"
   },
   {
    "duration": 1681,
    "start_time": "2023-10-12T05:49:37.858Z"
   },
   {
    "duration": 50,
    "start_time": "2023-10-12T05:49:39.541Z"
   },
   {
    "duration": 11,
    "start_time": "2023-10-12T05:49:39.593Z"
   },
   {
    "duration": 31,
    "start_time": "2023-10-12T05:49:39.606Z"
   },
   {
    "duration": 9,
    "start_time": "2023-10-12T05:49:39.639Z"
   },
   {
    "duration": 24,
    "start_time": "2023-10-12T05:49:39.649Z"
   },
   {
    "duration": 10,
    "start_time": "2023-10-12T05:49:39.675Z"
   },
   {
    "duration": 30,
    "start_time": "2023-10-12T05:49:39.686Z"
   },
   {
    "duration": 274,
    "start_time": "2023-10-12T05:49:39.718Z"
   },
   {
    "duration": 314,
    "start_time": "2023-10-12T05:49:39.995Z"
   },
   {
    "duration": 312,
    "start_time": "2023-10-12T05:49:40.311Z"
   },
   {
    "duration": 11,
    "start_time": "2023-10-12T05:49:40.625Z"
   },
   {
    "duration": 435,
    "start_time": "2023-10-12T05:49:40.638Z"
   },
   {
    "duration": 388,
    "start_time": "2023-10-12T05:49:41.075Z"
   },
   {
    "duration": 381,
    "start_time": "2023-10-12T05:49:41.465Z"
   },
   {
    "duration": 193,
    "start_time": "2023-10-12T05:49:41.848Z"
   },
   {
    "duration": 268,
    "start_time": "2023-10-12T05:49:42.044Z"
   },
   {
    "duration": 288,
    "start_time": "2023-10-12T05:49:42.314Z"
   },
   {
    "duration": 5,
    "start_time": "2023-10-12T05:49:42.605Z"
   },
   {
    "duration": 45,
    "start_time": "2023-10-12T05:49:42.611Z"
   },
   {
    "duration": 23,
    "start_time": "2023-10-12T05:49:42.658Z"
   },
   {
    "duration": 27,
    "start_time": "2023-10-12T05:49:42.683Z"
   },
   {
    "duration": 28,
    "start_time": "2023-10-12T05:49:42.713Z"
   },
   {
    "duration": 57,
    "start_time": "2023-10-12T05:49:42.743Z"
   },
   {
    "duration": 395,
    "start_time": "2023-10-12T05:49:42.801Z"
   },
   {
    "duration": 635,
    "start_time": "2023-10-12T05:49:43.198Z"
   },
   {
    "duration": 264,
    "start_time": "2023-10-12T05:49:43.835Z"
   },
   {
    "duration": 1062,
    "start_time": "2023-10-12T05:49:44.102Z"
   },
   {
    "duration": 235,
    "start_time": "2023-10-12T05:49:45.166Z"
   },
   {
    "duration": 158044,
    "start_time": "2023-10-12T05:49:45.402Z"
   },
   {
    "duration": 13124,
    "start_time": "2023-10-12T05:52:23.449Z"
   },
   {
    "duration": 342,
    "start_time": "2023-10-12T05:52:36.575Z"
   },
   {
    "duration": 1097,
    "start_time": "2023-10-12T05:52:36.918Z"
   },
   {
    "duration": 352,
    "start_time": "2023-10-12T05:52:38.017Z"
   }
  ],
  "kernelspec": {
   "display_name": "Python 3 (ipykernel)",
   "language": "python",
   "name": "python3"
  },
  "language_info": {
   "codemirror_mode": {
    "name": "ipython",
    "version": 3
   },
   "file_extension": ".py",
   "mimetype": "text/x-python",
   "name": "python",
   "nbconvert_exporter": "python",
   "pygments_lexer": "ipython3",
   "version": "3.9.5"
  },
  "toc": {
   "base_numbering": 1,
   "nav_menu": {},
   "number_sections": true,
   "sideBar": true,
   "skip_h1_title": true,
   "title_cell": "Содержание",
   "title_sidebar": "Contents",
   "toc_cell": true,
   "toc_position": {},
   "toc_section_display": true,
   "toc_window_display": true
  }
 },
 "nbformat": 4,
 "nbformat_minor": 4
}

{
 "cells": [
  {
   "cell_type": "markdown",
   "metadata": {},
   "source": [
    "# Построение модели определения стоимости автомобиля"
   ]
  },
  {
   "cell_type": "markdown",
   "metadata": {},
   "source": [
    "Сервис по продаже автомобилей с пробегом «Не бит, не крашен» разрабатывает приложение для привлечения новых клиентов. В нём можно быстро узнать рыночную стоимость своего автомобиля. В вашем распоряжении исторические данные: технические характеристики, комплектации и цены автомобилей. Вам нужно построить модель для определения стоимости. \n",
    "\n",
    "Заказчику важны:\n",
    "\n",
    "- качество предсказания;\n",
    "- скорость предсказания;\n",
    "- время обучения."
   ]
  },
  {
   "cell_type": "code",
   "execution_count": 1,
   "metadata": {},
   "outputs": [],
   "source": [
    "import matplotlib.pyplot as plt\n",
    "import numpy as np\n",
    "import pandas as pd\n",
    "import seaborn as sns\n",
    "import warnings\n",
    "import time\n",
    "import lightgbm as lgbm\n",
    "from sklearn.model_selection import train_test_split\n",
    "from sklearn.preprocessing import StandardScaler\n",
    "from sklearn.metrics import mean_squared_error\n",
    "from sklearn.preprocessing import OrdinalEncoder\n",
    "from sklearn.preprocessing import OneHotEncoder\n",
    "from sklearn.linear_model import LinearRegression\n",
    "from catboost import CatBoostRegressor\n",
    "from lightgbm import LGBMRegressor\n",
    "from sklearn.model_selection import cross_val_score\n",
    "from sklearn.model_selection import GridSearchCV\n",
    "from sklearn.pipeline import Pipeline\n",
    "from sklearn.dummy import DummyRegressor\n",
    "warnings.filterwarnings(\"ignore\")"
   ]
  },
  {
   "cell_type": "markdown",
   "metadata": {},
   "source": [
    "## Подготовка данных"
   ]
  },
  {
   "cell_type": "code",
   "execution_count": 2,
   "metadata": {},
   "outputs": [],
   "source": [
    "try:\n",
    "    data = pd.read_csv('/datasets/autos.csv')     \n",
    "except:\n",
    "    data = pd.read_csv('c:/Users/User/Downloads/autos.csv')"
   ]
  },
  {
   "cell_type": "markdown",
   "metadata": {},
   "source": [
    "Посмотрим на данные"
   ]
  },
  {
   "cell_type": "code",
   "execution_count": 3,
   "metadata": {},
   "outputs": [
    {
     "data": {
      "text/html": [
       "<div>\n",
       "<style scoped>\n",
       "    .dataframe tbody tr th:only-of-type {\n",
       "        vertical-align: middle;\n",
       "    }\n",
       "\n",
       "    .dataframe tbody tr th {\n",
       "        vertical-align: top;\n",
       "    }\n",
       "\n",
       "    .dataframe thead th {\n",
       "        text-align: right;\n",
       "    }\n",
       "</style>\n",
       "<table border=\"1\" class=\"dataframe\">\n",
       "  <thead>\n",
       "    <tr style=\"text-align: right;\">\n",
       "      <th></th>\n",
       "      <th>DateCrawled</th>\n",
       "      <th>Price</th>\n",
       "      <th>VehicleType</th>\n",
       "      <th>RegistrationYear</th>\n",
       "      <th>Gearbox</th>\n",
       "      <th>Power</th>\n",
       "      <th>Model</th>\n",
       "      <th>Kilometer</th>\n",
       "      <th>RegistrationMonth</th>\n",
       "      <th>FuelType</th>\n",
       "      <th>Brand</th>\n",
       "      <th>Repaired</th>\n",
       "      <th>DateCreated</th>\n",
       "      <th>NumberOfPictures</th>\n",
       "      <th>PostalCode</th>\n",
       "      <th>LastSeen</th>\n",
       "    </tr>\n",
       "  </thead>\n",
       "  <tbody>\n",
       "    <tr>\n",
       "      <th>0</th>\n",
       "      <td>2016-03-24 11:52:17</td>\n",
       "      <td>480</td>\n",
       "      <td>NaN</td>\n",
       "      <td>1993</td>\n",
       "      <td>manual</td>\n",
       "      <td>0</td>\n",
       "      <td>golf</td>\n",
       "      <td>150000</td>\n",
       "      <td>0</td>\n",
       "      <td>petrol</td>\n",
       "      <td>volkswagen</td>\n",
       "      <td>NaN</td>\n",
       "      <td>2016-03-24 00:00:00</td>\n",
       "      <td>0</td>\n",
       "      <td>70435</td>\n",
       "      <td>2016-04-07 03:16:57</td>\n",
       "    </tr>\n",
       "    <tr>\n",
       "      <th>1</th>\n",
       "      <td>2016-03-24 10:58:45</td>\n",
       "      <td>18300</td>\n",
       "      <td>coupe</td>\n",
       "      <td>2011</td>\n",
       "      <td>manual</td>\n",
       "      <td>190</td>\n",
       "      <td>NaN</td>\n",
       "      <td>125000</td>\n",
       "      <td>5</td>\n",
       "      <td>gasoline</td>\n",
       "      <td>audi</td>\n",
       "      <td>yes</td>\n",
       "      <td>2016-03-24 00:00:00</td>\n",
       "      <td>0</td>\n",
       "      <td>66954</td>\n",
       "      <td>2016-04-07 01:46:50</td>\n",
       "    </tr>\n",
       "    <tr>\n",
       "      <th>2</th>\n",
       "      <td>2016-03-14 12:52:21</td>\n",
       "      <td>9800</td>\n",
       "      <td>suv</td>\n",
       "      <td>2004</td>\n",
       "      <td>auto</td>\n",
       "      <td>163</td>\n",
       "      <td>grand</td>\n",
       "      <td>125000</td>\n",
       "      <td>8</td>\n",
       "      <td>gasoline</td>\n",
       "      <td>jeep</td>\n",
       "      <td>NaN</td>\n",
       "      <td>2016-03-14 00:00:00</td>\n",
       "      <td>0</td>\n",
       "      <td>90480</td>\n",
       "      <td>2016-04-05 12:47:46</td>\n",
       "    </tr>\n",
       "    <tr>\n",
       "      <th>3</th>\n",
       "      <td>2016-03-17 16:54:04</td>\n",
       "      <td>1500</td>\n",
       "      <td>small</td>\n",
       "      <td>2001</td>\n",
       "      <td>manual</td>\n",
       "      <td>75</td>\n",
       "      <td>golf</td>\n",
       "      <td>150000</td>\n",
       "      <td>6</td>\n",
       "      <td>petrol</td>\n",
       "      <td>volkswagen</td>\n",
       "      <td>no</td>\n",
       "      <td>2016-03-17 00:00:00</td>\n",
       "      <td>0</td>\n",
       "      <td>91074</td>\n",
       "      <td>2016-03-17 17:40:17</td>\n",
       "    </tr>\n",
       "    <tr>\n",
       "      <th>4</th>\n",
       "      <td>2016-03-31 17:25:20</td>\n",
       "      <td>3600</td>\n",
       "      <td>small</td>\n",
       "      <td>2008</td>\n",
       "      <td>manual</td>\n",
       "      <td>69</td>\n",
       "      <td>fabia</td>\n",
       "      <td>90000</td>\n",
       "      <td>7</td>\n",
       "      <td>gasoline</td>\n",
       "      <td>skoda</td>\n",
       "      <td>no</td>\n",
       "      <td>2016-03-31 00:00:00</td>\n",
       "      <td>0</td>\n",
       "      <td>60437</td>\n",
       "      <td>2016-04-06 10:17:21</td>\n",
       "    </tr>\n",
       "  </tbody>\n",
       "</table>\n",
       "</div>"
      ],
      "text/plain": [
       "           DateCrawled  Price VehicleType  RegistrationYear Gearbox  Power  \\\n",
       "0  2016-03-24 11:52:17    480         NaN              1993  manual      0   \n",
       "1  2016-03-24 10:58:45  18300       coupe              2011  manual    190   \n",
       "2  2016-03-14 12:52:21   9800         suv              2004    auto    163   \n",
       "3  2016-03-17 16:54:04   1500       small              2001  manual     75   \n",
       "4  2016-03-31 17:25:20   3600       small              2008  manual     69   \n",
       "\n",
       "   Model  Kilometer  RegistrationMonth  FuelType       Brand Repaired  \\\n",
       "0   golf     150000                  0    petrol  volkswagen      NaN   \n",
       "1    NaN     125000                  5  gasoline        audi      yes   \n",
       "2  grand     125000                  8  gasoline        jeep      NaN   \n",
       "3   golf     150000                  6    petrol  volkswagen       no   \n",
       "4  fabia      90000                  7  gasoline       skoda       no   \n",
       "\n",
       "           DateCreated  NumberOfPictures  PostalCode             LastSeen  \n",
       "0  2016-03-24 00:00:00                 0       70435  2016-04-07 03:16:57  \n",
       "1  2016-03-24 00:00:00                 0       66954  2016-04-07 01:46:50  \n",
       "2  2016-03-14 00:00:00                 0       90480  2016-04-05 12:47:46  \n",
       "3  2016-03-17 00:00:00                 0       91074  2016-03-17 17:40:17  \n",
       "4  2016-03-31 00:00:00                 0       60437  2016-04-06 10:17:21  "
      ]
     },
     "execution_count": 3,
     "metadata": {},
     "output_type": "execute_result"
    }
   ],
   "source": [
    "data.head()"
   ]
  },
  {
   "cell_type": "code",
   "execution_count": 4,
   "metadata": {},
   "outputs": [
    {
     "name": "stdout",
     "output_type": "stream",
     "text": [
      "<class 'pandas.core.frame.DataFrame'>\n",
      "RangeIndex: 354369 entries, 0 to 354368\n",
      "Data columns (total 16 columns):\n",
      " #   Column             Non-Null Count   Dtype \n",
      "---  ------             --------------   ----- \n",
      " 0   DateCrawled        354369 non-null  object\n",
      " 1   Price              354369 non-null  int64 \n",
      " 2   VehicleType        316879 non-null  object\n",
      " 3   RegistrationYear   354369 non-null  int64 \n",
      " 4   Gearbox            334536 non-null  object\n",
      " 5   Power              354369 non-null  int64 \n",
      " 6   Model              334664 non-null  object\n",
      " 7   Kilometer          354369 non-null  int64 \n",
      " 8   RegistrationMonth  354369 non-null  int64 \n",
      " 9   FuelType           321474 non-null  object\n",
      " 10  Brand              354369 non-null  object\n",
      " 11  Repaired           283215 non-null  object\n",
      " 12  DateCreated        354369 non-null  object\n",
      " 13  NumberOfPictures   354369 non-null  int64 \n",
      " 14  PostalCode         354369 non-null  int64 \n",
      " 15  LastSeen           354369 non-null  object\n",
      "dtypes: int64(7), object(9)\n",
      "memory usage: 43.3+ MB\n"
     ]
    }
   ],
   "source": [
    "data.info()"
   ]
  },
  {
   "cell_type": "code",
   "execution_count": 5,
   "metadata": {},
   "outputs": [
    {
     "data": {
      "text/plain": [
       "DateCrawled          0.000000\n",
       "Price                0.000000\n",
       "VehicleType          0.105794\n",
       "RegistrationYear     0.000000\n",
       "Gearbox              0.055967\n",
       "Power                0.000000\n",
       "Model                0.055606\n",
       "Kilometer            0.000000\n",
       "RegistrationMonth    0.000000\n",
       "FuelType             0.092827\n",
       "Brand                0.000000\n",
       "Repaired             0.200791\n",
       "DateCreated          0.000000\n",
       "NumberOfPictures     0.000000\n",
       "PostalCode           0.000000\n",
       "LastSeen             0.000000\n",
       "dtype: float64"
      ]
     },
     "execution_count": 5,
     "metadata": {},
     "output_type": "execute_result"
    }
   ],
   "source": [
    "data.isna().mean()"
   ]
  },
  {
   "cell_type": "markdown",
   "metadata": {},
   "source": [
    "Проверка числовых признаков на наличие аномалий"
   ]
  },
  {
   "cell_type": "code",
   "execution_count": 6,
   "metadata": {},
   "outputs": [],
   "source": [
    "columns_numeric = ['Price', 'RegistrationYear', 'Power', 'Kilometer']\n",
    "\n",
    "def numeric(data, columns_numeric):\n",
    "    fig, axes = plt.subplots(2, 2, figsize=(12, 12))\n",
    "    for column, ax in zip(columns_numeric, axes.ravel()):\n",
    "        ax.set_title(column)\n",
    "        sns.distplot(data[column], ax=ax)\n",
    "    \n",
    "    fig, axes = plt.subplots(2, 2, figsize=(12, 12))\n",
    "    for column, ax in zip(columns_numeric, axes.ravel()):\n",
    "        ax.set_title(column)\n",
    "        sns.boxplot(data[column], ax=ax)"
   ]
  },
  {
   "cell_type": "code",
   "execution_count": 7,
   "metadata": {},
   "outputs": [
    {
     "data": {
      "image/png": "[encoded data removed]",
      "text/plain": [
       "<Figure size 1200x1200 with 4 Axes>"
      ]
     },
     "metadata": {},
     "output_type": "display_data"
    },
    {
     "data": {
      "image/png": "[encoded data removed]",
      "text/plain": [
       "<Figure size 1200x1200 with 4 Axes>"
      ]
     },
     "metadata": {},
     "output_type": "display_data"
    }
   ],
   "source": [
    "numeric(data, columns_numeric)"
   ]
  },
  {
   "cell_type": "markdown",
   "metadata": {},
   "source": [
    "Сократим дата фрейм до нужных столбцов."
   ]
  },
  {
   "cell_type": "code",
   "execution_count": 8,
   "metadata": {},
   "outputs": [
    {
     "name": "stdout",
     "output_type": "stream",
     "text": [
      "<class 'pandas.core.frame.DataFrame'>\n",
      "RangeIndex: 354369 entries, 0 to 354368\n",
      "Data columns (total 10 columns):\n",
      " #   Column            Non-Null Count   Dtype \n",
      "---  ------            --------------   ----- \n",
      " 0   VehicleType       316879 non-null  object\n",
      " 1   Gearbox           334536 non-null  object\n",
      " 2   Power             354369 non-null  int64 \n",
      " 3   Kilometer         354369 non-null  int64 \n",
      " 4   FuelType          321474 non-null  object\n",
      " 5   Brand             354369 non-null  object\n",
      " 6   Repaired          283215 non-null  object\n",
      " 7   RegistrationYear  354369 non-null  int64 \n",
      " 8   Model             334664 non-null  object\n",
      " 9   Price             354369 non-null  int64 \n",
      "dtypes: int64(4), object(6)\n",
      "memory usage: 27.0+ MB\n"
     ]
    }
   ],
   "source": [
    "filtred_autos_data = data[['VehicleType', \n",
    "                         'Gearbox', \n",
    "                         'Power',\n",
    "                         'Kilometer',\n",
    "                         'FuelType',\n",
    "                         'Brand',\n",
    "                         'Repaired',\n",
    "                         'RegistrationYear',\n",
    "                         'Model',\n",
    "                         'Price']]\n",
    "filtred_autos_data.info()"
   ]
  },
  {
   "cell_type": "markdown",
   "metadata": {},
   "source": [
    "Проверим наполнение целевого признака Price."
   ]
  },
  {
   "cell_type": "code",
   "execution_count": 9,
   "metadata": {},
   "outputs": [
    {
     "data": {
      "text/plain": [
       "Price\n",
       "0        10772\n",
       "500       5670\n",
       "1500      5394\n",
       "1000      4649\n",
       "1200      4594\n",
       "         ...  \n",
       "1368         1\n",
       "233          1\n",
       "11080        1\n",
       "16340        1\n",
       "10985        1\n",
       "Name: count, Length: 3731, dtype: int64"
      ]
     },
     "execution_count": 9,
     "metadata": {},
     "output_type": "execute_result"
    }
   ],
   "source": [
    "filtred_autos_data['Price'].value_counts()"
   ]
  },
  {
   "cell_type": "markdown",
   "metadata": {},
   "source": [
    "Видно, что существует 10772 записи без цены. Удалим их и проверим распределение цены на гистограмме."
   ]
  },
  {
   "cell_type": "code",
   "execution_count": 10,
   "metadata": {},
   "outputs": [
    {
     "data": {
      "text/plain": [
       "count    343597.000000\n",
       "mean       4555.121974\n",
       "std        4515.058553\n",
       "min           1.000000\n",
       "25%        1200.000000\n",
       "50%        2890.000000\n",
       "75%        6500.000000\n",
       "max       20000.000000\n",
       "Name: Price, dtype: float64"
      ]
     },
     "execution_count": 10,
     "metadata": {},
     "output_type": "execute_result"
    },
    {
     "data": {
      "image/png": "[encoded data removed]",
      "text/plain": [
       "<Figure size 1200x900 with 1 Axes>"
      ]
     },
     "metadata": {},
     "output_type": "display_data"
    }
   ],
   "source": [
    "filtred_autos_data = filtred_autos_data.query('Price > 0')\n",
    "filtred_autos_data['Price'].hist(bins=100, figsize=(12,9))\n",
    "filtred_autos_data['Price'].describe()"
   ]
  },
  {
   "cell_type": "markdown",
   "metadata": {},
   "source": [
    "Выделим квантили 5% и 80%."
   ]
  },
  {
   "cell_type": "code",
   "execution_count": 11,
   "metadata": {},
   "outputs": [
    {
     "data": {
      "text/plain": [
       "0.05     350.0\n",
       "0.80    7800.0\n",
       "Name: Price, dtype: float64"
      ]
     },
     "execution_count": 11,
     "metadata": {},
     "output_type": "execute_result"
    }
   ],
   "source": [
    "filtred_autos_data['Price'].quantile([.05, 0.8])"
   ]
  },
  {
   "cell_type": "markdown",
   "metadata": {},
   "source": [
    "Стоимость 350 евро это минимальная цена для продажи поддержанного авто. Выбор 80% квантиля обоснован болльшими выбросами после 7500 евро."
   ]
  },
  {
   "cell_type": "code",
   "execution_count": 12,
   "metadata": {},
   "outputs": [
    {
     "name": "stdout",
     "output_type": "stream",
     "text": [
      "<class 'pandas.core.frame.DataFrame'>\n",
      "Index: 259798 entries, 0 to 354368\n",
      "Data columns (total 10 columns):\n",
      " #   Column            Non-Null Count   Dtype \n",
      "---  ------            --------------   ----- \n",
      " 0   VehicleType       233267 non-null  object\n",
      " 1   Gearbox           246646 non-null  object\n",
      " 2   Power             259798 non-null  int64 \n",
      " 3   Kilometer         259798 non-null  int64 \n",
      " 4   FuelType          236972 non-null  object\n",
      " 5   Brand             259798 non-null  object\n",
      " 6   Repaired          206998 non-null  object\n",
      " 7   RegistrationYear  259798 non-null  int64 \n",
      " 8   Model             246358 non-null  object\n",
      " 9   Price             259798 non-null  int64 \n",
      "dtypes: int64(4), object(6)\n",
      "memory usage: 21.8+ MB\n"
     ]
    }
   ],
   "source": [
    "filtred_autos_data = filtred_autos_data.query('350 <= Price <= 7800')\n",
    "filtred_autos_data.info()"
   ]
  },
  {
   "cell_type": "markdown",
   "metadata": {},
   "source": [
    "Узнаем максимальную дату скачивания анкеты автомобиля."
   ]
  },
  {
   "cell_type": "code",
   "execution_count": 13,
   "metadata": {},
   "outputs": [
    {
     "data": {
      "text/plain": [
       "Timestamp('2016-04-07 14:36:58')"
      ]
     },
     "execution_count": 13,
     "metadata": {},
     "output_type": "execute_result"
    }
   ],
   "source": [
    "date = pd.to_datetime(data['DateCrawled'])\n",
    "date.max()"
   ]
  },
  {
   "cell_type": "markdown",
   "metadata": {},
   "source": [
    "Даты регистрации после 2016 года некорректны и машины появились не раньше 1900 года. Отсечем ненужные года и промотрим левые выбросы."
   ]
  },
  {
   "cell_type": "code",
   "execution_count": 14,
   "metadata": {},
   "outputs": [
    {
     "data": {
      "text/plain": [
       "count    247788.000000\n",
       "mean       2001.539179\n",
       "std           6.112319\n",
       "min        1910.000000\n",
       "25%        1998.000000\n",
       "50%        2002.000000\n",
       "75%        2005.000000\n",
       "max        2016.000000\n",
       "Name: RegistrationYear, dtype: float64"
      ]
     },
     "execution_count": 14,
     "metadata": {},
     "output_type": "execute_result"
    },
    {
     "data": {
      "image/png": "[encoded data removed]",
      "text/plain": [
       "<Figure size 1200x900 with 1 Axes>"
      ]
     },
     "metadata": {},
     "output_type": "display_data"
    }
   ],
   "source": [
    "filtred_autos_data = filtred_autos_data.query('1899 < RegistrationYear < 2017')\n",
    "filtred_autos_data['RegistrationYear'].hist(bins=100, figsize=(12,9))\n",
    "filtred_autos_data['RegistrationYear'].describe()"
   ]
  },
  {
   "cell_type": "markdown",
   "metadata": {},
   "source": [
    "Удалим аномальные значение в столбце RegistrationYear"
   ]
  },
  {
   "cell_type": "code",
   "execution_count": 15,
   "metadata": {},
   "outputs": [
    {
     "data": {
      "text/plain": [
       "count    247665.000000\n",
       "mean       2001.567440\n",
       "std           5.968335\n",
       "min        1960.000000\n",
       "25%        1998.000000\n",
       "50%        2002.000000\n",
       "75%        2005.000000\n",
       "max        2016.000000\n",
       "Name: RegistrationYear, dtype: float64"
      ]
     },
     "execution_count": 15,
     "metadata": {},
     "output_type": "execute_result"
    },
    {
     "data": {
      "image/png": "[encoded data removed]",
      "text/plain": [
       "<Figure size 1200x900 with 1 Axes>"
      ]
     },
     "metadata": {},
     "output_type": "display_data"
    }
   ],
   "source": [
    "filtred_autos_data = filtred_autos_data.query('1959 < RegistrationYear < 2017')\n",
    "filtred_autos_data['RegistrationYear'].hist(bins=50, figsize=(12,9))\n",
    "filtred_autos_data['RegistrationYear'].describe()"
   ]
  },
  {
   "cell_type": "markdown",
   "metadata": {},
   "source": [
    "Проведем замену NaN в Gearbox, Repaired и Model."
   ]
  },
  {
   "cell_type": "code",
   "execution_count": 16,
   "metadata": {},
   "outputs": [
    {
     "data": {
      "text/plain": [
       "VehicleType         0.058640\n",
       "Gearbox             0.000000\n",
       "Power               0.000000\n",
       "Kilometer           0.000000\n",
       "FuelType            0.073575\n",
       "Brand               0.000000\n",
       "Repaired            0.000000\n",
       "RegistrationYear    0.000000\n",
       "Model               0.000000\n",
       "Price               0.000000\n",
       "dtype: float64"
      ]
     },
     "execution_count": 16,
     "metadata": {},
     "output_type": "execute_result"
    }
   ],
   "source": [
    "filtred_autos_data.fillna({'Gearbox':'manual', \n",
    "                           'Repaired':'yes',\n",
    "                           'Model':'unknown'},\n",
    "                          inplace=True)\n",
    "filtred_autos_data.isna().mean()"
   ]
  },
  {
   "cell_type": "markdown",
   "metadata": {},
   "source": [
    "Оценим количество пропущенных значений относительно всех значений в столбце VehicleType"
   ]
  },
  {
   "cell_type": "code",
   "execution_count": 17,
   "metadata": {},
   "outputs": [
    {
     "name": "stdout",
     "output_type": "stream",
     "text": [
      "VehicleType\n",
      "sedan          67609\n",
      "small          66486\n",
      "wagon          47300\n",
      "bus            21087\n",
      "convertible    12662\n",
      "coupe          10311\n",
      "suv             5237\n",
      "other           2450\n",
      "Name: count, dtype: int64\n"
     ]
    },
    {
     "data": {
      "text/plain": [
       "14523"
      ]
     },
     "execution_count": 17,
     "metadata": {},
     "output_type": "execute_result"
    }
   ],
   "source": [
    "print(filtred_autos_data['VehicleType'].value_counts())\n",
    "filtred_autos_data['VehicleType'].isna().sum()"
   ]
  },
  {
   "cell_type": "markdown",
   "metadata": {},
   "source": [
    "Выполним замену NaN в соотвествии с популярным типом кузова для каждого бренда."
   ]
  },
  {
   "cell_type": "code",
   "execution_count": 18,
   "metadata": {},
   "outputs": [
    {
     "data": {
      "text/html": [
       "<div>\n",
       "<style scoped>\n",
       "    .dataframe tbody tr th:only-of-type {\n",
       "        vertical-align: middle;\n",
       "    }\n",
       "\n",
       "    .dataframe tbody tr th {\n",
       "        vertical-align: top;\n",
       "    }\n",
       "\n",
       "    .dataframe thead tr th {\n",
       "        text-align: left;\n",
       "    }\n",
       "\n",
       "    .dataframe thead tr:last-of-type th {\n",
       "        text-align: right;\n",
       "    }\n",
       "</style>\n",
       "<table border=\"1\" class=\"dataframe\">\n",
       "  <thead>\n",
       "    <tr>\n",
       "      <th></th>\n",
       "      <th colspan=\"21\" halign=\"left\">count</th>\n",
       "    </tr>\n",
       "    <tr>\n",
       "      <th></th>\n",
       "      <th colspan=\"21\" halign=\"left\">Price</th>\n",
       "    </tr>\n",
       "    <tr>\n",
       "      <th>Brand</th>\n",
       "      <th>alfa_romeo</th>\n",
       "      <th>audi</th>\n",
       "      <th>bmw</th>\n",
       "      <th>chevrolet</th>\n",
       "      <th>chrysler</th>\n",
       "      <th>citroen</th>\n",
       "      <th>dacia</th>\n",
       "      <th>daewoo</th>\n",
       "      <th>daihatsu</th>\n",
       "      <th>fiat</th>\n",
       "      <th>...</th>\n",
       "      <th>seat</th>\n",
       "      <th>skoda</th>\n",
       "      <th>smart</th>\n",
       "      <th>sonstige_autos</th>\n",
       "      <th>subaru</th>\n",
       "      <th>suzuki</th>\n",
       "      <th>toyota</th>\n",
       "      <th>trabant</th>\n",
       "      <th>volkswagen</th>\n",
       "      <th>volvo</th>\n",
       "    </tr>\n",
       "    <tr>\n",
       "      <th>VehicleType</th>\n",
       "      <th></th>\n",
       "      <th></th>\n",
       "      <th></th>\n",
       "      <th></th>\n",
       "      <th></th>\n",
       "      <th></th>\n",
       "      <th></th>\n",
       "      <th></th>\n",
       "      <th></th>\n",
       "      <th></th>\n",
       "      <th></th>\n",
       "      <th></th>\n",
       "      <th></th>\n",
       "      <th></th>\n",
       "      <th></th>\n",
       "      <th></th>\n",
       "      <th></th>\n",
       "      <th></th>\n",
       "      <th></th>\n",
       "      <th></th>\n",
       "      <th></th>\n",
       "    </tr>\n",
       "  </thead>\n",
       "  <tbody>\n",
       "    <tr>\n",
       "      <th>bus</th>\n",
       "      <td>NaN</td>\n",
       "      <td>10.0</td>\n",
       "      <td>4.0</td>\n",
       "      <td>98.0</td>\n",
       "      <td>370.0</td>\n",
       "      <td>1040.0</td>\n",
       "      <td>15.0</td>\n",
       "      <td>26.0</td>\n",
       "      <td>31.0</td>\n",
       "      <td>707.0</td>\n",
       "      <td>...</td>\n",
       "      <td>485.0</td>\n",
       "      <td>158.0</td>\n",
       "      <td>1.0</td>\n",
       "      <td>140.0</td>\n",
       "      <td>16.0</td>\n",
       "      <td>27.0</td>\n",
       "      <td>341.0</td>\n",
       "      <td>NaN</td>\n",
       "      <td>5936.0</td>\n",
       "      <td>NaN</td>\n",
       "    </tr>\n",
       "    <tr>\n",
       "      <th>convertible</th>\n",
       "      <td>111.0</td>\n",
       "      <td>667.0</td>\n",
       "      <td>1636.0</td>\n",
       "      <td>6.0</td>\n",
       "      <td>195.0</td>\n",
       "      <td>96.0</td>\n",
       "      <td>NaN</td>\n",
       "      <td>1.0</td>\n",
       "      <td>8.0</td>\n",
       "      <td>257.0</td>\n",
       "      <td>...</td>\n",
       "      <td>NaN</td>\n",
       "      <td>3.0</td>\n",
       "      <td>988.0</td>\n",
       "      <td>161.0</td>\n",
       "      <td>NaN</td>\n",
       "      <td>32.0</td>\n",
       "      <td>47.0</td>\n",
       "      <td>30.0</td>\n",
       "      <td>2029.0</td>\n",
       "      <td>35.0</td>\n",
       "    </tr>\n",
       "    <tr>\n",
       "      <th>coupe</th>\n",
       "      <td>180.0</td>\n",
       "      <td>651.0</td>\n",
       "      <td>2570.0</td>\n",
       "      <td>45.0</td>\n",
       "      <td>17.0</td>\n",
       "      <td>137.0</td>\n",
       "      <td>NaN</td>\n",
       "      <td>2.0</td>\n",
       "      <td>NaN</td>\n",
       "      <td>151.0</td>\n",
       "      <td>...</td>\n",
       "      <td>64.0</td>\n",
       "      <td>6.0</td>\n",
       "      <td>318.0</td>\n",
       "      <td>79.0</td>\n",
       "      <td>3.0</td>\n",
       "      <td>4.0</td>\n",
       "      <td>178.0</td>\n",
       "      <td>2.0</td>\n",
       "      <td>740.0</td>\n",
       "      <td>50.0</td>\n",
       "    </tr>\n",
       "    <tr>\n",
       "      <th>other</th>\n",
       "      <td>10.0</td>\n",
       "      <td>83.0</td>\n",
       "      <td>187.0</td>\n",
       "      <td>18.0</td>\n",
       "      <td>6.0</td>\n",
       "      <td>95.0</td>\n",
       "      <td>5.0</td>\n",
       "      <td>5.0</td>\n",
       "      <td>9.0</td>\n",
       "      <td>151.0</td>\n",
       "      <td>...</td>\n",
       "      <td>47.0</td>\n",
       "      <td>21.0</td>\n",
       "      <td>8.0</td>\n",
       "      <td>167.0</td>\n",
       "      <td>5.0</td>\n",
       "      <td>10.0</td>\n",
       "      <td>15.0</td>\n",
       "      <td>4.0</td>\n",
       "      <td>586.0</td>\n",
       "      <td>NaN</td>\n",
       "    </tr>\n",
       "    <tr>\n",
       "      <th>sedan</th>\n",
       "      <td>777.0</td>\n",
       "      <td>7828.0</td>\n",
       "      <td>11309.0</td>\n",
       "      <td>146.0</td>\n",
       "      <td>205.0</td>\n",
       "      <td>538.0</td>\n",
       "      <td>97.0</td>\n",
       "      <td>87.0</td>\n",
       "      <td>35.0</td>\n",
       "      <td>796.0</td>\n",
       "      <td>...</td>\n",
       "      <td>1220.0</td>\n",
       "      <td>694.0</td>\n",
       "      <td>26.0</td>\n",
       "      <td>257.0</td>\n",
       "      <td>99.0</td>\n",
       "      <td>131.0</td>\n",
       "      <td>735.0</td>\n",
       "      <td>170.0</td>\n",
       "      <td>14847.0</td>\n",
       "      <td>487.0</td>\n",
       "    </tr>\n",
       "    <tr>\n",
       "      <th>small</th>\n",
       "      <td>185.0</td>\n",
       "      <td>933.0</td>\n",
       "      <td>324.0</td>\n",
       "      <td>574.0</td>\n",
       "      <td>12.0</td>\n",
       "      <td>1372.0</td>\n",
       "      <td>178.0</td>\n",
       "      <td>247.0</td>\n",
       "      <td>439.0</td>\n",
       "      <td>4520.0</td>\n",
       "      <td>...</td>\n",
       "      <td>2621.0</td>\n",
       "      <td>930.0</td>\n",
       "      <td>3099.0</td>\n",
       "      <td>166.0</td>\n",
       "      <td>99.0</td>\n",
       "      <td>810.0</td>\n",
       "      <td>1475.0</td>\n",
       "      <td>49.0</td>\n",
       "      <td>15294.0</td>\n",
       "      <td>6.0</td>\n",
       "    </tr>\n",
       "    <tr>\n",
       "      <th>suv</th>\n",
       "      <td>NaN</td>\n",
       "      <td>18.0</td>\n",
       "      <td>189.0</td>\n",
       "      <td>146.0</td>\n",
       "      <td>12.0</td>\n",
       "      <td>8.0</td>\n",
       "      <td>46.0</td>\n",
       "      <td>1.0</td>\n",
       "      <td>46.0</td>\n",
       "      <td>17.0</td>\n",
       "      <td>...</td>\n",
       "      <td>1.0</td>\n",
       "      <td>7.0</td>\n",
       "      <td>NaN</td>\n",
       "      <td>174.0</td>\n",
       "      <td>42.0</td>\n",
       "      <td>557.0</td>\n",
       "      <td>252.0</td>\n",
       "      <td>NaN</td>\n",
       "      <td>247.0</td>\n",
       "      <td>30.0</td>\n",
       "    </tr>\n",
       "    <tr>\n",
       "      <th>wagon</th>\n",
       "      <td>388.0</td>\n",
       "      <td>6422.0</td>\n",
       "      <td>4997.0</td>\n",
       "      <td>83.0</td>\n",
       "      <td>183.0</td>\n",
       "      <td>497.0</td>\n",
       "      <td>227.0</td>\n",
       "      <td>36.0</td>\n",
       "      <td>16.0</td>\n",
       "      <td>370.0</td>\n",
       "      <td>...</td>\n",
       "      <td>215.0</td>\n",
       "      <td>1763.0</td>\n",
       "      <td>9.0</td>\n",
       "      <td>104.0</td>\n",
       "      <td>241.0</td>\n",
       "      <td>84.0</td>\n",
       "      <td>449.0</td>\n",
       "      <td>66.0</td>\n",
       "      <td>9704.0</td>\n",
       "      <td>1655.0</td>\n",
       "    </tr>\n",
       "  </tbody>\n",
       "</table>\n",
       "<p>8 rows × 40 columns</p>\n",
       "</div>"
      ],
      "text/plain": [
       "                 count                                                     \\\n",
       "                 Price                                                      \n",
       "Brand       alfa_romeo    audi      bmw chevrolet chrysler citroen  dacia   \n",
       "VehicleType                                                                 \n",
       "bus                NaN    10.0      4.0      98.0    370.0  1040.0   15.0   \n",
       "convertible      111.0   667.0   1636.0       6.0    195.0    96.0    NaN   \n",
       "coupe            180.0   651.0   2570.0      45.0     17.0   137.0    NaN   \n",
       "other             10.0    83.0    187.0      18.0      6.0    95.0    5.0   \n",
       "sedan            777.0  7828.0  11309.0     146.0    205.0   538.0   97.0   \n",
       "small            185.0   933.0    324.0     574.0     12.0  1372.0  178.0   \n",
       "suv                NaN    18.0    189.0     146.0     12.0     8.0   46.0   \n",
       "wagon            388.0  6422.0   4997.0      83.0    183.0   497.0  227.0   \n",
       "\n",
       "                                     ...                          \\\n",
       "                                     ...                           \n",
       "Brand       daewoo daihatsu    fiat  ...    seat   skoda   smart   \n",
       "VehicleType                          ...                           \n",
       "bus           26.0     31.0   707.0  ...   485.0   158.0     1.0   \n",
       "convertible    1.0      8.0   257.0  ...     NaN     3.0   988.0   \n",
       "coupe          2.0      NaN   151.0  ...    64.0     6.0   318.0   \n",
       "other          5.0      9.0   151.0  ...    47.0    21.0     8.0   \n",
       "sedan         87.0     35.0   796.0  ...  1220.0   694.0    26.0   \n",
       "small        247.0    439.0  4520.0  ...  2621.0   930.0  3099.0   \n",
       "suv            1.0     46.0    17.0  ...     1.0     7.0     NaN   \n",
       "wagon         36.0     16.0   370.0  ...   215.0  1763.0     9.0   \n",
       "\n",
       "                                                                             \n",
       "                                                                             \n",
       "Brand       sonstige_autos subaru suzuki  toyota trabant volkswagen   volvo  \n",
       "VehicleType                                                                  \n",
       "bus                  140.0   16.0   27.0   341.0     NaN     5936.0     NaN  \n",
       "convertible          161.0    NaN   32.0    47.0    30.0     2029.0    35.0  \n",
       "coupe                 79.0    3.0    4.0   178.0     2.0      740.0    50.0  \n",
       "other                167.0    5.0   10.0    15.0     4.0      586.0     NaN  \n",
       "sedan                257.0   99.0  131.0   735.0   170.0    14847.0   487.0  \n",
       "small                166.0   99.0  810.0  1475.0    49.0    15294.0     6.0  \n",
       "suv                  174.0   42.0  557.0   252.0     NaN      247.0    30.0  \n",
       "wagon                104.0  241.0   84.0   449.0    66.0     9704.0  1655.0  \n",
       "\n",
       "[8 rows x 40 columns]"
      ]
     },
     "metadata": {},
     "output_type": "display_data"
    },
    {
     "data": {
      "text/plain": [
       "VehicleType\n",
       "sedan          777\n",
       "wagon          388\n",
       "small          185\n",
       "coupe          180\n",
       "convertible    111\n",
       "other           10\n",
       "Name: count, dtype: int64"
      ]
     },
     "execution_count": 18,
     "metadata": {},
     "output_type": "execute_result"
    }
   ],
   "source": [
    "vehicle_type_pivot_table = filtred_autos_data.pivot_table(index=['VehicleType'], \n",
    "                                                          columns=['Brand'],\n",
    "                                                          values=['Price'],\n",
    "                                                          aggfunc=['count'])\n",
    "display(vehicle_type_pivot_table)\n",
    "filtred_autos_data[filtred_autos_data['Brand'] == 'alfa_romeo']['VehicleType'].value_counts()"
   ]
  },
  {
   "cell_type": "code",
   "execution_count": 19,
   "metadata": {},
   "outputs": [
    {
     "data": {
      "text/html": [
       "<div>\n",
       "<style scoped>\n",
       "    .dataframe tbody tr th:only-of-type {\n",
       "        vertical-align: middle;\n",
       "    }\n",
       "\n",
       "    .dataframe tbody tr th {\n",
       "        vertical-align: top;\n",
       "    }\n",
       "\n",
       "    .dataframe thead th {\n",
       "        text-align: right;\n",
       "    }\n",
       "</style>\n",
       "<table border=\"1\" class=\"dataframe\">\n",
       "  <thead>\n",
       "    <tr style=\"text-align: right;\">\n",
       "      <th>Brand</th>\n",
       "      <th>alfa_romeo</th>\n",
       "      <th>audi</th>\n",
       "      <th>bmw</th>\n",
       "      <th>chevrolet</th>\n",
       "      <th>chrysler</th>\n",
       "      <th>citroen</th>\n",
       "      <th>dacia</th>\n",
       "      <th>daewoo</th>\n",
       "      <th>daihatsu</th>\n",
       "      <th>fiat</th>\n",
       "      <th>...</th>\n",
       "      <th>seat</th>\n",
       "      <th>skoda</th>\n",
       "      <th>smart</th>\n",
       "      <th>sonstige_autos</th>\n",
       "      <th>subaru</th>\n",
       "      <th>suzuki</th>\n",
       "      <th>toyota</th>\n",
       "      <th>trabant</th>\n",
       "      <th>volkswagen</th>\n",
       "      <th>volvo</th>\n",
       "    </tr>\n",
       "    <tr>\n",
       "      <th>VehicleType</th>\n",
       "      <th></th>\n",
       "      <th></th>\n",
       "      <th></th>\n",
       "      <th></th>\n",
       "      <th></th>\n",
       "      <th></th>\n",
       "      <th></th>\n",
       "      <th></th>\n",
       "      <th></th>\n",
       "      <th></th>\n",
       "      <th></th>\n",
       "      <th></th>\n",
       "      <th></th>\n",
       "      <th></th>\n",
       "      <th></th>\n",
       "      <th></th>\n",
       "      <th></th>\n",
       "      <th></th>\n",
       "      <th></th>\n",
       "      <th></th>\n",
       "      <th></th>\n",
       "    </tr>\n",
       "  </thead>\n",
       "  <tbody>\n",
       "    <tr>\n",
       "      <th>bus</th>\n",
       "      <td>NaN</td>\n",
       "      <td>10.0</td>\n",
       "      <td>4.0</td>\n",
       "      <td>98.0</td>\n",
       "      <td>370.0</td>\n",
       "      <td>1040.0</td>\n",
       "      <td>15.0</td>\n",
       "      <td>26.0</td>\n",
       "      <td>31.0</td>\n",
       "      <td>707.0</td>\n",
       "      <td>...</td>\n",
       "      <td>485.0</td>\n",
       "      <td>158.0</td>\n",
       "      <td>1.0</td>\n",
       "      <td>140.0</td>\n",
       "      <td>16.0</td>\n",
       "      <td>27.0</td>\n",
       "      <td>341.0</td>\n",
       "      <td>NaN</td>\n",
       "      <td>5936.0</td>\n",
       "      <td>NaN</td>\n",
       "    </tr>\n",
       "    <tr>\n",
       "      <th>convertible</th>\n",
       "      <td>111.0</td>\n",
       "      <td>667.0</td>\n",
       "      <td>1636.0</td>\n",
       "      <td>6.0</td>\n",
       "      <td>195.0</td>\n",
       "      <td>96.0</td>\n",
       "      <td>NaN</td>\n",
       "      <td>1.0</td>\n",
       "      <td>8.0</td>\n",
       "      <td>257.0</td>\n",
       "      <td>...</td>\n",
       "      <td>NaN</td>\n",
       "      <td>3.0</td>\n",
       "      <td>988.0</td>\n",
       "      <td>161.0</td>\n",
       "      <td>NaN</td>\n",
       "      <td>32.0</td>\n",
       "      <td>47.0</td>\n",
       "      <td>30.0</td>\n",
       "      <td>2029.0</td>\n",
       "      <td>35.0</td>\n",
       "    </tr>\n",
       "    <tr>\n",
       "      <th>coupe</th>\n",
       "      <td>180.0</td>\n",
       "      <td>651.0</td>\n",
       "      <td>2570.0</td>\n",
       "      <td>45.0</td>\n",
       "      <td>17.0</td>\n",
       "      <td>137.0</td>\n",
       "      <td>NaN</td>\n",
       "      <td>2.0</td>\n",
       "      <td>NaN</td>\n",
       "      <td>151.0</td>\n",
       "      <td>...</td>\n",
       "      <td>64.0</td>\n",
       "      <td>6.0</td>\n",
       "      <td>318.0</td>\n",
       "      <td>79.0</td>\n",
       "      <td>3.0</td>\n",
       "      <td>4.0</td>\n",
       "      <td>178.0</td>\n",
       "      <td>2.0</td>\n",
       "      <td>740.0</td>\n",
       "      <td>50.0</td>\n",
       "    </tr>\n",
       "    <tr>\n",
       "      <th>other</th>\n",
       "      <td>10.0</td>\n",
       "      <td>83.0</td>\n",
       "      <td>187.0</td>\n",
       "      <td>18.0</td>\n",
       "      <td>6.0</td>\n",
       "      <td>95.0</td>\n",
       "      <td>5.0</td>\n",
       "      <td>5.0</td>\n",
       "      <td>9.0</td>\n",
       "      <td>151.0</td>\n",
       "      <td>...</td>\n",
       "      <td>47.0</td>\n",
       "      <td>21.0</td>\n",
       "      <td>8.0</td>\n",
       "      <td>167.0</td>\n",
       "      <td>5.0</td>\n",
       "      <td>10.0</td>\n",
       "      <td>15.0</td>\n",
       "      <td>4.0</td>\n",
       "      <td>586.0</td>\n",
       "      <td>NaN</td>\n",
       "    </tr>\n",
       "    <tr>\n",
       "      <th>sedan</th>\n",
       "      <td>777.0</td>\n",
       "      <td>7828.0</td>\n",
       "      <td>11309.0</td>\n",
       "      <td>146.0</td>\n",
       "      <td>205.0</td>\n",
       "      <td>538.0</td>\n",
       "      <td>97.0</td>\n",
       "      <td>87.0</td>\n",
       "      <td>35.0</td>\n",
       "      <td>796.0</td>\n",
       "      <td>...</td>\n",
       "      <td>1220.0</td>\n",
       "      <td>694.0</td>\n",
       "      <td>26.0</td>\n",
       "      <td>257.0</td>\n",
       "      <td>99.0</td>\n",
       "      <td>131.0</td>\n",
       "      <td>735.0</td>\n",
       "      <td>170.0</td>\n",
       "      <td>14847.0</td>\n",
       "      <td>487.0</td>\n",
       "    </tr>\n",
       "    <tr>\n",
       "      <th>small</th>\n",
       "      <td>185.0</td>\n",
       "      <td>933.0</td>\n",
       "      <td>324.0</td>\n",
       "      <td>574.0</td>\n",
       "      <td>12.0</td>\n",
       "      <td>1372.0</td>\n",
       "      <td>178.0</td>\n",
       "      <td>247.0</td>\n",
       "      <td>439.0</td>\n",
       "      <td>4520.0</td>\n",
       "      <td>...</td>\n",
       "      <td>2621.0</td>\n",
       "      <td>930.0</td>\n",
       "      <td>3099.0</td>\n",
       "      <td>166.0</td>\n",
       "      <td>99.0</td>\n",
       "      <td>810.0</td>\n",
       "      <td>1475.0</td>\n",
       "      <td>49.0</td>\n",
       "      <td>15294.0</td>\n",
       "      <td>6.0</td>\n",
       "    </tr>\n",
       "    <tr>\n",
       "      <th>suv</th>\n",
       "      <td>NaN</td>\n",
       "      <td>18.0</td>\n",
       "      <td>189.0</td>\n",
       "      <td>146.0</td>\n",
       "      <td>12.0</td>\n",
       "      <td>8.0</td>\n",
       "      <td>46.0</td>\n",
       "      <td>1.0</td>\n",
       "      <td>46.0</td>\n",
       "      <td>17.0</td>\n",
       "      <td>...</td>\n",
       "      <td>1.0</td>\n",
       "      <td>7.0</td>\n",
       "      <td>NaN</td>\n",
       "      <td>174.0</td>\n",
       "      <td>42.0</td>\n",
       "      <td>557.0</td>\n",
       "      <td>252.0</td>\n",
       "      <td>NaN</td>\n",
       "      <td>247.0</td>\n",
       "      <td>30.0</td>\n",
       "    </tr>\n",
       "    <tr>\n",
       "      <th>wagon</th>\n",
       "      <td>388.0</td>\n",
       "      <td>6422.0</td>\n",
       "      <td>4997.0</td>\n",
       "      <td>83.0</td>\n",
       "      <td>183.0</td>\n",
       "      <td>497.0</td>\n",
       "      <td>227.0</td>\n",
       "      <td>36.0</td>\n",
       "      <td>16.0</td>\n",
       "      <td>370.0</td>\n",
       "      <td>...</td>\n",
       "      <td>215.0</td>\n",
       "      <td>1763.0</td>\n",
       "      <td>9.0</td>\n",
       "      <td>104.0</td>\n",
       "      <td>241.0</td>\n",
       "      <td>84.0</td>\n",
       "      <td>449.0</td>\n",
       "      <td>66.0</td>\n",
       "      <td>9704.0</td>\n",
       "      <td>1655.0</td>\n",
       "    </tr>\n",
       "  </tbody>\n",
       "</table>\n",
       "<p>8 rows × 40 columns</p>\n",
       "</div>"
      ],
      "text/plain": [
       "Brand        alfa_romeo    audi      bmw  chevrolet  chrysler  citroen  dacia  \\\n",
       "VehicleType                                                                     \n",
       "bus                 NaN    10.0      4.0       98.0     370.0   1040.0   15.0   \n",
       "convertible       111.0   667.0   1636.0        6.0     195.0     96.0    NaN   \n",
       "coupe             180.0   651.0   2570.0       45.0      17.0    137.0    NaN   \n",
       "other              10.0    83.0    187.0       18.0       6.0     95.0    5.0   \n",
       "sedan             777.0  7828.0  11309.0      146.0     205.0    538.0   97.0   \n",
       "small             185.0   933.0    324.0      574.0      12.0   1372.0  178.0   \n",
       "suv                 NaN    18.0    189.0      146.0      12.0      8.0   46.0   \n",
       "wagon             388.0  6422.0   4997.0       83.0     183.0    497.0  227.0   \n",
       "\n",
       "Brand        daewoo  daihatsu    fiat  ...    seat   skoda   smart  \\\n",
       "VehicleType                            ...                           \n",
       "bus            26.0      31.0   707.0  ...   485.0   158.0     1.0   \n",
       "convertible     1.0       8.0   257.0  ...     NaN     3.0   988.0   \n",
       "coupe           2.0       NaN   151.0  ...    64.0     6.0   318.0   \n",
       "other           5.0       9.0   151.0  ...    47.0    21.0     8.0   \n",
       "sedan          87.0      35.0   796.0  ...  1220.0   694.0    26.0   \n",
       "small         247.0     439.0  4520.0  ...  2621.0   930.0  3099.0   \n",
       "suv             1.0      46.0    17.0  ...     1.0     7.0     NaN   \n",
       "wagon          36.0      16.0   370.0  ...   215.0  1763.0     9.0   \n",
       "\n",
       "Brand        sonstige_autos  subaru  suzuki  toyota  trabant  volkswagen  \\\n",
       "VehicleType                                                                \n",
       "bus                   140.0    16.0    27.0   341.0      NaN      5936.0   \n",
       "convertible           161.0     NaN    32.0    47.0     30.0      2029.0   \n",
       "coupe                  79.0     3.0     4.0   178.0      2.0       740.0   \n",
       "other                 167.0     5.0    10.0    15.0      4.0       586.0   \n",
       "sedan                 257.0    99.0   131.0   735.0    170.0     14847.0   \n",
       "small                 166.0    99.0   810.0  1475.0     49.0     15294.0   \n",
       "suv                   174.0    42.0   557.0   252.0      NaN       247.0   \n",
       "wagon                 104.0   241.0    84.0   449.0     66.0      9704.0   \n",
       "\n",
       "Brand         volvo  \n",
       "VehicleType          \n",
       "bus             NaN  \n",
       "convertible    35.0  \n",
       "coupe          50.0  \n",
       "other           NaN  \n",
       "sedan         487.0  \n",
       "small           6.0  \n",
       "suv            30.0  \n",
       "wagon        1655.0  \n",
       "\n",
       "[8 rows x 40 columns]"
      ]
     },
     "execution_count": 19,
     "metadata": {},
     "output_type": "execute_result"
    }
   ],
   "source": [
    "vehicle_type_pivot_table = vehicle_type_pivot_table['count']['Price']\n",
    "vehicle_type_pivot_table"
   ]
  },
  {
   "cell_type": "markdown",
   "metadata": {},
   "source": [
    "Заполним словарь брендов и популярных типов машин и заполним пропуски по столбцу VehicleType."
   ]
  },
  {
   "cell_type": "code",
   "execution_count": 20,
   "metadata": {},
   "outputs": [
    {
     "name": "stdout",
     "output_type": "stream",
     "text": [
      "<class 'pandas.core.frame.DataFrame'>\n",
      "Index: 247665 entries, 0 to 354368\n",
      "Data columns (total 10 columns):\n",
      " #   Column            Non-Null Count   Dtype \n",
      "---  ------            --------------   ----- \n",
      " 0   VehicleType       233142 non-null  object\n",
      " 1   Gearbox           247665 non-null  object\n",
      " 2   Power             247665 non-null  int64 \n",
      " 3   Kilometer         247665 non-null  int64 \n",
      " 4   FuelType          229443 non-null  object\n",
      " 5   Brand             247665 non-null  object\n",
      " 6   Repaired          247665 non-null  object\n",
      " 7   RegistrationYear  247665 non-null  int64 \n",
      " 8   Model             247665 non-null  object\n",
      " 9   Price             247665 non-null  int64 \n",
      "dtypes: int64(4), object(6)\n",
      "memory usage: 20.8+ MB\n"
     ]
    }
   ],
   "source": [
    "filtred_autos_data.info()"
   ]
  },
  {
   "cell_type": "code",
   "execution_count": 21,
   "metadata": {},
   "outputs": [
    {
     "data": {
      "text/plain": [
       "0"
      ]
     },
     "metadata": {},
     "output_type": "display_data"
    },
    {
     "data": {
      "text/plain": [
       "VehicleType\n",
       "small          76545\n",
       "sedan          71693\n",
       "wagon          47556\n",
       "bus            21144\n",
       "convertible    12662\n",
       "coupe          10330\n",
       "suv             5285\n",
       "other           2450\n",
       "Name: count, dtype: int64"
      ]
     },
     "execution_count": 21,
     "metadata": {},
     "output_type": "execute_result"
    }
   ],
   "source": [
    "filtred_autos_data.fillna({'VehicleType':0},inplace=True)\n",
    "\n",
    "def fillna_by_brand(row, row_number, vehicle_type_pivot_table):\n",
    "    brand = row[5]\n",
    "    fill_value = row[row_number]\n",
    "    if row[row_number] == 0:\n",
    "        fill_value = vehicle_type_pivot_table[brand].idxmax()\n",
    "    return fill_value\n",
    "\n",
    "filtred_autos_data['VehicleType'] = filtred_autos_data.apply(\n",
    "                                fillna_by_brand, \n",
    "                                args=[0, vehicle_type_pivot_table],\n",
    "                                axis=1)\n",
    "display(filtred_autos_data['VehicleType'].isna().sum())\n",
    "filtred_autos_data['VehicleType'].value_counts()"
   ]
  },
  {
   "cell_type": "markdown",
   "metadata": {
    "tags": []
   },
   "source": [
    "Заполним пропуски в FuelType по похожему принципу."
   ]
  },
  {
   "cell_type": "code",
   "execution_count": 22,
   "metadata": {},
   "outputs": [
    {
     "data": {
      "text/html": [
       "<div>\n",
       "<style scoped>\n",
       "    .dataframe tbody tr th:only-of-type {\n",
       "        vertical-align: middle;\n",
       "    }\n",
       "\n",
       "    .dataframe tbody tr th {\n",
       "        vertical-align: top;\n",
       "    }\n",
       "\n",
       "    .dataframe thead th {\n",
       "        text-align: right;\n",
       "    }\n",
       "</style>\n",
       "<table border=\"1\" class=\"dataframe\">\n",
       "  <thead>\n",
       "    <tr style=\"text-align: right;\">\n",
       "      <th>Brand</th>\n",
       "      <th>alfa_romeo</th>\n",
       "      <th>audi</th>\n",
       "      <th>bmw</th>\n",
       "      <th>chevrolet</th>\n",
       "      <th>chrysler</th>\n",
       "      <th>citroen</th>\n",
       "      <th>dacia</th>\n",
       "      <th>daewoo</th>\n",
       "      <th>daihatsu</th>\n",
       "      <th>fiat</th>\n",
       "      <th>...</th>\n",
       "      <th>seat</th>\n",
       "      <th>skoda</th>\n",
       "      <th>smart</th>\n",
       "      <th>sonstige_autos</th>\n",
       "      <th>subaru</th>\n",
       "      <th>suzuki</th>\n",
       "      <th>toyota</th>\n",
       "      <th>trabant</th>\n",
       "      <th>volkswagen</th>\n",
       "      <th>volvo</th>\n",
       "    </tr>\n",
       "    <tr>\n",
       "      <th>FuelType</th>\n",
       "      <th></th>\n",
       "      <th></th>\n",
       "      <th></th>\n",
       "      <th></th>\n",
       "      <th></th>\n",
       "      <th></th>\n",
       "      <th></th>\n",
       "      <th></th>\n",
       "      <th></th>\n",
       "      <th></th>\n",
       "      <th></th>\n",
       "      <th></th>\n",
       "      <th></th>\n",
       "      <th></th>\n",
       "      <th></th>\n",
       "      <th></th>\n",
       "      <th></th>\n",
       "      <th></th>\n",
       "      <th></th>\n",
       "      <th></th>\n",
       "      <th></th>\n",
       "    </tr>\n",
       "  </thead>\n",
       "  <tbody>\n",
       "    <tr>\n",
       "      <th>cng</th>\n",
       "      <td>NaN</td>\n",
       "      <td>1.0</td>\n",
       "      <td>6.0</td>\n",
       "      <td>4.0</td>\n",
       "      <td>NaN</td>\n",
       "      <td>7.0</td>\n",
       "      <td>2.0</td>\n",
       "      <td>NaN</td>\n",
       "      <td>NaN</td>\n",
       "      <td>63.0</td>\n",
       "      <td>...</td>\n",
       "      <td>NaN</td>\n",
       "      <td>4.0</td>\n",
       "      <td>2.0</td>\n",
       "      <td>NaN</td>\n",
       "      <td>2.0</td>\n",
       "      <td>NaN</td>\n",
       "      <td>NaN</td>\n",
       "      <td>NaN</td>\n",
       "      <td>125.0</td>\n",
       "      <td>14.0</td>\n",
       "    </tr>\n",
       "    <tr>\n",
       "      <th>electric</th>\n",
       "      <td>NaN</td>\n",
       "      <td>1.0</td>\n",
       "      <td>3.0</td>\n",
       "      <td>NaN</td>\n",
       "      <td>NaN</td>\n",
       "      <td>NaN</td>\n",
       "      <td>NaN</td>\n",
       "      <td>NaN</td>\n",
       "      <td>1.0</td>\n",
       "      <td>2.0</td>\n",
       "      <td>...</td>\n",
       "      <td>NaN</td>\n",
       "      <td>NaN</td>\n",
       "      <td>1.0</td>\n",
       "      <td>16.0</td>\n",
       "      <td>NaN</td>\n",
       "      <td>NaN</td>\n",
       "      <td>NaN</td>\n",
       "      <td>NaN</td>\n",
       "      <td>1.0</td>\n",
       "      <td>NaN</td>\n",
       "    </tr>\n",
       "    <tr>\n",
       "      <th>gasoline</th>\n",
       "      <td>480.0</td>\n",
       "      <td>6502.0</td>\n",
       "      <td>5073.0</td>\n",
       "      <td>66.0</td>\n",
       "      <td>264.0</td>\n",
       "      <td>1181.0</td>\n",
       "      <td>98.0</td>\n",
       "      <td>1.0</td>\n",
       "      <td>4.0</td>\n",
       "      <td>1243.0</td>\n",
       "      <td>...</td>\n",
       "      <td>1229.0</td>\n",
       "      <td>1145.0</td>\n",
       "      <td>807.0</td>\n",
       "      <td>297.0</td>\n",
       "      <td>10.0</td>\n",
       "      <td>145.0</td>\n",
       "      <td>679.0</td>\n",
       "      <td>1.0</td>\n",
       "      <td>16655.0</td>\n",
       "      <td>582.0</td>\n",
       "    </tr>\n",
       "    <tr>\n",
       "      <th>hybrid</th>\n",
       "      <td>NaN</td>\n",
       "      <td>NaN</td>\n",
       "      <td>NaN</td>\n",
       "      <td>NaN</td>\n",
       "      <td>NaN</td>\n",
       "      <td>NaN</td>\n",
       "      <td>NaN</td>\n",
       "      <td>NaN</td>\n",
       "      <td>NaN</td>\n",
       "      <td>3.0</td>\n",
       "      <td>...</td>\n",
       "      <td>1.0</td>\n",
       "      <td>NaN</td>\n",
       "      <td>1.0</td>\n",
       "      <td>NaN</td>\n",
       "      <td>NaN</td>\n",
       "      <td>NaN</td>\n",
       "      <td>35.0</td>\n",
       "      <td>NaN</td>\n",
       "      <td>5.0</td>\n",
       "      <td>NaN</td>\n",
       "    </tr>\n",
       "    <tr>\n",
       "      <th>lpg</th>\n",
       "      <td>30.0</td>\n",
       "      <td>356.0</td>\n",
       "      <td>606.0</td>\n",
       "      <td>139.0</td>\n",
       "      <td>77.0</td>\n",
       "      <td>63.0</td>\n",
       "      <td>35.0</td>\n",
       "      <td>23.0</td>\n",
       "      <td>5.0</td>\n",
       "      <td>64.0</td>\n",
       "      <td>...</td>\n",
       "      <td>56.0</td>\n",
       "      <td>48.0</td>\n",
       "      <td>3.0</td>\n",
       "      <td>58.0</td>\n",
       "      <td>25.0</td>\n",
       "      <td>18.0</td>\n",
       "      <td>18.0</td>\n",
       "      <td>NaN</td>\n",
       "      <td>454.0</td>\n",
       "      <td>100.0</td>\n",
       "    </tr>\n",
       "    <tr>\n",
       "      <th>other</th>\n",
       "      <td>NaN</td>\n",
       "      <td>2.0</td>\n",
       "      <td>5.0</td>\n",
       "      <td>NaN</td>\n",
       "      <td>NaN</td>\n",
       "      <td>2.0</td>\n",
       "      <td>NaN</td>\n",
       "      <td>1.0</td>\n",
       "      <td>NaN</td>\n",
       "      <td>3.0</td>\n",
       "      <td>...</td>\n",
       "      <td>NaN</td>\n",
       "      <td>NaN</td>\n",
       "      <td>1.0</td>\n",
       "      <td>16.0</td>\n",
       "      <td>NaN</td>\n",
       "      <td>1.0</td>\n",
       "      <td>NaN</td>\n",
       "      <td>31.0</td>\n",
       "      <td>14.0</td>\n",
       "      <td>2.0</td>\n",
       "    </tr>\n",
       "    <tr>\n",
       "      <th>petrol</th>\n",
       "      <td>1124.0</td>\n",
       "      <td>9465.0</td>\n",
       "      <td>14948.0</td>\n",
       "      <td>884.0</td>\n",
       "      <td>642.0</td>\n",
       "      <td>2499.0</td>\n",
       "      <td>424.0</td>\n",
       "      <td>374.0</td>\n",
       "      <td>564.0</td>\n",
       "      <td>5496.0</td>\n",
       "      <td>...</td>\n",
       "      <td>3333.0</td>\n",
       "      <td>2333.0</td>\n",
       "      <td>3604.0</td>\n",
       "      <td>784.0</td>\n",
       "      <td>453.0</td>\n",
       "      <td>1457.0</td>\n",
       "      <td>2736.0</td>\n",
       "      <td>242.0</td>\n",
       "      <td>31839.0</td>\n",
       "      <td>1507.0</td>\n",
       "    </tr>\n",
       "  </tbody>\n",
       "</table>\n",
       "<p>7 rows × 40 columns</p>\n",
       "</div>"
      ],
      "text/plain": [
       "Brand     alfa_romeo    audi      bmw  chevrolet  chrysler  citroen  dacia  \\\n",
       "FuelType                                                                     \n",
       "cng              NaN     1.0      6.0        4.0       NaN      7.0    2.0   \n",
       "electric         NaN     1.0      3.0        NaN       NaN      NaN    NaN   \n",
       "gasoline       480.0  6502.0   5073.0       66.0     264.0   1181.0   98.0   \n",
       "hybrid           NaN     NaN      NaN        NaN       NaN      NaN    NaN   \n",
       "lpg             30.0   356.0    606.0      139.0      77.0     63.0   35.0   \n",
       "other            NaN     2.0      5.0        NaN       NaN      2.0    NaN   \n",
       "petrol        1124.0  9465.0  14948.0      884.0     642.0   2499.0  424.0   \n",
       "\n",
       "Brand     daewoo  daihatsu    fiat  ...    seat   skoda   smart  \\\n",
       "FuelType                            ...                           \n",
       "cng          NaN       NaN    63.0  ...     NaN     4.0     2.0   \n",
       "electric     NaN       1.0     2.0  ...     NaN     NaN     1.0   \n",
       "gasoline     1.0       4.0  1243.0  ...  1229.0  1145.0   807.0   \n",
       "hybrid       NaN       NaN     3.0  ...     1.0     NaN     1.0   \n",
       "lpg         23.0       5.0    64.0  ...    56.0    48.0     3.0   \n",
       "other        1.0       NaN     3.0  ...     NaN     NaN     1.0   \n",
       "petrol     374.0     564.0  5496.0  ...  3333.0  2333.0  3604.0   \n",
       "\n",
       "Brand     sonstige_autos  subaru  suzuki  toyota  trabant  volkswagen   volvo  \n",
       "FuelType                                                                       \n",
       "cng                  NaN     2.0     NaN     NaN      NaN       125.0    14.0  \n",
       "electric            16.0     NaN     NaN     NaN      NaN         1.0     NaN  \n",
       "gasoline           297.0    10.0   145.0   679.0      1.0     16655.0   582.0  \n",
       "hybrid               NaN     NaN     NaN    35.0      NaN         5.0     NaN  \n",
       "lpg                 58.0    25.0    18.0    18.0      NaN       454.0   100.0  \n",
       "other               16.0     NaN     1.0     NaN     31.0        14.0     2.0  \n",
       "petrol             784.0   453.0  1457.0  2736.0    242.0     31839.0  1507.0  \n",
       "\n",
       "[7 rows x 40 columns]"
      ]
     },
     "metadata": {},
     "output_type": "display_data"
    },
    {
     "data": {
      "text/plain": [
       "0"
      ]
     },
     "metadata": {},
     "output_type": "display_data"
    },
    {
     "data": {
      "text/plain": [
       "FuelType\n",
       "petrol      162858\n",
       "gasoline     61661\n",
       "small        12152\n",
       "sedan         5523\n",
       "lpg           4241\n",
       "cng            431\n",
       "wagon          390\n",
       "other          115\n",
       "hybrid          83\n",
       "bus             74\n",
       "suv             62\n",
       "electric        54\n",
       "coupe           21\n",
       "Name: count, dtype: int64"
      ]
     },
     "execution_count": 22,
     "metadata": {},
     "output_type": "execute_result"
    }
   ],
   "source": [
    "filtred_autos_data['FuelType'].value_counts()\n",
    "fuel_type_pivot_table = filtred_autos_data.pivot_table(index=['FuelType'], \n",
    "                                                          columns=['Brand'],\n",
    "                                                          values=['Price'],\n",
    "                                                          aggfunc=['count'])\n",
    "fuel_type_pivot_table = fuel_type_pivot_table['count']['Price']\n",
    "display(fuel_type_pivot_table)\n",
    "\n",
    "filtred_autos_data.fillna({'FuelType':0},inplace=True)\n",
    "\n",
    "filtred_autos_data['FuelType'] = filtred_autos_data.apply(\n",
    "                                fillna_by_brand, \n",
    "                                args=[4, vehicle_type_pivot_table],\n",
    "                                axis=1)\n",
    "display(filtred_autos_data['FuelType'].isna().sum())\n",
    "filtred_autos_data['FuelType'].value_counts()"
   ]
  },
  {
   "cell_type": "code",
   "execution_count": 23,
   "metadata": {},
   "outputs": [
    {
     "data": {
      "text/plain": [
       "VehicleType         0.0\n",
       "Gearbox             0.0\n",
       "Power               0.0\n",
       "Kilometer           0.0\n",
       "FuelType            0.0\n",
       "Brand               0.0\n",
       "Repaired            0.0\n",
       "RegistrationYear    0.0\n",
       "Model               0.0\n",
       "Price               0.0\n",
       "dtype: float64"
      ]
     },
     "execution_count": 23,
     "metadata": {},
     "output_type": "execute_result"
    }
   ],
   "source": [
    "filtred_autos_data.isna().mean()"
   ]
  },
  {
   "cell_type": "markdown",
   "metadata": {},
   "source": [
    "Пропуски убраны. Осталось заняться некорректнымми значениями в столбце Power."
   ]
  },
  {
   "cell_type": "code",
   "execution_count": 24,
   "metadata": {},
   "outputs": [
    {
     "data": {
      "text/plain": [
       "count    247451.000000\n",
       "mean         98.693652\n",
       "std          54.774902\n",
       "min           0.000000\n",
       "25%          67.000000\n",
       "50%         101.000000\n",
       "75%         131.000000\n",
       "max        1000.000000\n",
       "Name: Power, dtype: float64"
      ]
     },
     "execution_count": 24,
     "metadata": {},
     "output_type": "execute_result"
    },
    {
     "data": {
      "image/png": "[encoded data removed]",
      "text/plain": [
       "<Figure size 1200x900 with 1 Axes>"
      ]
     },
     "metadata": {},
     "output_type": "display_data"
    }
   ],
   "source": [
    "filtred_autos_data = filtred_autos_data.query('Power < 1001')\n",
    "filtred_autos_data['Power'].hist(bins=100, figsize=(12,9))\n",
    "filtred_autos_data['Power'].describe()"
   ]
  },
  {
   "cell_type": "code",
   "execution_count": 25,
   "metadata": {},
   "outputs": [
    {
     "data": {
      "text/plain": [
       "count    221412.000000\n",
       "mean        109.878900\n",
       "std          43.985727\n",
       "min          25.000000\n",
       "25%          75.000000\n",
       "50%         103.000000\n",
       "75%         136.000000\n",
       "max         350.000000\n",
       "Name: Power, dtype: float64"
      ]
     },
     "execution_count": 25,
     "metadata": {},
     "output_type": "execute_result"
    },
    {
     "data": {
      "image/png": "[encoded data removed]",
      "text/plain": [
       "<Figure size 1200x900 with 1 Axes>"
      ]
     },
     "metadata": {},
     "output_type": "display_data"
    }
   ],
   "source": [
    "good_autos_data = filtred_autos_data.query('24 < Power < 351')\n",
    "good_autos_data['Power'].hist(bins=100, figsize=(12,9))\n",
    "good_autos_data['Power'].describe()"
   ]
  },
  {
   "cell_type": "code",
   "execution_count": 26,
   "metadata": {},
   "outputs": [
    {
     "name": "stdout",
     "output_type": "stream",
     "text": [
      "<class 'pandas.core.frame.DataFrame'>\n",
      "Index: 221412 entries, 3 to 354368\n",
      "Data columns (total 10 columns):\n",
      " #   Column            Non-Null Count   Dtype \n",
      "---  ------            --------------   ----- \n",
      " 0   VehicleType       221412 non-null  object\n",
      " 1   Gearbox           221412 non-null  object\n",
      " 2   Power             221412 non-null  int64 \n",
      " 3   Kilometer         221412 non-null  int64 \n",
      " 4   FuelType          221412 non-null  object\n",
      " 5   Brand             221412 non-null  object\n",
      " 6   Repaired          221412 non-null  object\n",
      " 7   RegistrationYear  221412 non-null  int64 \n",
      " 8   Model             221412 non-null  object\n",
      " 9   Price             221412 non-null  int64 \n",
      "dtypes: int64(4), object(6)\n",
      "memory usage: 18.6+ MB\n"
     ]
    }
   ],
   "source": [
    "good_autos_data.info()"
   ]
  },
  {
   "cell_type": "markdown",
   "metadata": {},
   "source": [
    "Посмотрим на наличие пропусков"
   ]
  },
  {
   "cell_type": "code",
   "execution_count": 27,
   "metadata": {},
   "outputs": [
    {
     "data": {
      "text/plain": [
       "VehicleType         0\n",
       "Gearbox             0\n",
       "Power               0\n",
       "Kilometer           0\n",
       "FuelType            0\n",
       "Brand               0\n",
       "Repaired            0\n",
       "RegistrationYear    0\n",
       "Model               0\n",
       "Price               0\n",
       "dtype: int64"
      ]
     },
     "execution_count": 27,
     "metadata": {},
     "output_type": "execute_result"
    }
   ],
   "source": [
    "filtred_autos_data.isnull().sum()"
   ]
  },
  {
   "cell_type": "code",
   "execution_count": 28,
   "metadata": {},
   "outputs": [
    {
     "data": {
      "text/plain": [
       "35936"
      ]
     },
     "execution_count": 28,
     "metadata": {},
     "output_type": "execute_result"
    }
   ],
   "source": [
    "filtred_autos_data.duplicated().sum()"
   ]
  },
  {
   "cell_type": "code",
   "execution_count": 29,
   "metadata": {},
   "outputs": [
    {
     "data": {
      "text/html": [
       "<div>\n",
       "<style scoped>\n",
       "    .dataframe tbody tr th:only-of-type {\n",
       "        vertical-align: middle;\n",
       "    }\n",
       "\n",
       "    .dataframe tbody tr th {\n",
       "        vertical-align: top;\n",
       "    }\n",
       "\n",
       "    .dataframe thead th {\n",
       "        text-align: right;\n",
       "    }\n",
       "</style>\n",
       "<table border=\"1\" class=\"dataframe\">\n",
       "  <thead>\n",
       "    <tr style=\"text-align: right;\">\n",
       "      <th></th>\n",
       "      <th>VehicleType</th>\n",
       "      <th>Gearbox</th>\n",
       "      <th>Power</th>\n",
       "      <th>Kilometer</th>\n",
       "      <th>FuelType</th>\n",
       "      <th>Brand</th>\n",
       "      <th>Repaired</th>\n",
       "      <th>RegistrationYear</th>\n",
       "      <th>Model</th>\n",
       "      <th>Price</th>\n",
       "    </tr>\n",
       "  </thead>\n",
       "  <tbody>\n",
       "    <tr>\n",
       "      <th>0</th>\n",
       "      <td>small</td>\n",
       "      <td>manual</td>\n",
       "      <td>0</td>\n",
       "      <td>150000</td>\n",
       "      <td>petrol</td>\n",
       "      <td>volkswagen</td>\n",
       "      <td>yes</td>\n",
       "      <td>1993</td>\n",
       "      <td>golf</td>\n",
       "      <td>480</td>\n",
       "    </tr>\n",
       "    <tr>\n",
       "      <th>3</th>\n",
       "      <td>small</td>\n",
       "      <td>manual</td>\n",
       "      <td>75</td>\n",
       "      <td>150000</td>\n",
       "      <td>petrol</td>\n",
       "      <td>volkswagen</td>\n",
       "      <td>no</td>\n",
       "      <td>2001</td>\n",
       "      <td>golf</td>\n",
       "      <td>1500</td>\n",
       "    </tr>\n",
       "    <tr>\n",
       "      <th>4</th>\n",
       "      <td>small</td>\n",
       "      <td>manual</td>\n",
       "      <td>69</td>\n",
       "      <td>90000</td>\n",
       "      <td>gasoline</td>\n",
       "      <td>skoda</td>\n",
       "      <td>no</td>\n",
       "      <td>2008</td>\n",
       "      <td>fabia</td>\n",
       "      <td>3600</td>\n",
       "    </tr>\n",
       "    <tr>\n",
       "      <th>5</th>\n",
       "      <td>sedan</td>\n",
       "      <td>manual</td>\n",
       "      <td>102</td>\n",
       "      <td>150000</td>\n",
       "      <td>petrol</td>\n",
       "      <td>bmw</td>\n",
       "      <td>yes</td>\n",
       "      <td>1995</td>\n",
       "      <td>3er</td>\n",
       "      <td>650</td>\n",
       "    </tr>\n",
       "    <tr>\n",
       "      <th>6</th>\n",
       "      <td>convertible</td>\n",
       "      <td>manual</td>\n",
       "      <td>109</td>\n",
       "      <td>150000</td>\n",
       "      <td>petrol</td>\n",
       "      <td>peugeot</td>\n",
       "      <td>no</td>\n",
       "      <td>2004</td>\n",
       "      <td>2_reihe</td>\n",
       "      <td>2200</td>\n",
       "    </tr>\n",
       "    <tr>\n",
       "      <th>...</th>\n",
       "      <td>...</td>\n",
       "      <td>...</td>\n",
       "      <td>...</td>\n",
       "      <td>...</td>\n",
       "      <td>...</td>\n",
       "      <td>...</td>\n",
       "      <td>...</td>\n",
       "      <td>...</td>\n",
       "      <td>...</td>\n",
       "      <td>...</td>\n",
       "    </tr>\n",
       "    <tr>\n",
       "      <th>354361</th>\n",
       "      <td>sedan</td>\n",
       "      <td>auto</td>\n",
       "      <td>150</td>\n",
       "      <td>150000</td>\n",
       "      <td>sedan</td>\n",
       "      <td>alfa_romeo</td>\n",
       "      <td>no</td>\n",
       "      <td>2016</td>\n",
       "      <td>159</td>\n",
       "      <td>5250</td>\n",
       "    </tr>\n",
       "    <tr>\n",
       "      <th>354362</th>\n",
       "      <td>sedan</td>\n",
       "      <td>manual</td>\n",
       "      <td>225</td>\n",
       "      <td>150000</td>\n",
       "      <td>petrol</td>\n",
       "      <td>seat</td>\n",
       "      <td>yes</td>\n",
       "      <td>2004</td>\n",
       "      <td>leon</td>\n",
       "      <td>3200</td>\n",
       "    </tr>\n",
       "    <tr>\n",
       "      <th>354365</th>\n",
       "      <td>sedan</td>\n",
       "      <td>manual</td>\n",
       "      <td>0</td>\n",
       "      <td>20000</td>\n",
       "      <td>sedan</td>\n",
       "      <td>sonstige_autos</td>\n",
       "      <td>yes</td>\n",
       "      <td>2005</td>\n",
       "      <td>unknown</td>\n",
       "      <td>2200</td>\n",
       "    </tr>\n",
       "    <tr>\n",
       "      <th>354366</th>\n",
       "      <td>convertible</td>\n",
       "      <td>auto</td>\n",
       "      <td>101</td>\n",
       "      <td>125000</td>\n",
       "      <td>petrol</td>\n",
       "      <td>smart</td>\n",
       "      <td>no</td>\n",
       "      <td>2000</td>\n",
       "      <td>fortwo</td>\n",
       "      <td>1199</td>\n",
       "    </tr>\n",
       "    <tr>\n",
       "      <th>354368</th>\n",
       "      <td>wagon</td>\n",
       "      <td>manual</td>\n",
       "      <td>100</td>\n",
       "      <td>150000</td>\n",
       "      <td>gasoline</td>\n",
       "      <td>volkswagen</td>\n",
       "      <td>yes</td>\n",
       "      <td>2002</td>\n",
       "      <td>golf</td>\n",
       "      <td>3400</td>\n",
       "    </tr>\n",
       "  </tbody>\n",
       "</table>\n",
       "<p>211515 rows × 10 columns</p>\n",
       "</div>"
      ],
      "text/plain": [
       "        VehicleType Gearbox  Power  Kilometer  FuelType           Brand  \\\n",
       "0             small  manual      0     150000    petrol      volkswagen   \n",
       "3             small  manual     75     150000    petrol      volkswagen   \n",
       "4             small  manual     69      90000  gasoline           skoda   \n",
       "5             sedan  manual    102     150000    petrol             bmw   \n",
       "6       convertible  manual    109     150000    petrol         peugeot   \n",
       "...             ...     ...    ...        ...       ...             ...   \n",
       "354361        sedan    auto    150     150000     sedan      alfa_romeo   \n",
       "354362        sedan  manual    225     150000    petrol            seat   \n",
       "354365        sedan  manual      0      20000     sedan  sonstige_autos   \n",
       "354366  convertible    auto    101     125000    petrol           smart   \n",
       "354368        wagon  manual    100     150000  gasoline      volkswagen   \n",
       "\n",
       "       Repaired  RegistrationYear    Model  Price  \n",
       "0           yes              1993     golf    480  \n",
       "3            no              2001     golf   1500  \n",
       "4            no              2008    fabia   3600  \n",
       "5           yes              1995      3er    650  \n",
       "6            no              2004  2_reihe   2200  \n",
       "...         ...               ...      ...    ...  \n",
       "354361       no              2016      159   5250  \n",
       "354362      yes              2004     leon   3200  \n",
       "354365      yes              2005  unknown   2200  \n",
       "354366       no              2000   fortwo   1199  \n",
       "354368      yes              2002     golf   3400  \n",
       "\n",
       "[211515 rows x 10 columns]"
      ]
     },
     "execution_count": 29,
     "metadata": {},
     "output_type": "execute_result"
    }
   ],
   "source": [
    "filtred_autos_data = filtred_autos_data.drop_duplicates()\n",
    "filtred_autos_data"
   ]
  },
  {
   "cell_type": "markdown",
   "metadata": {},
   "source": [
    "#### Вывод:\n",
    "\n",
    "- Произведено изучение данных\n",
    "- Удалены явные дубликаты\n",
    "- Исключены неинформативные признаки\n",
    "- Проведено исследование данных после первоначальной предобработки\n",
    "- Произведена обработка аномалий\n",
    "- Обработаны пропущенные значения"
   ]
  },
  {
   "cell_type": "markdown",
   "metadata": {},
   "source": [
    "## Обучение моделей"
   ]
  },
  {
   "cell_type": "markdown",
   "metadata": {},
   "source": [
    "Проверим 3 модели: Линейная регрессия, CatBoost, LightGBM.\n"
   ]
  },
  {
   "cell_type": "markdown",
   "metadata": {},
   "source": [
    "Выделим признаки и целевой показатель."
   ]
  },
  {
   "cell_type": "code",
   "execution_count": 30,
   "metadata": {
    "tags": []
   },
   "outputs": [],
   "source": [
    "features = good_autos_data.drop('Price', axis=1)\n",
    "target = good_autos_data['Price']"
   ]
  },
  {
   "cell_type": "markdown",
   "metadata": {},
   "source": [
    "Спрятанной тестовой выборки нет. Значит, данные нужно разбить на три части: обучающую, валидационную и тестовую. "
   ]
  },
  {
   "cell_type": "code",
   "execution_count": 31,
   "metadata": {},
   "outputs": [
    {
     "name": "stdout",
     "output_type": "stream",
     "text": [
      "Обучающая выборка: (132847, 9)\n",
      "Валидационная выборка: (44283, 9)\n",
      "Тестовая выборка: (44282, 9)\n"
     ]
    }
   ],
   "source": [
    "features_train, features_test, target_train, target_test = train_test_split(\n",
    "    features,target, test_size=0.4, random_state=12345) \n",
    "\n",
    "features_test, features_valid, target_test, target_valid = train_test_split(\n",
    "    features_test,target_test, test_size=0.5, random_state=12345) \n",
    "\n",
    "print('Обучающая выборка:', features_train.shape)\n",
    "print('Валидационная выборка:', features_valid.shape)\n",
    "print('Тестовая выборка:',features_test.shape)"
   ]
  },
  {
   "cell_type": "markdown",
   "metadata": {},
   "source": [
    "Проведем кодирование данных методом OHE для Линейной регрессии"
   ]
  },
  {
   "cell_type": "code",
   "execution_count": 32,
   "metadata": {},
   "outputs": [
    {
     "name": "stdout",
     "output_type": "stream",
     "text": [
      "['VehicleType', 'Gearbox', 'FuelType', 'Brand', 'Repaired', 'Model']\n"
     ]
    }
   ],
   "source": [
    "ohe_features_LR = features_train.select_dtypes(include='object').columns.to_list()\n",
    "print(ohe_features_LR)"
   ]
  },
  {
   "cell_type": "code",
   "execution_count": 33,
   "metadata": {},
   "outputs": [
    {
     "name": "stdout",
     "output_type": "stream",
     "text": [
      "<class 'pandas.core.frame.DataFrame'>\n",
      "Index: 132847 entries, 40066 to 348305\n",
      "Data columns (total 9 columns):\n",
      " #   Column            Non-Null Count   Dtype \n",
      "---  ------            --------------   ----- \n",
      " 0   VehicleType       132847 non-null  object\n",
      " 1   Gearbox           132847 non-null  object\n",
      " 2   Power             132847 non-null  int64 \n",
      " 3   Kilometer         132847 non-null  int64 \n",
      " 4   FuelType          132847 non-null  object\n",
      " 5   Brand             132847 non-null  object\n",
      " 6   Repaired          132847 non-null  object\n",
      " 7   RegistrationYear  132847 non-null  int64 \n",
      " 8   Model             132847 non-null  object\n",
      "dtypes: int64(3), object(6)\n",
      "memory usage: 10.1+ MB\n"
     ]
    }
   ],
   "source": [
    "features_train.info()"
   ]
  },
  {
   "cell_type": "code",
   "execution_count": 34,
   "metadata": {},
   "outputs": [
    {
     "data": {
      "text/plain": [
       "['Power', 'Kilometer', 'RegistrationYear']"
      ]
     },
     "execution_count": 34,
     "metadata": {},
     "output_type": "execute_result"
    }
   ],
   "source": [
    "num_features = features_train.select_dtypes(exclude='object').columns.to_list()\n",
    "num_features"
   ]
  },
  {
   "cell_type": "code",
   "execution_count": 35,
   "metadata": {},
   "outputs": [
    {
     "name": "stdout",
     "output_type": "stream",
     "text": [
      "(132847, 9)\n",
      "(44283, 9)\n",
      "(44282, 9)\n"
     ]
    }
   ],
   "source": [
    "features_train_LR = features_train.copy()\n",
    "features_valid_LR = features_valid.copy()\n",
    "features_test_LR = features_test.copy()\n",
    "print (features_train_LR.shape)\n",
    "print (features_valid_LR.shape)\n",
    "print (features_test_LR.shape)"
   ]
  },
  {
   "cell_type": "code",
   "execution_count": 36,
   "metadata": {
    "tags": []
   },
   "outputs": [
    {
     "data": {
      "text/html": [
       "<div>\n",
       "<style scoped>\n",
       "    .dataframe tbody tr th:only-of-type {\n",
       "        vertical-align: middle;\n",
       "    }\n",
       "\n",
       "    .dataframe tbody tr th {\n",
       "        vertical-align: top;\n",
       "    }\n",
       "\n",
       "    .dataframe thead th {\n",
       "        text-align: right;\n",
       "    }\n",
       "</style>\n",
       "<table border=\"1\" class=\"dataframe\">\n",
       "  <thead>\n",
       "    <tr style=\"text-align: right;\">\n",
       "      <th></th>\n",
       "      <th>Power</th>\n",
       "      <th>Kilometer</th>\n",
       "      <th>RegistrationYear</th>\n",
       "      <th>VehicleType_convertible</th>\n",
       "      <th>VehicleType_coupe</th>\n",
       "      <th>VehicleType_other</th>\n",
       "      <th>VehicleType_sedan</th>\n",
       "      <th>VehicleType_small</th>\n",
       "      <th>VehicleType_suv</th>\n",
       "      <th>VehicleType_wagon</th>\n",
       "      <th>...</th>\n",
       "      <th>Model_wrangler</th>\n",
       "      <th>Model_x_reihe</th>\n",
       "      <th>Model_x_trail</th>\n",
       "      <th>Model_x_type</th>\n",
       "      <th>Model_xc_reihe</th>\n",
       "      <th>Model_yaris</th>\n",
       "      <th>Model_yeti</th>\n",
       "      <th>Model_ypsilon</th>\n",
       "      <th>Model_z_reihe</th>\n",
       "      <th>Model_zafira</th>\n",
       "    </tr>\n",
       "  </thead>\n",
       "  <tbody>\n",
       "    <tr>\n",
       "      <th>40066</th>\n",
       "      <td>0.346976</td>\n",
       "      <td>0.496086</td>\n",
       "      <td>-0.814275</td>\n",
       "      <td>0.0</td>\n",
       "      <td>0.0</td>\n",
       "      <td>0.0</td>\n",
       "      <td>0.0</td>\n",
       "      <td>0.0</td>\n",
       "      <td>0.0</td>\n",
       "      <td>1.0</td>\n",
       "      <td>...</td>\n",
       "      <td>0.0</td>\n",
       "      <td>0.0</td>\n",
       "      <td>0.0</td>\n",
       "      <td>0.0</td>\n",
       "      <td>0.0</td>\n",
       "      <td>0.0</td>\n",
       "      <td>0.0</td>\n",
       "      <td>0.0</td>\n",
       "      <td>0.0</td>\n",
       "      <td>0.0</td>\n",
       "    </tr>\n",
       "    <tr>\n",
       "      <th>202186</th>\n",
       "      <td>-0.017271</td>\n",
       "      <td>0.496086</td>\n",
       "      <td>0.063734</td>\n",
       "      <td>1.0</td>\n",
       "      <td>0.0</td>\n",
       "      <td>0.0</td>\n",
       "      <td>0.0</td>\n",
       "      <td>0.0</td>\n",
       "      <td>0.0</td>\n",
       "      <td>0.0</td>\n",
       "      <td>...</td>\n",
       "      <td>0.0</td>\n",
       "      <td>0.0</td>\n",
       "      <td>0.0</td>\n",
       "      <td>0.0</td>\n",
       "      <td>0.0</td>\n",
       "      <td>0.0</td>\n",
       "      <td>0.0</td>\n",
       "      <td>0.0</td>\n",
       "      <td>0.0</td>\n",
       "      <td>0.0</td>\n",
       "    </tr>\n",
       "    <tr>\n",
       "      <th>317961</th>\n",
       "      <td>-0.631938</td>\n",
       "      <td>-1.764915</td>\n",
       "      <td>-0.111868</td>\n",
       "      <td>0.0</td>\n",
       "      <td>0.0</td>\n",
       "      <td>0.0</td>\n",
       "      <td>0.0</td>\n",
       "      <td>1.0</td>\n",
       "      <td>0.0</td>\n",
       "      <td>0.0</td>\n",
       "      <td>...</td>\n",
       "      <td>0.0</td>\n",
       "      <td>0.0</td>\n",
       "      <td>0.0</td>\n",
       "      <td>0.0</td>\n",
       "      <td>0.0</td>\n",
       "      <td>0.0</td>\n",
       "      <td>0.0</td>\n",
       "      <td>0.0</td>\n",
       "      <td>0.0</td>\n",
       "      <td>0.0</td>\n",
       "    </tr>\n",
       "    <tr>\n",
       "      <th>338949</th>\n",
       "      <td>-0.017271</td>\n",
       "      <td>0.496086</td>\n",
       "      <td>1.117344</td>\n",
       "      <td>0.0</td>\n",
       "      <td>0.0</td>\n",
       "      <td>0.0</td>\n",
       "      <td>0.0</td>\n",
       "      <td>0.0</td>\n",
       "      <td>0.0</td>\n",
       "      <td>1.0</td>\n",
       "      <td>...</td>\n",
       "      <td>0.0</td>\n",
       "      <td>0.0</td>\n",
       "      <td>0.0</td>\n",
       "      <td>0.0</td>\n",
       "      <td>0.0</td>\n",
       "      <td>0.0</td>\n",
       "      <td>0.0</td>\n",
       "      <td>0.0</td>\n",
       "      <td>0.0</td>\n",
       "      <td>0.0</td>\n",
       "    </tr>\n",
       "    <tr>\n",
       "      <th>264029</th>\n",
       "      <td>-0.791296</td>\n",
       "      <td>0.496086</td>\n",
       "      <td>-0.814275</td>\n",
       "      <td>0.0</td>\n",
       "      <td>0.0</td>\n",
       "      <td>0.0</td>\n",
       "      <td>1.0</td>\n",
       "      <td>0.0</td>\n",
       "      <td>0.0</td>\n",
       "      <td>0.0</td>\n",
       "      <td>...</td>\n",
       "      <td>0.0</td>\n",
       "      <td>0.0</td>\n",
       "      <td>0.0</td>\n",
       "      <td>0.0</td>\n",
       "      <td>0.0</td>\n",
       "      <td>0.0</td>\n",
       "      <td>0.0</td>\n",
       "      <td>0.0</td>\n",
       "      <td>0.0</td>\n",
       "      <td>0.0</td>\n",
       "    </tr>\n",
       "  </tbody>\n",
       "</table>\n",
       "<p>5 rows × 306 columns</p>\n",
       "</div>"
      ],
      "text/plain": [
       "           Power  Kilometer  RegistrationYear  VehicleType_convertible  \\\n",
       "40066   0.346976   0.496086         -0.814275                      0.0   \n",
       "202186 -0.017271   0.496086          0.063734                      1.0   \n",
       "317961 -0.631938  -1.764915         -0.111868                      0.0   \n",
       "338949 -0.017271   0.496086          1.117344                      0.0   \n",
       "264029 -0.791296   0.496086         -0.814275                      0.0   \n",
       "\n",
       "        VehicleType_coupe  VehicleType_other  VehicleType_sedan  \\\n",
       "40066                 0.0                0.0                0.0   \n",
       "202186                0.0                0.0                0.0   \n",
       "317961                0.0                0.0                0.0   \n",
       "338949                0.0                0.0                0.0   \n",
       "264029                0.0                0.0                1.0   \n",
       "\n",
       "        VehicleType_small  VehicleType_suv  VehicleType_wagon  ...  \\\n",
       "40066                 0.0              0.0                1.0  ...   \n",
       "202186                0.0              0.0                0.0  ...   \n",
       "317961                1.0              0.0                0.0  ...   \n",
       "338949                0.0              0.0                1.0  ...   \n",
       "264029                0.0              0.0                0.0  ...   \n",
       "\n",
       "        Model_wrangler  Model_x_reihe  Model_x_trail  Model_x_type  \\\n",
       "40066              0.0            0.0            0.0           0.0   \n",
       "202186             0.0            0.0            0.0           0.0   \n",
       "317961             0.0            0.0            0.0           0.0   \n",
       "338949             0.0            0.0            0.0           0.0   \n",
       "264029             0.0            0.0            0.0           0.0   \n",
       "\n",
       "        Model_xc_reihe  Model_yaris  Model_yeti  Model_ypsilon  Model_z_reihe  \\\n",
       "40066              0.0          0.0         0.0            0.0            0.0   \n",
       "202186             0.0          0.0         0.0            0.0            0.0   \n",
       "317961             0.0          0.0         0.0            0.0            0.0   \n",
       "338949             0.0          0.0         0.0            0.0            0.0   \n",
       "264029             0.0          0.0         0.0            0.0            0.0   \n",
       "\n",
       "        Model_zafira  \n",
       "40066            0.0  \n",
       "202186           0.0  \n",
       "317961           0.0  \n",
       "338949           0.0  \n",
       "264029           0.0  \n",
       "\n",
       "[5 rows x 306 columns]"
      ]
     },
     "execution_count": 36,
     "metadata": {},
     "output_type": "execute_result"
    }
   ],
   "source": [
    "encoder_ohe = OneHotEncoder(drop='first', handle_unknown='ignore', sparse=False)\n",
    "\n",
    "\n",
    "encoder_ohe.fit(features_train_LR[ohe_features_LR])\n",
    "\n",
    "features_train_LR[\n",
    "    encoder_ohe.get_feature_names_out()\n",
    "] = encoder_ohe.transform(features_train_LR[ohe_features_LR])\n",
    "\n",
    "\n",
    "features_train_LR = features_train_LR.drop(ohe_features_LR, axis=1)\n",
    "\n",
    "\n",
    "scaler = StandardScaler()\n",
    "\n",
    "\n",
    "features_train_LR[num_features] = scaler.fit_transform(features_train_LR[num_features])\n",
    "\n",
    "\n",
    "features_train_LR.head()"
   ]
  },
  {
   "cell_type": "markdown",
   "metadata": {},
   "source": [
    "Энкодером, который обучен на тренировочной выборке, кодируем валидацинную"
   ]
  },
  {
   "cell_type": "code",
   "execution_count": 37,
   "metadata": {},
   "outputs": [
    {
     "data": {
      "text/html": [
       "<div>\n",
       "<style scoped>\n",
       "    .dataframe tbody tr th:only-of-type {\n",
       "        vertical-align: middle;\n",
       "    }\n",
       "\n",
       "    .dataframe tbody tr th {\n",
       "        vertical-align: top;\n",
       "    }\n",
       "\n",
       "    .dataframe thead th {\n",
       "        text-align: right;\n",
       "    }\n",
       "</style>\n",
       "<table border=\"1\" class=\"dataframe\">\n",
       "  <thead>\n",
       "    <tr style=\"text-align: right;\">\n",
       "      <th></th>\n",
       "      <th>Power</th>\n",
       "      <th>Kilometer</th>\n",
       "      <th>RegistrationYear</th>\n",
       "      <th>VehicleType_convertible</th>\n",
       "      <th>VehicleType_coupe</th>\n",
       "      <th>VehicleType_other</th>\n",
       "      <th>VehicleType_sedan</th>\n",
       "      <th>VehicleType_small</th>\n",
       "      <th>VehicleType_suv</th>\n",
       "      <th>VehicleType_wagon</th>\n",
       "      <th>...</th>\n",
       "      <th>Model_wrangler</th>\n",
       "      <th>Model_x_reihe</th>\n",
       "      <th>Model_x_trail</th>\n",
       "      <th>Model_x_type</th>\n",
       "      <th>Model_xc_reihe</th>\n",
       "      <th>Model_yaris</th>\n",
       "      <th>Model_yeti</th>\n",
       "      <th>Model_ypsilon</th>\n",
       "      <th>Model_z_reihe</th>\n",
       "      <th>Model_zafira</th>\n",
       "    </tr>\n",
       "  </thead>\n",
       "  <tbody>\n",
       "    <tr>\n",
       "      <th>52544</th>\n",
       "      <td>-1.132777</td>\n",
       "      <td>-1.118915</td>\n",
       "      <td>-5.731126</td>\n",
       "      <td>0.0</td>\n",
       "      <td>0.0</td>\n",
       "      <td>1.0</td>\n",
       "      <td>0.0</td>\n",
       "      <td>0.0</td>\n",
       "      <td>0.0</td>\n",
       "      <td>0.0</td>\n",
       "      <td>...</td>\n",
       "      <td>0.0</td>\n",
       "      <td>0.0</td>\n",
       "      <td>0.0</td>\n",
       "      <td>0.0</td>\n",
       "      <td>0.0</td>\n",
       "      <td>0.0</td>\n",
       "      <td>0.0</td>\n",
       "      <td>0.0</td>\n",
       "      <td>0.0</td>\n",
       "      <td>0.0</td>\n",
       "    </tr>\n",
       "    <tr>\n",
       "      <th>290872</th>\n",
       "      <td>0.346976</td>\n",
       "      <td>-0.311415</td>\n",
       "      <td>0.590539</td>\n",
       "      <td>0.0</td>\n",
       "      <td>0.0</td>\n",
       "      <td>0.0</td>\n",
       "      <td>1.0</td>\n",
       "      <td>0.0</td>\n",
       "      <td>0.0</td>\n",
       "      <td>0.0</td>\n",
       "      <td>...</td>\n",
       "      <td>0.0</td>\n",
       "      <td>0.0</td>\n",
       "      <td>0.0</td>\n",
       "      <td>0.0</td>\n",
       "      <td>0.0</td>\n",
       "      <td>0.0</td>\n",
       "      <td>0.0</td>\n",
       "      <td>0.0</td>\n",
       "      <td>0.0</td>\n",
       "      <td>0.0</td>\n",
       "    </tr>\n",
       "    <tr>\n",
       "      <th>263700</th>\n",
       "      <td>1.212062</td>\n",
       "      <td>0.496086</td>\n",
       "      <td>0.941743</td>\n",
       "      <td>0.0</td>\n",
       "      <td>0.0</td>\n",
       "      <td>0.0</td>\n",
       "      <td>1.0</td>\n",
       "      <td>0.0</td>\n",
       "      <td>0.0</td>\n",
       "      <td>0.0</td>\n",
       "      <td>...</td>\n",
       "      <td>0.0</td>\n",
       "      <td>0.0</td>\n",
       "      <td>0.0</td>\n",
       "      <td>0.0</td>\n",
       "      <td>0.0</td>\n",
       "      <td>0.0</td>\n",
       "      <td>0.0</td>\n",
       "      <td>0.0</td>\n",
       "      <td>0.0</td>\n",
       "      <td>0.0</td>\n",
       "    </tr>\n",
       "    <tr>\n",
       "      <th>22760</th>\n",
       "      <td>-1.360431</td>\n",
       "      <td>0.496086</td>\n",
       "      <td>-0.638674</td>\n",
       "      <td>0.0</td>\n",
       "      <td>0.0</td>\n",
       "      <td>0.0</td>\n",
       "      <td>0.0</td>\n",
       "      <td>1.0</td>\n",
       "      <td>0.0</td>\n",
       "      <td>0.0</td>\n",
       "      <td>...</td>\n",
       "      <td>0.0</td>\n",
       "      <td>0.0</td>\n",
       "      <td>0.0</td>\n",
       "      <td>0.0</td>\n",
       "      <td>0.0</td>\n",
       "      <td>0.0</td>\n",
       "      <td>0.0</td>\n",
       "      <td>0.0</td>\n",
       "      <td>0.0</td>\n",
       "      <td>0.0</td>\n",
       "    </tr>\n",
       "    <tr>\n",
       "      <th>269395</th>\n",
       "      <td>1.212062</td>\n",
       "      <td>-0.311415</td>\n",
       "      <td>-0.111868</td>\n",
       "      <td>1.0</td>\n",
       "      <td>0.0</td>\n",
       "      <td>0.0</td>\n",
       "      <td>0.0</td>\n",
       "      <td>0.0</td>\n",
       "      <td>0.0</td>\n",
       "      <td>0.0</td>\n",
       "      <td>...</td>\n",
       "      <td>0.0</td>\n",
       "      <td>0.0</td>\n",
       "      <td>0.0</td>\n",
       "      <td>0.0</td>\n",
       "      <td>0.0</td>\n",
       "      <td>0.0</td>\n",
       "      <td>0.0</td>\n",
       "      <td>0.0</td>\n",
       "      <td>0.0</td>\n",
       "      <td>0.0</td>\n",
       "    </tr>\n",
       "  </tbody>\n",
       "</table>\n",
       "<p>5 rows × 306 columns</p>\n",
       "</div>"
      ],
      "text/plain": [
       "           Power  Kilometer  RegistrationYear  VehicleType_convertible  \\\n",
       "52544  -1.132777  -1.118915         -5.731126                      0.0   \n",
       "290872  0.346976  -0.311415          0.590539                      0.0   \n",
       "263700  1.212062   0.496086          0.941743                      0.0   \n",
       "22760  -1.360431   0.496086         -0.638674                      0.0   \n",
       "269395  1.212062  -0.311415         -0.111868                      1.0   \n",
       "\n",
       "        VehicleType_coupe  VehicleType_other  VehicleType_sedan  \\\n",
       "52544                 0.0                1.0                0.0   \n",
       "290872                0.0                0.0                1.0   \n",
       "263700                0.0                0.0                1.0   \n",
       "22760                 0.0                0.0                0.0   \n",
       "269395                0.0                0.0                0.0   \n",
       "\n",
       "        VehicleType_small  VehicleType_suv  VehicleType_wagon  ...  \\\n",
       "52544                 0.0              0.0                0.0  ...   \n",
       "290872                0.0              0.0                0.0  ...   \n",
       "263700                0.0              0.0                0.0  ...   \n",
       "22760                 1.0              0.0                0.0  ...   \n",
       "269395                0.0              0.0                0.0  ...   \n",
       "\n",
       "        Model_wrangler  Model_x_reihe  Model_x_trail  Model_x_type  \\\n",
       "52544              0.0            0.0            0.0           0.0   \n",
       "290872             0.0            0.0            0.0           0.0   \n",
       "263700             0.0            0.0            0.0           0.0   \n",
       "22760              0.0            0.0            0.0           0.0   \n",
       "269395             0.0            0.0            0.0           0.0   \n",
       "\n",
       "        Model_xc_reihe  Model_yaris  Model_yeti  Model_ypsilon  Model_z_reihe  \\\n",
       "52544              0.0          0.0         0.0            0.0            0.0   \n",
       "290872             0.0          0.0         0.0            0.0            0.0   \n",
       "263700             0.0          0.0         0.0            0.0            0.0   \n",
       "22760              0.0          0.0         0.0            0.0            0.0   \n",
       "269395             0.0          0.0         0.0            0.0            0.0   \n",
       "\n",
       "        Model_zafira  \n",
       "52544            0.0  \n",
       "290872           0.0  \n",
       "263700           0.0  \n",
       "22760            0.0  \n",
       "269395           0.0  \n",
       "\n",
       "[5 rows x 306 columns]"
      ]
     },
     "execution_count": 37,
     "metadata": {},
     "output_type": "execute_result"
    }
   ],
   "source": [
    "features_valid_LR[\n",
    "    encoder_ohe.get_feature_names_out()\n",
    "] = encoder_ohe.transform(features_valid_LR[ohe_features_LR])\n",
    "\n",
    "features_valid_LR = features_valid_LR.drop(ohe_features_LR, axis=1)\n",
    "\n",
    "features_valid_LR[num_features] = scaler.transform(\n",
    "    features_valid_LR[num_features]\n",
    ")\n",
    "\n",
    "features_valid_LR.head()"
   ]
  },
  {
   "cell_type": "code",
   "execution_count": 38,
   "metadata": {},
   "outputs": [
    {
     "data": {
      "text/plain": [
       "((132847, 306), (44283, 306))"
      ]
     },
     "execution_count": 38,
     "metadata": {},
     "output_type": "execute_result"
    }
   ],
   "source": [
    "features_train_LR.shape, features_valid_LR.shape"
   ]
  },
  {
   "cell_type": "code",
   "execution_count": 39,
   "metadata": {},
   "outputs": [
    {
     "data": {
      "text/plain": [
       "0"
      ]
     },
     "execution_count": 39,
     "metadata": {},
     "output_type": "execute_result"
    }
   ],
   "source": [
    "(features_train_LR.columns != features_valid_LR.columns).sum()"
   ]
  },
  {
   "cell_type": "markdown",
   "metadata": {},
   "source": [
    "Проведем кодирование данных методом OrdinalEncoder"
   ]
  },
  {
   "cell_type": "code",
   "execution_count": 40,
   "metadata": {},
   "outputs": [
    {
     "name": "stdout",
     "output_type": "stream",
     "text": [
      "['VehicleType', 'Gearbox', 'FuelType', 'Brand', 'Repaired', 'Model']\n"
     ]
    }
   ],
   "source": [
    "ore_features = features_train.select_dtypes(include='object').columns.to_list()\n",
    "print(ore_features)"
   ]
  },
  {
   "cell_type": "code",
   "execution_count": 41,
   "metadata": {},
   "outputs": [
    {
     "data": {
      "text/plain": [
       "['Power', 'Kilometer', 'RegistrationYear']"
      ]
     },
     "execution_count": 41,
     "metadata": {},
     "output_type": "execute_result"
    }
   ],
   "source": [
    "num_features_ore = features_train.select_dtypes(exclude='object').columns.to_list()\n",
    "num_features_ore"
   ]
  },
  {
   "cell_type": "code",
   "execution_count": 42,
   "metadata": {},
   "outputs": [],
   "source": [
    "features_train_ore = features_train.copy()\n",
    "features_valid_ore = features_valid.copy()\n",
    "features_test_ore = features_test.copy()"
   ]
  },
  {
   "cell_type": "code",
   "execution_count": 43,
   "metadata": {},
   "outputs": [],
   "source": [
    "encoder_ore = OrdinalEncoder(handle_unknown='use_encoded_value', unknown_value=-1)"
   ]
  },
  {
   "cell_type": "code",
   "execution_count": 44,
   "metadata": {},
   "outputs": [
    {
     "data": {
      "text/html": [
       "<style>#sk-container-id-1 {color: black;}#sk-container-id-1 pre{padding: 0;}#sk-container-id-1 div.sk-toggleable {background-color: white;}#sk-container-id-1 label.sk-toggleable__label {cursor: pointer;display: block;width: 100%;margin-bottom: 0;padding: 0.3em;box-sizing: border-box;text-align: center;}#sk-container-id-1 label.sk-toggleable__label-arrow:before {content: \"▸\";float: left;margin-right: 0.25em;color: #696969;}#sk-container-id-1 label.sk-toggleable__label-arrow:hover:before {color: black;}#sk-container-id-1 div.sk-estimator:hover label.sk-toggleable__label-arrow:before {color: black;}#sk-container-id-1 div.sk-toggleable__content {max-height: 0;max-width: 0;overflow: hidden;text-align: left;background-color: #f0f8ff;}#sk-container-id-1 div.sk-toggleable__content pre {margin: 0.2em;color: black;border-radius: 0.25em;background-color: #f0f8ff;}#sk-container-id-1 input.sk-toggleable__control:checked~div.sk-toggleable__content {max-height: 200px;max-width: 100%;overflow: auto;}#sk-container-id-1 input.sk-toggleable__control:checked~label.sk-toggleable__label-arrow:before {content: \"▾\";}#sk-container-id-1 div.sk-estimator input.sk-toggleable__control:checked~label.sk-toggleable__label {background-color: #d4ebff;}#sk-container-id-1 div.sk-label input.sk-toggleable__control:checked~label.sk-toggleable__label {background-color: #d4ebff;}#sk-container-id-1 input.sk-hidden--visually {border: 0;clip: rect(1px 1px 1px 1px);clip: rect(1px, 1px, 1px, 1px);height: 1px;margin: -1px;overflow: hidden;padding: 0;position: absolute;width: 1px;}#sk-container-id-1 div.sk-estimator {font-family: monospace;background-color: #f0f8ff;border: 1px dotted black;border-radius: 0.25em;box-sizing: border-box;margin-bottom: 0.5em;}#sk-container-id-1 div.sk-estimator:hover {background-color: #d4ebff;}#sk-container-id-1 div.sk-parallel-item::after {content: \"\";width: 100%;border-bottom: 1px solid gray;flex-grow: 1;}#sk-container-id-1 div.sk-label:hover label.sk-toggleable__label {background-color: #d4ebff;}#sk-container-id-1 div.sk-serial::before {content: \"\";position: absolute;border-left: 1px solid gray;box-sizing: border-box;top: 0;bottom: 0;left: 50%;z-index: 0;}#sk-container-id-1 div.sk-serial {display: flex;flex-direction: column;align-items: center;background-color: white;padding-right: 0.2em;padding-left: 0.2em;position: relative;}#sk-container-id-1 div.sk-item {position: relative;z-index: 1;}#sk-container-id-1 div.sk-parallel {display: flex;align-items: stretch;justify-content: center;background-color: white;position: relative;}#sk-container-id-1 div.sk-item::before, #sk-container-id-1 div.sk-parallel-item::before {content: \"\";position: absolute;border-left: 1px solid gray;box-sizing: border-box;top: 0;bottom: 0;left: 50%;z-index: -1;}#sk-container-id-1 div.sk-parallel-item {display: flex;flex-direction: column;z-index: 1;position: relative;background-color: white;}#sk-container-id-1 div.sk-parallel-item:first-child::after {align-self: flex-end;width: 50%;}#sk-container-id-1 div.sk-parallel-item:last-child::after {align-self: flex-start;width: 50%;}#sk-container-id-1 div.sk-parallel-item:only-child::after {width: 0;}#sk-container-id-1 div.sk-dashed-wrapped {border: 1px dashed gray;margin: 0 0.4em 0.5em 0.4em;box-sizing: border-box;padding-bottom: 0.4em;background-color: white;}#sk-container-id-1 div.sk-label label {font-family: monospace;font-weight: bold;display: inline-block;line-height: 1.2em;}#sk-container-id-1 div.sk-label-container {text-align: center;}#sk-container-id-1 div.sk-container {/* jupyter's `normalize.less` sets `[hidden] { display: none; }` but bootstrap.min.css set `[hidden] { display: none !important; }` so we also need the `!important` here to be able to override the default hidden behavior on the sphinx rendered scikit-learn.org. See: https://github.com/scikit-learn/scikit-learn/issues/21755 */display: inline-block !important;position: relative;}#sk-container-id-1 div.sk-text-repr-fallback {display: none;}</style><div id=\"sk-container-id-1\" class=\"sk-top-container\"><div class=\"sk-text-repr-fallback\"><pre>OrdinalEncoder(handle_unknown=&#x27;use_encoded_value&#x27;, unknown_value=-1)</pre><b>In a Jupyter environment, please rerun this cell to show the HTML representation or trust the notebook. <br />On GitHub, the HTML representation is unable to render, please try loading this page with nbviewer.org.</b></div><div class=\"sk-container\" hidden><div class=\"sk-item\"><div class=\"sk-estimator sk-toggleable\"><input class=\"sk-toggleable__control sk-hidden--visually\" id=\"sk-estimator-id-1\" type=\"checkbox\" checked><label for=\"sk-estimator-id-1\" class=\"sk-toggleable__label sk-toggleable__label-arrow\">OrdinalEncoder</label><div class=\"sk-toggleable__content\"><pre>OrdinalEncoder(handle_unknown=&#x27;use_encoded_value&#x27;, unknown_value=-1)</pre></div></div></div></div></div>"
      ],
      "text/plain": [
       "OrdinalEncoder(handle_unknown='use_encoded_value', unknown_value=-1)"
      ]
     },
     "execution_count": 44,
     "metadata": {},
     "output_type": "execute_result"
    }
   ],
   "source": [
    "encoder_ore.fit(features_train_ore[ore_features])"
   ]
  },
  {
   "cell_type": "markdown",
   "metadata": {},
   "source": [
    "Добавляем закодированные признаки в features_train_ore"
   ]
  },
  {
   "cell_type": "code",
   "execution_count": 45,
   "metadata": {},
   "outputs": [],
   "source": [
    "features_train_ore[\n",
    "    encoder_ore.get_feature_names_out()\n",
    "] = encoder_ore.transform(features_train_ore[ore_features])"
   ]
  },
  {
   "cell_type": "code",
   "execution_count": 46,
   "metadata": {},
   "outputs": [
    {
     "data": {
      "text/html": [
       "<div>\n",
       "<style scoped>\n",
       "    .dataframe tbody tr th:only-of-type {\n",
       "        vertical-align: middle;\n",
       "    }\n",
       "\n",
       "    .dataframe tbody tr th {\n",
       "        vertical-align: top;\n",
       "    }\n",
       "\n",
       "    .dataframe thead th {\n",
       "        text-align: right;\n",
       "    }\n",
       "</style>\n",
       "<table border=\"1\" class=\"dataframe\">\n",
       "  <thead>\n",
       "    <tr style=\"text-align: right;\">\n",
       "      <th></th>\n",
       "      <th>VehicleType</th>\n",
       "      <th>Gearbox</th>\n",
       "      <th>Power</th>\n",
       "      <th>Kilometer</th>\n",
       "      <th>FuelType</th>\n",
       "      <th>Brand</th>\n",
       "      <th>Repaired</th>\n",
       "      <th>RegistrationYear</th>\n",
       "      <th>Model</th>\n",
       "    </tr>\n",
       "  </thead>\n",
       "  <tbody>\n",
       "    <tr>\n",
       "      <th>40066</th>\n",
       "      <td>7.0</td>\n",
       "      <td>1.0</td>\n",
       "      <td>125</td>\n",
       "      <td>150000</td>\n",
       "      <td>8.0</td>\n",
       "      <td>38.0</td>\n",
       "      <td>1.0</td>\n",
       "      <td>1997</td>\n",
       "      <td>167.0</td>\n",
       "    </tr>\n",
       "    <tr>\n",
       "      <th>202186</th>\n",
       "      <td>1.0</td>\n",
       "      <td>1.0</td>\n",
       "      <td>109</td>\n",
       "      <td>150000</td>\n",
       "      <td>8.0</td>\n",
       "      <td>25.0</td>\n",
       "      <td>0.0</td>\n",
       "      <td>2002</td>\n",
       "      <td>8.0</td>\n",
       "    </tr>\n",
       "    <tr>\n",
       "      <th>317961</th>\n",
       "      <td>5.0</td>\n",
       "      <td>0.0</td>\n",
       "      <td>82</td>\n",
       "      <td>80000</td>\n",
       "      <td>8.0</td>\n",
       "      <td>23.0</td>\n",
       "      <td>0.0</td>\n",
       "      <td>2001</td>\n",
       "      <td>148.0</td>\n",
       "    </tr>\n",
       "    <tr>\n",
       "      <th>338949</th>\n",
       "      <td>7.0</td>\n",
       "      <td>1.0</td>\n",
       "      <td>109</td>\n",
       "      <td>150000</td>\n",
       "      <td>4.0</td>\n",
       "      <td>10.0</td>\n",
       "      <td>0.0</td>\n",
       "      <td>2008</td>\n",
       "      <td>102.0</td>\n",
       "    </tr>\n",
       "    <tr>\n",
       "      <th>264029</th>\n",
       "      <td>4.0</td>\n",
       "      <td>1.0</td>\n",
       "      <td>75</td>\n",
       "      <td>150000</td>\n",
       "      <td>8.0</td>\n",
       "      <td>11.0</td>\n",
       "      <td>0.0</td>\n",
       "      <td>1997</td>\n",
       "      <td>72.0</td>\n",
       "    </tr>\n",
       "    <tr>\n",
       "      <th>...</th>\n",
       "      <td>...</td>\n",
       "      <td>...</td>\n",
       "      <td>...</td>\n",
       "      <td>...</td>\n",
       "      <td>...</td>\n",
       "      <td>...</td>\n",
       "      <td>...</td>\n",
       "      <td>...</td>\n",
       "      <td>...</td>\n",
       "    </tr>\n",
       "    <tr>\n",
       "      <th>136624</th>\n",
       "      <td>5.0</td>\n",
       "      <td>1.0</td>\n",
       "      <td>69</td>\n",
       "      <td>60000</td>\n",
       "      <td>8.0</td>\n",
       "      <td>10.0</td>\n",
       "      <td>0.0</td>\n",
       "      <td>2009</td>\n",
       "      <td>125.0</td>\n",
       "    </tr>\n",
       "    <tr>\n",
       "      <th>213583</th>\n",
       "      <td>7.0</td>\n",
       "      <td>1.0</td>\n",
       "      <td>129</td>\n",
       "      <td>150000</td>\n",
       "      <td>4.0</td>\n",
       "      <td>10.0</td>\n",
       "      <td>0.0</td>\n",
       "      <td>2006</td>\n",
       "      <td>151.0</td>\n",
       "    </tr>\n",
       "    <tr>\n",
       "      <th>208965</th>\n",
       "      <td>5.0</td>\n",
       "      <td>1.0</td>\n",
       "      <td>50</td>\n",
       "      <td>125000</td>\n",
       "      <td>8.0</td>\n",
       "      <td>10.0</td>\n",
       "      <td>1.0</td>\n",
       "      <td>1999</td>\n",
       "      <td>101.0</td>\n",
       "    </tr>\n",
       "    <tr>\n",
       "      <th>123655</th>\n",
       "      <td>1.0</td>\n",
       "      <td>1.0</td>\n",
       "      <td>193</td>\n",
       "      <td>125000</td>\n",
       "      <td>8.0</td>\n",
       "      <td>2.0</td>\n",
       "      <td>0.0</td>\n",
       "      <td>1997</td>\n",
       "      <td>11.0</td>\n",
       "    </tr>\n",
       "    <tr>\n",
       "      <th>348305</th>\n",
       "      <td>7.0</td>\n",
       "      <td>1.0</td>\n",
       "      <td>101</td>\n",
       "      <td>125000</td>\n",
       "      <td>8.0</td>\n",
       "      <td>24.0</td>\n",
       "      <td>0.0</td>\n",
       "      <td>1999</td>\n",
       "      <td>41.0</td>\n",
       "    </tr>\n",
       "  </tbody>\n",
       "</table>\n",
       "<p>132847 rows × 9 columns</p>\n",
       "</div>"
      ],
      "text/plain": [
       "        VehicleType  Gearbox  Power  Kilometer  FuelType  Brand  Repaired  \\\n",
       "40066           7.0      1.0    125     150000       8.0   38.0       1.0   \n",
       "202186          1.0      1.0    109     150000       8.0   25.0       0.0   \n",
       "317961          5.0      0.0     82      80000       8.0   23.0       0.0   \n",
       "338949          7.0      1.0    109     150000       4.0   10.0       0.0   \n",
       "264029          4.0      1.0     75     150000       8.0   11.0       0.0   \n",
       "...             ...      ...    ...        ...       ...    ...       ...   \n",
       "136624          5.0      1.0     69      60000       8.0   10.0       0.0   \n",
       "213583          7.0      1.0    129     150000       4.0   10.0       0.0   \n",
       "208965          5.0      1.0     50     125000       8.0   10.0       1.0   \n",
       "123655          1.0      1.0    193     125000       8.0    2.0       0.0   \n",
       "348305          7.0      1.0    101     125000       8.0   24.0       0.0   \n",
       "\n",
       "        RegistrationYear  Model  \n",
       "40066               1997  167.0  \n",
       "202186              2002    8.0  \n",
       "317961              2001  148.0  \n",
       "338949              2008  102.0  \n",
       "264029              1997   72.0  \n",
       "...                  ...    ...  \n",
       "136624              2009  125.0  \n",
       "213583              2006  151.0  \n",
       "208965              1999  101.0  \n",
       "123655              1997   11.0  \n",
       "348305              1999   41.0  \n",
       "\n",
       "[132847 rows x 9 columns]"
      ]
     },
     "execution_count": 46,
     "metadata": {},
     "output_type": "execute_result"
    }
   ],
   "source": [
    "features_train_ore"
   ]
  },
  {
   "cell_type": "markdown",
   "metadata": {},
   "source": [
    "Энкодером, который обучен на тренировочной выборке, кодируем валидационную"
   ]
  },
  {
   "cell_type": "code",
   "execution_count": 47,
   "metadata": {},
   "outputs": [],
   "source": [
    "features_valid_ore[\n",
    "    encoder_ore.get_feature_names_out()\n",
    "] = encoder_ore.transform(features_valid_ore[ore_features])"
   ]
  },
  {
   "cell_type": "code",
   "execution_count": 48,
   "metadata": {},
   "outputs": [
    {
     "data": {
      "text/html": [
       "<div>\n",
       "<style scoped>\n",
       "    .dataframe tbody tr th:only-of-type {\n",
       "        vertical-align: middle;\n",
       "    }\n",
       "\n",
       "    .dataframe tbody tr th {\n",
       "        vertical-align: top;\n",
       "    }\n",
       "\n",
       "    .dataframe thead th {\n",
       "        text-align: right;\n",
       "    }\n",
       "</style>\n",
       "<table border=\"1\" class=\"dataframe\">\n",
       "  <thead>\n",
       "    <tr style=\"text-align: right;\">\n",
       "      <th></th>\n",
       "      <th>VehicleType</th>\n",
       "      <th>Gearbox</th>\n",
       "      <th>Power</th>\n",
       "      <th>Kilometer</th>\n",
       "      <th>FuelType</th>\n",
       "      <th>Brand</th>\n",
       "      <th>Repaired</th>\n",
       "      <th>RegistrationYear</th>\n",
       "      <th>Model</th>\n",
       "    </tr>\n",
       "  </thead>\n",
       "  <tbody>\n",
       "    <tr>\n",
       "      <th>52544</th>\n",
       "      <td>3.0</td>\n",
       "      <td>1.0</td>\n",
       "      <td>60</td>\n",
       "      <td>100000</td>\n",
       "      <td>8.0</td>\n",
       "      <td>24.0</td>\n",
       "      <td>0.0</td>\n",
       "      <td>1969</td>\n",
       "      <td>126.0</td>\n",
       "    </tr>\n",
       "    <tr>\n",
       "      <th>290872</th>\n",
       "      <td>4.0</td>\n",
       "      <td>1.0</td>\n",
       "      <td>125</td>\n",
       "      <td>125000</td>\n",
       "      <td>12.0</td>\n",
       "      <td>34.0</td>\n",
       "      <td>1.0</td>\n",
       "      <td>2005</td>\n",
       "      <td>119.0</td>\n",
       "    </tr>\n",
       "    <tr>\n",
       "      <th>263700</th>\n",
       "      <td>4.0</td>\n",
       "      <td>0.0</td>\n",
       "      <td>163</td>\n",
       "      <td>150000</td>\n",
       "      <td>4.0</td>\n",
       "      <td>31.0</td>\n",
       "      <td>0.0</td>\n",
       "      <td>2007</td>\n",
       "      <td>208.0</td>\n",
       "    </tr>\n",
       "    <tr>\n",
       "      <th>22760</th>\n",
       "      <td>5.0</td>\n",
       "      <td>1.0</td>\n",
       "      <td>50</td>\n",
       "      <td>150000</td>\n",
       "      <td>8.0</td>\n",
       "      <td>38.0</td>\n",
       "      <td>0.0</td>\n",
       "      <td>1998</td>\n",
       "      <td>140.0</td>\n",
       "    </tr>\n",
       "    <tr>\n",
       "      <th>269395</th>\n",
       "      <td>1.0</td>\n",
       "      <td>0.0</td>\n",
       "      <td>163</td>\n",
       "      <td>125000</td>\n",
       "      <td>8.0</td>\n",
       "      <td>20.0</td>\n",
       "      <td>0.0</td>\n",
       "      <td>2001</td>\n",
       "      <td>201.0</td>\n",
       "    </tr>\n",
       "  </tbody>\n",
       "</table>\n",
       "</div>"
      ],
      "text/plain": [
       "        VehicleType  Gearbox  Power  Kilometer  FuelType  Brand  Repaired  \\\n",
       "52544           3.0      1.0     60     100000       8.0   24.0       0.0   \n",
       "290872          4.0      1.0    125     125000      12.0   34.0       1.0   \n",
       "263700          4.0      0.0    163     150000       4.0   31.0       0.0   \n",
       "22760           5.0      1.0     50     150000       8.0   38.0       0.0   \n",
       "269395          1.0      0.0    163     125000       8.0   20.0       0.0   \n",
       "\n",
       "        RegistrationYear  Model  \n",
       "52544               1969  126.0  \n",
       "290872              2005  119.0  \n",
       "263700              2007  208.0  \n",
       "22760               1998  140.0  \n",
       "269395              2001  201.0  "
      ]
     },
     "execution_count": 48,
     "metadata": {},
     "output_type": "execute_result"
    }
   ],
   "source": [
    "features_valid_ore.head()"
   ]
  },
  {
   "cell_type": "code",
   "execution_count": 49,
   "metadata": {},
   "outputs": [
    {
     "data": {
      "text/plain": [
       "((132847, 9), (44283, 9))"
      ]
     },
     "execution_count": 49,
     "metadata": {},
     "output_type": "execute_result"
    }
   ],
   "source": [
    "features_train_ore.shape, features_valid_ore.shape"
   ]
  },
  {
   "cell_type": "code",
   "execution_count": 50,
   "metadata": {},
   "outputs": [
    {
     "data": {
      "text/plain": [
       "0"
      ]
     },
     "execution_count": 50,
     "metadata": {},
     "output_type": "execute_result"
    }
   ],
   "source": [
    "(features_train_ore.columns != features_valid_ore.columns).sum()"
   ]
  },
  {
   "cell_type": "markdown",
   "metadata": {},
   "source": [
    "Энкодером, который обучен на тренировочной выборке, кодируем тестовую"
   ]
  },
  {
   "cell_type": "code",
   "execution_count": 51,
   "metadata": {},
   "outputs": [],
   "source": [
    "features_test_ore[\n",
    "    encoder_ore.get_feature_names_out()\n",
    "] = encoder_ore.transform(features_test_ore[ore_features])"
   ]
  },
  {
   "cell_type": "code",
   "execution_count": 52,
   "metadata": {},
   "outputs": [
    {
     "data": {
      "text/html": [
       "<div>\n",
       "<style scoped>\n",
       "    .dataframe tbody tr th:only-of-type {\n",
       "        vertical-align: middle;\n",
       "    }\n",
       "\n",
       "    .dataframe tbody tr th {\n",
       "        vertical-align: top;\n",
       "    }\n",
       "\n",
       "    .dataframe thead th {\n",
       "        text-align: right;\n",
       "    }\n",
       "</style>\n",
       "<table border=\"1\" class=\"dataframe\">\n",
       "  <thead>\n",
       "    <tr style=\"text-align: right;\">\n",
       "      <th></th>\n",
       "      <th>VehicleType</th>\n",
       "      <th>Gearbox</th>\n",
       "      <th>Power</th>\n",
       "      <th>Kilometer</th>\n",
       "      <th>FuelType</th>\n",
       "      <th>Brand</th>\n",
       "      <th>Repaired</th>\n",
       "      <th>RegistrationYear</th>\n",
       "      <th>Model</th>\n",
       "    </tr>\n",
       "  </thead>\n",
       "  <tbody>\n",
       "    <tr>\n",
       "      <th>318136</th>\n",
       "      <td>4.0</td>\n",
       "      <td>1.0</td>\n",
       "      <td>177</td>\n",
       "      <td>150000</td>\n",
       "      <td>9.0</td>\n",
       "      <td>2.0</td>\n",
       "      <td>0.0</td>\n",
       "      <td>2008</td>\n",
       "      <td>6.0</td>\n",
       "    </tr>\n",
       "    <tr>\n",
       "      <th>242697</th>\n",
       "      <td>4.0</td>\n",
       "      <td>1.0</td>\n",
       "      <td>66</td>\n",
       "      <td>150000</td>\n",
       "      <td>4.0</td>\n",
       "      <td>25.0</td>\n",
       "      <td>0.0</td>\n",
       "      <td>2003</td>\n",
       "      <td>221.0</td>\n",
       "    </tr>\n",
       "    <tr>\n",
       "      <th>81908</th>\n",
       "      <td>2.0</td>\n",
       "      <td>0.0</td>\n",
       "      <td>163</td>\n",
       "      <td>125000</td>\n",
       "      <td>8.0</td>\n",
       "      <td>20.0</td>\n",
       "      <td>0.0</td>\n",
       "      <td>2001</td>\n",
       "      <td>58.0</td>\n",
       "    </tr>\n",
       "    <tr>\n",
       "      <th>266465</th>\n",
       "      <td>5.0</td>\n",
       "      <td>1.0</td>\n",
       "      <td>135</td>\n",
       "      <td>150000</td>\n",
       "      <td>8.0</td>\n",
       "      <td>25.0</td>\n",
       "      <td>0.0</td>\n",
       "      <td>1999</td>\n",
       "      <td>221.0</td>\n",
       "    </tr>\n",
       "    <tr>\n",
       "      <th>135546</th>\n",
       "      <td>4.0</td>\n",
       "      <td>0.0</td>\n",
       "      <td>101</td>\n",
       "      <td>150000</td>\n",
       "      <td>8.0</td>\n",
       "      <td>22.0</td>\n",
       "      <td>1.0</td>\n",
       "      <td>2016</td>\n",
       "      <td>163.0</td>\n",
       "    </tr>\n",
       "  </tbody>\n",
       "</table>\n",
       "</div>"
      ],
      "text/plain": [
       "        VehicleType  Gearbox  Power  Kilometer  FuelType  Brand  Repaired  \\\n",
       "318136          4.0      1.0    177     150000       9.0    2.0       0.0   \n",
       "242697          4.0      1.0     66     150000       4.0   25.0       0.0   \n",
       "81908           2.0      0.0    163     125000       8.0   20.0       0.0   \n",
       "266465          5.0      1.0    135     150000       8.0   25.0       0.0   \n",
       "135546          4.0      0.0    101     150000       8.0   22.0       1.0   \n",
       "\n",
       "        RegistrationYear  Model  \n",
       "318136              2008    6.0  \n",
       "242697              2003  221.0  \n",
       "81908               2001   58.0  \n",
       "266465              1999  221.0  \n",
       "135546              2016  163.0  "
      ]
     },
     "execution_count": 52,
     "metadata": {},
     "output_type": "execute_result"
    }
   ],
   "source": [
    "features_test_ore.head()"
   ]
  },
  {
   "cell_type": "code",
   "execution_count": 53,
   "metadata": {},
   "outputs": [
    {
     "data": {
      "text/plain": [
       "((132847, 9), (44282, 9))"
      ]
     },
     "execution_count": 53,
     "metadata": {},
     "output_type": "execute_result"
    }
   ],
   "source": [
    "features_train_ore.shape, features_test_ore.shape"
   ]
  },
  {
   "cell_type": "code",
   "execution_count": 54,
   "metadata": {},
   "outputs": [
    {
     "data": {
      "text/plain": [
       "0"
      ]
     },
     "execution_count": 54,
     "metadata": {},
     "output_type": "execute_result"
    }
   ],
   "source": [
    "(features_train_ore.columns != features_test_ore.columns).sum()"
   ]
  },
  {
   "cell_type": "markdown",
   "metadata": {},
   "source": [
    "#### Обучим модели\n",
    "\n",
    "#### 1. Линейная регрессия"
   ]
  },
  {
   "cell_type": "code",
   "execution_count": 55,
   "metadata": {},
   "outputs": [
    {
     "name": "stdout",
     "output_type": "stream",
     "text": [
      "CPU times: total: 12.4 s\n",
      "Wall time: 2.93 s\n"
     ]
    }
   ],
   "source": [
    "%%time\n",
    "start = time.time()\n",
    "model_LR = LinearRegression() \n",
    "model_LR.fit(features_train_LR,target_train) \n",
    "stop = time.time()\n",
    "training_time_LR = stop - start"
   ]
  },
  {
   "cell_type": "code",
   "execution_count": 56,
   "metadata": {},
   "outputs": [
    {
     "name": "stdout",
     "output_type": "stream",
     "text": [
      "CPU times: total: 93.8 ms\n",
      "Wall time: 95 ms\n"
     ]
    }
   ],
   "source": [
    "%%time\n",
    "start = time.time()\n",
    "predicions_LR = model_LR.predict(features_valid_LR)\n",
    "stop = time.time()\n",
    "training_time_LR_p = stop - start"
   ]
  },
  {
   "cell_type": "code",
   "execution_count": 57,
   "metadata": {},
   "outputs": [
    {
     "name": "stdout",
     "output_type": "stream",
     "text": [
      "RMSE модели Линейная Регрессия равна: 1349.2551298363655\n",
      "Training time: 2.928673028945923\n",
      "Training time_predict: 0.09501910209655762\n"
     ]
    }
   ],
   "source": [
    "rmse_LR=mean_squared_error(target_valid, predicions_LR)**0.5\n",
    "print('RMSE модели Линейная Регрессия равна:', rmse_LR)\n",
    "print('Training time:', training_time_LR)\n",
    "print('Training time_predict:', training_time_LR_p)"
   ]
  },
  {
   "cell_type": "markdown",
   "metadata": {},
   "source": [
    "#### 2. CatBoostRegressor"
   ]
  },
  {
   "cell_type": "code",
   "execution_count": 58,
   "metadata": {},
   "outputs": [
    {
     "name": "stdout",
     "output_type": "stream",
     "text": [
      "CPU times: total: 1min 30s\n",
      "Wall time: 13.9 s\n"
     ]
    }
   ],
   "source": [
    "%%time\n",
    "start = time.time()\n",
    "model_Cat = CatBoostRegressor(learning_rate = 0.4, random_state = 12345, verbose = False)\n",
    "\n",
    "model_Cat.fit(features_train_ore, target_train, eval_set=(features_valid_ore,target_valid))\n",
    "stop = time.time()\n",
    "training_time_Cat = stop - start"
   ]
  },
  {
   "cell_type": "code",
   "execution_count": 59,
   "metadata": {},
   "outputs": [
    {
     "name": "stdout",
     "output_type": "stream",
     "text": [
      "CPU times: total: 93.8 ms\n",
      "Wall time: 21 ms\n"
     ]
    }
   ],
   "source": [
    "%%time\n",
    "start = time.time()\n",
    "predictions_Cat=model_Cat.predict(features_valid_ore)\n",
    "stop = time.time()\n",
    "training_time_Cat_p = stop - start"
   ]
  },
  {
   "cell_type": "code",
   "execution_count": 60,
   "metadata": {},
   "outputs": [
    {
     "name": "stdout",
     "output_type": "stream",
     "text": [
      "RMSE наилучшей модели на валидационной выборке: 921.4714315245528\n",
      "Training time: 13.891149282455444\n",
      "Training time_predict: 0.021003246307373047\n"
     ]
    }
   ],
   "source": [
    "rmse_Cat = mean_squared_error(target_valid, predictions_Cat)**0.5 \n",
    "print(\"RMSE наилучшей модели на валидационной выборке:\", rmse_Cat)\n",
    "print('Training time:', training_time_Cat)\n",
    "print('Training time_predict:', training_time_Cat_p)"
   ]
  },
  {
   "cell_type": "markdown",
   "metadata": {},
   "source": [
    "#### 3. Регрессия LGBMRegressor"
   ]
  },
  {
   "cell_type": "code",
   "execution_count": 61,
   "metadata": {
    "tags": []
   },
   "outputs": [
    {
     "name": "stdout",
     "output_type": "stream",
     "text": [
      "[LightGBM] [Info] Auto-choosing row-wise multi-threading, the overhead of testing was 0.004495 seconds.\n",
      "You can set `force_row_wise=true` to remove the overhead.\n",
      "And if memory is not enough, you can set `force_col_wise=true`.\n",
      "[LightGBM] [Info] Total Bins 562\n",
      "[LightGBM] [Info] Number of data points in the train set: 132847, number of used features: 9\n",
      "[LightGBM] [Info] Start training from score 2894.207758\n",
      "CPU times: total: 4.38 s\n",
      "Wall time: 1.18 s\n"
     ]
    }
   ],
   "source": [
    "%%time\n",
    "start = time.time()\n",
    "model_LGB = lgbm.sklearn.LGBMRegressor(n_estimators=300, random_state=123, \n",
    "                                       learning_rate=0.4, objective='rmse')\n",
    "model_LGB.fit(features_train_ore, target_train, eval_set=(features_test_ore,\n",
    "                                                          target_test))\n",
    "stop = time.time()\n",
    "training_time_LGB = stop - start"
   ]
  },
  {
   "cell_type": "code",
   "execution_count": 62,
   "metadata": {},
   "outputs": [
    {
     "name": "stdout",
     "output_type": "stream",
     "text": [
      "[LightGBM] [Info] Auto-choosing row-wise multi-threading, the overhead of testing was 0.005759 seconds.\n",
      "You can set `force_row_wise=true` to remove the overhead.\n",
      "And if memory is not enough, you can set `force_col_wise=true`.\n",
      "[LightGBM] [Info] Total Bins 562\n",
      "[LightGBM] [Info] Number of data points in the train set: 132847, number of used features: 9\n",
      "[LightGBM] [Info] Start training from score 2894.207758\n",
      "CPU times: total: 4.19 s\n",
      "Wall time: 1.05 s\n"
     ]
    }
   ],
   "source": [
    "%%time\n",
    "start = time.time()\n",
    "model_LGB = lgbm.sklearn.LGBMRegressor(n_estimators=300, random_state=12345, learning_rate=0.4, \n",
    "                                       objective='rmse')\n",
    "model_LGB.fit(features_train_ore, target_train, eval_set=(features_valid_ore,target_valid))\n",
    "\n",
    "stop = time.time()\n",
    "training_time_LGB = stop - start"
   ]
  },
  {
   "cell_type": "code",
   "execution_count": 63,
   "metadata": {},
   "outputs": [
    {
     "name": "stdout",
     "output_type": "stream",
     "text": [
      "CPU times: total: 688 ms\n",
      "Wall time: 177 ms\n"
     ]
    }
   ],
   "source": [
    "%%time\n",
    "start = time.time()\n",
    "predictions_LGB=model_LGB.predict(features_valid_ore)\n",
    "stop = time.time()\n",
    "training_time_LGB_p = stop - start"
   ]
  },
  {
   "cell_type": "code",
   "execution_count": 64,
   "metadata": {},
   "outputs": [
    {
     "name": "stdout",
     "output_type": "stream",
     "text": [
      " Гиперпараметры модели:\n",
      " LGBMRegressor(learning_rate=0.4, n_estimators=300, objective='rmse',\n",
      "              random_state=12345)\n"
     ]
    }
   ],
   "source": [
    "print(' Гиперпараметры модели:\\n',model_LGB)"
   ]
  },
  {
   "cell_type": "code",
   "execution_count": 65,
   "metadata": {},
   "outputs": [
    {
     "name": "stdout",
     "output_type": "stream",
     "text": [
      "RMSE наилучшей модели на валидационной выборке: 929.0678001811032\n",
      "Training time: 1.0522356033325195\n",
      "Training time_predict: 0.17658495903015137\n"
     ]
    }
   ],
   "source": [
    "rmse_LGB = mean_squared_error(target_valid, predictions_LGB)**0.5 \n",
    "print(\"RMSE наилучшей модели на валидационной выборке:\", rmse_LGB)\n",
    "print('Training time:', training_time_LGB)\n",
    "print('Training time_predict:', training_time_LGB_p)"
   ]
  },
  {
   "cell_type": "markdown",
   "metadata": {},
   "source": [
    "#### Вывод:\n",
    "- Применили для категориальных признаков метод OHE и OE\n",
    "- Рассмотрели три алгоритма классификации: CatBoostRegressor, LGBMRegressor, Линейная регрессия"
   ]
  },
  {
   "cell_type": "markdown",
   "metadata": {},
   "source": [
    "## Анализ моделей"
   ]
  },
  {
   "cell_type": "markdown",
   "metadata": {},
   "source": [
    "Соберем результаты моделей в одну таблицу"
   ]
  },
  {
   "cell_type": "code",
   "execution_count": 66,
   "metadata": {},
   "outputs": [],
   "source": [
    "column=['RMSE модели','Скорость обучения, s','Скорость предсказания, s']\n",
    "\n",
    "models_total_info = pd.DataFrame(index=['RMSE модели','Скорость обучения, s', 'Скорость предсказания, s'], \n",
    "                               columns=['LinearRegression','CatBoostRegressor', 'LightGBM'])\n",
    "models_total_info['LinearRegression'] = rmse_LR, training_time_LR, training_time_LR_p\n",
    "models_total_info['CatBoostRegressor'] = rmse_Cat, training_time_Cat, training_time_Cat_p\n",
    "models_total_info['LightGBM'] = rmse_LGB,training_time_LGB, training_time_LGB_p\n"
   ]
  },
  {
   "cell_type": "code",
   "execution_count": 67,
   "metadata": {},
   "outputs": [
    {
     "data": {
      "text/html": [
       "<div>\n",
       "<style scoped>\n",
       "    .dataframe tbody tr th:only-of-type {\n",
       "        vertical-align: middle;\n",
       "    }\n",
       "\n",
       "    .dataframe tbody tr th {\n",
       "        vertical-align: top;\n",
       "    }\n",
       "\n",
       "    .dataframe thead th {\n",
       "        text-align: right;\n",
       "    }\n",
       "</style>\n",
       "<table border=\"1\" class=\"dataframe\">\n",
       "  <thead>\n",
       "    <tr style=\"text-align: right;\">\n",
       "      <th></th>\n",
       "      <th>LinearRegression</th>\n",
       "      <th>CatBoostRegressor</th>\n",
       "      <th>LightGBM</th>\n",
       "    </tr>\n",
       "  </thead>\n",
       "  <tbody>\n",
       "    <tr>\n",
       "      <th>RMSE модели</th>\n",
       "      <td>1349.255130</td>\n",
       "      <td>921.471432</td>\n",
       "      <td>929.067800</td>\n",
       "    </tr>\n",
       "    <tr>\n",
       "      <th>Скорость обучения, s</th>\n",
       "      <td>2.928673</td>\n",
       "      <td>13.891149</td>\n",
       "      <td>1.052236</td>\n",
       "    </tr>\n",
       "    <tr>\n",
       "      <th>Скорость предсказания, s</th>\n",
       "      <td>0.095019</td>\n",
       "      <td>0.021003</td>\n",
       "      <td>0.176585</td>\n",
       "    </tr>\n",
       "  </tbody>\n",
       "</table>\n",
       "</div>"
      ],
      "text/plain": [
       "                          LinearRegression  CatBoostRegressor    LightGBM\n",
       "RMSE модели                    1349.255130         921.471432  929.067800\n",
       "Скорость обучения, s              2.928673          13.891149    1.052236\n",
       "Скорость предсказания, s          0.095019           0.021003    0.176585"
      ]
     },
     "metadata": {},
     "output_type": "display_data"
    }
   ],
   "source": [
    "display(pd.DataFrame(models_total_info))"
   ]
  },
  {
   "cell_type": "markdown",
   "metadata": {},
   "source": [
    "Проверим наилучшую модель CatBoostRegressor на тестовой выборке"
   ]
  },
  {
   "cell_type": "code",
   "execution_count": 68,
   "metadata": {},
   "outputs": [
    {
     "name": "stdout",
     "output_type": "stream",
     "text": [
      "CPU times: total: 1min 32s\n",
      "Wall time: 14.2 s\n"
     ]
    }
   ],
   "source": [
    "%%time\n",
    "start = time.time()\n",
    "model_Cat = CatBoostRegressor(learning_rate = 0.4, random_state = 12345, verbose = False)\n",
    "\n",
    "model_Cat.fit(features_train_ore, target_train, eval_set=(features_test_ore,target_test))\n",
    "stop = time.time()\n",
    "training_time_Cat = stop - start"
   ]
  },
  {
   "cell_type": "code",
   "execution_count": 69,
   "metadata": {},
   "outputs": [
    {
     "name": "stdout",
     "output_type": "stream",
     "text": [
      "CPU times: total: 109 ms\n",
      "Wall time: 21 ms\n"
     ]
    }
   ],
   "source": [
    "%%time\n",
    "start = time.time()\n",
    "predictions_Cat= model_Cat.predict(features_test_ore)\n",
    "stop = time.time()\n",
    "training_time_Cat_p = stop - start"
   ]
  },
  {
   "cell_type": "code",
   "execution_count": 70,
   "metadata": {},
   "outputs": [
    {
     "name": "stdout",
     "output_type": "stream",
     "text": [
      "RMSE наилучшей модели на тестовой выборке: 926.3265901021683\n",
      "Training time: 14.249211072921753\n",
      "Training time_predict: 0.021004438400268555\n"
     ]
    }
   ],
   "source": [
    "rmse_Cat_test = mean_squared_error(target_test, predictions_Cat)**0.5 \n",
    "print(\"RMSE наилучшей модели на тестовой выборке:\", rmse_Cat_test)\n",
    "print('Training time:', training_time_Cat)\n",
    "print('Training time_predict:', training_time_Cat_p)"
   ]
  },
  {
   "cell_type": "markdown",
   "metadata": {},
   "source": [
    "Сравним модель на адекватность с константной моделью DummyRegressor"
   ]
  },
  {
   "cell_type": "code",
   "execution_count": 71,
   "metadata": {},
   "outputs": [
    {
     "name": "stdout",
     "output_type": "stream",
     "text": [
      "2020.664488190611\n"
     ]
    }
   ],
   "source": [
    "dummy_model = DummyRegressor(strategy='mean')\n",
    "dummy_model.fit(features_train_ore, target_train)\n",
    "predictions_dummy = dummy_model.predict(features_test_ore)\n",
    "print(mean_squared_error(target_test, predictions_dummy)**0.5 )"
   ]
  },
  {
   "cell_type": "markdown",
   "metadata": {},
   "source": [
    "В ходе данного шага были собраны результаты обучения моделей в одну таблицу, на основании которой можно сделать следующие выводы:\n",
    "- Модель линейной регрессии обучается быстро, но качество показывает ниже.\n",
    "- CatBoostRegressor и LightGBM похожи по точности, но отличаются временем обучения и предсказания."
   ]
  },
  {
   "cell_type": "markdown",
   "metadata": {},
   "source": [
    "## Итоговый вывод\n",
    "\n",
    "В ходе работы было выполнено:\n",
    "\n",
    "1. Загружены данные и проведена предобработка.\n",
    "2. Выполнено сравнение моделей с использованием различных наборов гиперпараметров.\n",
    "3. Выбрана лучшая модель по результатам метрики RMSE.\n",
    "4. Лучшей моделью по трем параметрам качество, скорость обучения и скорость предсказания можно считать CatBoostRegressor. Точность на подготовленных данных выводит её в лидеры . Хотя скорость обучения хуже."
   ]
  }
 ],
 "metadata": {
  "ExecuteTimeLog": [
   {
    "duration": 810,
    "start_time": "2023-10-06T07:36:10.285Z"
   },
   {
    "duration": 1367,
    "start_time": "2023-10-06T07:36:47.479Z"
   },
   {
    "duration": 23,
    "start_time": "2023-10-06T07:37:00.709Z"
   },
   {
    "duration": 172,
    "start_time": "2023-10-06T07:37:14.989Z"
   },
   {
    "duration": 158,
    "start_time": "2023-10-06T07:42:00.722Z"
   },
   {
    "duration": 928,
    "start_time": "2023-10-06T07:42:16.115Z"
   },
   {
    "duration": 15,
    "start_time": "2023-10-06T07:42:19.695Z"
   },
   {
    "duration": 170,
    "start_time": "2023-10-06T07:42:26.018Z"
   },
   {
    "duration": 148,
    "start_time": "2023-10-06T07:42:31.444Z"
   },
   {
    "duration": 2627,
    "start_time": "2023-10-06T07:43:40.442Z"
   },
   {
    "duration": 194,
    "start_time": "2023-10-06T07:45:15.107Z"
   },
   {
    "duration": 86,
    "start_time": "2023-10-06T07:45:29.682Z"
   },
   {
    "duration": 158,
    "start_time": "2023-10-06T07:45:56.964Z"
   },
   {
    "duration": 527,
    "start_time": "2023-10-06T07:46:07.658Z"
   },
   {
    "duration": 485,
    "start_time": "2023-10-06T07:46:15.139Z"
   },
   {
    "duration": 401,
    "start_time": "2023-10-06T07:46:26.589Z"
   },
   {
    "duration": 961,
    "start_time": "2023-10-06T07:46:26.992Z"
   },
   {
    "duration": 28,
    "start_time": "2023-10-06T07:46:27.955Z"
   },
   {
    "duration": 198,
    "start_time": "2023-10-06T07:46:27.985Z"
   },
   {
    "duration": 163,
    "start_time": "2023-10-06T07:46:28.185Z"
   },
   {
    "duration": 226,
    "start_time": "2023-10-06T07:46:28.350Z"
   },
   {
    "duration": 76,
    "start_time": "2023-10-06T07:46:28.578Z"
   },
   {
    "duration": 0,
    "start_time": "2023-10-06T07:46:28.656Z"
   },
   {
    "duration": 142,
    "start_time": "2023-10-06T07:46:41.659Z"
   },
   {
    "duration": 501,
    "start_time": "2023-10-06T07:46:43.522Z"
   },
   {
    "duration": 419,
    "start_time": "2023-10-06T07:46:47.964Z"
   },
   {
    "duration": 984,
    "start_time": "2023-10-06T07:46:48.386Z"
   },
   {
    "duration": 22,
    "start_time": "2023-10-06T07:46:49.372Z"
   },
   {
    "duration": 188,
    "start_time": "2023-10-06T07:46:49.397Z"
   },
   {
    "duration": 169,
    "start_time": "2023-10-06T07:46:49.587Z"
   },
   {
    "duration": 226,
    "start_time": "2023-10-06T07:46:49.758Z"
   },
   {
    "duration": 164,
    "start_time": "2023-10-06T07:46:49.986Z"
   },
   {
    "duration": 536,
    "start_time": "2023-10-06T07:46:50.152Z"
   },
   {
    "duration": 76,
    "start_time": "2023-10-06T07:47:00.259Z"
   },
   {
    "duration": 1266,
    "start_time": "2023-10-06T07:47:07.283Z"
   },
   {
    "duration": 101,
    "start_time": "2023-10-06T07:47:26.810Z"
   },
   {
    "duration": 88,
    "start_time": "2023-10-06T07:47:51.472Z"
   },
   {
    "duration": 450,
    "start_time": "2023-10-06T07:47:56.161Z"
   },
   {
    "duration": 969,
    "start_time": "2023-10-06T07:47:56.614Z"
   },
   {
    "duration": 23,
    "start_time": "2023-10-06T07:47:57.584Z"
   },
   {
    "duration": 214,
    "start_time": "2023-10-06T07:47:57.608Z"
   },
   {
    "duration": 168,
    "start_time": "2023-10-06T07:47:57.825Z"
   },
   {
    "duration": 227,
    "start_time": "2023-10-06T07:47:57.995Z"
   },
   {
    "duration": 142,
    "start_time": "2023-10-06T07:47:58.224Z"
   },
   {
    "duration": 479,
    "start_time": "2023-10-06T07:47:58.367Z"
   },
   {
    "duration": 1054,
    "start_time": "2023-10-06T07:47:58.848Z"
   },
   {
    "duration": 111,
    "start_time": "2023-10-06T07:47:59.903Z"
   },
   {
    "duration": 105,
    "start_time": "2023-10-06T07:48:00.016Z"
   },
   {
    "duration": 12,
    "start_time": "2023-10-06T07:50:20.752Z"
   },
   {
    "duration": 194,
    "start_time": "2023-10-06T07:50:29.945Z"
   },
   {
    "duration": 8,
    "start_time": "2023-10-06T07:52:16.929Z"
   },
   {
    "duration": 441,
    "start_time": "2023-10-06T08:01:58.545Z"
   },
   {
    "duration": 82,
    "start_time": "2023-10-06T08:03:52.396Z"
   },
   {
    "duration": 674,
    "start_time": "2023-10-06T08:04:04.449Z"
   },
   {
    "duration": 958,
    "start_time": "2023-10-06T08:04:05.125Z"
   },
   {
    "duration": 32,
    "start_time": "2023-10-06T08:04:06.085Z"
   },
   {
    "duration": 165,
    "start_time": "2023-10-06T08:04:06.120Z"
   },
   {
    "duration": 181,
    "start_time": "2023-10-06T08:04:06.287Z"
   },
   {
    "duration": 112,
    "start_time": "2023-10-06T08:04:06.470Z"
   },
   {
    "duration": 506,
    "start_time": "2023-10-06T08:04:06.584Z"
   },
   {
    "duration": 1007,
    "start_time": "2023-10-06T08:04:07.091Z"
   },
   {
    "duration": 7,
    "start_time": "2023-10-06T08:08:49.102Z"
   },
   {
    "duration": 27,
    "start_time": "2023-10-06T08:09:14.965Z"
   },
   {
    "duration": 106,
    "start_time": "2023-10-06T08:11:07.971Z"
   },
   {
    "duration": 63,
    "start_time": "2023-10-06T08:12:01.494Z"
   },
   {
    "duration": 890,
    "start_time": "2023-10-06T08:12:05.831Z"
   },
   {
    "duration": 909,
    "start_time": "2023-10-06T08:12:06.722Z"
   },
   {
    "duration": 20,
    "start_time": "2023-10-06T08:12:07.633Z"
   },
   {
    "duration": 169,
    "start_time": "2023-10-06T08:12:07.654Z"
   },
   {
    "duration": 125,
    "start_time": "2023-10-06T08:12:07.825Z"
   },
   {
    "duration": 155,
    "start_time": "2023-10-06T08:12:07.952Z"
   },
   {
    "duration": 524,
    "start_time": "2023-10-06T08:12:08.109Z"
   },
   {
    "duration": 1035,
    "start_time": "2023-10-06T08:12:08.635Z"
   },
   {
    "duration": 7,
    "start_time": "2023-10-06T08:12:09.671Z"
   },
   {
    "duration": 50,
    "start_time": "2023-10-06T08:12:09.680Z"
   },
   {
    "duration": 94,
    "start_time": "2023-10-06T08:13:45.670Z"
   },
   {
    "duration": 690,
    "start_time": "2023-10-06T08:14:11.965Z"
   },
   {
    "duration": 927,
    "start_time": "2023-10-06T08:14:12.657Z"
   },
   {
    "duration": 18,
    "start_time": "2023-10-06T08:14:13.586Z"
   },
   {
    "duration": 372,
    "start_time": "2023-10-06T08:14:13.605Z"
   },
   {
    "duration": 205,
    "start_time": "2023-10-06T08:14:13.979Z"
   },
   {
    "duration": 168,
    "start_time": "2023-10-06T08:14:14.186Z"
   },
   {
    "duration": 546,
    "start_time": "2023-10-06T08:14:14.357Z"
   },
   {
    "duration": 1056,
    "start_time": "2023-10-06T08:14:14.905Z"
   },
   {
    "duration": 8,
    "start_time": "2023-10-06T08:14:15.963Z"
   },
   {
    "duration": 302,
    "start_time": "2023-10-06T08:14:15.972Z"
   },
   {
    "duration": 0,
    "start_time": "2023-10-06T08:14:16.276Z"
   },
   {
    "duration": 716,
    "start_time": "2023-10-06T08:14:26.774Z"
   },
   {
    "duration": 951,
    "start_time": "2023-10-06T08:14:27.493Z"
   },
   {
    "duration": 17,
    "start_time": "2023-10-06T08:14:28.446Z"
   },
   {
    "duration": 271,
    "start_time": "2023-10-06T08:14:28.464Z"
   },
   {
    "duration": 99,
    "start_time": "2023-10-06T08:14:28.738Z"
   },
   {
    "duration": 163,
    "start_time": "2023-10-06T08:14:28.847Z"
   },
   {
    "duration": 512,
    "start_time": "2023-10-06T08:14:29.012Z"
   },
   {
    "duration": 1034,
    "start_time": "2023-10-06T08:14:29.525Z"
   },
   {
    "duration": 7,
    "start_time": "2023-10-06T08:14:30.562Z"
   },
   {
    "duration": 148,
    "start_time": "2023-10-06T08:14:30.571Z"
   },
   {
    "duration": 102,
    "start_time": "2023-10-06T08:23:00.425Z"
   },
   {
    "duration": 57,
    "start_time": "2023-10-06T08:23:53.850Z"
   },
   {
    "duration": 41,
    "start_time": "2023-10-06T08:24:02.209Z"
   },
   {
    "duration": 42,
    "start_time": "2023-10-06T08:24:10.961Z"
   },
   {
    "duration": 25,
    "start_time": "2023-10-06T08:24:46.917Z"
   },
   {
    "duration": 41,
    "start_time": "2023-10-06T08:25:03.610Z"
   },
   {
    "duration": 40,
    "start_time": "2023-10-06T08:25:11.243Z"
   },
   {
    "duration": 81,
    "start_time": "2023-10-06T08:25:55.299Z"
   },
   {
    "duration": 92,
    "start_time": "2023-10-06T08:26:33.611Z"
   },
   {
    "duration": 111,
    "start_time": "2023-10-06T08:26:45.843Z"
   },
   {
    "duration": 68,
    "start_time": "2023-10-06T08:27:00.785Z"
   },
   {
    "duration": 83,
    "start_time": "2023-10-06T08:30:01.899Z"
   },
   {
    "duration": 9,
    "start_time": "2023-10-06T08:30:14.720Z"
   },
   {
    "duration": 7,
    "start_time": "2023-10-06T08:31:02.232Z"
   },
   {
    "duration": 8,
    "start_time": "2023-10-06T08:32:09.343Z"
   },
   {
    "duration": 31,
    "start_time": "2023-10-06T08:32:28.552Z"
   },
   {
    "duration": 32,
    "start_time": "2023-10-06T08:32:42.591Z"
   },
   {
    "duration": 406,
    "start_time": "2023-10-06T08:32:56.256Z"
   },
   {
    "duration": 26,
    "start_time": "2023-10-06T08:33:25.976Z"
   },
   {
    "duration": 308,
    "start_time": "2023-10-06T08:34:16.721Z"
   },
   {
    "duration": 166,
    "start_time": "2023-10-06T08:36:11.816Z"
   },
   {
    "duration": 10,
    "start_time": "2023-10-06T08:36:32.456Z"
   },
   {
    "duration": 83,
    "start_time": "2023-10-06T08:36:58.577Z"
   },
   {
    "duration": 10,
    "start_time": "2023-10-06T08:37:15.839Z"
   },
   {
    "duration": 820,
    "start_time": "2023-10-06T08:38:04.966Z"
   },
   {
    "duration": 58,
    "start_time": "2023-10-06T08:38:12.023Z"
   },
   {
    "duration": 52,
    "start_time": "2023-10-06T08:39:19.632Z"
   },
   {
    "duration": 145,
    "start_time": "2023-10-06T08:40:00.904Z"
   },
   {
    "duration": 18,
    "start_time": "2023-10-06T08:40:35.864Z"
   },
   {
    "duration": 36,
    "start_time": "2023-10-06T08:41:02.545Z"
   },
   {
    "duration": 1659,
    "start_time": "2023-10-06T08:42:23.909Z"
   },
   {
    "duration": 970,
    "start_time": "2023-10-06T08:42:25.571Z"
   },
   {
    "duration": 18,
    "start_time": "2023-10-06T08:42:26.543Z"
   },
   {
    "duration": 189,
    "start_time": "2023-10-06T08:42:26.563Z"
   },
   {
    "duration": 111,
    "start_time": "2023-10-06T08:42:26.754Z"
   },
   {
    "duration": 532,
    "start_time": "2023-10-06T08:42:26.867Z"
   },
   {
    "duration": 1112,
    "start_time": "2023-10-06T08:42:27.400Z"
   },
   {
    "duration": 7,
    "start_time": "2023-10-06T08:42:28.513Z"
   },
   {
    "duration": 80,
    "start_time": "2023-10-06T08:42:28.522Z"
   },
   {
    "duration": 102,
    "start_time": "2023-10-06T08:42:28.604Z"
   },
   {
    "duration": 49,
    "start_time": "2023-10-06T08:42:28.707Z"
   },
   {
    "duration": 68,
    "start_time": "2023-10-06T08:42:28.757Z"
   },
   {
    "duration": 69,
    "start_time": "2023-10-06T08:42:28.827Z"
   },
   {
    "duration": 40,
    "start_time": "2023-10-06T08:42:28.899Z"
   },
   {
    "duration": 54,
    "start_time": "2023-10-06T08:42:28.941Z"
   },
   {
    "duration": 82,
    "start_time": "2023-10-06T08:42:28.997Z"
   },
   {
    "duration": 139,
    "start_time": "2023-10-06T08:42:29.081Z"
   },
   {
    "duration": 92,
    "start_time": "2023-10-06T08:42:29.222Z"
   },
   {
    "duration": 110,
    "start_time": "2023-10-06T08:42:29.316Z"
   },
   {
    "duration": 69,
    "start_time": "2023-10-06T08:42:29.428Z"
   },
   {
    "duration": 6,
    "start_time": "2023-10-06T08:42:29.499Z"
   },
   {
    "duration": 49,
    "start_time": "2023-10-06T08:42:29.507Z"
   },
   {
    "duration": 26,
    "start_time": "2023-10-06T08:42:29.558Z"
   },
   {
    "duration": 433,
    "start_time": "2023-10-06T08:42:29.586Z"
   },
   {
    "duration": 36,
    "start_time": "2023-10-06T08:42:30.022Z"
   },
   {
    "duration": 426,
    "start_time": "2023-10-06T08:42:30.060Z"
   },
   {
    "duration": 176,
    "start_time": "2023-10-06T08:42:30.488Z"
   },
   {
    "duration": 11,
    "start_time": "2023-10-06T08:42:30.666Z"
   },
   {
    "duration": 104,
    "start_time": "2023-10-06T08:42:30.679Z"
   },
   {
    "duration": 104,
    "start_time": "2023-10-06T08:42:30.786Z"
   },
   {
    "duration": 5,
    "start_time": "2023-10-06T08:43:18.574Z"
   },
   {
    "duration": 119,
    "start_time": "2023-10-06T08:44:49.232Z"
   },
   {
    "duration": 8,
    "start_time": "2023-10-06T08:44:53.812Z"
   },
   {
    "duration": 122,
    "start_time": "2023-10-06T08:44:57.624Z"
   },
   {
    "duration": 1628,
    "start_time": "2023-10-06T08:48:00.406Z"
   },
   {
    "duration": 980,
    "start_time": "2023-10-06T08:48:02.036Z"
   },
   {
    "duration": 18,
    "start_time": "2023-10-06T08:48:03.018Z"
   },
   {
    "duration": 182,
    "start_time": "2023-10-06T08:48:03.047Z"
   },
   {
    "duration": 103,
    "start_time": "2023-10-06T08:48:03.232Z"
   },
   {
    "duration": 507,
    "start_time": "2023-10-06T08:48:03.346Z"
   },
   {
    "duration": 1045,
    "start_time": "2023-10-06T08:48:03.855Z"
   },
   {
    "duration": 7,
    "start_time": "2023-10-06T08:48:04.902Z"
   },
   {
    "duration": 43,
    "start_time": "2023-10-06T08:48:04.911Z"
   },
   {
    "duration": 110,
    "start_time": "2023-10-06T08:48:04.956Z"
   },
   {
    "duration": 41,
    "start_time": "2023-10-06T08:48:05.068Z"
   },
   {
    "duration": 55,
    "start_time": "2023-10-06T08:48:05.111Z"
   },
   {
    "duration": 46,
    "start_time": "2023-10-06T08:48:05.168Z"
   },
   {
    "duration": 41,
    "start_time": "2023-10-06T08:48:05.217Z"
   },
   {
    "duration": 72,
    "start_time": "2023-10-06T08:48:05.260Z"
   },
   {
    "duration": 101,
    "start_time": "2023-10-06T08:48:05.335Z"
   },
   {
    "duration": 91,
    "start_time": "2023-10-06T08:48:05.438Z"
   },
   {
    "duration": 95,
    "start_time": "2023-10-06T08:48:05.531Z"
   },
   {
    "duration": 104,
    "start_time": "2023-10-06T08:48:05.628Z"
   },
   {
    "duration": 71,
    "start_time": "2023-10-06T08:48:05.733Z"
   },
   {
    "duration": 6,
    "start_time": "2023-10-06T08:48:05.805Z"
   },
   {
    "duration": 47,
    "start_time": "2023-10-06T08:48:05.813Z"
   },
   {
    "duration": 25,
    "start_time": "2023-10-06T08:48:05.862Z"
   },
   {
    "duration": 436,
    "start_time": "2023-10-06T08:48:05.889Z"
   },
   {
    "duration": 35,
    "start_time": "2023-10-06T08:48:06.327Z"
   },
   {
    "duration": 317,
    "start_time": "2023-10-06T08:48:06.364Z"
   },
   {
    "duration": 177,
    "start_time": "2023-10-06T08:48:06.683Z"
   },
   {
    "duration": 9,
    "start_time": "2023-10-06T08:48:06.862Z"
   },
   {
    "duration": 103,
    "start_time": "2023-10-06T08:48:06.872Z"
   },
   {
    "duration": 227,
    "start_time": "2023-10-06T08:48:06.977Z"
   },
   {
    "duration": 14,
    "start_time": "2023-10-06T08:50:39.489Z"
   },
   {
    "duration": 86,
    "start_time": "2023-10-06T08:51:00.697Z"
   },
   {
    "duration": 57,
    "start_time": "2023-10-06T08:51:18.346Z"
   },
   {
    "duration": 63,
    "start_time": "2023-10-06T08:51:28.097Z"
   },
   {
    "duration": 4,
    "start_time": "2023-10-06T08:52:26.817Z"
   },
   {
    "duration": 1480,
    "start_time": "2023-10-06T08:55:10.079Z"
   },
   {
    "duration": 963,
    "start_time": "2023-10-06T08:55:11.561Z"
   },
   {
    "duration": 28,
    "start_time": "2023-10-06T08:55:12.526Z"
   },
   {
    "duration": 203,
    "start_time": "2023-10-06T08:55:12.556Z"
   },
   {
    "duration": 147,
    "start_time": "2023-10-06T08:55:12.762Z"
   },
   {
    "duration": 538,
    "start_time": "2023-10-06T08:55:12.911Z"
   },
   {
    "duration": 1069,
    "start_time": "2023-10-06T08:55:13.451Z"
   },
   {
    "duration": 7,
    "start_time": "2023-10-06T08:55:14.521Z"
   },
   {
    "duration": 75,
    "start_time": "2023-10-06T08:55:14.530Z"
   },
   {
    "duration": 142,
    "start_time": "2023-10-06T08:55:14.607Z"
   },
   {
    "duration": 68,
    "start_time": "2023-10-06T08:55:14.751Z"
   },
   {
    "duration": 67,
    "start_time": "2023-10-06T08:55:14.821Z"
   },
   {
    "duration": 69,
    "start_time": "2023-10-06T08:55:14.890Z"
   },
   {
    "duration": 42,
    "start_time": "2023-10-06T08:55:14.962Z"
   },
   {
    "duration": 254,
    "start_time": "2023-10-06T08:55:15.006Z"
   },
   {
    "duration": 133,
    "start_time": "2023-10-06T08:55:15.263Z"
   },
   {
    "duration": 100,
    "start_time": "2023-10-06T08:55:15.398Z"
   },
   {
    "duration": 111,
    "start_time": "2023-10-06T08:55:15.501Z"
   },
   {
    "duration": 108,
    "start_time": "2023-10-06T08:55:15.614Z"
   },
   {
    "duration": 82,
    "start_time": "2023-10-06T08:55:15.724Z"
   },
   {
    "duration": 6,
    "start_time": "2023-10-06T08:55:15.808Z"
   },
   {
    "duration": 76,
    "start_time": "2023-10-06T08:55:15.816Z"
   },
   {
    "duration": 33,
    "start_time": "2023-10-06T08:55:15.894Z"
   },
   {
    "duration": 421,
    "start_time": "2023-10-06T08:55:15.929Z"
   },
   {
    "duration": 25,
    "start_time": "2023-10-06T08:55:16.352Z"
   },
   {
    "duration": 328,
    "start_time": "2023-10-06T08:55:16.379Z"
   },
   {
    "duration": 177,
    "start_time": "2023-10-06T08:55:16.708Z"
   },
   {
    "duration": 17,
    "start_time": "2023-10-06T08:55:16.887Z"
   },
   {
    "duration": 102,
    "start_time": "2023-10-06T08:55:16.906Z"
   },
   {
    "duration": 1474,
    "start_time": "2023-10-06T08:57:14.148Z"
   },
   {
    "duration": 1034,
    "start_time": "2023-10-06T08:57:15.624Z"
   },
   {
    "duration": 18,
    "start_time": "2023-10-06T08:57:16.659Z"
   },
   {
    "duration": 177,
    "start_time": "2023-10-06T08:57:16.679Z"
   },
   {
    "duration": 115,
    "start_time": "2023-10-06T08:57:16.859Z"
   },
   {
    "duration": 519,
    "start_time": "2023-10-06T08:57:16.975Z"
   },
   {
    "duration": 1022,
    "start_time": "2023-10-06T08:57:17.496Z"
   },
   {
    "duration": 8,
    "start_time": "2023-10-06T08:57:18.520Z"
   },
   {
    "duration": 46,
    "start_time": "2023-10-06T08:57:18.529Z"
   },
   {
    "duration": 110,
    "start_time": "2023-10-06T08:57:18.577Z"
   },
   {
    "duration": 42,
    "start_time": "2023-10-06T08:57:18.689Z"
   },
   {
    "duration": 61,
    "start_time": "2023-10-06T08:57:18.747Z"
   },
   {
    "duration": 65,
    "start_time": "2023-10-06T08:57:18.810Z"
   },
   {
    "duration": 55,
    "start_time": "2023-10-06T08:57:18.878Z"
   },
   {
    "duration": 99,
    "start_time": "2023-10-06T08:57:18.935Z"
   },
   {
    "duration": 60,
    "start_time": "2023-10-06T08:57:19.037Z"
   },
   {
    "duration": 85,
    "start_time": "2023-10-06T08:57:19.099Z"
   },
   {
    "duration": 104,
    "start_time": "2023-10-06T08:57:19.186Z"
   },
   {
    "duration": 110,
    "start_time": "2023-10-06T08:57:19.292Z"
   },
   {
    "duration": 91,
    "start_time": "2023-10-06T08:57:19.404Z"
   },
   {
    "duration": 6,
    "start_time": "2023-10-06T08:57:19.497Z"
   },
   {
    "duration": 42,
    "start_time": "2023-10-06T08:57:19.505Z"
   },
   {
    "duration": 25,
    "start_time": "2023-10-06T08:57:19.549Z"
   },
   {
    "duration": 442,
    "start_time": "2023-10-06T08:57:19.576Z"
   },
   {
    "duration": 31,
    "start_time": "2023-10-06T08:57:20.020Z"
   },
   {
    "duration": 355,
    "start_time": "2023-10-06T08:57:20.053Z"
   },
   {
    "duration": 183,
    "start_time": "2023-10-06T08:57:20.410Z"
   },
   {
    "duration": 9,
    "start_time": "2023-10-06T08:57:20.595Z"
   },
   {
    "duration": 135,
    "start_time": "2023-10-06T08:57:20.605Z"
   },
   {
    "duration": 0,
    "start_time": "2023-10-06T08:57:20.742Z"
   },
   {
    "duration": 181,
    "start_time": "2023-10-06T08:59:31.181Z"
   },
   {
    "duration": 23,
    "start_time": "2023-10-06T08:59:53.659Z"
   },
   {
    "duration": 12,
    "start_time": "2023-10-06T08:59:56.804Z"
   },
   {
    "duration": 1484,
    "start_time": "2023-10-06T09:00:05.463Z"
   },
   {
    "duration": 965,
    "start_time": "2023-10-06T09:00:06.949Z"
   },
   {
    "duration": 19,
    "start_time": "2023-10-06T09:00:07.916Z"
   },
   {
    "duration": 188,
    "start_time": "2023-10-06T09:00:07.936Z"
   },
   {
    "duration": 114,
    "start_time": "2023-10-06T09:00:08.126Z"
   },
   {
    "duration": 537,
    "start_time": "2023-10-06T09:00:08.247Z"
   },
   {
    "duration": 1159,
    "start_time": "2023-10-06T09:00:08.786Z"
   },
   {
    "duration": 8,
    "start_time": "2023-10-06T09:00:09.947Z"
   },
   {
    "duration": 61,
    "start_time": "2023-10-06T09:00:09.956Z"
   },
   {
    "duration": 118,
    "start_time": "2023-10-06T09:00:10.019Z"
   },
   {
    "duration": 75,
    "start_time": "2023-10-06T09:00:10.139Z"
   },
   {
    "duration": 108,
    "start_time": "2023-10-06T09:00:10.216Z"
   },
   {
    "duration": 82,
    "start_time": "2023-10-06T09:00:10.327Z"
   },
   {
    "duration": 58,
    "start_time": "2023-10-06T09:00:10.413Z"
   },
   {
    "duration": 95,
    "start_time": "2023-10-06T09:00:10.473Z"
   },
   {
    "duration": 55,
    "start_time": "2023-10-06T09:00:10.569Z"
   },
   {
    "duration": 78,
    "start_time": "2023-10-06T09:00:10.625Z"
   },
   {
    "duration": 116,
    "start_time": "2023-10-06T09:00:10.705Z"
   },
   {
    "duration": 102,
    "start_time": "2023-10-06T09:00:10.823Z"
   },
   {
    "duration": 105,
    "start_time": "2023-10-06T09:00:10.927Z"
   },
   {
    "duration": 7,
    "start_time": "2023-10-06T09:00:11.033Z"
   },
   {
    "duration": 95,
    "start_time": "2023-10-06T09:00:11.042Z"
   },
   {
    "duration": 27,
    "start_time": "2023-10-06T09:00:11.138Z"
   },
   {
    "duration": 438,
    "start_time": "2023-10-06T09:00:11.167Z"
   },
   {
    "duration": 39,
    "start_time": "2023-10-06T09:00:11.607Z"
   },
   {
    "duration": 316,
    "start_time": "2023-10-06T09:00:11.648Z"
   },
   {
    "duration": 167,
    "start_time": "2023-10-06T09:00:11.966Z"
   },
   {
    "duration": 28,
    "start_time": "2023-10-06T09:00:12.135Z"
   },
   {
    "duration": 138,
    "start_time": "2023-10-06T09:00:12.165Z"
   },
   {
    "duration": 0,
    "start_time": "2023-10-06T09:00:12.305Z"
   },
   {
    "duration": 33,
    "start_time": "2023-10-06T09:01:21.580Z"
   },
   {
    "duration": 20,
    "start_time": "2023-10-06T09:01:22.709Z"
   },
   {
    "duration": 65,
    "start_time": "2023-10-06T09:02:16.358Z"
   },
   {
    "duration": 65,
    "start_time": "2023-10-06T09:02:37.178Z"
   },
   {
    "duration": 138,
    "start_time": "2023-10-06T09:03:30.845Z"
   },
   {
    "duration": 115,
    "start_time": "2023-10-06T09:03:33.780Z"
   },
   {
    "duration": 60,
    "start_time": "2023-10-06T09:04:09.467Z"
   },
   {
    "duration": 1589,
    "start_time": "2023-10-06T09:04:14.585Z"
   },
   {
    "duration": 958,
    "start_time": "2023-10-06T09:04:16.176Z"
   },
   {
    "duration": 24,
    "start_time": "2023-10-06T09:04:17.135Z"
   },
   {
    "duration": 172,
    "start_time": "2023-10-06T09:04:17.161Z"
   },
   {
    "duration": 150,
    "start_time": "2023-10-06T09:04:17.346Z"
   },
   {
    "duration": 541,
    "start_time": "2023-10-06T09:04:17.497Z"
   },
   {
    "duration": 1086,
    "start_time": "2023-10-06T09:04:18.040Z"
   },
   {
    "duration": 7,
    "start_time": "2023-10-06T09:04:19.127Z"
   },
   {
    "duration": 77,
    "start_time": "2023-10-06T09:04:19.136Z"
   },
   {
    "duration": 108,
    "start_time": "2023-10-06T09:04:19.215Z"
   },
   {
    "duration": 54,
    "start_time": "2023-10-06T09:04:19.325Z"
   },
   {
    "duration": 82,
    "start_time": "2023-10-06T09:04:19.381Z"
   },
   {
    "duration": 94,
    "start_time": "2023-10-06T09:04:19.465Z"
   },
   {
    "duration": 46,
    "start_time": "2023-10-06T09:04:19.562Z"
   },
   {
    "duration": 72,
    "start_time": "2023-10-06T09:04:19.609Z"
   },
   {
    "duration": 43,
    "start_time": "2023-10-06T09:04:19.683Z"
   },
   {
    "duration": 96,
    "start_time": "2023-10-06T09:04:19.728Z"
   },
   {
    "duration": 91,
    "start_time": "2023-10-06T09:04:19.826Z"
   },
   {
    "duration": 109,
    "start_time": "2023-10-06T09:04:19.919Z"
   },
   {
    "duration": 206,
    "start_time": "2023-10-06T09:04:20.030Z"
   },
   {
    "duration": 44,
    "start_time": "2023-10-06T09:04:20.238Z"
   },
   {
    "duration": 65,
    "start_time": "2023-10-06T09:04:20.284Z"
   },
   {
    "duration": 40,
    "start_time": "2023-10-06T09:04:20.351Z"
   },
   {
    "duration": 428,
    "start_time": "2023-10-06T09:04:20.394Z"
   },
   {
    "duration": 32,
    "start_time": "2023-10-06T09:04:20.823Z"
   },
   {
    "duration": 318,
    "start_time": "2023-10-06T09:04:20.856Z"
   },
   {
    "duration": 171,
    "start_time": "2023-10-06T09:04:21.176Z"
   },
   {
    "duration": 127,
    "start_time": "2023-10-06T09:04:21.349Z"
   },
   {
    "duration": 0,
    "start_time": "2023-10-06T09:04:21.477Z"
   },
   {
    "duration": 0,
    "start_time": "2023-10-06T09:04:21.479Z"
   },
   {
    "duration": 9,
    "start_time": "2023-10-06T09:05:17.659Z"
   },
   {
    "duration": 5,
    "start_time": "2023-10-06T09:05:55.276Z"
   },
   {
    "duration": 34,
    "start_time": "2023-10-06T09:05:58.643Z"
   },
   {
    "duration": 180,
    "start_time": "2023-10-06T09:05:59.938Z"
   },
   {
    "duration": 218,
    "start_time": "2023-10-06T09:06:00.882Z"
   },
   {
    "duration": 4,
    "start_time": "2023-10-06T09:06:42.323Z"
   },
   {
    "duration": 1527,
    "start_time": "2023-10-06T09:06:47.935Z"
   },
   {
    "duration": 998,
    "start_time": "2023-10-06T09:06:49.464Z"
   },
   {
    "duration": 20,
    "start_time": "2023-10-06T09:06:50.463Z"
   },
   {
    "duration": 217,
    "start_time": "2023-10-06T09:06:50.484Z"
   },
   {
    "duration": 101,
    "start_time": "2023-10-06T09:06:50.704Z"
   },
   {
    "duration": 515,
    "start_time": "2023-10-06T09:06:50.807Z"
   },
   {
    "duration": 1088,
    "start_time": "2023-10-06T09:06:51.323Z"
   },
   {
    "duration": 6,
    "start_time": "2023-10-06T09:06:52.413Z"
   },
   {
    "duration": 78,
    "start_time": "2023-10-06T09:06:52.421Z"
   },
   {
    "duration": 173,
    "start_time": "2023-10-06T09:06:52.500Z"
   },
   {
    "duration": 149,
    "start_time": "2023-10-06T09:06:52.675Z"
   },
   {
    "duration": 71,
    "start_time": "2023-10-06T09:06:52.826Z"
   },
   {
    "duration": 72,
    "start_time": "2023-10-06T09:06:52.898Z"
   },
   {
    "duration": 57,
    "start_time": "2023-10-06T09:06:52.973Z"
   },
   {
    "duration": 76,
    "start_time": "2023-10-06T09:06:53.032Z"
   },
   {
    "duration": 57,
    "start_time": "2023-10-06T09:06:53.109Z"
   },
   {
    "duration": 87,
    "start_time": "2023-10-06T09:06:53.167Z"
   },
   {
    "duration": 122,
    "start_time": "2023-10-06T09:06:53.256Z"
   },
   {
    "duration": 111,
    "start_time": "2023-10-06T09:06:53.380Z"
   },
   {
    "duration": 84,
    "start_time": "2023-10-06T09:06:53.493Z"
   },
   {
    "duration": 7,
    "start_time": "2023-10-06T09:06:53.579Z"
   },
   {
    "duration": 40,
    "start_time": "2023-10-06T09:06:53.587Z"
   },
   {
    "duration": 39,
    "start_time": "2023-10-06T09:06:53.630Z"
   },
   {
    "duration": 424,
    "start_time": "2023-10-06T09:06:53.672Z"
   },
   {
    "duration": 26,
    "start_time": "2023-10-06T09:06:54.098Z"
   },
   {
    "duration": 354,
    "start_time": "2023-10-06T09:06:54.126Z"
   },
   {
    "duration": 174,
    "start_time": "2023-10-06T09:06:54.482Z"
   },
   {
    "duration": 18,
    "start_time": "2023-10-06T09:06:54.657Z"
   },
   {
    "duration": 157,
    "start_time": "2023-10-06T09:06:54.677Z"
   },
   {
    "duration": 256,
    "start_time": "2023-10-06T09:06:54.836Z"
   },
   {
    "duration": 4088233,
    "start_time": "2023-10-06T09:08:36.188Z"
   },
   {
    "duration": 5,
    "start_time": "2023-10-06T10:49:57.313Z"
   },
   {
    "duration": 107,
    "start_time": "2023-10-06T10:50:29.259Z"
   },
   {
    "duration": 455188,
    "start_time": "2023-10-06T10:51:22.641Z"
   },
   {
    "duration": 149,
    "start_time": "2023-10-06T10:58:57.831Z"
   },
   {
    "duration": 107,
    "start_time": "2023-10-06T11:36:08.859Z"
   },
   {
    "duration": 382,
    "start_time": "2023-10-06T11:36:08.968Z"
   },
   {
    "duration": 3237,
    "start_time": "2023-10-06T11:42:57.118Z"
   },
   {
    "duration": 2439,
    "start_time": "2023-10-06T11:43:00.365Z"
   },
   {
    "duration": 30,
    "start_time": "2023-10-06T11:43:02.850Z"
   },
   {
    "duration": 510,
    "start_time": "2023-10-06T11:43:02.882Z"
   },
   {
    "duration": 286,
    "start_time": "2023-10-06T11:43:03.393Z"
   },
   {
    "duration": 1373,
    "start_time": "2023-10-06T11:43:03.682Z"
   },
   {
    "duration": 2737,
    "start_time": "2023-10-06T11:43:05.057Z"
   },
   {
    "duration": 17,
    "start_time": "2023-10-06T11:43:07.852Z"
   },
   {
    "duration": 110,
    "start_time": "2023-10-06T11:43:07.871Z"
   },
   {
    "duration": 308,
    "start_time": "2023-10-06T11:43:07.983Z"
   },
   {
    "duration": 133,
    "start_time": "2023-10-06T11:43:08.348Z"
   },
   {
    "duration": 169,
    "start_time": "2023-10-06T11:43:08.483Z"
   },
   {
    "duration": 128,
    "start_time": "2023-10-06T11:43:08.653Z"
   },
   {
    "duration": 103,
    "start_time": "2023-10-06T11:43:08.783Z"
   },
   {
    "duration": 178,
    "start_time": "2023-10-06T11:43:08.887Z"
   },
   {
    "duration": 119,
    "start_time": "2023-10-06T11:43:09.067Z"
   },
   {
    "duration": 200,
    "start_time": "2023-10-06T11:43:09.190Z"
   },
   {
    "duration": 298,
    "start_time": "2023-10-06T11:43:09.393Z"
   },
   {
    "duration": 360,
    "start_time": "2023-10-06T11:43:09.692Z"
   },
   {
    "duration": 134,
    "start_time": "2023-10-06T11:43:10.054Z"
   },
   {
    "duration": 61,
    "start_time": "2023-10-06T11:43:10.190Z"
   },
   {
    "duration": 108,
    "start_time": "2023-10-06T11:43:10.255Z"
   },
   {
    "duration": 80,
    "start_time": "2023-10-06T11:43:10.367Z"
   },
   {
    "duration": 1217,
    "start_time": "2023-10-06T11:43:10.449Z"
   },
   {
    "duration": 84,
    "start_time": "2023-10-06T11:43:11.669Z"
   },
   {
    "duration": 838,
    "start_time": "2023-10-06T11:43:11.755Z"
   },
   {
    "duration": 441,
    "start_time": "2023-10-06T11:43:12.647Z"
   },
   {
    "duration": 76,
    "start_time": "2023-10-06T11:43:13.091Z"
   },
   {
    "duration": 397,
    "start_time": "2023-10-06T11:43:13.180Z"
   },
   {
    "duration": 9979079,
    "start_time": "2023-10-06T11:43:13.580Z"
   },
   {
    "duration": 5,
    "start_time": "2023-10-06T14:29:32.661Z"
   },
   {
    "duration": 2780494,
    "start_time": "2023-10-06T14:29:32.668Z"
   },
   {
    "duration": 3041085,
    "start_time": "2023-10-06T15:15:53.164Z"
   },
   {
    "duration": 358,
    "start_time": "2023-10-06T16:06:34.251Z"
   },
   {
    "duration": 102,
    "start_time": "2023-10-06T16:06:34.646Z"
   },
   {
    "duration": 283,
    "start_time": "2023-10-06T16:06:34.750Z"
   },
   {
    "duration": 124,
    "start_time": "2023-10-06T16:06:35.035Z"
   }
  ],
  "kernelspec": {
   "display_name": "Python 3 (ipykernel)",
   "language": "python",
   "name": "python3"
  },
  "language_info": {
   "codemirror_mode": {
    "name": "ipython",
    "version": 3
   },
   "file_extension": ".py",
   "mimetype": "text/x-python",
   "name": "python",
   "nbconvert_exporter": "python",
   "pygments_lexer": "ipython3",
   "version": "3.9.5"
  },
  "toc": {
   "base_numbering": 1,
   "nav_menu": {},
   "number_sections": true,
   "sideBar": true,
   "skip_h1_title": true,
   "title_cell": "Table of Contents",
   "title_sidebar": "Contents",
   "toc_cell": false,
   "toc_position": {},
   "toc_section_display": true,
   "toc_window_display": false
  }
 },
 "nbformat": 4,
 "nbformat_minor": 4
}

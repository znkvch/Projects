{
 "cells": [
  {
   "cell_type": "markdown",
   "metadata": {},
   "source": [
    "# Разработка системы определения негативных рецензий"
   ]
  },
  {
   "cell_type": "markdown",
   "metadata": {},
   "source": [
    "Интернет-магазин «Викишоп» запускает новый сервис. Теперь пользователи могут редактировать и дополнять описания товаров, как в вики-сообществах. То есть клиенты предлагают свои правки и комментируют изменения других. Магазину нужен инструмент, который будет искать токсичные комментарии и отправлять их на модерацию. \n",
    "\n",
    "Обучите модель классифицировать комментарии на позитивные и негативные. В вашем распоряжении набор данных с разметкой о токсичности правок.\n",
    "\n",
    "Постройте модель со значением метрики качества *F1* не меньше 0.75. \n",
    "\n",
    "Столбец *text* в нём содержит текст комментария, а *toxic* — целевой признак."
   ]
  },
  {
   "cell_type": "markdown",
   "metadata": {},
   "source": [
    "## Подготовка"
   ]
  },
  {
   "cell_type": "code",
   "execution_count": 1,
   "metadata": {
    "collapsed": true,
    "jupyter": {
     "outputs_hidden": true
    }
   },
   "outputs": [
    {
     "name": "stderr",
     "output_type": "stream",
     "text": [
      "[nltk_data] Downloading package stopwords to\n",
      "[nltk_data]     C:\\Users\\User\\AppData\\Roaming\\nltk_data...\n",
      "[nltk_data]   Package stopwords is already up-to-date!\n",
      "[nltk_data] Downloading package wordnet to\n",
      "[nltk_data]     C:\\Users\\User\\AppData\\Roaming\\nltk_data...\n",
      "[nltk_data]   Package wordnet is already up-to-date!\n",
      "[nltk_data] Downloading package omw-1.4 to\n",
      "[nltk_data]     C:\\Users\\User\\AppData\\Roaming\\nltk_data...\n",
      "[nltk_data]   Package omw-1.4 is already up-to-date!\n",
      "[nltk_data] Downloading package averaged_perceptron_tagger to\n",
      "[nltk_data]     C:\\Users\\User\\AppData\\Roaming\\nltk_data...\n",
      "[nltk_data]   Package averaged_perceptron_tagger is already up-to-\n",
      "[nltk_data]       date!\n"
     ]
    },
    {
     "data": {
      "text/plain": [
       "True"
      ]
     },
     "execution_count": 1,
     "metadata": {},
     "output_type": "execute_result"
    }
   ],
   "source": [
    "import re\n",
    "import nltk\n",
    "import numpy as np\n",
    "import pandas as pd\n",
    "import seaborn as sns\n",
    "import matplotlib.pyplot as plt\n",
    "\n",
    "from tqdm import tqdm\n",
    "from nltk.stem import WordNetLemmatizer \n",
    "from nltk.corpus import wordnet\n",
    "from sklearn.pipeline import Pipeline\n",
    "from sklearn.preprocessing import OneHotEncoder\n",
    "from nltk.corpus import stopwords as nltk_stopwords\n",
    "from sklearn.feature_extraction.text import TfidfVectorizer\n",
    "from sklearn.feature_extraction.text import TfidfTransformer\n",
    "from sklearn.feature_extraction.text import CountVectorizer\n",
    "from sklearn.model_selection import train_test_split, cross_val_score, GridSearchCV\n",
    "from sklearn.linear_model import LogisticRegression\n",
    "from sklearn.ensemble import RandomForestClassifier\n",
    "from sklearn.tree import DecisionTreeClassifier\n",
    "from catboost import CatBoostClassifier, Pool\n",
    "from sklearn.metrics import f1_score\n",
    "from sklearn.utils import shuffle\n",
    "from sklearn.metrics import roc_auc_score\n",
    "from sklearn.metrics import roc_curve \n",
    "\n",
    "from collections import defaultdict\n",
    "from nltk.corpus import wordnet as wn\n",
    "from nltk import word_tokenize, pos_tag\n",
    "\n",
    "import warnings\n",
    "\n",
    "warnings.filterwarnings('ignore')\n",
    "nltk.download('stopwords')\n",
    "nltk.download('wordnet')\n",
    "nltk.download('omw-1.4')\n",
    "nltk.download('averaged_perceptron_tagger')"
   ]
  },
  {
   "cell_type": "code",
   "execution_count": 2,
   "metadata": {},
   "outputs": [],
   "source": [
    "try:\n",
    "    df = pd.read_csv('/datasets/toxic_comments.csv')     \n",
    "except:\n",
    "    df = pd.read_csv('c:/Users/User/Downloads/toxic_comments.csv')"
   ]
  },
  {
   "cell_type": "markdown",
   "metadata": {},
   "source": [
    "Посмотрим на данные"
   ]
  },
  {
   "cell_type": "code",
   "execution_count": 3,
   "metadata": {},
   "outputs": [
    {
     "data": {
      "text/html": [
       "<div>\n",
       "<style scoped>\n",
       "    .dataframe tbody tr th:only-of-type {\n",
       "        vertical-align: middle;\n",
       "    }\n",
       "\n",
       "    .dataframe tbody tr th {\n",
       "        vertical-align: top;\n",
       "    }\n",
       "\n",
       "    .dataframe thead th {\n",
       "        text-align: right;\n",
       "    }\n",
       "</style>\n",
       "<table border=\"1\" class=\"dataframe\">\n",
       "  <thead>\n",
       "    <tr style=\"text-align: right;\">\n",
       "      <th></th>\n",
       "      <th>Unnamed: 0</th>\n",
       "      <th>text</th>\n",
       "      <th>toxic</th>\n",
       "    </tr>\n",
       "  </thead>\n",
       "  <tbody>\n",
       "    <tr>\n",
       "      <th>0</th>\n",
       "      <td>0</td>\n",
       "      <td>Explanation\\nWhy the edits made under my usern...</td>\n",
       "      <td>0</td>\n",
       "    </tr>\n",
       "    <tr>\n",
       "      <th>1</th>\n",
       "      <td>1</td>\n",
       "      <td>D'aww! He matches this background colour I'm s...</td>\n",
       "      <td>0</td>\n",
       "    </tr>\n",
       "    <tr>\n",
       "      <th>2</th>\n",
       "      <td>2</td>\n",
       "      <td>Hey man, I'm really not trying to edit war. It...</td>\n",
       "      <td>0</td>\n",
       "    </tr>\n",
       "    <tr>\n",
       "      <th>3</th>\n",
       "      <td>3</td>\n",
       "      <td>\"\\nMore\\nI can't make any real suggestions on ...</td>\n",
       "      <td>0</td>\n",
       "    </tr>\n",
       "    <tr>\n",
       "      <th>4</th>\n",
       "      <td>4</td>\n",
       "      <td>You, sir, are my hero. Any chance you remember...</td>\n",
       "      <td>0</td>\n",
       "    </tr>\n",
       "  </tbody>\n",
       "</table>\n",
       "</div>"
      ],
      "text/plain": [
       "   Unnamed: 0                                               text  toxic\n",
       "0           0  Explanation\\nWhy the edits made under my usern...      0\n",
       "1           1  D'aww! He matches this background colour I'm s...      0\n",
       "2           2  Hey man, I'm really not trying to edit war. It...      0\n",
       "3           3  \"\\nMore\\nI can't make any real suggestions on ...      0\n",
       "4           4  You, sir, are my hero. Any chance you remember...      0"
      ]
     },
     "execution_count": 3,
     "metadata": {},
     "output_type": "execute_result"
    }
   ],
   "source": [
    "df.head()"
   ]
  },
  {
   "cell_type": "code",
   "execution_count": 4,
   "metadata": {},
   "outputs": [
    {
     "data": {
      "text/html": [
       "<div>\n",
       "<style scoped>\n",
       "    .dataframe tbody tr th:only-of-type {\n",
       "        vertical-align: middle;\n",
       "    }\n",
       "\n",
       "    .dataframe tbody tr th {\n",
       "        vertical-align: top;\n",
       "    }\n",
       "\n",
       "    .dataframe thead th {\n",
       "        text-align: right;\n",
       "    }\n",
       "</style>\n",
       "<table border=\"1\" class=\"dataframe\">\n",
       "  <thead>\n",
       "    <tr style=\"text-align: right;\">\n",
       "      <th></th>\n",
       "      <th>Unnamed: 0</th>\n",
       "      <th>text</th>\n",
       "      <th>toxic</th>\n",
       "    </tr>\n",
       "  </thead>\n",
       "  <tbody>\n",
       "    <tr>\n",
       "      <th>159287</th>\n",
       "      <td>159446</td>\n",
       "      <td>\":::::And for the second time of asking, when ...</td>\n",
       "      <td>0</td>\n",
       "    </tr>\n",
       "    <tr>\n",
       "      <th>159288</th>\n",
       "      <td>159447</td>\n",
       "      <td>You should be ashamed of yourself \\n\\nThat is ...</td>\n",
       "      <td>0</td>\n",
       "    </tr>\n",
       "    <tr>\n",
       "      <th>159289</th>\n",
       "      <td>159448</td>\n",
       "      <td>Spitzer \\n\\nUmm, theres no actual article for ...</td>\n",
       "      <td>0</td>\n",
       "    </tr>\n",
       "    <tr>\n",
       "      <th>159290</th>\n",
       "      <td>159449</td>\n",
       "      <td>And it looks like it was actually you who put ...</td>\n",
       "      <td>0</td>\n",
       "    </tr>\n",
       "    <tr>\n",
       "      <th>159291</th>\n",
       "      <td>159450</td>\n",
       "      <td>\"\\nAnd ... I really don't think you understand...</td>\n",
       "      <td>0</td>\n",
       "    </tr>\n",
       "  </tbody>\n",
       "</table>\n",
       "</div>"
      ],
      "text/plain": [
       "        Unnamed: 0                                               text  toxic\n",
       "159287      159446  \":::::And for the second time of asking, when ...      0\n",
       "159288      159447  You should be ashamed of yourself \\n\\nThat is ...      0\n",
       "159289      159448  Spitzer \\n\\nUmm, theres no actual article for ...      0\n",
       "159290      159449  And it looks like it was actually you who put ...      0\n",
       "159291      159450  \"\\nAnd ... I really don't think you understand...      0"
      ]
     },
     "execution_count": 4,
     "metadata": {},
     "output_type": "execute_result"
    }
   ],
   "source": [
    "df.tail()"
   ]
  },
  {
   "cell_type": "code",
   "execution_count": 5,
   "metadata": {},
   "outputs": [
    {
     "name": "stdout",
     "output_type": "stream",
     "text": [
      "<class 'pandas.core.frame.DataFrame'>\n",
      "RangeIndex: 159292 entries, 0 to 159291\n",
      "Data columns (total 3 columns):\n",
      " #   Column      Non-Null Count   Dtype \n",
      "---  ------      --------------   ----- \n",
      " 0   Unnamed: 0  159292 non-null  int64 \n",
      " 1   text        159292 non-null  object\n",
      " 2   toxic       159292 non-null  int64 \n",
      "dtypes: int64(2), object(1)\n",
      "memory usage: 3.6+ MB\n"
     ]
    }
   ],
   "source": [
    "df.info()"
   ]
  },
  {
   "cell_type": "code",
   "execution_count": 6,
   "metadata": {},
   "outputs": [
    {
     "data": {
      "text/plain": [
       "Unnamed: 0    0\n",
       "text          0\n",
       "toxic         0\n",
       "dtype: int64"
      ]
     },
     "execution_count": 6,
     "metadata": {},
     "output_type": "execute_result"
    }
   ],
   "source": [
    "df.isnull().sum()"
   ]
  },
  {
   "cell_type": "code",
   "execution_count": 7,
   "metadata": {},
   "outputs": [
    {
     "data": {
      "text/plain": [
       "0"
      ]
     },
     "execution_count": 7,
     "metadata": {},
     "output_type": "execute_result"
    }
   ],
   "source": [
    "df.duplicated().sum()"
   ]
  },
  {
   "cell_type": "code",
   "execution_count": 8,
   "metadata": {},
   "outputs": [
    {
     "data": {
      "text/html": [
       "<div>\n",
       "<style scoped>\n",
       "    .dataframe tbody tr th:only-of-type {\n",
       "        vertical-align: middle;\n",
       "    }\n",
       "\n",
       "    .dataframe tbody tr th {\n",
       "        vertical-align: top;\n",
       "    }\n",
       "\n",
       "    .dataframe thead th {\n",
       "        text-align: right;\n",
       "    }\n",
       "</style>\n",
       "<table border=\"1\" class=\"dataframe\">\n",
       "  <thead>\n",
       "    <tr style=\"text-align: right;\">\n",
       "      <th></th>\n",
       "      <th>text</th>\n",
       "    </tr>\n",
       "  </thead>\n",
       "  <tbody>\n",
       "    <tr>\n",
       "      <th>count</th>\n",
       "      <td>159292</td>\n",
       "    </tr>\n",
       "    <tr>\n",
       "      <th>unique</th>\n",
       "      <td>159292</td>\n",
       "    </tr>\n",
       "    <tr>\n",
       "      <th>top</th>\n",
       "      <td>Explanation\\nWhy the edits made under my usern...</td>\n",
       "    </tr>\n",
       "    <tr>\n",
       "      <th>freq</th>\n",
       "      <td>1</td>\n",
       "    </tr>\n",
       "  </tbody>\n",
       "</table>\n",
       "</div>"
      ],
      "text/plain": [
       "                                                     text\n",
       "count                                              159292\n",
       "unique                                             159292\n",
       "top     Explanation\\nWhy the edits made under my usern...\n",
       "freq                                                    1"
      ]
     },
     "execution_count": 8,
     "metadata": {},
     "output_type": "execute_result"
    }
   ],
   "source": [
    "df.describe(include='object')"
   ]
  },
  {
   "cell_type": "markdown",
   "metadata": {},
   "source": [
    "Посмортим на баланс классов"
   ]
  },
  {
   "cell_type": "code",
   "execution_count": 9,
   "metadata": {},
   "outputs": [
    {
     "data": {
      "text/plain": [
       "toxic\n",
       "0    143106\n",
       "1     16186\n",
       "Name: count, dtype: int64"
      ]
     },
     "metadata": {},
     "output_type": "display_data"
    },
    {
     "name": "stdout",
     "output_type": "stream",
     "text": [
      "Ratio: 8.841344371679229\n"
     ]
    }
   ],
   "source": [
    "display(df['toxic'].value_counts())\n",
    "class_ratio = df['toxic'].value_counts()[0] / df['toxic'].value_counts()[1]\n",
    "print('Ratio:',class_ratio)"
   ]
  },
  {
   "cell_type": "code",
   "execution_count": 10,
   "metadata": {
    "scrolled": true
   },
   "outputs": [
    {
     "data": {
      "image/png": "[encoded data removed]",
      "text/plain": [
       "<Figure size 700x700 with 1 Axes>"
      ]
     },
     "metadata": {},
     "output_type": "display_data"
    }
   ],
   "source": [
    "plt.figure(figsize=(7, 7))\n",
    "sns.countplot(x='toxic', data=df, palette=\"Set1\");"
   ]
  },
  {
   "cell_type": "markdown",
   "metadata": {},
   "source": [
    "Вывод: Набор данных всего содержит 159292 строк и 3 столбца. Результаты:\n",
    "\n",
    "- В данных нет пропущенных значений и дубликатов\n",
    "- Язык текста комментариев - английский\n",
    "- В тексте комментариев содержатся разные регистры букв, символы пунктуации и '/n' итд.\n",
    "- Найден дисбаланс классов в соотношении примерно 1:8"
   ]
  },
  {
   "cell_type": "markdown",
   "metadata": {},
   "source": [
    "#### Предобработка данных"
   ]
  },
  {
   "cell_type": "markdown",
   "metadata": {},
   "source": [
    "**Лемматизация**"
   ]
  },
  {
   "cell_type": "markdown",
   "metadata": {},
   "source": [
    "Приведение текста в столбце 'text' к нижнему регистру"
   ]
  },
  {
   "cell_type": "code",
   "execution_count": 11,
   "metadata": {},
   "outputs": [],
   "source": [
    "df['text'] = df['text'].str.lower()"
   ]
  },
  {
   "cell_type": "code",
   "execution_count": 12,
   "metadata": {},
   "outputs": [
    {
     "data": {
      "text/plain": [
       "0"
      ]
     },
     "execution_count": 12,
     "metadata": {},
     "output_type": "execute_result"
    }
   ],
   "source": [
    "df.duplicated().sum()"
   ]
  },
  {
   "cell_type": "markdown",
   "metadata": {},
   "source": [
    "Объявим корпус текстов, переведем его в тип юникод"
   ]
  },
  {
   "cell_type": "code",
   "execution_count": 13,
   "metadata": {
    "scrolled": true
   },
   "outputs": [
    {
     "name": "stdout",
     "output_type": "stream",
     "text": [
      "explanation\n",
      "why the edits made under my username hardcore metallica fan were reverted? they weren't vandalisms, just closure on some gas after i voted at new york dolls fac. and please don't remove the template from the talk page since i'm retired now.89.205.38.27\n"
     ]
    }
   ],
   "source": [
    "corpus = df['text'].values\n",
    "print(corpus[0])"
   ]
  },
  {
   "cell_type": "markdown",
   "metadata": {},
   "source": [
    "Для обработки текста, объявим лемматизатор и функцию для очистки и лемматизации текстов"
   ]
  },
  {
   "cell_type": "code",
   "execution_count": 14,
   "metadata": {
    "tags": []
   },
   "outputs": [],
   "source": [
    "def get_wordnet_pos(word):\n",
    "    tag = nltk.pos_tag([word])[0][1][0].upper()\n",
    "    tag_dict = {\"J\": wordnet.ADJ,               #прилагательное\n",
    "                \"N\": wordnet.NOUN,              #существительное\n",
    "                \"V\": wordnet.VERB,              #глагол\n",
    "                \"R\": wordnet.ADV                #наречие\n",
    "               }  \n",
    "    return tag_dict.get(tag, wordnet.NOUN)\n",
    "\n",
    "wnl = WordNetLemmatizer()\n",
    "\n",
    "def lemmatize_text(text):\n",
    "    text = [wnl.lemmatize(w, get_wordnet_pos(w)) for w in nltk.word_tokenize(text)]\n",
    "    return ' '.join(text)"
   ]
  },
  {
   "cell_type": "code",
   "execution_count": 15,
   "metadata": {},
   "outputs": [
    {
     "data": {
      "text/html": [
       "<div>\n",
       "<style scoped>\n",
       "    .dataframe tbody tr th:only-of-type {\n",
       "        vertical-align: middle;\n",
       "    }\n",
       "\n",
       "    .dataframe tbody tr th {\n",
       "        vertical-align: top;\n",
       "    }\n",
       "\n",
       "    .dataframe thead th {\n",
       "        text-align: right;\n",
       "    }\n",
       "</style>\n",
       "<table border=\"1\" class=\"dataframe\">\n",
       "  <thead>\n",
       "    <tr style=\"text-align: right;\">\n",
       "      <th></th>\n",
       "      <th>Unnamed: 0</th>\n",
       "      <th>text</th>\n",
       "      <th>toxic</th>\n",
       "    </tr>\n",
       "  </thead>\n",
       "  <tbody>\n",
       "    <tr>\n",
       "      <th>0</th>\n",
       "      <td>0</td>\n",
       "      <td>explanation\\nwhy the edits made under my usern...</td>\n",
       "      <td>0</td>\n",
       "    </tr>\n",
       "    <tr>\n",
       "      <th>1</th>\n",
       "      <td>1</td>\n",
       "      <td>d'aww! he matches this background colour i'm s...</td>\n",
       "      <td>0</td>\n",
       "    </tr>\n",
       "    <tr>\n",
       "      <th>2</th>\n",
       "      <td>2</td>\n",
       "      <td>hey man, i'm really not trying to edit war. it...</td>\n",
       "      <td>0</td>\n",
       "    </tr>\n",
       "    <tr>\n",
       "      <th>3</th>\n",
       "      <td>3</td>\n",
       "      <td>\"\\nmore\\ni can't make any real suggestions on ...</td>\n",
       "      <td>0</td>\n",
       "    </tr>\n",
       "    <tr>\n",
       "      <th>4</th>\n",
       "      <td>4</td>\n",
       "      <td>you, sir, are my hero. any chance you remember...</td>\n",
       "      <td>0</td>\n",
       "    </tr>\n",
       "    <tr>\n",
       "      <th>5</th>\n",
       "      <td>5</td>\n",
       "      <td>\"\\n\\ncongratulations from me as well, use the ...</td>\n",
       "      <td>0</td>\n",
       "    </tr>\n",
       "    <tr>\n",
       "      <th>6</th>\n",
       "      <td>6</td>\n",
       "      <td>cocksucker before you piss around on my work</td>\n",
       "      <td>1</td>\n",
       "    </tr>\n",
       "    <tr>\n",
       "      <th>7</th>\n",
       "      <td>7</td>\n",
       "      <td>your vandalism to the matt shirvington article...</td>\n",
       "      <td>0</td>\n",
       "    </tr>\n",
       "    <tr>\n",
       "      <th>8</th>\n",
       "      <td>8</td>\n",
       "      <td>sorry if the word 'nonsense' was offensive to ...</td>\n",
       "      <td>0</td>\n",
       "    </tr>\n",
       "    <tr>\n",
       "      <th>9</th>\n",
       "      <td>9</td>\n",
       "      <td>alignment on this subject and which are contra...</td>\n",
       "      <td>0</td>\n",
       "    </tr>\n",
       "  </tbody>\n",
       "</table>\n",
       "</div>"
      ],
      "text/plain": [
       "   Unnamed: 0                                               text  toxic\n",
       "0           0  explanation\\nwhy the edits made under my usern...      0\n",
       "1           1  d'aww! he matches this background colour i'm s...      0\n",
       "2           2  hey man, i'm really not trying to edit war. it...      0\n",
       "3           3  \"\\nmore\\ni can't make any real suggestions on ...      0\n",
       "4           4  you, sir, are my hero. any chance you remember...      0\n",
       "5           5  \"\\n\\ncongratulations from me as well, use the ...      0\n",
       "6           6       cocksucker before you piss around on my work      1\n",
       "7           7  your vandalism to the matt shirvington article...      0\n",
       "8           8  sorry if the word 'nonsense' was offensive to ...      0\n",
       "9           9  alignment on this subject and which are contra...      0"
      ]
     },
     "execution_count": 15,
     "metadata": {},
     "output_type": "execute_result"
    }
   ],
   "source": [
    "df.head(10)"
   ]
  },
  {
   "cell_type": "markdown",
   "metadata": {},
   "source": [
    "**Разделение данных на выборки**"
   ]
  },
  {
   "cell_type": "code",
   "execution_count": 16,
   "metadata": {},
   "outputs": [],
   "source": [
    "target = df['toxic']\n",
    "features = df.drop(['toxic'], axis=1)\n",
    "\n",
    "features_train, features_valid, target_train, target_valid = train_test_split(features, \n",
    "                                                                              target, \n",
    "                                                                              test_size=0.4, \n",
    "                                                                              random_state=12345)\n",
    "features_valid, features_test, target_valid, target_test = train_test_split(features_valid, \n",
    "                                                                            target_valid, \n",
    "                                                                            test_size=0.5,\n",
    "                                                                            random_state=12345)"
   ]
  },
  {
   "cell_type": "code",
   "execution_count": 17,
   "metadata": {},
   "outputs": [
    {
     "name": "stdout",
     "output_type": "stream",
     "text": [
      "(95575,)\n",
      "(95575, 2)\n"
     ]
    }
   ],
   "source": [
    "print(target_train.shape)\n",
    "print(features_train.shape)"
   ]
  },
  {
   "cell_type": "markdown",
   "metadata": {},
   "source": [
    "Загрузим стоп-слова"
   ]
  },
  {
   "cell_type": "code",
   "execution_count": 18,
   "metadata": {},
   "outputs": [],
   "source": [
    "stop_words = list(nltk_stopwords.words('english'))"
   ]
  },
  {
   "cell_type": "markdown",
   "metadata": {},
   "source": [
    "Объявление TFIDF-векторизатора"
   ]
  },
  {
   "cell_type": "code",
   "execution_count": 19,
   "metadata": {},
   "outputs": [],
   "source": [
    "count_tfidf = TfidfVectorizer(stop_words=stop_words)"
   ]
  },
  {
   "cell_type": "markdown",
   "metadata": {},
   "source": [
    "Расчет tfdif в каждой из выборок по признаков с типом данных Unicode"
   ]
  },
  {
   "cell_type": "code",
   "execution_count": 20,
   "metadata": {},
   "outputs": [],
   "source": [
    "features_train = count_tfidf.fit_transform(features_train['text'])\n",
    "features_valid = count_tfidf.transform(features_valid['text'])\n",
    "features_test = count_tfidf.transform(features_test['text'])"
   ]
  },
  {
   "cell_type": "code",
   "execution_count": 21,
   "metadata": {},
   "outputs": [
    {
     "name": "stdout",
     "output_type": "stream",
     "text": [
      "(95575, 138347)\n",
      "(31858, 138347)\n",
      "(31859, 138347)\n"
     ]
    }
   ],
   "source": [
    "print(features_train.shape)\n",
    "print(features_valid.shape)\n",
    "print(features_test.shape)\n",
    "cv_counts = 3"
   ]
  },
  {
   "cell_type": "markdown",
   "metadata": {},
   "source": [
    "**Ресемплирование**"
   ]
  },
  {
   "cell_type": "markdown",
   "metadata": {},
   "source": [
    "Ранее было обнаружено, что классы в данных несбалансированы. Для балансировки классов уменьшим количество значений в классе 0 (downsampling) метод. Увеличение класса 1 использовать не будем из-за большого объема данных."
   ]
  },
  {
   "cell_type": "markdown",
   "metadata": {},
   "source": [
    "Балансировка target_train "
   ]
  },
  {
   "cell_type": "code",
   "execution_count": 22,
   "metadata": {},
   "outputs": [],
   "source": [
    "toxic_comments_train = df.iloc[target_train.index]\n",
    "\n",
    "target_train_class_zero = toxic_comments_train[toxic_comments_train['toxic'] == 0]['toxic']\n",
    "target_train_class_one = toxic_comments_train[toxic_comments_train['toxic'] == 1]['toxic']"
   ]
  },
  {
   "cell_type": "markdown",
   "metadata": {},
   "source": [
    "Балансировка features_train "
   ]
  },
  {
   "cell_type": "code",
   "execution_count": 23,
   "metadata": {},
   "outputs": [],
   "source": [
    "target_train_class_zero_downsample = target_train_class_zero.sample(target_train_class_one.shape[0],\n",
    "                                                                    random_state=12345)\n",
    "target_train_downsample = pd.concat([target_train_class_zero_downsample, target_train_class_one])\n",
    "\n",
    "features_train_downsample = df.iloc[target_train_downsample.index]\n",
    "features_train_downsample, target_train_downsample = shuffle(features_train_downsample,\n",
    "                                                             target_train_downsample,\n",
    "                                                             random_state=12345)\n",
    "features_train_downsample = count_tfidf.transform(features_train_downsample['text']\n",
    "                                                   .values.astype('U'))"
   ]
  },
  {
   "cell_type": "code",
   "execution_count": 24,
   "metadata": {},
   "outputs": [
    {
     "name": "stdout",
     "output_type": "stream",
     "text": [
      "(95575,)\n",
      "(95575, 138347)\n"
     ]
    }
   ],
   "source": [
    "print(target_train.shape)\n",
    "print(features_train.shape)"
   ]
  },
  {
   "cell_type": "markdown",
   "metadata": {},
   "source": [
    "Вывод: \n",
    "В ходе преподготовки признаки были разделены на обучающую, валидационную и тестовую выборки. Текст комментариев приведен к нижнему регистру, удалены дубликаты, сбалансированы классы."
   ]
  },
  {
   "cell_type": "markdown",
   "metadata": {},
   "source": [
    "## Обучение"
   ]
  },
  {
   "cell_type": "markdown",
   "metadata": {},
   "source": [
    "Нам необходимо эффективно подобрать наиболее эффективную модель, то есть проанализировать несколько модели и сравнить их RMSE моделей (оценка качества) и выбрать ту которая наиболее близка к нулю. Также отследим время обучения моделей. Мы обучим и проанализируем следующие модели:\n",
    "\n",
    "- LogisticRegression\n",
    "- Random Forest\n",
    "- CatBoostClassifier"
   ]
  },
  {
   "cell_type": "markdown",
   "metadata": {},
   "source": [
    "**Logistic Regression классификатор**"
   ]
  },
  {
   "cell_type": "code",
   "execution_count": 25,
   "metadata": {},
   "outputs": [
    {
     "name": "stdout",
     "output_type": "stream",
     "text": [
      "{'C': 10, 'class_weight': {0: 1, 1: 8.84}, 'solver': 'liblinear'}\n",
      "0.713172 for {'C': 0.1, 'class_weight': {0: 1, 1: 8.84}, 'solver': 'newton-cg'}\n",
      "0.713262 for {'C': 0.1, 'class_weight': {0: 1, 1: 8.84}, 'solver': 'lbfgs'}\n",
      "0.713075 for {'C': 0.1, 'class_weight': {0: 1, 1: 8.84}, 'solver': 'liblinear'}\n",
      "0.756007 for {'C': 1, 'class_weight': {0: 1, 1: 8.84}, 'solver': 'newton-cg'}\n",
      "0.756044 for {'C': 1, 'class_weight': {0: 1, 1: 8.84}, 'solver': 'lbfgs'}\n",
      "0.755994 for {'C': 1, 'class_weight': {0: 1, 1: 8.84}, 'solver': 'liblinear'}\n",
      "0.764526 for {'C': 10, 'class_weight': {0: 1, 1: 8.84}, 'solver': 'newton-cg'}\n",
      "0.764262 for {'C': 10, 'class_weight': {0: 1, 1: 8.84}, 'solver': 'lbfgs'}\n",
      "0.764590 for {'C': 10, 'class_weight': {0: 1, 1: 8.84}, 'solver': 'liblinear'}\n",
      "\n",
      "CPU times: total: 1min 51s\n",
      "Wall time: 1min 47s\n"
     ]
    }
   ],
   "source": [
    "%%time\n",
    "dict_classes={0:1, 1:8.84}\n",
    "classificator = LogisticRegression()\n",
    "hyperparams = [{'solver':['newton-cg', 'lbfgs', 'liblinear'],\n",
    "                'C':[0.1, 1, 10],\n",
    "                'class_weight':[dict_classes]}]\n",
    "\n",
    "\n",
    "clf = GridSearchCV(classificator, hyperparams, scoring='f1',cv=5)\n",
    "clf.fit(features_train, target_train)\n",
    "LR_best_params = clf.best_params_\n",
    "print(LR_best_params)\n",
    "means = clf.cv_results_['mean_test_score']\n",
    "stds = clf.cv_results_['std_test_score']\n",
    "for mean, std, params in zip(means, stds, clf.cv_results_['params']):\n",
    "    print(\"%0.6f for %r\"% (mean, params))\n",
    "print()\n",
    "\n",
    "cv_f1_LR = max(means)"
   ]
  },
  {
   "cell_type": "code",
   "execution_count": 26,
   "metadata": {},
   "outputs": [
    {
     "name": "stdout",
     "output_type": "stream",
     "text": [
      "F1 на cv 0.7645899653205838\n",
      "F1 на валидации 0.7670952659263589\n",
      "CPU times: total: 3.19 s\n",
      "Wall time: 3.17 s\n"
     ]
    }
   ],
   "source": [
    "%%time\n",
    "\n",
    "classificator = LogisticRegression()\n",
    "classificator.set_params(**LR_best_params)\n",
    "classificator.fit(features_train, target_train)\n",
    "target_predict = classificator.predict(features_valid)\n",
    "valid_f1_LR = f1_score(target_valid, target_predict)\n",
    "print('F1 на cv', cv_f1_LR)\n",
    "print('F1 на валидации', valid_f1_LR)"
   ]
  },
  {
   "cell_type": "markdown",
   "metadata": {},
   "source": [
    "**Decision Tree классификатор**"
   ]
  },
  {
   "cell_type": "code",
   "execution_count": 27,
   "metadata": {
    "scrolled": true
   },
   "outputs": [
    {
     "name": "stdout",
     "output_type": "stream",
     "text": [
      "{'class_weight': {0: 1, 1: 8.84}, 'max_depth': 38, 'random_state': 12345}\n",
      "0.601976 for {'class_weight': {0: 1, 1: 8.84}, 'max_depth': 30, 'random_state': 12345}\n",
      "0.606774 for {'class_weight': {0: 1, 1: 8.84}, 'max_depth': 32, 'random_state': 12345}\n",
      "0.605772 for {'class_weight': {0: 1, 1: 8.84}, 'max_depth': 34, 'random_state': 12345}\n",
      "0.609333 for {'class_weight': {0: 1, 1: 8.84}, 'max_depth': 36, 'random_state': 12345}\n",
      "0.615445 for {'class_weight': {0: 1, 1: 8.84}, 'max_depth': 38, 'random_state': 12345}\n",
      "0.610799 for {'class_weight': {0: 1, 1: 8.84}, 'max_depth': 40, 'random_state': 12345}\n",
      "0.602086 for {'class_weight': {0: 1, 1: 8.84}, 'max_depth': 42, 'random_state': 12345}\n",
      "0.596457 for {'class_weight': {0: 1, 1: 8.84}, 'max_depth': 44, 'random_state': 12345}\n",
      "0.602152 for {'class_weight': {0: 1, 1: 8.84}, 'max_depth': 46, 'random_state': 12345}\n",
      "0.604612 for {'class_weight': {0: 1, 1: 8.84}, 'max_depth': 48, 'random_state': 12345}\n",
      "0.606730 for {'class_weight': {0: 1, 1: 8.84}, 'max_depth': 50, 'random_state': 12345}\n",
      "\n",
      "CPU times: total: 31min\n",
      "Wall time: 31min 1s\n"
     ]
    }
   ],
   "source": [
    "%%time\n",
    "\n",
    "classificator = DecisionTreeClassifier()\n",
    "hyperparams = [{'max_depth':[x for x in range(30,51,2)],\n",
    "                'random_state':[12345],\n",
    "                'class_weight':[dict_classes]}]\n",
    "\n",
    "\n",
    "clf = GridSearchCV(classificator, hyperparams, scoring='f1',cv=cv_counts)\n",
    "clf.fit(features_train, target_train)\n",
    "DTC_best_params = clf.best_params_\n",
    "print(DTC_best_params)\n",
    "means = clf.cv_results_['mean_test_score']\n",
    "stds = clf.cv_results_['std_test_score']\n",
    "for mean, std, params in zip(means, stds, clf.cv_results_['params']):\n",
    "    print(\"%0.6f for %r\"% (mean, params))\n",
    "print()\n",
    "\n",
    "cv_f1_DTC = max(means)"
   ]
  },
  {
   "cell_type": "code",
   "execution_count": 28,
   "metadata": {},
   "outputs": [
    {
     "name": "stdout",
     "output_type": "stream",
     "text": [
      "F1 на cv 0.6154445458545031\n",
      "F1 на валидации 0.6092171717171716\n",
      "CPU times: total: 1min\n",
      "Wall time: 1min\n"
     ]
    }
   ],
   "source": [
    "%%time\n",
    "\n",
    "classificator = DecisionTreeClassifier()\n",
    "classificator.set_params(**DTC_best_params)\n",
    "classificator.fit(features_train, target_train)\n",
    "target_predict = classificator.predict(features_valid)\n",
    "valid_f1_DTC = f1_score(target_valid, target_predict)\n",
    "print('F1 на cv', cv_f1_DTC)\n",
    "print('F1 на валидации', valid_f1_DTC)"
   ]
  },
  {
   "cell_type": "markdown",
   "metadata": {},
   "source": [
    "**CatBoost классификатор**"
   ]
  },
  {
   "cell_type": "code",
   "execution_count": 29,
   "metadata": {},
   "outputs": [
    {
     "name": "stdout",
     "output_type": "stream",
     "text": [
      "F1 на cv 0.6911088654599208\n",
      "F1 на валидации 0.6860619889712872\n",
      "CPU times: total: 11min\n",
      "Wall time: 2min 8s\n"
     ]
    }
   ],
   "source": [
    "%%time\n",
    "\n",
    "classificator = CatBoostClassifier(verbose=False, iterations=30)\n",
    "classificator.fit(features_train, target_train)\n",
    "target_predict = classificator.predict(features_valid)\n",
    "cv_f1_CBC = cross_val_score(classificator,\n",
    "                                         features_train, \n",
    "                                         target_train, \n",
    "                                         cv=cv_counts, \n",
    "                                         scoring='f1').mean()\n",
    "valid_f1_CBC = f1_score(target_valid, target_predict)\n",
    "print('F1 на cv', cv_f1_CBC)\n",
    "print('F1 на валидации', valid_f1_CBC)"
   ]
  },
  {
   "cell_type": "markdown",
   "metadata": {},
   "source": [
    "Вывод: Всего было проанализированно 3 модели, среди которых:\n",
    "\n",
    "Самой лучшей моделью является модель Logistic Regression, F1 этой модели (0.76), F1 Catboost (0.68) , у Decision Tree F1 = 0.61\n",
    "\n",
    "Для тестирования оставляем модель логистической регрессии."
   ]
  },
  {
   "cell_type": "markdown",
   "metadata": {},
   "source": [
    "**Проверка модели на тестовой выборке**"
   ]
  },
  {
   "cell_type": "code",
   "execution_count": 30,
   "metadata": {
    "scrolled": true
   },
   "outputs": [
    {
     "name": "stdout",
     "output_type": "stream",
     "text": [
      "F1 на cv 0.7645899653205838\n",
      "F1 на тесте 0.7596992481203007\n",
      "CPU times: total: 3.2 s\n",
      "Wall time: 3.12 s\n"
     ]
    }
   ],
   "source": [
    "%%time\n",
    "\n",
    "classificator = LogisticRegression()\n",
    "classificator.set_params(**LR_best_params)\n",
    "classificator.fit(features_train, target_train)\n",
    "target_predict = classificator.predict(features_test)\n",
    "valid_f1_LR = f1_score(target_test, target_predict)\n",
    "print('F1 на cv', cv_f1_LR)\n",
    "print('F1 на тесте', valid_f1_LR)"
   ]
  },
  {
   "cell_type": "markdown",
   "metadata": {},
   "source": [
    "Прстроим ROC кривую и оценим качество обучения модели"
   ]
  },
  {
   "cell_type": "code",
   "execution_count": 31,
   "metadata": {},
   "outputs": [
    {
     "name": "stdout",
     "output_type": "stream",
     "text": [
      "Значение AUC-ROC =  0.8764533508686739\n"
     ]
    },
    {
     "data": {
      "image/png": "[encoded data removed]",
      "text/plain": [
       "<Figure size 640x480 with 1 Axes>"
      ]
     },
     "metadata": {},
     "output_type": "display_data"
    }
   ],
   "source": [
    "probabilities_test = classificator.predict_proba(features_test)\n",
    "probabilities_one_test = probabilities_test[:, 1]\n",
    "auc_roc = roc_auc_score(target_test, target_predict)\n",
    "\n",
    "print('Значение AUC-ROC = ',auc_roc)\n",
    "\n",
    "\n",
    "\n",
    "fpr, tpr, thresholds = roc_curve(target_test, probabilities_one_test) \n",
    "\n",
    "plt.figure()\n",
    "plt.plot(fpr, tpr)\n",
    "plt.plot([0, 1], [0, 1], linestyle='--')\n",
    "plt.xlim([0.0, 1.0])\n",
    "plt.ylim([0.0, 1.0])\n",
    "plt.xlabel('False Positive Rate')\n",
    "plt.ylabel('True Positive Rate')\n",
    "plt.title('ROC-кривая')\n",
    "plt.show()"
   ]
  },
  {
   "cell_type": "markdown",
   "metadata": {},
   "source": [
    "Вывод: F1 валидационной и тестовой выборкок = 0.76. Это хороший результат и отсутствие разницы означает, что модель не переобучилась. Логистическая регрессия дала хорогие результаты в ROC AUC метрике. Модель способна обработать больше записей."
   ]
  },
  {
   "cell_type": "markdown",
   "metadata": {},
   "source": [
    "## Выводы"
   ]
  },
  {
   "cell_type": "markdown",
   "metadata": {},
   "source": [
    "В ходе работы над данными было сделано следующее:\n",
    "\n",
    "1. Подготовленны данные обучения на моделях.\n",
    "2. Выбран способ баланса классов и поделены данные на обучающую, валидационную и тестовою выборку.\n",
    "3. Обучены модели и выбраны лучшие из них на валидационной выборке.\n",
    "4. Показаны параметры качества моделей.\n",
    "Мы подобрали и построили модель для сортировки токсичных комментариев. Logistic Regression - модель с наилучшим значением F1, равным 0.76 на тестовой выборке и на валидационной."
   ]
  }
 ],
 "metadata": {
  "ExecuteTimeLog": [
   {
    "duration": 8049,
    "start_time": "2023-10-18T10:11:05.687Z"
   },
   {
    "duration": 3712,
    "start_time": "2023-10-18T10:11:22.200Z"
   },
   {
    "duration": 13,
    "start_time": "2023-10-18T10:12:57.188Z"
   },
   {
    "duration": 12,
    "start_time": "2023-10-18T10:13:06.995Z"
   },
   {
    "duration": 33,
    "start_time": "2023-10-18T10:13:14.704Z"
   },
   {
    "duration": 35,
    "start_time": "2023-10-18T10:13:45.278Z"
   },
   {
    "duration": 301,
    "start_time": "2023-10-18T10:13:57.993Z"
   },
   {
    "duration": 325,
    "start_time": "2023-10-18T10:14:10.649Z"
   },
   {
    "duration": 12,
    "start_time": "2023-10-18T10:15:01.120Z"
   },
   {
    "duration": 164,
    "start_time": "2023-10-18T10:15:14.177Z"
   },
   {
    "duration": 369,
    "start_time": "2023-10-18T10:18:41.191Z"
   },
   {
    "duration": 312,
    "start_time": "2023-10-18T10:18:51.278Z"
   },
   {
    "duration": 5,
    "start_time": "2023-10-18T10:19:11.100Z"
   },
   {
    "duration": 26,
    "start_time": "2023-10-18T10:19:53.063Z"
   },
   {
    "duration": 9642,
    "start_time": "2023-10-18T10:20:12.741Z"
   },
   {
    "duration": 10,
    "start_time": "2023-10-18T10:20:30.340Z"
   },
   {
    "duration": 91,
    "start_time": "2023-10-18T10:20:58.780Z"
   },
   {
    "duration": 64,
    "start_time": "2023-10-18T10:21:29.869Z"
   },
   {
    "duration": 6,
    "start_time": "2023-10-18T10:21:45.854Z"
   },
   {
    "duration": 220,
    "start_time": "2023-10-18T10:22:06.130Z"
   },
   {
    "duration": 11,
    "start_time": "2023-10-18T10:22:21.100Z"
   },
   {
    "duration": 3,
    "start_time": "2023-10-18T10:22:50.844Z"
   },
   {
    "duration": 16079,
    "start_time": "2023-10-18T10:23:18.380Z"
   },
   {
    "duration": 9,
    "start_time": "2023-10-18T10:23:34.461Z"
   },
   {
    "duration": 91,
    "start_time": "2023-10-18T10:24:05.078Z"
   },
   {
    "duration": 37,
    "start_time": "2023-10-18T10:24:44.116Z"
   },
   {
    "duration": 1773,
    "start_time": "2023-10-18T10:25:05.536Z"
   },
   {
    "duration": 5,
    "start_time": "2023-10-18T10:25:13.419Z"
   },
   {
    "duration": 147,
    "start_time": "2023-10-18T10:26:55.080Z"
   },
   {
    "duration": 1111811,
    "start_time": "2023-10-18T10:27:08.653Z"
   },
   {
    "duration": 50675,
    "start_time": "2023-10-18T10:45:40.485Z"
   },
   {
    "duration": 963563,
    "start_time": "2023-10-18T10:46:31.162Z"
   },
   {
    "duration": 32763,
    "start_time": "2023-10-18T11:02:34.727Z"
   },
   {
    "duration": 393743,
    "start_time": "2023-10-18T11:03:07.492Z"
   },
   {
    "duration": 48729,
    "start_time": "2023-10-18T11:09:41.238Z"
   },
   {
    "duration": 179,
    "start_time": "2023-10-18T11:10:29.973Z"
   },
   {
    "duration": 996373,
    "start_time": "2023-10-18T11:11:56.804Z"
   },
   {
    "duration": 28708,
    "start_time": "2023-10-18T11:28:33.180Z"
   },
   {
    "duration": 28689,
    "start_time": "2023-10-18T11:29:01.891Z"
   },
   {
    "duration": 180,
    "start_time": "2023-10-18T11:29:30.584Z"
   },
   {
    "duration": 30704,
    "start_time": "2023-10-18T11:30:58.780Z"
   },
   {
    "duration": 21696,
    "start_time": "2023-10-18T11:32:35.031Z"
   },
   {
    "duration": 2865,
    "start_time": "2023-10-18T11:33:19.477Z"
   },
   {
    "duration": 2628,
    "start_time": "2023-10-18T11:33:22.344Z"
   },
   {
    "duration": 13,
    "start_time": "2023-10-18T11:33:24.973Z"
   },
   {
    "duration": 15,
    "start_time": "2023-10-18T11:33:24.987Z"
   },
   {
    "duration": 51,
    "start_time": "2023-10-18T11:33:25.005Z"
   },
   {
    "duration": 39,
    "start_time": "2023-10-18T11:33:25.058Z"
   },
   {
    "duration": 326,
    "start_time": "2023-10-18T11:33:25.100Z"
   },
   {
    "duration": 362,
    "start_time": "2023-10-18T11:33:25.428Z"
   },
   {
    "duration": 11,
    "start_time": "2023-10-18T11:33:25.792Z"
   },
   {
    "duration": 174,
    "start_time": "2023-10-18T11:33:25.805Z"
   },
   {
    "duration": 398,
    "start_time": "2023-10-18T11:33:25.981Z"
   },
   {
    "duration": 299,
    "start_time": "2023-10-18T11:33:26.382Z"
   },
   {
    "duration": 4,
    "start_time": "2023-10-18T11:33:26.683Z"
   },
   {
    "duration": 9874,
    "start_time": "2023-10-18T11:33:26.690Z"
   },
   {
    "duration": 16,
    "start_time": "2023-10-18T11:33:36.566Z"
   },
   {
    "duration": 108,
    "start_time": "2023-10-18T11:33:36.584Z"
   },
   {
    "duration": 4,
    "start_time": "2023-10-18T11:33:36.694Z"
   },
   {
    "duration": 27,
    "start_time": "2023-10-18T11:33:36.699Z"
   },
   {
    "duration": 43,
    "start_time": "2023-10-18T11:33:36.728Z"
   },
   {
    "duration": 14831,
    "start_time": "2023-10-18T11:33:36.775Z"
   },
   {
    "duration": 4,
    "start_time": "2023-10-18T11:33:51.608Z"
   },
   {
    "duration": 79,
    "start_time": "2023-10-18T11:33:51.614Z"
   },
   {
    "duration": 1683,
    "start_time": "2023-10-18T11:33:51.695Z"
   },
   {
    "duration": 5,
    "start_time": "2023-10-18T11:33:53.381Z"
   },
   {
    "duration": 1023173,
    "start_time": "2023-10-18T11:33:53.388Z"
   },
   {
    "duration": 29229,
    "start_time": "2023-10-18T11:50:56.564Z"
   },
   {
    "duration": 879668,
    "start_time": "2023-10-18T11:51:25.795Z"
   },
   {
    "duration": 27983,
    "start_time": "2023-10-18T12:06:05.468Z"
   },
   {
    "duration": 361046,
    "start_time": "2023-10-18T12:06:33.455Z"
   },
   {
    "duration": 27983,
    "start_time": "2023-10-18T12:12:34.503Z"
   },
   {
    "duration": 183,
    "start_time": "2023-10-18T12:13:02.488Z"
   },
   {
    "duration": 132,
    "start_time": "2023-10-20T05:44:01.624Z"
   },
   {
    "duration": 78,
    "start_time": "2023-10-20T05:47:29.359Z"
   },
   {
    "duration": 3,
    "start_time": "2023-10-20T05:58:48.631Z"
   },
   {
    "duration": 42,
    "start_time": "2023-10-20T05:58:52.080Z"
   },
   {
    "duration": 2674,
    "start_time": "2023-10-20T05:59:06.206Z"
   },
   {
    "duration": 2204,
    "start_time": "2023-10-20T05:59:08.882Z"
   },
   {
    "duration": 9,
    "start_time": "2023-10-20T05:59:11.087Z"
   },
   {
    "duration": 6,
    "start_time": "2023-10-20T05:59:11.097Z"
   },
   {
    "duration": 23,
    "start_time": "2023-10-20T05:59:11.105Z"
   },
   {
    "duration": 37,
    "start_time": "2023-10-20T05:59:11.129Z"
   },
   {
    "duration": 289,
    "start_time": "2023-10-20T05:59:11.168Z"
   },
   {
    "duration": 196,
    "start_time": "2023-10-20T05:59:11.459Z"
   },
   {
    "duration": 10,
    "start_time": "2023-10-20T05:59:11.656Z"
   },
   {
    "duration": 120,
    "start_time": "2023-10-20T05:59:11.667Z"
   },
   {
    "duration": 243,
    "start_time": "2023-10-20T05:59:11.789Z"
   },
   {
    "duration": 240,
    "start_time": "2023-10-20T05:59:12.034Z"
   },
   {
    "duration": 3,
    "start_time": "2023-10-20T05:59:12.276Z"
   },
   {
    "duration": 6678,
    "start_time": "2023-10-20T05:59:12.281Z"
   },
   {
    "duration": 3,
    "start_time": "2023-10-20T05:59:18.960Z"
   },
   {
    "duration": 13,
    "start_time": "2023-10-20T05:59:18.965Z"
   },
   {
    "duration": 31,
    "start_time": "2023-10-20T05:59:18.979Z"
   },
   {
    "duration": 3,
    "start_time": "2023-10-20T05:59:19.012Z"
   },
   {
    "duration": 4,
    "start_time": "2023-10-20T05:59:19.016Z"
   },
   {
    "duration": 32,
    "start_time": "2023-10-20T05:59:19.021Z"
   },
   {
    "duration": 6544,
    "start_time": "2023-10-20T05:59:19.054Z"
   },
   {
    "duration": 3,
    "start_time": "2023-10-20T05:59:25.599Z"
   },
   {
    "duration": 20,
    "start_time": "2023-10-20T05:59:25.603Z"
   },
   {
    "duration": 1134,
    "start_time": "2023-10-20T05:59:25.624Z"
   },
   {
    "duration": 3,
    "start_time": "2023-10-20T05:59:26.760Z"
   },
   {
    "duration": 19872,
    "start_time": "2023-10-20T05:59:26.764Z"
   },
   {
    "duration": 100,
    "start_time": "2023-10-20T05:59:46.638Z"
   },
   {
    "duration": 79525,
    "start_time": "2023-10-20T05:59:46.745Z"
   },
   {
    "duration": 323,
    "start_time": "2023-10-20T06:01:06.272Z"
   },
   {
    "duration": 0,
    "start_time": "2023-10-20T06:06:16.967Z"
   },
   {
    "duration": 0,
    "start_time": "2023-10-20T06:06:16.969Z"
   },
   {
    "duration": 0,
    "start_time": "2023-10-20T06:06:16.972Z"
   },
   {
    "duration": 0,
    "start_time": "2023-10-20T06:06:16.973Z"
   },
   {
    "duration": 0,
    "start_time": "2023-10-20T06:06:16.974Z"
   },
   {
    "duration": 0,
    "start_time": "2023-10-20T06:06:16.975Z"
   },
   {
    "duration": 0,
    "start_time": "2023-10-20T06:06:16.976Z"
   },
   {
    "duration": 0,
    "start_time": "2023-10-20T06:06:16.977Z"
   },
   {
    "duration": 0,
    "start_time": "2023-10-20T06:06:16.978Z"
   },
   {
    "duration": 0,
    "start_time": "2023-10-20T06:06:16.979Z"
   },
   {
    "duration": 0,
    "start_time": "2023-10-20T06:06:16.980Z"
   },
   {
    "duration": 0,
    "start_time": "2023-10-20T06:06:16.981Z"
   },
   {
    "duration": 0,
    "start_time": "2023-10-20T06:06:16.982Z"
   },
   {
    "duration": 0,
    "start_time": "2023-10-20T06:06:16.983Z"
   },
   {
    "duration": 65,
    "start_time": "2023-10-20T06:08:06.055Z"
   },
   {
    "duration": 817,
    "start_time": "2023-10-20T06:08:08.351Z"
   },
   {
    "duration": 6,
    "start_time": "2023-10-20T06:08:11.261Z"
   },
   {
    "duration": 16,
    "start_time": "2023-10-20T06:08:12.038Z"
   },
   {
    "duration": 22,
    "start_time": "2023-10-20T06:08:12.957Z"
   },
   {
    "duration": 24,
    "start_time": "2023-10-20T06:08:15.839Z"
   },
   {
    "duration": 229,
    "start_time": "2023-10-20T06:08:16.451Z"
   },
   {
    "duration": 191,
    "start_time": "2023-10-20T06:08:16.965Z"
   },
   {
    "duration": 11,
    "start_time": "2023-10-20T06:08:18.926Z"
   },
   {
    "duration": 109,
    "start_time": "2023-10-20T06:08:19.650Z"
   },
   {
    "duration": 238,
    "start_time": "2023-10-20T06:08:25.332Z"
   },
   {
    "duration": 231,
    "start_time": "2023-10-20T06:08:27.213Z"
   },
   {
    "duration": 4,
    "start_time": "2023-10-20T06:08:29.347Z"
   },
   {
    "duration": 6012,
    "start_time": "2023-10-20T06:08:32.039Z"
   },
   {
    "duration": 3,
    "start_time": "2023-10-20T06:08:44.118Z"
   },
   {
    "duration": 8,
    "start_time": "2023-10-20T06:08:46.049Z"
   },
   {
    "duration": 7,
    "start_time": "2023-10-20T06:09:53.453Z"
   },
   {
    "duration": 3,
    "start_time": "2023-10-20T06:11:49.917Z"
   },
   {
    "duration": 7,
    "start_time": "2023-10-20T06:11:51.332Z"
   },
   {
    "duration": 1559,
    "start_time": "2023-10-20T06:11:54.702Z"
   },
   {
    "duration": 0,
    "start_time": "2023-10-20T06:11:56.262Z"
   },
   {
    "duration": 9,
    "start_time": "2023-10-20T06:12:04.493Z"
   },
   {
    "duration": 802,
    "start_time": "2023-10-20T06:12:05.085Z"
   },
   {
    "duration": 6,
    "start_time": "2023-10-20T06:12:05.889Z"
   },
   {
    "duration": 24,
    "start_time": "2023-10-20T06:12:05.897Z"
   },
   {
    "duration": 23,
    "start_time": "2023-10-20T06:12:06.174Z"
   },
   {
    "duration": 22,
    "start_time": "2023-10-20T06:12:06.559Z"
   },
   {
    "duration": 229,
    "start_time": "2023-10-20T06:12:06.895Z"
   },
   {
    "duration": 215,
    "start_time": "2023-10-20T06:12:07.277Z"
   },
   {
    "duration": 11,
    "start_time": "2023-10-20T06:12:09.470Z"
   },
   {
    "duration": 112,
    "start_time": "2023-10-20T06:12:10.015Z"
   },
   {
    "duration": 221,
    "start_time": "2023-10-20T06:12:15.783Z"
   },
   {
    "duration": 246,
    "start_time": "2023-10-20T06:12:16.166Z"
   },
   {
    "duration": 4,
    "start_time": "2023-10-20T06:12:17.351Z"
   },
   {
    "duration": 5680,
    "start_time": "2023-10-20T06:12:20.215Z"
   },
   {
    "duration": 7,
    "start_time": "2023-10-20T06:12:25.897Z"
   },
   {
    "duration": 3,
    "start_time": "2023-10-20T06:12:27.567Z"
   },
   {
    "duration": 21,
    "start_time": "2023-10-20T06:12:28.735Z"
   },
   {
    "duration": 9,
    "start_time": "2023-10-20T06:28:48.685Z"
   },
   {
    "duration": 21,
    "start_time": "2023-10-20T06:30:00.238Z"
   },
   {
    "duration": 804,
    "start_time": "2023-10-20T06:30:01.270Z"
   },
   {
    "duration": 8,
    "start_time": "2023-10-20T06:30:02.076Z"
   },
   {
    "duration": 41,
    "start_time": "2023-10-20T06:30:02.085Z"
   },
   {
    "duration": 23,
    "start_time": "2023-10-20T06:30:02.197Z"
   },
   {
    "duration": 23,
    "start_time": "2023-10-20T06:30:02.583Z"
   },
   {
    "duration": 227,
    "start_time": "2023-10-20T06:30:02.903Z"
   },
   {
    "duration": 203,
    "start_time": "2023-10-20T06:30:03.221Z"
   },
   {
    "duration": 13,
    "start_time": "2023-10-20T06:30:03.798Z"
   },
   {
    "duration": 115,
    "start_time": "2023-10-20T06:30:04.790Z"
   },
   {
    "duration": 230,
    "start_time": "2023-10-20T06:30:10.158Z"
   },
   {
    "duration": 241,
    "start_time": "2023-10-20T06:30:11.117Z"
   },
   {
    "duration": 3,
    "start_time": "2023-10-20T06:30:12.181Z"
   },
   {
    "duration": 5763,
    "start_time": "2023-10-20T06:30:18.567Z"
   },
   {
    "duration": 22,
    "start_time": "2023-10-20T06:30:24.331Z"
   },
   {
    "duration": 12,
    "start_time": "2023-10-20T06:30:46.766Z"
   },
   {
    "duration": 8,
    "start_time": "2023-10-20T06:31:54.366Z"
   },
   {
    "duration": 814,
    "start_time": "2023-10-20T06:31:55.117Z"
   },
   {
    "duration": 18,
    "start_time": "2023-10-20T06:31:55.932Z"
   },
   {
    "duration": 13,
    "start_time": "2023-10-20T06:31:55.953Z"
   },
   {
    "duration": 22,
    "start_time": "2023-10-20T06:31:56.199Z"
   },
   {
    "duration": 26,
    "start_time": "2023-10-20T06:31:56.535Z"
   },
   {
    "duration": 233,
    "start_time": "2023-10-20T06:31:56.837Z"
   },
   {
    "duration": 189,
    "start_time": "2023-10-20T06:31:57.170Z"
   },
   {
    "duration": 10,
    "start_time": "2023-10-20T06:31:57.870Z"
   },
   {
    "duration": 120,
    "start_time": "2023-10-20T06:31:58.200Z"
   },
   {
    "duration": 234,
    "start_time": "2023-10-20T06:32:00.386Z"
   },
   {
    "duration": 230,
    "start_time": "2023-10-20T06:32:00.695Z"
   },
   {
    "duration": 3,
    "start_time": "2023-10-20T06:32:01.413Z"
   },
   {
    "duration": 5786,
    "start_time": "2023-10-20T06:32:02.166Z"
   },
   {
    "duration": 7,
    "start_time": "2023-10-20T06:32:07.957Z"
   },
   {
    "duration": 14,
    "start_time": "2023-10-20T06:32:07.965Z"
   },
   {
    "duration": 0,
    "start_time": "2023-10-20T06:32:07.981Z"
   },
   {
    "duration": 8,
    "start_time": "2023-10-20T06:32:38.983Z"
   },
   {
    "duration": 828,
    "start_time": "2023-10-20T06:32:39.911Z"
   },
   {
    "duration": 7,
    "start_time": "2023-10-20T06:32:40.753Z"
   },
   {
    "duration": 7,
    "start_time": "2023-10-20T06:32:40.761Z"
   },
   {
    "duration": 27,
    "start_time": "2023-10-20T06:32:40.934Z"
   },
   {
    "duration": 20,
    "start_time": "2023-10-20T06:32:41.249Z"
   },
   {
    "duration": 237,
    "start_time": "2023-10-20T06:32:41.566Z"
   },
   {
    "duration": 196,
    "start_time": "2023-10-20T06:32:41.877Z"
   },
   {
    "duration": 11,
    "start_time": "2023-10-20T06:32:42.487Z"
   },
   {
    "duration": 119,
    "start_time": "2023-10-20T06:32:42.839Z"
   },
   {
    "duration": 229,
    "start_time": "2023-10-20T06:32:44.966Z"
   },
   {
    "duration": 223,
    "start_time": "2023-10-20T06:32:45.206Z"
   },
   {
    "duration": 3,
    "start_time": "2023-10-20T06:32:46.566Z"
   },
   {
    "duration": 5733,
    "start_time": "2023-10-20T06:32:47.189Z"
   },
   {
    "duration": 8,
    "start_time": "2023-10-20T06:32:52.924Z"
   },
   {
    "duration": 39,
    "start_time": "2023-10-20T06:32:52.939Z"
   },
   {
    "duration": 3,
    "start_time": "2023-10-20T06:33:07.710Z"
   },
   {
    "duration": 6,
    "start_time": "2023-10-20T06:33:08.580Z"
   },
   {
    "duration": 17,
    "start_time": "2023-10-20T06:39:01.383Z"
   },
   {
    "duration": 11,
    "start_time": "2023-10-20T06:39:30.886Z"
   },
   {
    "duration": 898,
    "start_time": "2023-10-20T06:39:31.383Z"
   },
   {
    "duration": 6,
    "start_time": "2023-10-20T06:39:32.283Z"
   },
   {
    "duration": 16,
    "start_time": "2023-10-20T06:39:32.291Z"
   },
   {
    "duration": 23,
    "start_time": "2023-10-20T06:39:32.358Z"
   },
   {
    "duration": 27,
    "start_time": "2023-10-20T06:39:32.582Z"
   },
   {
    "duration": 240,
    "start_time": "2023-10-20T06:39:32.816Z"
   },
   {
    "duration": 200,
    "start_time": "2023-10-20T06:39:33.058Z"
   },
   {
    "duration": 20,
    "start_time": "2023-10-20T06:39:33.535Z"
   },
   {
    "duration": 108,
    "start_time": "2023-10-20T06:39:33.798Z"
   },
   {
    "duration": 259,
    "start_time": "2023-10-20T06:39:37.502Z"
   },
   {
    "duration": 229,
    "start_time": "2023-10-20T06:39:37.773Z"
   },
   {
    "duration": 3,
    "start_time": "2023-10-20T06:39:39.022Z"
   },
   {
    "duration": 5906,
    "start_time": "2023-10-20T06:39:42.054Z"
   },
   {
    "duration": 7,
    "start_time": "2023-10-20T06:39:47.963Z"
   },
   {
    "duration": 23,
    "start_time": "2023-10-20T06:39:51.094Z"
   },
   {
    "duration": 442,
    "start_time": "2023-10-20T06:40:43.175Z"
   },
   {
    "duration": 842,
    "start_time": "2023-10-20T06:40:44.590Z"
   },
   {
    "duration": 23,
    "start_time": "2023-10-20T06:40:45.434Z"
   },
   {
    "duration": 6,
    "start_time": "2023-10-20T06:40:45.459Z"
   },
   {
    "duration": 34,
    "start_time": "2023-10-20T06:40:45.694Z"
   },
   {
    "duration": 31,
    "start_time": "2023-10-20T06:40:46.030Z"
   },
   {
    "duration": 261,
    "start_time": "2023-10-20T06:40:46.349Z"
   },
   {
    "duration": 209,
    "start_time": "2023-10-20T06:40:46.668Z"
   },
   {
    "duration": 15,
    "start_time": "2023-10-20T06:40:47.236Z"
   },
   {
    "duration": 116,
    "start_time": "2023-10-20T06:40:47.559Z"
   },
   {
    "duration": 278,
    "start_time": "2023-10-20T06:40:49.501Z"
   },
   {
    "duration": 224,
    "start_time": "2023-10-20T06:40:49.800Z"
   },
   {
    "duration": 3,
    "start_time": "2023-10-20T06:40:50.783Z"
   },
   {
    "duration": 5956,
    "start_time": "2023-10-20T06:40:51.816Z"
   },
   {
    "duration": 7,
    "start_time": "2023-10-20T06:40:58.207Z"
   },
   {
    "duration": 108,
    "start_time": "2023-10-20T06:41:00.024Z"
   },
   {
    "duration": 8,
    "start_time": "2023-10-20T06:41:01.695Z"
   },
   {
    "duration": 24,
    "start_time": "2023-10-20T06:42:26.407Z"
   },
   {
    "duration": 14,
    "start_time": "2023-10-20T07:01:24.488Z"
   },
   {
    "duration": 24,
    "start_time": "2023-10-20T07:01:36.545Z"
   },
   {
    "duration": 22,
    "start_time": "2023-10-20T07:01:48.975Z"
   },
   {
    "duration": 2754,
    "start_time": "2023-10-20T07:03:17.198Z"
   },
   {
    "duration": 0,
    "start_time": "2023-10-20T07:03:19.954Z"
   },
   {
    "duration": 307,
    "start_time": "2023-10-20T07:03:32.118Z"
   },
   {
    "duration": 828,
    "start_time": "2023-10-20T07:03:33.053Z"
   },
   {
    "duration": 6,
    "start_time": "2023-10-20T07:03:33.883Z"
   },
   {
    "duration": 7,
    "start_time": "2023-10-20T07:03:34.390Z"
   },
   {
    "duration": 34,
    "start_time": "2023-10-20T07:03:34.974Z"
   },
   {
    "duration": 18,
    "start_time": "2023-10-20T07:03:35.472Z"
   },
   {
    "duration": 231,
    "start_time": "2023-10-20T07:03:36.279Z"
   },
   {
    "duration": 178,
    "start_time": "2023-10-20T07:03:36.655Z"
   },
   {
    "duration": 10,
    "start_time": "2023-10-20T07:03:38.519Z"
   },
   {
    "duration": 105,
    "start_time": "2023-10-20T07:03:39.078Z"
   },
   {
    "duration": 239,
    "start_time": "2023-10-20T07:03:43.487Z"
   },
   {
    "duration": 231,
    "start_time": "2023-10-20T07:03:44.676Z"
   },
   {
    "duration": 3,
    "start_time": "2023-10-20T07:03:46.104Z"
   },
   {
    "duration": 835,
    "start_time": "2023-10-20T07:03:48.382Z"
   },
   {
    "duration": 55619,
    "start_time": "2023-10-20T07:04:36.376Z"
   },
   {
    "duration": 7,
    "start_time": "2023-10-20T07:05:31.997Z"
   },
   {
    "duration": 1308,
    "start_time": "2023-10-20T07:07:41.921Z"
   },
   {
    "duration": 13,
    "start_time": "2023-10-20T07:07:52.465Z"
   },
   {
    "duration": 855,
    "start_time": "2023-10-20T07:07:52.896Z"
   },
   {
    "duration": 9,
    "start_time": "2023-10-20T07:07:53.757Z"
   },
   {
    "duration": 11,
    "start_time": "2023-10-20T07:07:53.767Z"
   },
   {
    "duration": 23,
    "start_time": "2023-10-20T07:07:53.780Z"
   },
   {
    "duration": 19,
    "start_time": "2023-10-20T07:07:53.966Z"
   },
   {
    "duration": 237,
    "start_time": "2023-10-20T07:07:54.361Z"
   },
   {
    "duration": 214,
    "start_time": "2023-10-20T07:07:54.657Z"
   },
   {
    "duration": 24,
    "start_time": "2023-10-20T07:07:55.232Z"
   },
   {
    "duration": 134,
    "start_time": "2023-10-20T07:07:55.625Z"
   },
   {
    "duration": 238,
    "start_time": "2023-10-20T07:07:59.863Z"
   },
   {
    "duration": 237,
    "start_time": "2023-10-20T07:08:00.375Z"
   },
   {
    "duration": 3,
    "start_time": "2023-10-20T07:08:01.799Z"
   },
   {
    "duration": 608,
    "start_time": "2023-10-20T07:08:03.600Z"
   },
   {
    "duration": 11,
    "start_time": "2023-10-20T07:08:16.870Z"
   },
   {
    "duration": 834,
    "start_time": "2023-10-20T07:08:17.350Z"
   },
   {
    "duration": 8,
    "start_time": "2023-10-20T07:08:18.186Z"
   },
   {
    "duration": 7,
    "start_time": "2023-10-20T07:08:18.195Z"
   },
   {
    "duration": 24,
    "start_time": "2023-10-20T07:08:18.286Z"
   },
   {
    "duration": 31,
    "start_time": "2023-10-20T07:08:18.527Z"
   },
   {
    "duration": 233,
    "start_time": "2023-10-20T07:08:18.823Z"
   },
   {
    "duration": 194,
    "start_time": "2023-10-20T07:08:19.113Z"
   },
   {
    "duration": 10,
    "start_time": "2023-10-20T07:08:19.661Z"
   },
   {
    "duration": 111,
    "start_time": "2023-10-20T07:08:19.927Z"
   },
   {
    "duration": 247,
    "start_time": "2023-10-20T07:08:22.146Z"
   },
   {
    "duration": 262,
    "start_time": "2023-10-20T07:08:22.470Z"
   },
   {
    "duration": 6,
    "start_time": "2023-10-20T07:08:23.367Z"
   },
   {
    "duration": 878,
    "start_time": "2023-10-20T07:08:24.457Z"
   },
   {
    "duration": 9,
    "start_time": "2023-10-20T07:11:36.988Z"
   },
   {
    "duration": 811,
    "start_time": "2023-10-20T07:11:37.377Z"
   },
   {
    "duration": 6,
    "start_time": "2023-10-20T07:11:38.190Z"
   },
   {
    "duration": 10,
    "start_time": "2023-10-20T07:11:38.198Z"
   },
   {
    "duration": 26,
    "start_time": "2023-10-20T07:11:38.236Z"
   },
   {
    "duration": 18,
    "start_time": "2023-10-20T07:11:38.468Z"
   },
   {
    "duration": 231,
    "start_time": "2023-10-20T07:11:38.677Z"
   },
   {
    "duration": 191,
    "start_time": "2023-10-20T07:11:38.926Z"
   },
   {
    "duration": 10,
    "start_time": "2023-10-20T07:11:39.380Z"
   },
   {
    "duration": 106,
    "start_time": "2023-10-20T07:11:39.620Z"
   },
   {
    "duration": 221,
    "start_time": "2023-10-20T07:11:41.353Z"
   },
   {
    "duration": 232,
    "start_time": "2023-10-20T07:11:41.655Z"
   },
   {
    "duration": 3,
    "start_time": "2023-10-20T07:11:42.221Z"
   },
   {
    "duration": 442,
    "start_time": "2023-10-20T07:11:43.552Z"
   },
   {
    "duration": 9,
    "start_time": "2023-10-20T07:12:06.668Z"
   },
   {
    "duration": 825,
    "start_time": "2023-10-20T07:12:07.094Z"
   },
   {
    "duration": 6,
    "start_time": "2023-10-20T07:12:07.921Z"
   },
   {
    "duration": 28,
    "start_time": "2023-10-20T07:12:07.928Z"
   },
   {
    "duration": 27,
    "start_time": "2023-10-20T07:12:07.958Z"
   },
   {
    "duration": 18,
    "start_time": "2023-10-20T07:12:08.112Z"
   },
   {
    "duration": 230,
    "start_time": "2023-10-20T07:12:08.476Z"
   },
   {
    "duration": 205,
    "start_time": "2023-10-20T07:12:08.765Z"
   },
   {
    "duration": 14,
    "start_time": "2023-10-20T07:12:09.438Z"
   },
   {
    "duration": 104,
    "start_time": "2023-10-20T07:12:09.854Z"
   },
   {
    "duration": 232,
    "start_time": "2023-10-20T07:12:12.172Z"
   },
   {
    "duration": 250,
    "start_time": "2023-10-20T07:12:12.573Z"
   },
   {
    "duration": 5,
    "start_time": "2023-10-20T07:12:14.148Z"
   },
   {
    "duration": 425,
    "start_time": "2023-10-20T07:12:15.629Z"
   },
   {
    "duration": 13,
    "start_time": "2023-10-20T07:14:38.796Z"
   },
   {
    "duration": 875,
    "start_time": "2023-10-20T07:14:39.293Z"
   },
   {
    "duration": 7,
    "start_time": "2023-10-20T07:14:40.170Z"
   },
   {
    "duration": 37,
    "start_time": "2023-10-20T07:14:40.179Z"
   },
   {
    "duration": 25,
    "start_time": "2023-10-20T07:14:40.476Z"
   },
   {
    "duration": 23,
    "start_time": "2023-10-20T07:14:40.827Z"
   },
   {
    "duration": 234,
    "start_time": "2023-10-20T07:14:41.195Z"
   },
   {
    "duration": 220,
    "start_time": "2023-10-20T07:14:41.580Z"
   },
   {
    "duration": 13,
    "start_time": "2023-10-20T07:14:42.283Z"
   },
   {
    "duration": 133,
    "start_time": "2023-10-20T07:14:42.573Z"
   },
   {
    "duration": 252,
    "start_time": "2023-10-20T07:14:44.758Z"
   },
   {
    "duration": 239,
    "start_time": "2023-10-20T07:14:45.052Z"
   },
   {
    "duration": 4,
    "start_time": "2023-10-20T07:14:45.788Z"
   },
   {
    "duration": 387,
    "start_time": "2023-10-20T07:14:47.021Z"
   },
   {
    "duration": 546,
    "start_time": "2023-10-20T07:15:24.806Z"
   },
   {
    "duration": 10,
    "start_time": "2023-10-20T07:15:30.861Z"
   },
   {
    "duration": 846,
    "start_time": "2023-10-20T07:15:31.244Z"
   },
   {
    "duration": 7,
    "start_time": "2023-10-20T07:15:32.091Z"
   },
   {
    "duration": 54,
    "start_time": "2023-10-20T07:15:32.099Z"
   },
   {
    "duration": 29,
    "start_time": "2023-10-20T07:15:32.155Z"
   },
   {
    "duration": 28,
    "start_time": "2023-10-20T07:15:32.248Z"
   },
   {
    "duration": 266,
    "start_time": "2023-10-20T07:15:32.477Z"
   },
   {
    "duration": 207,
    "start_time": "2023-10-20T07:15:32.744Z"
   },
   {
    "duration": 10,
    "start_time": "2023-10-20T07:15:33.125Z"
   },
   {
    "duration": 111,
    "start_time": "2023-10-20T07:15:33.316Z"
   },
   {
    "duration": 210,
    "start_time": "2023-10-20T07:15:36.700Z"
   },
   {
    "duration": 232,
    "start_time": "2023-10-20T07:15:37.508Z"
   },
   {
    "duration": 3,
    "start_time": "2023-10-20T07:15:38.346Z"
   },
   {
    "duration": 370,
    "start_time": "2023-10-20T07:15:40.868Z"
   },
   {
    "duration": 151,
    "start_time": "2023-10-20T07:45:19.480Z"
   },
   {
    "duration": 817,
    "start_time": "2023-10-20T07:45:19.895Z"
   },
   {
    "duration": 6,
    "start_time": "2023-10-20T07:45:20.714Z"
   },
   {
    "duration": 31,
    "start_time": "2023-10-20T07:45:20.722Z"
   },
   {
    "duration": 24,
    "start_time": "2023-10-20T07:45:20.755Z"
   },
   {
    "duration": 19,
    "start_time": "2023-10-20T07:45:20.997Z"
   },
   {
    "duration": 242,
    "start_time": "2023-10-20T07:45:21.191Z"
   },
   {
    "duration": 215,
    "start_time": "2023-10-20T07:45:21.478Z"
   },
   {
    "duration": 15,
    "start_time": "2023-10-20T07:45:21.935Z"
   },
   {
    "duration": 105,
    "start_time": "2023-10-20T07:45:22.179Z"
   },
   {
    "duration": 228,
    "start_time": "2023-10-20T07:45:25.239Z"
   },
   {
    "duration": 246,
    "start_time": "2023-10-20T07:45:26.198Z"
   },
   {
    "duration": 4,
    "start_time": "2023-10-20T07:45:27.134Z"
   },
   {
    "duration": 5806,
    "start_time": "2023-10-20T07:45:29.174Z"
   },
   {
    "duration": 6,
    "start_time": "2023-10-20T07:45:34.982Z"
   },
   {
    "duration": 4263,
    "start_time": "2023-10-22T10:57:22.685Z"
   },
   {
    "duration": 2305,
    "start_time": "2023-10-22T10:57:26.951Z"
   },
   {
    "duration": 10,
    "start_time": "2023-10-22T10:57:29.257Z"
   },
   {
    "duration": 24,
    "start_time": "2023-10-22T10:57:29.269Z"
   },
   {
    "duration": 46,
    "start_time": "2023-10-22T10:57:29.294Z"
   },
   {
    "duration": 36,
    "start_time": "2023-10-22T10:57:29.342Z"
   },
   {
    "duration": 252,
    "start_time": "2023-10-22T10:57:29.380Z"
   },
   {
    "duration": 273,
    "start_time": "2023-10-22T10:57:29.634Z"
   },
   {
    "duration": 13,
    "start_time": "2023-10-22T10:57:29.909Z"
   },
   {
    "duration": 138,
    "start_time": "2023-10-22T10:57:30.433Z"
   },
   {
    "duration": 291,
    "start_time": "2023-10-22T10:57:33.520Z"
   },
   {
    "duration": 238,
    "start_time": "2023-10-22T10:57:34.008Z"
   },
   {
    "duration": 3,
    "start_time": "2023-10-22T10:57:35.380Z"
   },
   {
    "duration": 133,
    "start_time": "2023-10-22T10:57:37.440Z"
   },
   {
    "duration": 881,
    "start_time": "2023-10-22T11:01:12.118Z"
   },
   {
    "duration": 2272,
    "start_time": "2023-10-22T11:01:21.297Z"
   },
   {
    "duration": 87616,
    "start_time": "2023-10-22T11:01:33.208Z"
   },
   {
    "duration": 70,
    "start_time": "2023-10-22T11:03:17.128Z"
   },
   {
    "duration": 897,
    "start_time": "2023-10-22T11:03:17.977Z"
   },
   {
    "duration": 8,
    "start_time": "2023-10-22T11:03:18.876Z"
   },
   {
    "duration": 10,
    "start_time": "2023-10-22T11:03:18.904Z"
   },
   {
    "duration": 34,
    "start_time": "2023-10-22T11:03:19.251Z"
   },
   {
    "duration": 28,
    "start_time": "2023-10-22T11:03:19.631Z"
   },
   {
    "duration": 248,
    "start_time": "2023-10-22T11:03:19.983Z"
   },
   {
    "duration": 273,
    "start_time": "2023-10-22T11:03:20.303Z"
   },
   {
    "duration": 12,
    "start_time": "2023-10-22T11:03:20.983Z"
   },
   {
    "duration": 123,
    "start_time": "2023-10-22T11:03:22.375Z"
   },
   {
    "duration": 299,
    "start_time": "2023-10-22T11:03:25.048Z"
   },
   {
    "duration": 240,
    "start_time": "2023-10-22T11:03:25.624Z"
   },
   {
    "duration": 5,
    "start_time": "2023-10-22T11:03:26.968Z"
   }
  ],
  "kernelspec": {
   "display_name": "Python 3 (ipykernel)",
   "language": "python",
   "name": "python3"
  },
  "language_info": {
   "codemirror_mode": {
    "name": "ipython",
    "version": 3
   },
   "file_extension": ".py",
   "mimetype": "text/x-python",
   "name": "python",
   "nbconvert_exporter": "python",
   "pygments_lexer": "ipython3",
   "version": "3.9.5"
  },
  "toc": {
   "base_numbering": 1,
   "nav_menu": {},
   "number_sections": true,
   "sideBar": true,
   "skip_h1_title": true,
   "title_cell": "Содержание",
   "title_sidebar": "Contents",
   "toc_cell": true,
   "toc_position": {
    "height": "calc(100% - 180px)",
    "left": "10px",
    "top": "150px",
    "width": "302.391px"
   },
   "toc_section_display": true,
   "toc_window_display": false
  }
 },
 "nbformat": 4,
 "nbformat_minor": 4
}
